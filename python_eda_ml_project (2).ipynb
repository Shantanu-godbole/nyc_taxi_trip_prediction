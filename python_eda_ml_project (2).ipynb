{
 "cells": [
  {
   "cell_type": "code",
   "execution_count": 1,
   "id": "fb63e3f2",
   "metadata": {},
   "outputs": [],
   "source": [
    "#importing the libraries\n",
    "import pandas as pd\n",
    "import seaborn as sns\n",
    "import matplotlib.pyplot as plt\n",
    "%matplotlib inline\n",
    "import numpy as np\n",
    "import math"
   ]
  },
  {
   "cell_type": "markdown",
   "id": "3d6f9a25",
   "metadata": {},
   "source": [
    "# EDA for the NYC taxi trip data set"
   ]
  },
  {
   "cell_type": "markdown",
   "id": "07631724",
   "metadata": {},
   "source": [
    "# Univariate Analysis"
   ]
  },
  {
   "cell_type": "code",
   "execution_count": 2,
   "id": "abb51de9",
   "metadata": {},
   "outputs": [],
   "source": [
    "#reading the data and converting it into dataframes\n",
    "df=pd.read_csv(\"nyc_taxi_trip_duration.csv\")"
   ]
  },
  {
   "cell_type": "code",
   "execution_count": 3,
   "id": "7e03d29d",
   "metadata": {},
   "outputs": [
    {
     "data": {
      "text/plain": [
       "count    729322.000000\n",
       "mean          0.264508\n",
       "std           1.073507\n",
       "min           0.000278\n",
       "25%           0.110278\n",
       "50%           0.184167\n",
       "75%           0.298611\n",
       "max         538.815556\n",
       "Name: trip_duration_hrs, dtype: float64"
      ]
     },
     "execution_count": 3,
     "metadata": {},
     "output_type": "execute_result"
    }
   ],
   "source": [
    "df['trip_duration_hrs']=df['trip_duration']/3600\n",
    "df['trip_duration_hrs'].describe()"
   ]
  },
  {
   "cell_type": "code",
   "execution_count": 4,
   "id": "a9cb9183",
   "metadata": {},
   "outputs": [
    {
     "data": {
      "text/html": [
       "<div>\n",
       "<style scoped>\n",
       "    .dataframe tbody tr th:only-of-type {\n",
       "        vertical-align: middle;\n",
       "    }\n",
       "\n",
       "    .dataframe tbody tr th {\n",
       "        vertical-align: top;\n",
       "    }\n",
       "\n",
       "    .dataframe thead th {\n",
       "        text-align: right;\n",
       "    }\n",
       "</style>\n",
       "<table border=\"1\" class=\"dataframe\">\n",
       "  <thead>\n",
       "    <tr style=\"text-align: right;\">\n",
       "      <th></th>\n",
       "      <th>id</th>\n",
       "      <th>vendor_id</th>\n",
       "      <th>pickup_datetime</th>\n",
       "      <th>dropoff_datetime</th>\n",
       "      <th>passenger_count</th>\n",
       "      <th>pickup_longitude</th>\n",
       "      <th>pickup_latitude</th>\n",
       "      <th>dropoff_longitude</th>\n",
       "      <th>dropoff_latitude</th>\n",
       "      <th>store_and_fwd_flag</th>\n",
       "      <th>trip_duration</th>\n",
       "      <th>trip_duration_hrs</th>\n",
       "    </tr>\n",
       "  </thead>\n",
       "  <tbody>\n",
       "    <tr>\n",
       "      <th>0</th>\n",
       "      <td>id1080784</td>\n",
       "      <td>2</td>\n",
       "      <td>2016-02-29 16:40:21</td>\n",
       "      <td>2016-02-29 16:47:01</td>\n",
       "      <td>1</td>\n",
       "      <td>-73.953918</td>\n",
       "      <td>40.778873</td>\n",
       "      <td>-73.963875</td>\n",
       "      <td>40.771164</td>\n",
       "      <td>N</td>\n",
       "      <td>400</td>\n",
       "      <td>0.111111</td>\n",
       "    </tr>\n",
       "    <tr>\n",
       "      <th>1</th>\n",
       "      <td>id0889885</td>\n",
       "      <td>1</td>\n",
       "      <td>2016-03-11 23:35:37</td>\n",
       "      <td>2016-03-11 23:53:57</td>\n",
       "      <td>2</td>\n",
       "      <td>-73.988312</td>\n",
       "      <td>40.731743</td>\n",
       "      <td>-73.994751</td>\n",
       "      <td>40.694931</td>\n",
       "      <td>N</td>\n",
       "      <td>1100</td>\n",
       "      <td>0.305556</td>\n",
       "    </tr>\n",
       "    <tr>\n",
       "      <th>2</th>\n",
       "      <td>id0857912</td>\n",
       "      <td>2</td>\n",
       "      <td>2016-02-21 17:59:33</td>\n",
       "      <td>2016-02-21 18:26:48</td>\n",
       "      <td>2</td>\n",
       "      <td>-73.997314</td>\n",
       "      <td>40.721458</td>\n",
       "      <td>-73.948029</td>\n",
       "      <td>40.774918</td>\n",
       "      <td>N</td>\n",
       "      <td>1635</td>\n",
       "      <td>0.454167</td>\n",
       "    </tr>\n",
       "    <tr>\n",
       "      <th>3</th>\n",
       "      <td>id3744273</td>\n",
       "      <td>2</td>\n",
       "      <td>2016-01-05 09:44:31</td>\n",
       "      <td>2016-01-05 10:03:32</td>\n",
       "      <td>6</td>\n",
       "      <td>-73.961670</td>\n",
       "      <td>40.759720</td>\n",
       "      <td>-73.956779</td>\n",
       "      <td>40.780628</td>\n",
       "      <td>N</td>\n",
       "      <td>1141</td>\n",
       "      <td>0.316944</td>\n",
       "    </tr>\n",
       "    <tr>\n",
       "      <th>4</th>\n",
       "      <td>id0232939</td>\n",
       "      <td>1</td>\n",
       "      <td>2016-02-17 06:42:23</td>\n",
       "      <td>2016-02-17 06:56:31</td>\n",
       "      <td>1</td>\n",
       "      <td>-74.017120</td>\n",
       "      <td>40.708469</td>\n",
       "      <td>-73.988182</td>\n",
       "      <td>40.740631</td>\n",
       "      <td>N</td>\n",
       "      <td>848</td>\n",
       "      <td>0.235556</td>\n",
       "    </tr>\n",
       "  </tbody>\n",
       "</table>\n",
       "</div>"
      ],
      "text/plain": [
       "          id  vendor_id      pickup_datetime     dropoff_datetime  \\\n",
       "0  id1080784          2  2016-02-29 16:40:21  2016-02-29 16:47:01   \n",
       "1  id0889885          1  2016-03-11 23:35:37  2016-03-11 23:53:57   \n",
       "2  id0857912          2  2016-02-21 17:59:33  2016-02-21 18:26:48   \n",
       "3  id3744273          2  2016-01-05 09:44:31  2016-01-05 10:03:32   \n",
       "4  id0232939          1  2016-02-17 06:42:23  2016-02-17 06:56:31   \n",
       "\n",
       "   passenger_count  pickup_longitude  pickup_latitude  dropoff_longitude  \\\n",
       "0                1        -73.953918        40.778873         -73.963875   \n",
       "1                2        -73.988312        40.731743         -73.994751   \n",
       "2                2        -73.997314        40.721458         -73.948029   \n",
       "3                6        -73.961670        40.759720         -73.956779   \n",
       "4                1        -74.017120        40.708469         -73.988182   \n",
       "\n",
       "   dropoff_latitude store_and_fwd_flag  trip_duration  trip_duration_hrs  \n",
       "0         40.771164                  N            400           0.111111  \n",
       "1         40.694931                  N           1100           0.305556  \n",
       "2         40.774918                  N           1635           0.454167  \n",
       "3         40.780628                  N           1141           0.316944  \n",
       "4         40.740631                  N            848           0.235556  "
      ]
     },
     "execution_count": 4,
     "metadata": {},
     "output_type": "execute_result"
    }
   ],
   "source": [
    "df.head()"
   ]
  },
  {
   "cell_type": "code",
   "execution_count": 5,
   "id": "9156ae41",
   "metadata": {},
   "outputs": [],
   "source": [
    "#taking a random sample from the dataset which has approximatel 72000 data points\n",
    "sample=df.sample(frac=0.1,random_state=1)"
   ]
  },
  {
   "cell_type": "code",
   "execution_count": 6,
   "id": "22fc4511",
   "metadata": {},
   "outputs": [
    {
     "data": {
      "text/plain": [
       "1939736"
      ]
     },
     "execution_count": 6,
     "metadata": {},
     "output_type": "execute_result"
    }
   ],
   "source": [
    "sample.trip_duration.max()"
   ]
  },
  {
   "cell_type": "code",
   "execution_count": 7,
   "id": "0987174a",
   "metadata": {},
   "outputs": [
    {
     "data": {
      "text/html": [
       "<div>\n",
       "<style scoped>\n",
       "    .dataframe tbody tr th:only-of-type {\n",
       "        vertical-align: middle;\n",
       "    }\n",
       "\n",
       "    .dataframe tbody tr th {\n",
       "        vertical-align: top;\n",
       "    }\n",
       "\n",
       "    .dataframe thead th {\n",
       "        text-align: right;\n",
       "    }\n",
       "</style>\n",
       "<table border=\"1\" class=\"dataframe\">\n",
       "  <thead>\n",
       "    <tr style=\"text-align: right;\">\n",
       "      <th></th>\n",
       "      <th>vendor_id</th>\n",
       "      <th>passenger_count</th>\n",
       "      <th>pickup_longitude</th>\n",
       "      <th>pickup_latitude</th>\n",
       "      <th>dropoff_longitude</th>\n",
       "      <th>dropoff_latitude</th>\n",
       "      <th>trip_duration</th>\n",
       "      <th>trip_duration_hrs</th>\n",
       "    </tr>\n",
       "  </thead>\n",
       "  <tbody>\n",
       "    <tr>\n",
       "      <th>count</th>\n",
       "      <td>729322.000000</td>\n",
       "      <td>729322.000000</td>\n",
       "      <td>729322.000000</td>\n",
       "      <td>729322.000000</td>\n",
       "      <td>729322.000000</td>\n",
       "      <td>729322.000000</td>\n",
       "      <td>7.293220e+05</td>\n",
       "      <td>729322.000000</td>\n",
       "    </tr>\n",
       "    <tr>\n",
       "      <th>mean</th>\n",
       "      <td>1.535403</td>\n",
       "      <td>1.662055</td>\n",
       "      <td>-73.973513</td>\n",
       "      <td>40.750919</td>\n",
       "      <td>-73.973422</td>\n",
       "      <td>40.751775</td>\n",
       "      <td>9.522291e+02</td>\n",
       "      <td>0.264508</td>\n",
       "    </tr>\n",
       "    <tr>\n",
       "      <th>std</th>\n",
       "      <td>0.498745</td>\n",
       "      <td>1.312446</td>\n",
       "      <td>0.069754</td>\n",
       "      <td>0.033594</td>\n",
       "      <td>0.069588</td>\n",
       "      <td>0.036037</td>\n",
       "      <td>3.864626e+03</td>\n",
       "      <td>1.073507</td>\n",
       "    </tr>\n",
       "    <tr>\n",
       "      <th>min</th>\n",
       "      <td>1.000000</td>\n",
       "      <td>0.000000</td>\n",
       "      <td>-121.933342</td>\n",
       "      <td>34.712234</td>\n",
       "      <td>-121.933304</td>\n",
       "      <td>32.181141</td>\n",
       "      <td>1.000000e+00</td>\n",
       "      <td>0.000278</td>\n",
       "    </tr>\n",
       "    <tr>\n",
       "      <th>25%</th>\n",
       "      <td>1.000000</td>\n",
       "      <td>1.000000</td>\n",
       "      <td>-73.991859</td>\n",
       "      <td>40.737335</td>\n",
       "      <td>-73.991318</td>\n",
       "      <td>40.735931</td>\n",
       "      <td>3.970000e+02</td>\n",
       "      <td>0.110278</td>\n",
       "    </tr>\n",
       "    <tr>\n",
       "      <th>50%</th>\n",
       "      <td>2.000000</td>\n",
       "      <td>1.000000</td>\n",
       "      <td>-73.981758</td>\n",
       "      <td>40.754070</td>\n",
       "      <td>-73.979759</td>\n",
       "      <td>40.754509</td>\n",
       "      <td>6.630000e+02</td>\n",
       "      <td>0.184167</td>\n",
       "    </tr>\n",
       "    <tr>\n",
       "      <th>75%</th>\n",
       "      <td>2.000000</td>\n",
       "      <td>2.000000</td>\n",
       "      <td>-73.967361</td>\n",
       "      <td>40.768314</td>\n",
       "      <td>-73.963036</td>\n",
       "      <td>40.769741</td>\n",
       "      <td>1.075000e+03</td>\n",
       "      <td>0.298611</td>\n",
       "    </tr>\n",
       "    <tr>\n",
       "      <th>max</th>\n",
       "      <td>2.000000</td>\n",
       "      <td>9.000000</td>\n",
       "      <td>-65.897385</td>\n",
       "      <td>51.881084</td>\n",
       "      <td>-65.897385</td>\n",
       "      <td>43.921028</td>\n",
       "      <td>1.939736e+06</td>\n",
       "      <td>538.815556</td>\n",
       "    </tr>\n",
       "  </tbody>\n",
       "</table>\n",
       "</div>"
      ],
      "text/plain": [
       "           vendor_id  passenger_count  pickup_longitude  pickup_latitude  \\\n",
       "count  729322.000000    729322.000000     729322.000000    729322.000000   \n",
       "mean        1.535403         1.662055        -73.973513        40.750919   \n",
       "std         0.498745         1.312446          0.069754         0.033594   \n",
       "min         1.000000         0.000000       -121.933342        34.712234   \n",
       "25%         1.000000         1.000000        -73.991859        40.737335   \n",
       "50%         2.000000         1.000000        -73.981758        40.754070   \n",
       "75%         2.000000         2.000000        -73.967361        40.768314   \n",
       "max         2.000000         9.000000        -65.897385        51.881084   \n",
       "\n",
       "       dropoff_longitude  dropoff_latitude  trip_duration  trip_duration_hrs  \n",
       "count      729322.000000     729322.000000   7.293220e+05      729322.000000  \n",
       "mean          -73.973422         40.751775   9.522291e+02           0.264508  \n",
       "std             0.069588          0.036037   3.864626e+03           1.073507  \n",
       "min          -121.933304         32.181141   1.000000e+00           0.000278  \n",
       "25%           -73.991318         40.735931   3.970000e+02           0.110278  \n",
       "50%           -73.979759         40.754509   6.630000e+02           0.184167  \n",
       "75%           -73.963036         40.769741   1.075000e+03           0.298611  \n",
       "max           -65.897385         43.921028   1.939736e+06         538.815556  "
      ]
     },
     "execution_count": 7,
     "metadata": {},
     "output_type": "execute_result"
    }
   ],
   "source": [
    "df.describe()"
   ]
  },
  {
   "cell_type": "code",
   "execution_count": 8,
   "id": "9fcfe6ff",
   "metadata": {},
   "outputs": [
    {
     "data": {
      "text/html": [
       "<div>\n",
       "<style scoped>\n",
       "    .dataframe tbody tr th:only-of-type {\n",
       "        vertical-align: middle;\n",
       "    }\n",
       "\n",
       "    .dataframe tbody tr th {\n",
       "        vertical-align: top;\n",
       "    }\n",
       "\n",
       "    .dataframe thead th {\n",
       "        text-align: right;\n",
       "    }\n",
       "</style>\n",
       "<table border=\"1\" class=\"dataframe\">\n",
       "  <thead>\n",
       "    <tr style=\"text-align: right;\">\n",
       "      <th></th>\n",
       "      <th>vendor_id</th>\n",
       "      <th>passenger_count</th>\n",
       "      <th>pickup_longitude</th>\n",
       "      <th>pickup_latitude</th>\n",
       "      <th>dropoff_longitude</th>\n",
       "      <th>dropoff_latitude</th>\n",
       "      <th>trip_duration</th>\n",
       "      <th>trip_duration_hrs</th>\n",
       "    </tr>\n",
       "  </thead>\n",
       "  <tbody>\n",
       "    <tr>\n",
       "      <th>count</th>\n",
       "      <td>72932.000000</td>\n",
       "      <td>72932.000000</td>\n",
       "      <td>72932.000000</td>\n",
       "      <td>72932.000000</td>\n",
       "      <td>72932.000000</td>\n",
       "      <td>72932.000000</td>\n",
       "      <td>7.293200e+04</td>\n",
       "      <td>72932.000000</td>\n",
       "    </tr>\n",
       "    <tr>\n",
       "      <th>mean</th>\n",
       "      <td>1.536061</td>\n",
       "      <td>1.661561</td>\n",
       "      <td>-73.973530</td>\n",
       "      <td>40.750955</td>\n",
       "      <td>-73.973269</td>\n",
       "      <td>40.751867</td>\n",
       "      <td>9.735276e+02</td>\n",
       "      <td>0.270424</td>\n",
       "    </tr>\n",
       "    <tr>\n",
       "      <th>std</th>\n",
       "      <td>0.498701</td>\n",
       "      <td>1.312679</td>\n",
       "      <td>0.044169</td>\n",
       "      <td>0.034660</td>\n",
       "      <td>0.045017</td>\n",
       "      <td>0.038875</td>\n",
       "      <td>7.822348e+03</td>\n",
       "      <td>2.172874</td>\n",
       "    </tr>\n",
       "    <tr>\n",
       "      <th>min</th>\n",
       "      <td>1.000000</td>\n",
       "      <td>0.000000</td>\n",
       "      <td>-79.569733</td>\n",
       "      <td>35.310307</td>\n",
       "      <td>-80.355431</td>\n",
       "      <td>35.173546</td>\n",
       "      <td>2.000000e+00</td>\n",
       "      <td>0.000556</td>\n",
       "    </tr>\n",
       "    <tr>\n",
       "      <th>25%</th>\n",
       "      <td>1.000000</td>\n",
       "      <td>1.000000</td>\n",
       "      <td>-73.991859</td>\n",
       "      <td>40.737537</td>\n",
       "      <td>-73.991259</td>\n",
       "      <td>40.736102</td>\n",
       "      <td>3.940000e+02</td>\n",
       "      <td>0.109444</td>\n",
       "    </tr>\n",
       "    <tr>\n",
       "      <th>50%</th>\n",
       "      <td>2.000000</td>\n",
       "      <td>1.000000</td>\n",
       "      <td>-73.981789</td>\n",
       "      <td>40.754330</td>\n",
       "      <td>-73.979828</td>\n",
       "      <td>40.754532</td>\n",
       "      <td>6.580000e+02</td>\n",
       "      <td>0.182778</td>\n",
       "    </tr>\n",
       "    <tr>\n",
       "      <th>75%</th>\n",
       "      <td>2.000000</td>\n",
       "      <td>2.000000</td>\n",
       "      <td>-73.967468</td>\n",
       "      <td>40.768388</td>\n",
       "      <td>-73.962875</td>\n",
       "      <td>40.769860</td>\n",
       "      <td>1.075000e+03</td>\n",
       "      <td>0.298611</td>\n",
       "    </tr>\n",
       "    <tr>\n",
       "      <th>max</th>\n",
       "      <td>2.000000</td>\n",
       "      <td>6.000000</td>\n",
       "      <td>-72.074333</td>\n",
       "      <td>41.586273</td>\n",
       "      <td>-72.022408</td>\n",
       "      <td>42.090183</td>\n",
       "      <td>1.939736e+06</td>\n",
       "      <td>538.815556</td>\n",
       "    </tr>\n",
       "  </tbody>\n",
       "</table>\n",
       "</div>"
      ],
      "text/plain": [
       "          vendor_id  passenger_count  pickup_longitude  pickup_latitude  \\\n",
       "count  72932.000000     72932.000000      72932.000000     72932.000000   \n",
       "mean       1.536061         1.661561        -73.973530        40.750955   \n",
       "std        0.498701         1.312679          0.044169         0.034660   \n",
       "min        1.000000         0.000000        -79.569733        35.310307   \n",
       "25%        1.000000         1.000000        -73.991859        40.737537   \n",
       "50%        2.000000         1.000000        -73.981789        40.754330   \n",
       "75%        2.000000         2.000000        -73.967468        40.768388   \n",
       "max        2.000000         6.000000        -72.074333        41.586273   \n",
       "\n",
       "       dropoff_longitude  dropoff_latitude  trip_duration  trip_duration_hrs  \n",
       "count       72932.000000      72932.000000   7.293200e+04       72932.000000  \n",
       "mean          -73.973269         40.751867   9.735276e+02           0.270424  \n",
       "std             0.045017          0.038875   7.822348e+03           2.172874  \n",
       "min           -80.355431         35.173546   2.000000e+00           0.000556  \n",
       "25%           -73.991259         40.736102   3.940000e+02           0.109444  \n",
       "50%           -73.979828         40.754532   6.580000e+02           0.182778  \n",
       "75%           -73.962875         40.769860   1.075000e+03           0.298611  \n",
       "max           -72.022408         42.090183   1.939736e+06         538.815556  "
      ]
     },
     "execution_count": 8,
     "metadata": {},
     "output_type": "execute_result"
    }
   ],
   "source": [
    "sample.describe()"
   ]
  },
  {
   "cell_type": "code",
   "execution_count": 9,
   "id": "fb70268a",
   "metadata": {},
   "outputs": [
    {
     "data": {
      "text/plain": [
       "count    72932.000000\n",
       "mean         0.270424\n",
       "std          2.172874\n",
       "min          0.000556\n",
       "25%          0.109444\n",
       "50%          0.182778\n",
       "75%          0.298611\n",
       "max        538.815556\n",
       "Name: trip_duration_hrs, dtype: float64"
      ]
     },
     "execution_count": 9,
     "metadata": {},
     "output_type": "execute_result"
    }
   ],
   "source": [
    "sample['trip_duration_hrs'].describe()"
   ]
  },
  {
   "cell_type": "code",
   "execution_count": 10,
   "id": "7a8a366d",
   "metadata": {},
   "outputs": [],
   "source": [
    "sample.drop(columns=['trip_duration'],inplace=True)"
   ]
  },
  {
   "cell_type": "code",
   "execution_count": 11,
   "id": "31e97ab9",
   "metadata": {},
   "outputs": [
    {
     "data": {
      "text/html": [
       "<div>\n",
       "<style scoped>\n",
       "    .dataframe tbody tr th:only-of-type {\n",
       "        vertical-align: middle;\n",
       "    }\n",
       "\n",
       "    .dataframe tbody tr th {\n",
       "        vertical-align: top;\n",
       "    }\n",
       "\n",
       "    .dataframe thead th {\n",
       "        text-align: right;\n",
       "    }\n",
       "</style>\n",
       "<table border=\"1\" class=\"dataframe\">\n",
       "  <thead>\n",
       "    <tr style=\"text-align: right;\">\n",
       "      <th></th>\n",
       "      <th>id</th>\n",
       "      <th>vendor_id</th>\n",
       "      <th>pickup_datetime</th>\n",
       "      <th>dropoff_datetime</th>\n",
       "      <th>passenger_count</th>\n",
       "      <th>pickup_longitude</th>\n",
       "      <th>pickup_latitude</th>\n",
       "      <th>dropoff_longitude</th>\n",
       "      <th>dropoff_latitude</th>\n",
       "      <th>store_and_fwd_flag</th>\n",
       "      <th>trip_duration_hrs</th>\n",
       "    </tr>\n",
       "  </thead>\n",
       "  <tbody>\n",
       "    <tr>\n",
       "      <th>455488</th>\n",
       "      <td>id2898909</td>\n",
       "      <td>1</td>\n",
       "      <td>2016-03-03 10:30:21</td>\n",
       "      <td>2016-03-03 10:43:49</td>\n",
       "      <td>1</td>\n",
       "      <td>-73.991409</td>\n",
       "      <td>40.750320</td>\n",
       "      <td>-73.978813</td>\n",
       "      <td>40.762032</td>\n",
       "      <td>N</td>\n",
       "      <td>0.224444</td>\n",
       "    </tr>\n",
       "    <tr>\n",
       "      <th>112922</th>\n",
       "      <td>id3276089</td>\n",
       "      <td>2</td>\n",
       "      <td>2016-03-23 18:39:57</td>\n",
       "      <td>2016-03-23 19:01:06</td>\n",
       "      <td>1</td>\n",
       "      <td>-73.981850</td>\n",
       "      <td>40.773289</td>\n",
       "      <td>-73.978973</td>\n",
       "      <td>40.757240</td>\n",
       "      <td>N</td>\n",
       "      <td>0.352500</td>\n",
       "    </tr>\n",
       "    <tr>\n",
       "      <th>713928</th>\n",
       "      <td>id2303543</td>\n",
       "      <td>2</td>\n",
       "      <td>2016-03-03 11:34:33</td>\n",
       "      <td>2016-03-03 11:56:03</td>\n",
       "      <td>1</td>\n",
       "      <td>-73.873032</td>\n",
       "      <td>40.774055</td>\n",
       "      <td>-73.744003</td>\n",
       "      <td>40.776676</td>\n",
       "      <td>N</td>\n",
       "      <td>0.358333</td>\n",
       "    </tr>\n",
       "    <tr>\n",
       "      <th>287988</th>\n",
       "      <td>id0955609</td>\n",
       "      <td>2</td>\n",
       "      <td>2016-05-23 21:02:17</td>\n",
       "      <td>2016-05-23 21:13:37</td>\n",
       "      <td>1</td>\n",
       "      <td>-73.968178</td>\n",
       "      <td>40.762280</td>\n",
       "      <td>-73.970680</td>\n",
       "      <td>40.788422</td>\n",
       "      <td>N</td>\n",
       "      <td>0.188889</td>\n",
       "    </tr>\n",
       "    <tr>\n",
       "      <th>29862</th>\n",
       "      <td>id0548011</td>\n",
       "      <td>2</td>\n",
       "      <td>2016-01-19 10:18:47</td>\n",
       "      <td>2016-01-19 10:27:54</td>\n",
       "      <td>3</td>\n",
       "      <td>-74.017197</td>\n",
       "      <td>40.705070</td>\n",
       "      <td>-74.007240</td>\n",
       "      <td>40.722599</td>\n",
       "      <td>N</td>\n",
       "      <td>0.151944</td>\n",
       "    </tr>\n",
       "  </tbody>\n",
       "</table>\n",
       "</div>"
      ],
      "text/plain": [
       "               id  vendor_id      pickup_datetime     dropoff_datetime  \\\n",
       "455488  id2898909          1  2016-03-03 10:30:21  2016-03-03 10:43:49   \n",
       "112922  id3276089          2  2016-03-23 18:39:57  2016-03-23 19:01:06   \n",
       "713928  id2303543          2  2016-03-03 11:34:33  2016-03-03 11:56:03   \n",
       "287988  id0955609          2  2016-05-23 21:02:17  2016-05-23 21:13:37   \n",
       "29862   id0548011          2  2016-01-19 10:18:47  2016-01-19 10:27:54   \n",
       "\n",
       "        passenger_count  pickup_longitude  pickup_latitude  dropoff_longitude  \\\n",
       "455488                1        -73.991409        40.750320         -73.978813   \n",
       "112922                1        -73.981850        40.773289         -73.978973   \n",
       "713928                1        -73.873032        40.774055         -73.744003   \n",
       "287988                1        -73.968178        40.762280         -73.970680   \n",
       "29862                 3        -74.017197        40.705070         -74.007240   \n",
       "\n",
       "        dropoff_latitude store_and_fwd_flag  trip_duration_hrs  \n",
       "455488         40.762032                  N           0.224444  \n",
       "112922         40.757240                  N           0.352500  \n",
       "713928         40.776676                  N           0.358333  \n",
       "287988         40.788422                  N           0.188889  \n",
       "29862          40.722599                  N           0.151944  "
      ]
     },
     "execution_count": 11,
     "metadata": {},
     "output_type": "execute_result"
    }
   ],
   "source": [
    "sample.head()"
   ]
  },
  {
   "cell_type": "code",
   "execution_count": 12,
   "id": "a58e5bd7",
   "metadata": {},
   "outputs": [
    {
     "data": {
      "text/plain": [
       "(72932, 11)"
      ]
     },
     "execution_count": 12,
     "metadata": {},
     "output_type": "execute_result"
    }
   ],
   "source": [
    "sample.shape"
   ]
  },
  {
   "cell_type": "code",
   "execution_count": 13,
   "id": "cefc7fc9",
   "metadata": {},
   "outputs": [],
   "source": [
    "#converting pickup_datetime and dropoff_datetime to datetime data type\n",
    "sample['pickup_datetime']=pd.to_datetime(sample['pickup_datetime'])\n",
    "sample['dropoff_datetime']=pd.to_datetime(sample['dropoff_datetime'])"
   ]
  },
  {
   "cell_type": "code",
   "execution_count": 14,
   "id": "87334ad7",
   "metadata": {},
   "outputs": [
    {
     "data": {
      "text/plain": [
       "count    72932.000000\n",
       "mean        13.628750\n",
       "std          6.408211\n",
       "min          0.000000\n",
       "25%          9.000000\n",
       "50%         14.000000\n",
       "75%         19.000000\n",
       "max         23.000000\n",
       "Name: pickup_hour, dtype: float64"
      ]
     },
     "execution_count": 14,
     "metadata": {},
     "output_type": "execute_result"
    }
   ],
   "source": [
    "sample['pickup_day']=sample['pickup_datetime'].dt.weekday\n",
    "sample['pickup_hour']=sample['pickup_datetime'].dt.hour\n",
    "sample['pickup_hour'].describe()"
   ]
  },
  {
   "cell_type": "code",
   "execution_count": 15,
   "id": "c02a7a2f",
   "metadata": {},
   "outputs": [
    {
     "data": {
      "image/png": "[encoded data removed]",
      "text/plain": [
       "<Figure size 720x504 with 1 Axes>"
      ]
     },
     "metadata": {
      "needs_background": "light"
     },
     "output_type": "display_data"
    }
   ],
   "source": [
    "plt.figure(figsize=(10,7))\n",
    "plt.boxplot(df['trip_duration_hrs'])\n",
    "plt.title(\" Box Plot of the trip duration orginal dataframe\")\n",
    "plt.ylabel(\" Trip Duration in hrs \")\n",
    "plt.show()"
   ]
  },
  {
   "cell_type": "code",
   "execution_count": 16,
   "id": "1d5afecd",
   "metadata": {},
   "outputs": [
    {
     "data": {
      "text/plain": [
       "count    72932.000000\n",
       "mean         0.270424\n",
       "std          2.172874\n",
       "min          0.000556\n",
       "25%          0.109444\n",
       "50%          0.182778\n",
       "75%          0.298611\n",
       "max        538.815556\n",
       "Name: trip_duration_hrs, dtype: float64"
      ]
     },
     "execution_count": 16,
     "metadata": {},
     "output_type": "execute_result"
    }
   ],
   "source": [
    "#Using the describe function before removing outliers from the target variable\n",
    "sample['trip_duration_hrs'].describe()"
   ]
  },
  {
   "cell_type": "code",
   "execution_count": 17,
   "id": "fd35dd03",
   "metadata": {},
   "outputs": [
    {
     "data": {
      "text/html": [
       "<div>\n",
       "<style scoped>\n",
       "    .dataframe tbody tr th:only-of-type {\n",
       "        vertical-align: middle;\n",
       "    }\n",
       "\n",
       "    .dataframe tbody tr th {\n",
       "        vertical-align: top;\n",
       "    }\n",
       "\n",
       "    .dataframe thead th {\n",
       "        text-align: right;\n",
       "    }\n",
       "</style>\n",
       "<table border=\"1\" class=\"dataframe\">\n",
       "  <thead>\n",
       "    <tr style=\"text-align: right;\">\n",
       "      <th></th>\n",
       "      <th>id</th>\n",
       "      <th>vendor_id</th>\n",
       "      <th>pickup_datetime</th>\n",
       "      <th>dropoff_datetime</th>\n",
       "      <th>passenger_count</th>\n",
       "      <th>pickup_longitude</th>\n",
       "      <th>pickup_latitude</th>\n",
       "      <th>dropoff_longitude</th>\n",
       "      <th>dropoff_latitude</th>\n",
       "      <th>store_and_fwd_flag</th>\n",
       "      <th>trip_duration_hrs</th>\n",
       "      <th>pickup_day</th>\n",
       "      <th>pickup_hour</th>\n",
       "    </tr>\n",
       "  </thead>\n",
       "  <tbody>\n",
       "    <tr>\n",
       "      <th>455488</th>\n",
       "      <td>id2898909</td>\n",
       "      <td>1</td>\n",
       "      <td>2016-03-03 10:30:21</td>\n",
       "      <td>2016-03-03 10:43:49</td>\n",
       "      <td>1</td>\n",
       "      <td>-73.991409</td>\n",
       "      <td>40.750320</td>\n",
       "      <td>-73.978813</td>\n",
       "      <td>40.762032</td>\n",
       "      <td>N</td>\n",
       "      <td>0.224444</td>\n",
       "      <td>3</td>\n",
       "      <td>10</td>\n",
       "    </tr>\n",
       "    <tr>\n",
       "      <th>112922</th>\n",
       "      <td>id3276089</td>\n",
       "      <td>2</td>\n",
       "      <td>2016-03-23 18:39:57</td>\n",
       "      <td>2016-03-23 19:01:06</td>\n",
       "      <td>1</td>\n",
       "      <td>-73.981850</td>\n",
       "      <td>40.773289</td>\n",
       "      <td>-73.978973</td>\n",
       "      <td>40.757240</td>\n",
       "      <td>N</td>\n",
       "      <td>0.352500</td>\n",
       "      <td>2</td>\n",
       "      <td>18</td>\n",
       "    </tr>\n",
       "    <tr>\n",
       "      <th>713928</th>\n",
       "      <td>id2303543</td>\n",
       "      <td>2</td>\n",
       "      <td>2016-03-03 11:34:33</td>\n",
       "      <td>2016-03-03 11:56:03</td>\n",
       "      <td>1</td>\n",
       "      <td>-73.873032</td>\n",
       "      <td>40.774055</td>\n",
       "      <td>-73.744003</td>\n",
       "      <td>40.776676</td>\n",
       "      <td>N</td>\n",
       "      <td>0.358333</td>\n",
       "      <td>3</td>\n",
       "      <td>11</td>\n",
       "    </tr>\n",
       "    <tr>\n",
       "      <th>287988</th>\n",
       "      <td>id0955609</td>\n",
       "      <td>2</td>\n",
       "      <td>2016-05-23 21:02:17</td>\n",
       "      <td>2016-05-23 21:13:37</td>\n",
       "      <td>1</td>\n",
       "      <td>-73.968178</td>\n",
       "      <td>40.762280</td>\n",
       "      <td>-73.970680</td>\n",
       "      <td>40.788422</td>\n",
       "      <td>N</td>\n",
       "      <td>0.188889</td>\n",
       "      <td>0</td>\n",
       "      <td>21</td>\n",
       "    </tr>\n",
       "    <tr>\n",
       "      <th>29862</th>\n",
       "      <td>id0548011</td>\n",
       "      <td>2</td>\n",
       "      <td>2016-01-19 10:18:47</td>\n",
       "      <td>2016-01-19 10:27:54</td>\n",
       "      <td>3</td>\n",
       "      <td>-74.017197</td>\n",
       "      <td>40.705070</td>\n",
       "      <td>-74.007240</td>\n",
       "      <td>40.722599</td>\n",
       "      <td>N</td>\n",
       "      <td>0.151944</td>\n",
       "      <td>1</td>\n",
       "      <td>10</td>\n",
       "    </tr>\n",
       "    <tr>\n",
       "      <th>...</th>\n",
       "      <td>...</td>\n",
       "      <td>...</td>\n",
       "      <td>...</td>\n",
       "      <td>...</td>\n",
       "      <td>...</td>\n",
       "      <td>...</td>\n",
       "      <td>...</td>\n",
       "      <td>...</td>\n",
       "      <td>...</td>\n",
       "      <td>...</td>\n",
       "      <td>...</td>\n",
       "      <td>...</td>\n",
       "      <td>...</td>\n",
       "    </tr>\n",
       "    <tr>\n",
       "      <th>73470</th>\n",
       "      <td>id2475921</td>\n",
       "      <td>1</td>\n",
       "      <td>2016-03-25 10:52:42</td>\n",
       "      <td>2016-03-25 11:00:33</td>\n",
       "      <td>1</td>\n",
       "      <td>-73.986534</td>\n",
       "      <td>40.751839</td>\n",
       "      <td>-73.980682</td>\n",
       "      <td>40.765621</td>\n",
       "      <td>N</td>\n",
       "      <td>0.130833</td>\n",
       "      <td>4</td>\n",
       "      <td>10</td>\n",
       "    </tr>\n",
       "    <tr>\n",
       "      <th>548575</th>\n",
       "      <td>id1665559</td>\n",
       "      <td>2</td>\n",
       "      <td>2016-02-12 15:15:53</td>\n",
       "      <td>2016-02-12 15:38:40</td>\n",
       "      <td>5</td>\n",
       "      <td>-74.006218</td>\n",
       "      <td>40.749527</td>\n",
       "      <td>-74.000519</td>\n",
       "      <td>40.723869</td>\n",
       "      <td>N</td>\n",
       "      <td>0.379722</td>\n",
       "      <td>4</td>\n",
       "      <td>15</td>\n",
       "    </tr>\n",
       "    <tr>\n",
       "      <th>257620</th>\n",
       "      <td>id0261534</td>\n",
       "      <td>1</td>\n",
       "      <td>2016-04-29 23:41:13</td>\n",
       "      <td>2016-04-29 23:44:03</td>\n",
       "      <td>1</td>\n",
       "      <td>-73.950462</td>\n",
       "      <td>40.686958</td>\n",
       "      <td>-73.940331</td>\n",
       "      <td>40.688156</td>\n",
       "      <td>N</td>\n",
       "      <td>0.047222</td>\n",
       "      <td>4</td>\n",
       "      <td>23</td>\n",
       "    </tr>\n",
       "    <tr>\n",
       "      <th>3018</th>\n",
       "      <td>id1734527</td>\n",
       "      <td>2</td>\n",
       "      <td>2016-06-17 12:29:41</td>\n",
       "      <td>2016-06-18 12:28:43</td>\n",
       "      <td>1</td>\n",
       "      <td>-73.981789</td>\n",
       "      <td>40.746292</td>\n",
       "      <td>-73.984619</td>\n",
       "      <td>40.763962</td>\n",
       "      <td>N</td>\n",
       "      <td>23.983889</td>\n",
       "      <td>4</td>\n",
       "      <td>12</td>\n",
       "    </tr>\n",
       "    <tr>\n",
       "      <th>638055</th>\n",
       "      <td>id0657460</td>\n",
       "      <td>2</td>\n",
       "      <td>2016-01-20 13:02:14</td>\n",
       "      <td>2016-01-20 13:16:23</td>\n",
       "      <td>2</td>\n",
       "      <td>-73.997810</td>\n",
       "      <td>40.713528</td>\n",
       "      <td>-73.967789</td>\n",
       "      <td>40.757038</td>\n",
       "      <td>N</td>\n",
       "      <td>0.235833</td>\n",
       "      <td>2</td>\n",
       "      <td>13</td>\n",
       "    </tr>\n",
       "  </tbody>\n",
       "</table>\n",
       "<p>72932 rows × 13 columns</p>\n",
       "</div>"
      ],
      "text/plain": [
       "               id  vendor_id     pickup_datetime    dropoff_datetime  \\\n",
       "455488  id2898909          1 2016-03-03 10:30:21 2016-03-03 10:43:49   \n",
       "112922  id3276089          2 2016-03-23 18:39:57 2016-03-23 19:01:06   \n",
       "713928  id2303543          2 2016-03-03 11:34:33 2016-03-03 11:56:03   \n",
       "287988  id0955609          2 2016-05-23 21:02:17 2016-05-23 21:13:37   \n",
       "29862   id0548011          2 2016-01-19 10:18:47 2016-01-19 10:27:54   \n",
       "...           ...        ...                 ...                 ...   \n",
       "73470   id2475921          1 2016-03-25 10:52:42 2016-03-25 11:00:33   \n",
       "548575  id1665559          2 2016-02-12 15:15:53 2016-02-12 15:38:40   \n",
       "257620  id0261534          1 2016-04-29 23:41:13 2016-04-29 23:44:03   \n",
       "3018    id1734527          2 2016-06-17 12:29:41 2016-06-18 12:28:43   \n",
       "638055  id0657460          2 2016-01-20 13:02:14 2016-01-20 13:16:23   \n",
       "\n",
       "        passenger_count  pickup_longitude  pickup_latitude  dropoff_longitude  \\\n",
       "455488                1        -73.991409        40.750320         -73.978813   \n",
       "112922                1        -73.981850        40.773289         -73.978973   \n",
       "713928                1        -73.873032        40.774055         -73.744003   \n",
       "287988                1        -73.968178        40.762280         -73.970680   \n",
       "29862                 3        -74.017197        40.705070         -74.007240   \n",
       "...                 ...               ...              ...                ...   \n",
       "73470                 1        -73.986534        40.751839         -73.980682   \n",
       "548575                5        -74.006218        40.749527         -74.000519   \n",
       "257620                1        -73.950462        40.686958         -73.940331   \n",
       "3018                  1        -73.981789        40.746292         -73.984619   \n",
       "638055                2        -73.997810        40.713528         -73.967789   \n",
       "\n",
       "        dropoff_latitude store_and_fwd_flag  trip_duration_hrs  pickup_day  \\\n",
       "455488         40.762032                  N           0.224444           3   \n",
       "112922         40.757240                  N           0.352500           2   \n",
       "713928         40.776676                  N           0.358333           3   \n",
       "287988         40.788422                  N           0.188889           0   \n",
       "29862          40.722599                  N           0.151944           1   \n",
       "...                  ...                ...                ...         ...   \n",
       "73470          40.765621                  N           0.130833           4   \n",
       "548575         40.723869                  N           0.379722           4   \n",
       "257620         40.688156                  N           0.047222           4   \n",
       "3018           40.763962                  N          23.983889           4   \n",
       "638055         40.757038                  N           0.235833           2   \n",
       "\n",
       "        pickup_hour  \n",
       "455488           10  \n",
       "112922           18  \n",
       "713928           11  \n",
       "287988           21  \n",
       "29862            10  \n",
       "...             ...  \n",
       "73470            10  \n",
       "548575           15  \n",
       "257620           23  \n",
       "3018             12  \n",
       "638055           13  \n",
       "\n",
       "[72932 rows x 13 columns]"
      ]
     },
     "execution_count": 17,
     "metadata": {},
     "output_type": "execute_result"
    }
   ],
   "source": [
    "sample"
   ]
  },
  {
   "cell_type": "code",
   "execution_count": 18,
   "id": "53985dc0",
   "metadata": {},
   "outputs": [
    {
     "data": {
      "image/png": "[encoded data removed]",
      "text/plain": [
       "<Figure size 720x504 with 1 Axes>"
      ]
     },
     "metadata": {
      "needs_background": "light"
     },
     "output_type": "display_data"
    }
   ],
   "source": [
    "# Boxplot of the target variable trip duration_hrs before removing outliers\n",
    "plt.figure(figsize=(10,7))\n",
    "plt.boxplot(sample['trip_duration_hrs'])\n",
    "plt.ylabel(\"Trip duration in hrs before removing outliers\")\n",
    "plt.title(\" Box Plot of the target variable before removing outliers\")\n",
    "plt.show()\n"
   ]
  },
  {
   "cell_type": "code",
   "execution_count": 19,
   "id": "e406d5a8",
   "metadata": {},
   "outputs": [],
   "source": [
    "sample.head()\n",
    "sample.reset_index(drop=True,inplace=True)"
   ]
  },
  {
   "cell_type": "code",
   "execution_count": 20,
   "id": "55b27eab",
   "metadata": {},
   "outputs": [
    {
     "data": {
      "text/plain": [
       "(72932, 13)"
      ]
     },
     "execution_count": 20,
     "metadata": {},
     "output_type": "execute_result"
    }
   ],
   "source": [
    "sample.shape"
   ]
  },
  {
   "cell_type": "code",
   "execution_count": 21,
   "id": "27748cd1",
   "metadata": {},
   "outputs": [
    {
     "data": {
      "text/plain": [
       "id                    0\n",
       "vendor_id             0\n",
       "pickup_datetime       0\n",
       "dropoff_datetime      0\n",
       "passenger_count       0\n",
       "pickup_longitude      0\n",
       "pickup_latitude       0\n",
       "dropoff_longitude     0\n",
       "dropoff_latitude      0\n",
       "store_and_fwd_flag    0\n",
       "trip_duration_hrs     0\n",
       "pickup_day            0\n",
       "pickup_hour           0\n",
       "dtype: int64"
      ]
     },
     "execution_count": 21,
     "metadata": {},
     "output_type": "execute_result"
    }
   ],
   "source": [
    "sample.isnull().sum()"
   ]
  },
  {
   "cell_type": "code",
   "execution_count": 22,
   "id": "8fb0ab79",
   "metadata": {},
   "outputs": [
    {
     "data": {
      "text/plain": [
       "(72932, 13)"
      ]
     },
     "execution_count": 22,
     "metadata": {},
     "output_type": "execute_result"
    }
   ],
   "source": [
    "sample.shape"
   ]
  },
  {
   "cell_type": "code",
   "execution_count": 23,
   "id": "a4601f56",
   "metadata": {},
   "outputs": [
    {
     "data": {
      "text/html": [
       "<div>\n",
       "<style scoped>\n",
       "    .dataframe tbody tr th:only-of-type {\n",
       "        vertical-align: middle;\n",
       "    }\n",
       "\n",
       "    .dataframe tbody tr th {\n",
       "        vertical-align: top;\n",
       "    }\n",
       "\n",
       "    .dataframe thead th {\n",
       "        text-align: right;\n",
       "    }\n",
       "</style>\n",
       "<table border=\"1\" class=\"dataframe\">\n",
       "  <thead>\n",
       "    <tr style=\"text-align: right;\">\n",
       "      <th></th>\n",
       "      <th>id</th>\n",
       "      <th>vendor_id</th>\n",
       "      <th>pickup_datetime</th>\n",
       "      <th>dropoff_datetime</th>\n",
       "      <th>passenger_count</th>\n",
       "      <th>pickup_longitude</th>\n",
       "      <th>pickup_latitude</th>\n",
       "      <th>dropoff_longitude</th>\n",
       "      <th>dropoff_latitude</th>\n",
       "      <th>store_and_fwd_flag</th>\n",
       "      <th>trip_duration_hrs</th>\n",
       "      <th>pickup_day</th>\n",
       "      <th>pickup_hour</th>\n",
       "    </tr>\n",
       "  </thead>\n",
       "  <tbody>\n",
       "    <tr>\n",
       "      <th>0</th>\n",
       "      <td>id2898909</td>\n",
       "      <td>1</td>\n",
       "      <td>2016-03-03 10:30:21</td>\n",
       "      <td>2016-03-03 10:43:49</td>\n",
       "      <td>1</td>\n",
       "      <td>-73.991409</td>\n",
       "      <td>40.750320</td>\n",
       "      <td>-73.978813</td>\n",
       "      <td>40.762032</td>\n",
       "      <td>N</td>\n",
       "      <td>0.224444</td>\n",
       "      <td>3</td>\n",
       "      <td>10</td>\n",
       "    </tr>\n",
       "    <tr>\n",
       "      <th>1</th>\n",
       "      <td>id3276089</td>\n",
       "      <td>2</td>\n",
       "      <td>2016-03-23 18:39:57</td>\n",
       "      <td>2016-03-23 19:01:06</td>\n",
       "      <td>1</td>\n",
       "      <td>-73.981850</td>\n",
       "      <td>40.773289</td>\n",
       "      <td>-73.978973</td>\n",
       "      <td>40.757240</td>\n",
       "      <td>N</td>\n",
       "      <td>0.352500</td>\n",
       "      <td>2</td>\n",
       "      <td>18</td>\n",
       "    </tr>\n",
       "    <tr>\n",
       "      <th>2</th>\n",
       "      <td>id2303543</td>\n",
       "      <td>2</td>\n",
       "      <td>2016-03-03 11:34:33</td>\n",
       "      <td>2016-03-03 11:56:03</td>\n",
       "      <td>1</td>\n",
       "      <td>-73.873032</td>\n",
       "      <td>40.774055</td>\n",
       "      <td>-73.744003</td>\n",
       "      <td>40.776676</td>\n",
       "      <td>N</td>\n",
       "      <td>0.358333</td>\n",
       "      <td>3</td>\n",
       "      <td>11</td>\n",
       "    </tr>\n",
       "    <tr>\n",
       "      <th>3</th>\n",
       "      <td>id0955609</td>\n",
       "      <td>2</td>\n",
       "      <td>2016-05-23 21:02:17</td>\n",
       "      <td>2016-05-23 21:13:37</td>\n",
       "      <td>1</td>\n",
       "      <td>-73.968178</td>\n",
       "      <td>40.762280</td>\n",
       "      <td>-73.970680</td>\n",
       "      <td>40.788422</td>\n",
       "      <td>N</td>\n",
       "      <td>0.188889</td>\n",
       "      <td>0</td>\n",
       "      <td>21</td>\n",
       "    </tr>\n",
       "    <tr>\n",
       "      <th>4</th>\n",
       "      <td>id0548011</td>\n",
       "      <td>2</td>\n",
       "      <td>2016-01-19 10:18:47</td>\n",
       "      <td>2016-01-19 10:27:54</td>\n",
       "      <td>3</td>\n",
       "      <td>-74.017197</td>\n",
       "      <td>40.705070</td>\n",
       "      <td>-74.007240</td>\n",
       "      <td>40.722599</td>\n",
       "      <td>N</td>\n",
       "      <td>0.151944</td>\n",
       "      <td>1</td>\n",
       "      <td>10</td>\n",
       "    </tr>\n",
       "  </tbody>\n",
       "</table>\n",
       "</div>"
      ],
      "text/plain": [
       "          id  vendor_id     pickup_datetime    dropoff_datetime  \\\n",
       "0  id2898909          1 2016-03-03 10:30:21 2016-03-03 10:43:49   \n",
       "1  id3276089          2 2016-03-23 18:39:57 2016-03-23 19:01:06   \n",
       "2  id2303543          2 2016-03-03 11:34:33 2016-03-03 11:56:03   \n",
       "3  id0955609          2 2016-05-23 21:02:17 2016-05-23 21:13:37   \n",
       "4  id0548011          2 2016-01-19 10:18:47 2016-01-19 10:27:54   \n",
       "\n",
       "   passenger_count  pickup_longitude  pickup_latitude  dropoff_longitude  \\\n",
       "0                1        -73.991409        40.750320         -73.978813   \n",
       "1                1        -73.981850        40.773289         -73.978973   \n",
       "2                1        -73.873032        40.774055         -73.744003   \n",
       "3                1        -73.968178        40.762280         -73.970680   \n",
       "4                3        -74.017197        40.705070         -74.007240   \n",
       "\n",
       "   dropoff_latitude store_and_fwd_flag  trip_duration_hrs  pickup_day  \\\n",
       "0         40.762032                  N           0.224444           3   \n",
       "1         40.757240                  N           0.352500           2   \n",
       "2         40.776676                  N           0.358333           3   \n",
       "3         40.788422                  N           0.188889           0   \n",
       "4         40.722599                  N           0.151944           1   \n",
       "\n",
       "   pickup_hour  \n",
       "0           10  \n",
       "1           18  \n",
       "2           11  \n",
       "3           21  \n",
       "4           10  "
      ]
     },
     "execution_count": 23,
     "metadata": {},
     "output_type": "execute_result"
    }
   ],
   "source": [
    "sample.head()"
   ]
  },
  {
   "cell_type": "code",
   "execution_count": 24,
   "id": "574c7c0f",
   "metadata": {},
   "outputs": [],
   "source": [
    "q={'N':0,'Y':1}\n",
    "sample['store_and_fwd_flag']=sample['store_and_fwd_flag'].map(q)"
   ]
  },
  {
   "cell_type": "code",
   "execution_count": 25,
   "id": "82a86216",
   "metadata": {},
   "outputs": [],
   "source": [
    "sample.reset_index(drop=True,inplace=True)"
   ]
  },
  {
   "cell_type": "code",
   "execution_count": 26,
   "id": "4631b888",
   "metadata": {},
   "outputs": [
    {
     "data": {
      "text/html": [
       "<div>\n",
       "<style scoped>\n",
       "    .dataframe tbody tr th:only-of-type {\n",
       "        vertical-align: middle;\n",
       "    }\n",
       "\n",
       "    .dataframe tbody tr th {\n",
       "        vertical-align: top;\n",
       "    }\n",
       "\n",
       "    .dataframe thead th {\n",
       "        text-align: right;\n",
       "    }\n",
       "</style>\n",
       "<table border=\"1\" class=\"dataframe\">\n",
       "  <thead>\n",
       "    <tr style=\"text-align: right;\">\n",
       "      <th></th>\n",
       "      <th>id</th>\n",
       "      <th>vendor_id</th>\n",
       "      <th>pickup_datetime</th>\n",
       "      <th>dropoff_datetime</th>\n",
       "      <th>passenger_count</th>\n",
       "      <th>pickup_longitude</th>\n",
       "      <th>pickup_latitude</th>\n",
       "      <th>dropoff_longitude</th>\n",
       "      <th>dropoff_latitude</th>\n",
       "      <th>store_and_fwd_flag</th>\n",
       "      <th>trip_duration_hrs</th>\n",
       "      <th>pickup_day</th>\n",
       "      <th>pickup_hour</th>\n",
       "    </tr>\n",
       "  </thead>\n",
       "  <tbody>\n",
       "    <tr>\n",
       "      <th>0</th>\n",
       "      <td>id2898909</td>\n",
       "      <td>1</td>\n",
       "      <td>2016-03-03 10:30:21</td>\n",
       "      <td>2016-03-03 10:43:49</td>\n",
       "      <td>1</td>\n",
       "      <td>-73.991409</td>\n",
       "      <td>40.750320</td>\n",
       "      <td>-73.978813</td>\n",
       "      <td>40.762032</td>\n",
       "      <td>0</td>\n",
       "      <td>0.224444</td>\n",
       "      <td>3</td>\n",
       "      <td>10</td>\n",
       "    </tr>\n",
       "    <tr>\n",
       "      <th>1</th>\n",
       "      <td>id3276089</td>\n",
       "      <td>2</td>\n",
       "      <td>2016-03-23 18:39:57</td>\n",
       "      <td>2016-03-23 19:01:06</td>\n",
       "      <td>1</td>\n",
       "      <td>-73.981850</td>\n",
       "      <td>40.773289</td>\n",
       "      <td>-73.978973</td>\n",
       "      <td>40.757240</td>\n",
       "      <td>0</td>\n",
       "      <td>0.352500</td>\n",
       "      <td>2</td>\n",
       "      <td>18</td>\n",
       "    </tr>\n",
       "    <tr>\n",
       "      <th>2</th>\n",
       "      <td>id2303543</td>\n",
       "      <td>2</td>\n",
       "      <td>2016-03-03 11:34:33</td>\n",
       "      <td>2016-03-03 11:56:03</td>\n",
       "      <td>1</td>\n",
       "      <td>-73.873032</td>\n",
       "      <td>40.774055</td>\n",
       "      <td>-73.744003</td>\n",
       "      <td>40.776676</td>\n",
       "      <td>0</td>\n",
       "      <td>0.358333</td>\n",
       "      <td>3</td>\n",
       "      <td>11</td>\n",
       "    </tr>\n",
       "    <tr>\n",
       "      <th>3</th>\n",
       "      <td>id0955609</td>\n",
       "      <td>2</td>\n",
       "      <td>2016-05-23 21:02:17</td>\n",
       "      <td>2016-05-23 21:13:37</td>\n",
       "      <td>1</td>\n",
       "      <td>-73.968178</td>\n",
       "      <td>40.762280</td>\n",
       "      <td>-73.970680</td>\n",
       "      <td>40.788422</td>\n",
       "      <td>0</td>\n",
       "      <td>0.188889</td>\n",
       "      <td>0</td>\n",
       "      <td>21</td>\n",
       "    </tr>\n",
       "    <tr>\n",
       "      <th>4</th>\n",
       "      <td>id0548011</td>\n",
       "      <td>2</td>\n",
       "      <td>2016-01-19 10:18:47</td>\n",
       "      <td>2016-01-19 10:27:54</td>\n",
       "      <td>3</td>\n",
       "      <td>-74.017197</td>\n",
       "      <td>40.705070</td>\n",
       "      <td>-74.007240</td>\n",
       "      <td>40.722599</td>\n",
       "      <td>0</td>\n",
       "      <td>0.151944</td>\n",
       "      <td>1</td>\n",
       "      <td>10</td>\n",
       "    </tr>\n",
       "  </tbody>\n",
       "</table>\n",
       "</div>"
      ],
      "text/plain": [
       "          id  vendor_id     pickup_datetime    dropoff_datetime  \\\n",
       "0  id2898909          1 2016-03-03 10:30:21 2016-03-03 10:43:49   \n",
       "1  id3276089          2 2016-03-23 18:39:57 2016-03-23 19:01:06   \n",
       "2  id2303543          2 2016-03-03 11:34:33 2016-03-03 11:56:03   \n",
       "3  id0955609          2 2016-05-23 21:02:17 2016-05-23 21:13:37   \n",
       "4  id0548011          2 2016-01-19 10:18:47 2016-01-19 10:27:54   \n",
       "\n",
       "   passenger_count  pickup_longitude  pickup_latitude  dropoff_longitude  \\\n",
       "0                1        -73.991409        40.750320         -73.978813   \n",
       "1                1        -73.981850        40.773289         -73.978973   \n",
       "2                1        -73.873032        40.774055         -73.744003   \n",
       "3                1        -73.968178        40.762280         -73.970680   \n",
       "4                3        -74.017197        40.705070         -74.007240   \n",
       "\n",
       "   dropoff_latitude  store_and_fwd_flag  trip_duration_hrs  pickup_day  \\\n",
       "0         40.762032                   0           0.224444           3   \n",
       "1         40.757240                   0           0.352500           2   \n",
       "2         40.776676                   0           0.358333           3   \n",
       "3         40.788422                   0           0.188889           0   \n",
       "4         40.722599                   0           0.151944           1   \n",
       "\n",
       "   pickup_hour  \n",
       "0           10  \n",
       "1           18  \n",
       "2           11  \n",
       "3           21  \n",
       "4           10  "
      ]
     },
     "execution_count": 26,
     "metadata": {},
     "output_type": "execute_result"
    }
   ],
   "source": [
    "sample.head()"
   ]
  },
  {
   "cell_type": "code",
   "execution_count": 27,
   "id": "3df57e31",
   "metadata": {},
   "outputs": [
    {
     "data": {
      "text/plain": [
       "id                            object\n",
       "vendor_id                      int64\n",
       "pickup_datetime       datetime64[ns]\n",
       "dropoff_datetime      datetime64[ns]\n",
       "passenger_count                int64\n",
       "pickup_longitude             float64\n",
       "pickup_latitude              float64\n",
       "dropoff_longitude            float64\n",
       "dropoff_latitude             float64\n",
       "store_and_fwd_flag             int64\n",
       "trip_duration_hrs            float64\n",
       "pickup_day                     int64\n",
       "pickup_hour                    int64\n",
       "dtype: object"
      ]
     },
     "execution_count": 27,
     "metadata": {},
     "output_type": "execute_result"
    }
   ],
   "source": [
    "sample.dtypes"
   ]
  },
  {
   "cell_type": "code",
   "execution_count": 28,
   "id": "69a71695",
   "metadata": {},
   "outputs": [
    {
     "data": {
      "text/plain": [
       "Index(['id', 'vendor_id', 'pickup_datetime', 'dropoff_datetime',\n",
       "       'passenger_count', 'pickup_longitude', 'pickup_latitude',\n",
       "       'dropoff_longitude', 'dropoff_latitude', 'store_and_fwd_flag',\n",
       "       'trip_duration_hrs', 'pickup_day', 'pickup_hour'],\n",
       "      dtype='object')"
      ]
     },
     "execution_count": 28,
     "metadata": {},
     "output_type": "execute_result"
    }
   ],
   "source": [
    "sample.columns"
   ]
  },
  {
   "cell_type": "code",
   "execution_count": 29,
   "id": "d2e5c8fc",
   "metadata": {},
   "outputs": [
    {
     "data": {
      "text/html": [
       "<div>\n",
       "<style scoped>\n",
       "    .dataframe tbody tr th:only-of-type {\n",
       "        vertical-align: middle;\n",
       "    }\n",
       "\n",
       "    .dataframe tbody tr th {\n",
       "        vertical-align: top;\n",
       "    }\n",
       "\n",
       "    .dataframe thead th {\n",
       "        text-align: right;\n",
       "    }\n",
       "</style>\n",
       "<table border=\"1\" class=\"dataframe\">\n",
       "  <thead>\n",
       "    <tr style=\"text-align: right;\">\n",
       "      <th></th>\n",
       "      <th>vendor_id</th>\n",
       "      <th>passenger_count</th>\n",
       "      <th>pickup_longitude</th>\n",
       "      <th>pickup_latitude</th>\n",
       "      <th>dropoff_longitude</th>\n",
       "      <th>dropoff_latitude</th>\n",
       "      <th>trip_duration</th>\n",
       "      <th>trip_duration_hrs</th>\n",
       "    </tr>\n",
       "  </thead>\n",
       "  <tbody>\n",
       "    <tr>\n",
       "      <th>count</th>\n",
       "      <td>729322.000000</td>\n",
       "      <td>729322.000000</td>\n",
       "      <td>729322.000000</td>\n",
       "      <td>729322.000000</td>\n",
       "      <td>729322.000000</td>\n",
       "      <td>729322.000000</td>\n",
       "      <td>7.293220e+05</td>\n",
       "      <td>729322.000000</td>\n",
       "    </tr>\n",
       "    <tr>\n",
       "      <th>mean</th>\n",
       "      <td>1.535403</td>\n",
       "      <td>1.662055</td>\n",
       "      <td>-73.973513</td>\n",
       "      <td>40.750919</td>\n",
       "      <td>-73.973422</td>\n",
       "      <td>40.751775</td>\n",
       "      <td>9.522291e+02</td>\n",
       "      <td>0.264508</td>\n",
       "    </tr>\n",
       "    <tr>\n",
       "      <th>std</th>\n",
       "      <td>0.498745</td>\n",
       "      <td>1.312446</td>\n",
       "      <td>0.069754</td>\n",
       "      <td>0.033594</td>\n",
       "      <td>0.069588</td>\n",
       "      <td>0.036037</td>\n",
       "      <td>3.864626e+03</td>\n",
       "      <td>1.073507</td>\n",
       "    </tr>\n",
       "    <tr>\n",
       "      <th>min</th>\n",
       "      <td>1.000000</td>\n",
       "      <td>0.000000</td>\n",
       "      <td>-121.933342</td>\n",
       "      <td>34.712234</td>\n",
       "      <td>-121.933304</td>\n",
       "      <td>32.181141</td>\n",
       "      <td>1.000000e+00</td>\n",
       "      <td>0.000278</td>\n",
       "    </tr>\n",
       "    <tr>\n",
       "      <th>25%</th>\n",
       "      <td>1.000000</td>\n",
       "      <td>1.000000</td>\n",
       "      <td>-73.991859</td>\n",
       "      <td>40.737335</td>\n",
       "      <td>-73.991318</td>\n",
       "      <td>40.735931</td>\n",
       "      <td>3.970000e+02</td>\n",
       "      <td>0.110278</td>\n",
       "    </tr>\n",
       "    <tr>\n",
       "      <th>50%</th>\n",
       "      <td>2.000000</td>\n",
       "      <td>1.000000</td>\n",
       "      <td>-73.981758</td>\n",
       "      <td>40.754070</td>\n",
       "      <td>-73.979759</td>\n",
       "      <td>40.754509</td>\n",
       "      <td>6.630000e+02</td>\n",
       "      <td>0.184167</td>\n",
       "    </tr>\n",
       "    <tr>\n",
       "      <th>75%</th>\n",
       "      <td>2.000000</td>\n",
       "      <td>2.000000</td>\n",
       "      <td>-73.967361</td>\n",
       "      <td>40.768314</td>\n",
       "      <td>-73.963036</td>\n",
       "      <td>40.769741</td>\n",
       "      <td>1.075000e+03</td>\n",
       "      <td>0.298611</td>\n",
       "    </tr>\n",
       "    <tr>\n",
       "      <th>max</th>\n",
       "      <td>2.000000</td>\n",
       "      <td>9.000000</td>\n",
       "      <td>-65.897385</td>\n",
       "      <td>51.881084</td>\n",
       "      <td>-65.897385</td>\n",
       "      <td>43.921028</td>\n",
       "      <td>1.939736e+06</td>\n",
       "      <td>538.815556</td>\n",
       "    </tr>\n",
       "  </tbody>\n",
       "</table>\n",
       "</div>"
      ],
      "text/plain": [
       "           vendor_id  passenger_count  pickup_longitude  pickup_latitude  \\\n",
       "count  729322.000000    729322.000000     729322.000000    729322.000000   \n",
       "mean        1.535403         1.662055        -73.973513        40.750919   \n",
       "std         0.498745         1.312446          0.069754         0.033594   \n",
       "min         1.000000         0.000000       -121.933342        34.712234   \n",
       "25%         1.000000         1.000000        -73.991859        40.737335   \n",
       "50%         2.000000         1.000000        -73.981758        40.754070   \n",
       "75%         2.000000         2.000000        -73.967361        40.768314   \n",
       "max         2.000000         9.000000        -65.897385        51.881084   \n",
       "\n",
       "       dropoff_longitude  dropoff_latitude  trip_duration  trip_duration_hrs  \n",
       "count      729322.000000     729322.000000   7.293220e+05      729322.000000  \n",
       "mean          -73.973422         40.751775   9.522291e+02           0.264508  \n",
       "std             0.069588          0.036037   3.864626e+03           1.073507  \n",
       "min          -121.933304         32.181141   1.000000e+00           0.000278  \n",
       "25%           -73.991318         40.735931   3.970000e+02           0.110278  \n",
       "50%           -73.979759         40.754509   6.630000e+02           0.184167  \n",
       "75%           -73.963036         40.769741   1.075000e+03           0.298611  \n",
       "max           -65.897385         43.921028   1.939736e+06         538.815556  "
      ]
     },
     "execution_count": 29,
     "metadata": {},
     "output_type": "execute_result"
    }
   ],
   "source": [
    "df.describe()"
   ]
  },
  {
   "cell_type": "code",
   "execution_count": 30,
   "id": "3a6947ff",
   "metadata": {},
   "outputs": [
    {
     "data": {
      "text/plain": [
       "count    72932.000000\n",
       "mean         0.270424\n",
       "std          2.172874\n",
       "min          0.000556\n",
       "25%          0.109444\n",
       "50%          0.182778\n",
       "75%          0.298611\n",
       "max        538.815556\n",
       "Name: trip_duration_hrs, dtype: float64"
      ]
     },
     "execution_count": 30,
     "metadata": {},
     "output_type": "execute_result"
    }
   ],
   "source": [
    "#Before removing the outliers this function describes the trip_duration_hrs column\n",
    "sample['trip_duration_hrs'].describe()"
   ]
  },
  {
   "cell_type": "markdown",
   "id": "68bf6e03",
   "metadata": {},
   "source": [
    "# Transformations on the target variable\n",
    "\n",
    "Removing the outliers from the target variable"
   ]
  },
  {
   "cell_type": "code",
   "execution_count": 31,
   "id": "e8cd9065",
   "metadata": {},
   "outputs": [],
   "source": [
    "\n",
    "\n",
    "\n",
    "def outliers(upper_limit,lower_limit):\n",
    "    outliers_list=[]\n",
    "    for i in sample['trip_duration_hrs']:\n",
    "        if i > upper_limit:\n",
    "            outliers_list.append(i)\n",
    "        elif i < lower_limit:\n",
    "             outliers_list.append(i)\n",
    "    return outliers_list  \n",
    "    print(outliers_list)\n",
    "    \n",
    "Q1=sample['trip_duration_hrs'].quantile(.25)\n",
    "Q3=sample['trip_duration_hrs'].quantile(.75)\n",
    "IQR=Q3-Q1\n",
    "upper_limit=Q3+1.5*IQR\n",
    "lower_limit=Q1-1.5*IQR\n",
    "lower_limit=sample['trip_duration_hrs'].min()\n",
    "out=outliers(upper_limit,lower_limit)\n",
    "#removing the outliers from the target variable by deleting the rows in it\n",
    "\n",
    "sample=sample[sample['trip_duration_hrs'].isin(out)==False]\n",
    "\n",
    "\n",
    "    \n"
   ]
  },
  {
   "cell_type": "code",
   "execution_count": 32,
   "id": "dd093eb2",
   "metadata": {},
   "outputs": [
    {
     "data": {
      "text/plain": [
       "0.5823611111111111"
      ]
     },
     "execution_count": 32,
     "metadata": {},
     "output_type": "execute_result"
    }
   ],
   "source": [
    "upper_limit"
   ]
  },
  {
   "cell_type": "code",
   "execution_count": 33,
   "id": "44a95137",
   "metadata": {},
   "outputs": [
    {
     "data": {
      "text/plain": [
       "0.0005555555555555556"
      ]
     },
     "execution_count": 33,
     "metadata": {},
     "output_type": "execute_result"
    }
   ],
   "source": [
    "lower_limit"
   ]
  },
  {
   "cell_type": "code",
   "execution_count": 34,
   "id": "7d0374b9",
   "metadata": {},
   "outputs": [
    {
     "name": "stdout",
     "output_type": "stream",
     "text": [
      "[0.9566666666666667, 0.6530555555555555, 0.6052777777777778, 0.5916666666666667, 0.8594444444444445, 0.7038888888888889, 0.6877777777777778, 0.5847222222222223, 0.6211111111111111, 0.6225, 1.6575, 0.7172222222222222, 0.7141666666666666, 0.9694444444444444, 0.7605555555555555, 0.6652777777777777, 0.9458333333333333, 0.8788888888888889, 1.2183333333333333, 0.8019444444444445, 0.7027777777777777, 0.655, 1.2825, 0.8327777777777777, 0.7238888888888889, 0.8127777777777778, 0.6180555555555556, 0.7569444444444444, 0.8919444444444444, 0.7841666666666667, 0.6952777777777778, 0.7647222222222222, 0.6916666666666667, 0.685, 0.6466666666666666, 0.6402777777777777, 0.6113888888888889, 0.9061111111111111, 0.6213888888888889, 23.974722222222223, 0.6927777777777778, 0.9083333333333333, 0.5933333333333334, 1.2858333333333334, 0.7547222222222222, 0.6313888888888889, 0.9833333333333333, 0.7997222222222222, 0.5972222222222222, 1.1097222222222223, 0.6880555555555555, 0.9602777777777778, 0.7436111111111111, 0.6286111111111111, 0.8258333333333333, 1.0408333333333333, 1.0397222222222222, 0.8555555555555555, 1.4875, 1.1727777777777777, 0.6083333333333333, 1.4352777777777779, 0.7472222222222222, 1.4016666666666666, 1.1716666666666666, 0.8419444444444445, 0.67, 0.5916666666666667, 0.7994444444444444, 0.5988888888888889, 0.7113888888888888, 0.76, 0.6058333333333333, 0.7072222222222222, 0.6047222222222223, 1.0255555555555556, 0.9875, 0.6741666666666667, 0.6319444444444444, 0.8780555555555556, 1.143888888888889, 0.7925, 0.665, 0.6869444444444445, 0.7783333333333333, 0.6141666666666666, 1.0291666666666666, 0.5883333333333334, 0.8711111111111111, 0.6397222222222222, 0.8283333333333334, 0.7280555555555556, 0.6725, 0.8308333333333333, 0.6894444444444444, 0.6155555555555555, 0.5963888888888889, 0.6911111111111111, 0.7777777777777778, 0.6633333333333333, 0.8163888888888889, 0.6308333333333334, 0.6838888888888889, 1.2055555555555555, 0.985, 0.8325, 0.5913888888888889, 0.6508333333333334, 23.323888888888888, 0.5908333333333333, 0.6327777777777778, 0.6175, 0.6441666666666667, 0.6747222222222222, 0.8980555555555556, 0.6480555555555556, 0.6736111111111112, 1.0752777777777778, 1.156111111111111, 0.6444444444444445, 0.6688888888888889, 0.6744444444444444, 0.7588888888888888, 0.7077777777777777, 0.7425, 1.1602777777777777, 0.6844444444444444, 1.1341666666666668, 0.8436111111111111, 0.9322222222222222, 0.9833333333333333, 0.7336111111111111, 0.6719444444444445, 0.6686111111111112, 0.6430555555555556, 1.1627777777777777, 0.5977777777777777, 0.8377777777777777, 0.8363888888888888, 0.6169444444444444, 1.3952777777777778, 0.6255555555555555, 0.6922222222222222, 0.8022222222222222, 0.7238888888888889, 0.6747222222222222, 1.501111111111111, 0.6572222222222223, 0.7308333333333333, 0.8355555555555556, 1.3327777777777778, 0.6144444444444445, 0.7566666666666667, 0.6694444444444444, 0.5833333333333334, 0.6461111111111111, 0.8452777777777778, 0.6333333333333333, 0.8786111111111111, 0.9133333333333333, 0.9919444444444444, 0.5966666666666667, 0.8991666666666667, 0.6219444444444444, 0.8125, 0.6013888888888889, 23.07888888888889, 0.6988888888888889, 0.5916666666666667, 0.8544444444444445, 1.183888888888889, 0.7386111111111111, 1.2202777777777778, 0.6305555555555555, 0.5838888888888889, 0.6330555555555556, 0.6666666666666666, 0.7727777777777778, 0.8738888888888889, 0.6213888888888889, 0.595, 0.6819444444444445, 0.6275, 0.9069444444444444, 0.6213888888888889, 0.6141666666666666, 0.9616666666666667, 1.005, 0.71, 0.5930555555555556, 0.7380555555555556, 0.6536111111111111, 1.2169444444444444, 0.8733333333333333, 0.6119444444444444, 0.9005555555555556, 0.63, 0.635, 0.6908333333333333, 0.9136111111111112, 0.6122222222222222, 0.6986111111111111, 0.8180555555555555, 1.1658333333333333, 0.6247222222222222, 0.7511111111111111, 0.7472222222222222, 0.645, 0.685, 0.7713888888888889, 0.7877777777777778, 0.6566666666666666, 0.6194444444444445, 1.2358333333333333, 0.5991666666666666, 0.6361111111111111, 0.6041666666666666, 23.00722222222222, 1.0325, 0.6025, 0.7613888888888889, 0.6244444444444445, 0.6761111111111111, 0.5858333333333333, 0.7330555555555556, 0.5905555555555555, 0.7508333333333334, 0.8041666666666667, 0.8436111111111111, 0.6247222222222222, 0.9813888888888889, 0.8822222222222222, 0.7544444444444445, 0.9802777777777778, 0.6072222222222222, 0.6733333333333333, 0.6638888888888889, 0.6044444444444445, 0.7552777777777778, 1.1488888888888888, 0.6133333333333333, 0.6363888888888889, 1.0727777777777778, 0.7483333333333333, 0.7216666666666667, 1.0730555555555557, 1.3291666666666666, 0.595, 0.6741666666666667, 0.7408333333333333, 0.5888888888888889, 1.1119444444444444, 0.9577777777777777, 0.5908333333333333, 0.9872222222222222, 0.6441666666666667, 1.0041666666666667, 0.6755555555555556, 0.6430555555555556, 0.6102777777777778, 0.8913888888888889, 0.5933333333333334, 23.799166666666668, 0.7738888888888888, 0.6286111111111111, 0.6466666666666666, 0.6263888888888889, 0.7225, 0.5988888888888889, 0.7188888888888889, 1.0875, 0.6377777777777778, 0.6561111111111111, 0.6683333333333333, 0.6897222222222222, 0.5997222222222223, 0.8327777777777777, 0.5975, 1.4188888888888889, 0.6577777777777778, 0.8380555555555556, 1.6105555555555555, 0.9594444444444444, 0.6463888888888889, 0.6936111111111111, 0.6697222222222222, 0.6833333333333333, 1.3694444444444445, 0.5830555555555555, 0.7844444444444445, 1.4116666666666666, 0.5930555555555556, 1.0711111111111111, 0.8677777777777778, 1.0855555555555556, 0.6841666666666667, 0.5913888888888889, 0.8661111111111112, 1.2333333333333334, 0.7075, 0.7847222222222222, 0.7419444444444444, 0.6247222222222222, 0.925, 1.1847222222222222, 0.6266666666666667, 0.6202777777777778, 0.9947222222222222, 0.5916666666666667, 0.5919444444444445, 0.6330555555555556, 1.0091666666666668, 1.7544444444444445, 0.6241666666666666, 0.7405555555555555, 0.8763888888888889, 0.7116666666666667, 1.0611111111111111, 1.0230555555555556, 1.095, 0.6502777777777777, 0.9472222222222222, 0.6436111111111111, 0.7147222222222223, 0.8738888888888889, 0.8891666666666667, 0.6094444444444445, 0.6266666666666667, 0.5830555555555555, 0.7327777777777778, 0.8386111111111111, 0.9269444444444445, 0.6983333333333334, 1.5122222222222221, 1.326111111111111, 0.9727777777777777, 0.6305555555555555, 0.7708333333333334, 0.6161111111111112, 1.0577777777777777, 0.835, 0.5919444444444445, 0.6941666666666667, 0.6608333333333334, 0.7280555555555556, 0.8291666666666667, 0.7786111111111111, 0.67, 0.8236111111111111, 0.7563888888888889, 0.6072222222222222, 0.7094444444444444, 0.8222222222222222, 0.6783333333333333, 0.8280555555555555, 0.59, 0.615, 0.8327777777777777, 0.8352777777777778, 0.6561111111111111, 0.8175, 0.7091666666666666, 0.8038888888888889, 0.7075, 0.7602777777777778, 0.6863888888888889, 0.5866666666666667, 0.9422222222222222, 23.98027777777778, 0.8002777777777778, 0.6627777777777778, 0.7780555555555555, 0.6805555555555556, 0.6558333333333334, 1.1055555555555556, 0.9466666666666667, 0.8355555555555556, 0.97, 0.7933333333333333, 1.015, 1.1641666666666666, 0.7311111111111112, 0.7577777777777778, 0.9986111111111111, 0.6266666666666667, 0.6422222222222222, 0.6969444444444445, 0.9566666666666667, 0.5969444444444445, 0.6644444444444444, 0.7538888888888889, 0.7886111111111112, 0.7127777777777777, 0.6619444444444444, 0.7594444444444445, 23.787222222222223, 0.8177777777777778, 0.6086111111111111, 0.9508333333333333, 0.7497222222222222, 0.6394444444444445, 0.7811111111111111, 1.0344444444444445, 0.6333333333333333, 0.6719444444444445, 0.9836111111111111, 0.9363888888888889, 0.6230555555555556, 0.5908333333333333, 0.9816666666666667, 0.8111111111111111, 0.7122222222222222, 0.9155555555555556, 0.7977777777777778, 0.7672222222222222, 0.5847222222222223, 0.8044444444444444, 0.6302777777777778, 0.6194444444444445, 0.5955555555555555, 0.7088888888888889, 0.6002777777777778, 1.2219444444444445, 0.6969444444444445, 0.9258333333333333, 0.9086111111111111, 0.7469444444444444, 0.9266666666666666, 0.6202777777777778, 23.975277777777777, 1.2986111111111112, 0.7294444444444445, 0.5886111111111111, 0.7233333333333334, 0.6308333333333334, 0.6025, 0.61, 0.7772222222222223, 0.7544444444444445, 0.6716666666666666, 0.6366666666666667, 0.6463888888888889, 0.9291666666666667, 0.7302777777777778, 0.7336111111111111, 0.9722222222222222, 0.8497222222222223, 1.283611111111111, 0.6113888888888889, 0.6333333333333333, 0.6958333333333333, 0.6847222222222222, 0.7363888888888889, 0.5888888888888889, 0.6625, 0.9158333333333334, 0.6152777777777778, 0.6083333333333333, 0.7155555555555555, 0.6130555555555556, 0.5908333333333333, 0.6322222222222222, 0.7072222222222222, 0.8797222222222222, 0.88, 0.7055555555555556, 0.6147222222222222, 0.6691666666666667, 1.0852777777777778, 0.6177777777777778, 1.0005555555555556, 0.6052777777777778, 1.1583333333333334, 0.7472222222222222, 0.6661111111111111, 0.5838888888888889, 0.6208333333333333, 0.73, 0.9533333333333334, 0.6127777777777778, 0.6683333333333333, 0.8875, 0.5955555555555555, 0.7933333333333333, 0.7894444444444444, 23.976666666666667, 0.6725, 1.0033333333333334, 0.5841666666666666, 0.8666666666666667, 0.7513888888888889, 0.6286111111111111, 0.6694444444444444, 0.8313888888888888, 0.8569444444444444, 1.1783333333333332, 0.8, 0.6627777777777778, 0.8266666666666667, 0.7983333333333333, 0.7522222222222222, 0.7697222222222222, 0.8463888888888889, 0.7666666666666667, 0.7644444444444445, 0.6688888888888889, 0.7633333333333333, 0.7877777777777778, 0.9322222222222222, 0.9902777777777778, 0.7983333333333333, 0.9455555555555556, 0.8011111111111111, 0.5883333333333334, 0.6086111111111111, 0.6944444444444444, 0.6436111111111111, 0.9027777777777778, 0.5994444444444444, 1.0630555555555556, 0.7163888888888889, 0.8891666666666667, 0.7016666666666667, 1.2008333333333334, 0.7066666666666667, 0.6952777777777778, 0.6127777777777778, 0.7108333333333333, 0.5936111111111111, 0.7102777777777778, 1.081388888888889, 0.6175, 0.6772222222222222, 0.8230555555555555, 1.24, 0.9063888888888889, 1.01, 0.6802777777777778, 1.1297222222222223, 0.5958333333333333, 0.8688888888888889, 1.3486111111111112, 0.8213888888888888, 0.7166666666666667, 0.8191666666666667, 0.6358333333333334, 0.5869444444444445, 0.8561111111111112, 0.6713888888888889, 1.0586111111111112, 0.635, 0.6394444444444445, 0.7091666666666666, 0.6986111111111111, 0.7027777777777777, 0.7822222222222223, 0.6330555555555556, 0.5886111111111111, 0.6536111111111111, 0.9588888888888889, 0.6211111111111111, 0.6152777777777778, 0.8497222222222223, 0.9552777777777778, 1.1175, 0.9286111111111112, 0.7391666666666666, 0.6772222222222222, 0.9008333333333334, 0.9088888888888889, 0.6925, 0.6419444444444444, 1.1925, 0.6361111111111111, 0.6430555555555556, 0.8225, 1.0780555555555555, 0.9425, 0.79, 0.6, 0.7952777777777778, 1.1283333333333334, 23.084722222222222, 0.8394444444444444, 0.6830555555555555, 0.6277777777777778, 0.6044444444444445, 0.9044444444444445, 0.5861111111111111, 0.5947222222222223, 0.6008333333333333, 1.0675, 0.7036111111111111, 0.9375, 0.6822222222222222, 0.9583333333333334, 0.7511111111111111, 0.6338888888888888, 0.7486111111111111, 1.8755555555555556, 0.6108333333333333, 0.59, 0.7186111111111111, 0.5936111111111111, 0.5858333333333333, 0.6608333333333334, 23.769444444444446, 0.8180555555555555, 0.9438888888888889, 0.7002777777777778, 0.5913888888888889, 0.9280555555555555, 0.5975, 1.2391666666666667, 0.8416666666666667, 1.1855555555555555, 0.9169444444444445, 0.9647222222222223, 1.056111111111111, 0.7044444444444444, 0.6863888888888889, 0.9033333333333333, 0.9483333333333334, 0.6591666666666667, 0.6111111111111112, 0.6955555555555556, 0.8080555555555555, 0.7194444444444444, 0.6419444444444444, 0.5855555555555556, 0.5955555555555555, 1.0438888888888889, 0.6441666666666667, 0.6383333333333333, 0.9077777777777778, 1.0969444444444445, 0.6397222222222222, 0.6927777777777778, 0.7108333333333333, 0.6952777777777778, 0.6691666666666667, 0.6811111111111111, 0.6441666666666667, 0.5933333333333334, 0.7072222222222222, 0.5847222222222223, 0.8047222222222222, 0.8944444444444445, 0.8947222222222222, 0.6733333333333333, 0.7333333333333333, 0.8958333333333334, 0.7286111111111111, 0.6083333333333333, 0.6008333333333333, 0.6511111111111111, 0.7127777777777777, 23.975555555555555, 0.6566666666666666, 0.9175, 0.8791666666666667, 0.6233333333333333, 0.5880555555555556, 0.6244444444444445, 23.761388888888888, 0.7608333333333334, 0.6808333333333333, 0.6133333333333333, 0.8155555555555556, 23.63722222222222, 0.6038888888888889, 1.1547222222222222, 0.675, 0.6091666666666666, 0.7261111111111112, 0.6641666666666667, 0.8094444444444444, 1.0463888888888888, 0.6883333333333334, 23.948611111111113, 0.6827777777777778, 0.6177777777777778, 0.9919444444444444, 0.7280555555555556, 0.7827777777777778, 1.0533333333333332, 0.7919444444444445, 0.6169444444444444, 0.8061111111111111, 0.87, 1.0127777777777778, 0.8794444444444445, 0.9622222222222222, 0.6630555555555555, 0.6266666666666667, 0.5969444444444445, 0.9761111111111112, 0.5963888888888889, 0.825, 1.1383333333333334, 0.9572222222222222, 0.6077777777777778, 0.5947222222222223, 0.8736111111111111, 0.6216666666666667, 0.9044444444444445, 0.7580555555555556, 0.63, 23.854166666666668, 0.8675, 1.0827777777777778, 11.693888888888889, 0.6794444444444444, 0.5913888888888889, 0.7511111111111111, 0.8763888888888889, 0.6258333333333334, 0.5972222222222222, 0.7719444444444444, 0.5941666666666666, 0.6319444444444444, 0.6669444444444445, 0.6402777777777777, 0.6855555555555556, 1.1091666666666666, 0.7066666666666667, 0.9975, 1.208611111111111, 0.6544444444444445, 1.626111111111111, 0.5863888888888888, 1.2305555555555556, 0.5961111111111111, 1.1830555555555555, 0.8038888888888889, 0.7530555555555556, 1.1580555555555556, 1.3130555555555556, 0.7138888888888889, 0.6288888888888889, 0.6844444444444444, 0.7963888888888889, 0.8188888888888889, 0.6075, 0.6077777777777778, 0.7538888888888889, 0.6638888888888889, 1.5455555555555556, 0.815, 1.0675, 0.7472222222222222, 0.6522222222222223, 0.6475, 0.8763888888888889, 0.6061111111111112, 0.8705555555555555, 0.6497222222222222, 0.625, 0.6561111111111111, 0.9802777777777778, 0.7216666666666667, 0.6213888888888889, 0.8844444444444445, 0.8038888888888889, 0.6388888888888888, 0.6025, 0.8061111111111111, 0.92, 0.6113888888888889, 0.5930555555555556, 0.6294444444444445, 0.7916666666666666, 0.6372222222222222, 23.81972222222222, 0.8575, 1.0277777777777777, 0.9519444444444445, 0.6311111111111111, 0.6480555555555556, 0.7183333333333334, 0.6911111111111111, 0.7680555555555556, 1.9666666666666666, 0.985, 0.7408333333333333, 0.65, 0.6569444444444444, 23.987222222222222, 0.6991666666666667, 0.7402777777777778, 0.7902777777777777, 0.9558333333333333, 1.0705555555555555, 0.8033333333333333, 0.9497222222222222, 0.5869444444444445, 0.6205555555555555, 0.5861111111111111, 0.8436111111111111, 0.6525, 0.6408333333333334, 0.9755555555555555, 0.7733333333333333, 0.6805555555555556, 1.0425, 0.6422222222222222, 0.7083333333333334, 0.6505555555555556, 0.6258333333333334, 0.8994444444444445, 0.6036111111111111, 0.7402777777777778, 0.6713888888888889, 0.5844444444444444, 0.9275, 0.6591666666666667, 1.0777777777777777, 0.9166666666666666, 0.6647222222222222, 0.6080555555555556, 0.6341666666666667, 0.585, 0.7755555555555556, 0.6505555555555556, 0.9538888888888889, 0.5988888888888889, 1.8202777777777779, 0.6830555555555555, 0.9152777777777777, 0.5961111111111111, 0.6205555555555555, 0.5830555555555555, 0.6941666666666667, 0.8186111111111111, 0.6225, 0.8886111111111111, 0.7775, 0.7986111111111112, 0.975, 0.5883333333333334, 0.6963888888888888, 0.6316666666666667, 0.7338888888888889, 0.6713888888888889, 0.595, 0.7036111111111111, 0.6441666666666667, 1.2658333333333334, 0.6788888888888889, 0.7088888888888889, 0.6616666666666666, 0.5997222222222223, 0.9325, 0.7230555555555556, 0.6127777777777778, 0.6030555555555556, 0.7166666666666667, 1.2052777777777777, 0.7294444444444445, 1.2222222222222223, 0.6686111111111112, 0.9633333333333334, 0.6677777777777778, 0.7175, 0.6233333333333333, 0.8936111111111111, 0.7863888888888889, 0.7227777777777777, 0.5894444444444444, 0.6855555555555556, 1.666388888888889, 0.8163888888888889, 0.62, 1.0125, 1.6691666666666667, 0.8997222222222222, 23.695833333333333, 1.5180555555555555, 0.865, 0.8038888888888889, 0.7208333333333333, 0.6308333333333334, 0.6427777777777778, 0.6741666666666667, 0.8147222222222222, 0.6705555555555556, 0.7138888888888889, 0.9747222222222223, 0.5833333333333334, 23.96638888888889, 0.7552777777777778, 0.66, 0.6230555555555556, 0.6183333333333333, 23.976944444444445, 1.0491666666666666, 0.7247222222222223, 0.6305555555555555, 0.6291666666666667, 0.7677777777777778, 1.1372222222222221, 0.6716666666666666, 0.5875, 1.2194444444444446, 0.7225, 0.7241666666666666, 0.8180555555555555, 0.5847222222222223, 0.6388888888888888, 0.6377777777777778, 0.5947222222222223, 23.985833333333332, 0.7255555555555555, 1.0833333333333333, 0.6919444444444445, 23.954722222222223, 23.179166666666667, 1.393888888888889, 0.6366666666666667, 0.8697222222222222, 0.5838888888888889, 0.7563888888888889, 0.6697222222222222, 0.5986111111111111, 0.7325, 0.6533333333333333, 0.7755555555555556, 0.6980555555555555, 0.8611111111111112, 0.7811111111111111, 0.7733333333333333, 0.5955555555555555, 0.88, 0.9886111111111111, 0.6152777777777778, 0.9375, 0.6961111111111111, 1.0763888888888888, 0.6411111111111111, 0.7366666666666667, 0.5938888888888889, 0.7891666666666667, 1.0622222222222222, 0.6516666666666666, 0.7111111111111111, 0.5925, 1.8116666666666668, 0.5963888888888889, 0.6669444444444445, 0.8141666666666667, 0.9233333333333333, 0.7019444444444445, 0.675, 0.8747222222222222, 0.6002777777777778, 0.7719444444444444, 0.6516666666666666, 0.7030555555555555, 0.7266666666666667, 0.6161111111111112, 1.4875, 0.7091666666666666, 0.8316666666666667, 0.7516666666666667, 0.6386111111111111, 1.1308333333333334, 0.7719444444444444, 0.6963888888888888, 0.8630555555555556, 0.6116666666666667, 0.5877777777777777, 0.5944444444444444, 0.6027777777777777, 0.9508333333333333, 0.9405555555555556, 0.5852777777777778, 1.2455555555555555, 0.6622222222222223, 0.6869444444444445, 0.6388888888888888, 1.0044444444444445, 0.6452777777777777, 0.8544444444444445, 0.6569444444444444, 0.7308333333333333, 0.8938888888888888, 1.3055555555555556, 0.9325, 0.7030555555555555, 0.6602777777777777, 0.6444444444444445, 0.9655555555555555, 0.6941666666666667, 1.0138888888888888, 0.7761111111111111, 0.915, 0.8388888888888889, 0.6813888888888889, 0.6616666666666666, 0.9975, 0.8627777777777778, 0.7913888888888889, 23.945, 0.6869444444444445, 0.9869444444444444, 0.8886111111111111, 0.9244444444444444, 23.930833333333332, 0.7375, 0.8216666666666667, 0.8886111111111111, 1.1022222222222222, 1.2191666666666667, 0.59, 0.6755555555555556, 0.6608333333333334, 0.6883333333333334, 0.6983333333333334, 23.576666666666668, 0.5941666666666666, 0.6491666666666667, 0.7277777777777777, 0.5983333333333334, 1.0733333333333333, 1.1819444444444445, 0.5888888888888889, 0.8458333333333333, 1.2622222222222221, 0.9097222222222222, 1.0205555555555557, 0.6077777777777778, 0.7355555555555555, 0.6175, 0.6116666666666667, 1.4744444444444444, 0.7072222222222222, 1.0286111111111111, 0.6991666666666667, 0.8086111111111111, 1.4744444444444444, 0.6272222222222222, 0.7158333333333333, 0.8077777777777778, 0.6577777777777778, 1.0502777777777779, 0.8780555555555556, 0.8980555555555556, 0.8341666666666666, 1.0425, 1.188611111111111, 0.925, 0.6394444444444445, 1.1694444444444445, 0.7141666666666666, 0.8388888888888889, 0.9386111111111111, 0.8227777777777778, 1.2963888888888888, 0.8077777777777778, 1.0586111111111112, 0.9177777777777778, 0.8352777777777778, 0.6225, 0.6175, 1.0238888888888888, 0.6191666666666666, 0.6530555555555555, 0.5922222222222222, 0.6875, 1.0044444444444445, 0.6019444444444444, 0.6402777777777777, 0.6530555555555555, 0.7727777777777778, 0.63, 0.9241666666666667, 0.8511111111111112, 0.8705555555555555, 0.7472222222222222, 0.7194444444444444, 0.8055555555555556, 16.33972222222222, 0.6463888888888889, 0.9038888888888889, 0.6772222222222222, 0.6619444444444444, 0.7047222222222222, 0.9527777777777777, 0.6830555555555555, 0.7161111111111111, 0.6330555555555556, 0.9872222222222222, 0.6227777777777778, 0.8294444444444444, 0.6177777777777778, 1.0263888888888888, 0.6919444444444445, 0.7302777777777778, 0.9433333333333334, 0.7458333333333333, 0.8486111111111111, 0.9458333333333333, 0.8297222222222222, 0.7238888888888889, 0.65, 1.5263888888888888, 0.9908333333333333, 0.8122222222222222, 0.7013888888888888, 22.246944444444445, 1.1836111111111112, 0.6569444444444444, 23.761111111111113, 0.5919444444444445, 0.6808333333333333, 0.6013888888888889, 0.6058333333333333, 0.6283333333333333, 0.7294444444444445, 0.6925, 1.0672222222222223, 0.7275, 0.8661111111111112, 1.1611111111111112, 0.6922222222222222, 0.7044444444444444, 0.7630555555555556, 0.7461111111111111, 0.8669444444444444, 0.6344444444444445, 1.6547222222222222, 0.8938888888888888, 1.0997222222222223, 0.8580555555555556, 0.9691666666666666, 0.7436111111111111, 0.6863888888888889, 1.038888888888889, 0.7783333333333333, 1.3291666666666666, 0.6936111111111111, 0.5841666666666666, 0.6908333333333333, 1.0241666666666667, 1.2686111111111111, 0.7483333333333333, 0.8783333333333333, 0.7377777777777778, 1.0461111111111112, 0.8175, 0.6027777777777777, 1.2872222222222223, 1.3294444444444444, 0.6094444444444445, 0.6869444444444445, 0.92, 0.5883333333333334, 0.7872222222222223, 0.8911111111111111, 0.7958333333333333, 1.4372222222222222, 1.0222222222222221, 0.6852777777777778, 0.64, 0.5913888888888889, 0.5883333333333334, 0.6572222222222223, 0.7480555555555556, 0.6069444444444444, 0.6058333333333333, 0.7419444444444444, 0.8752777777777778, 1.3286111111111112, 0.9336111111111111, 0.9477777777777778, 0.8194444444444444, 0.875, 1.251111111111111, 0.6908333333333333, 1.3483333333333334, 0.7333333333333333, 0.7413888888888889, 0.6394444444444445, 0.6388888888888888, 0.7641666666666667, 1.136111111111111, 0.6813888888888889, 0.7947222222222222, 0.6561111111111111, 0.5861111111111111, 0.6658333333333334, 0.6525, 1.2608333333333333, 1.0075, 0.7375, 0.7341666666666666, 0.7008333333333333, 1.1672222222222222, 1.1491666666666667, 0.6463888888888889, 0.9933333333333333, 0.5855555555555556, 0.7633333333333333, 0.5980555555555556, 0.7463888888888889, 0.605, 0.6127777777777778, 1.0630555555555556, 0.67, 0.6786111111111112, 0.6047222222222223, 0.6141666666666666, 0.9144444444444444, 0.9302777777777778, 0.6533333333333333, 0.7197222222222223, 0.6952777777777778, 0.6916666666666667, 0.9275, 0.9872222222222222, 0.6102777777777778, 0.6033333333333334, 1.1894444444444445, 0.8294444444444444, 1.1144444444444443, 0.6713888888888889, 0.88, 0.6730555555555555, 0.7386111111111111, 0.7336111111111111, 0.6636111111111112, 0.6916666666666667, 0.6672222222222223, 0.7772222222222223, 0.7058333333333333, 1.04, 0.6397222222222222, 0.6977777777777778, 0.5883333333333334, 0.9866666666666667, 0.6258333333333334, 1.1091666666666666, 0.6833333333333333, 0.6675, 0.8536111111111111, 0.6422222222222222, 1.0158333333333334, 0.8794444444444445, 0.6902777777777778, 0.7811111111111111, 0.6066666666666667, 0.7452777777777778, 0.6294444444444445, 1.416111111111111, 0.6016666666666667, 0.8322222222222222, 0.6975, 0.9494444444444444, 0.7319444444444444, 23.930555555555557, 0.5919444444444445, 1.0955555555555556, 0.7991666666666667, 0.6827777777777778, 1.2302777777777778, 0.5838888888888889, 0.595, 0.7866666666666666, 0.7761111111111111, 0.6802777777777778, 0.7175, 0.9083333333333333, 0.655, 0.6052777777777778, 0.8025, 0.6688888888888889, 0.6380555555555556, 0.6519444444444444, 0.6680555555555555, 0.5869444444444445, 0.8919444444444444, 0.6288888888888889, 0.8519444444444444, 0.6758333333333333, 0.6016666666666667, 0.7327777777777778, 0.6752777777777778, 0.7819444444444444, 0.7711111111111111, 0.7794444444444445, 0.9555555555555556, 0.9127777777777778, 0.5922222222222222, 0.8936111111111111, 0.8536111111111111, 23.330555555555556, 0.7872222222222223, 0.6830555555555555, 2.2491666666666665, 0.7325, 0.6661111111111111, 0.8138888888888889, 0.605, 0.6975, 0.7644444444444445, 1.1291666666666667, 0.6847222222222222, 1.2291666666666667, 0.9819444444444444, 0.73, 0.5852777777777778, 0.6744444444444444, 0.8591666666666666, 0.6402777777777777, 1.2961111111111112, 0.6091666666666666, 1.283611111111111, 1.3316666666666668, 0.6419444444444444, 0.8880555555555556, 0.7502777777777778, 0.5891666666666666, 0.7877777777777778, 0.6030555555555556, 0.6511111111111111, 0.6041666666666666, 1.3994444444444445, 0.7152777777777778, 1.0383333333333333, 0.8261111111111111, 0.985, 0.8111111111111111, 0.7719444444444444, 0.6927777777777778, 0.9272222222222222, 0.6533333333333333, 0.8536111111111111, 0.6341666666666667, 23.61722222222222, 0.9052777777777777, 0.8177777777777778, 23.587777777777777, 0.6147222222222222, 0.5836111111111111, 0.73, 0.6536111111111111, 0.6619444444444444, 0.6738888888888889, 0.6763888888888889, 0.7144444444444444, 0.8327777777777777, 0.6263888888888889, 0.6177777777777778, 0.98, 0.8413888888888889, 0.9011111111111111, 0.5977777777777777, 1.0644444444444445, 1.1333333333333333, 0.6363888888888889, 0.6011111111111112, 0.6227777777777778, 0.6988888888888889, 0.62, 1.1897222222222221, 0.6983333333333334, 0.6069444444444444, 0.7205555555555555, 0.6866666666666666, 0.5991666666666666, 0.8236111111111111, 0.8088888888888889, 0.9802777777777778, 1.033611111111111, 0.5988888888888889, 0.76, 0.9155555555555556, 0.8108333333333333, 0.6122222222222222, 0.9144444444444444, 23.966666666666665, 23.996388888888887, 1.0108333333333333, 0.7002777777777778, 0.7288888888888889, 0.6419444444444444, 0.6905555555555556, 0.7794444444444445, 0.9605555555555556, 0.6452777777777777, 0.6927777777777778, 1.0463888888888888, 0.6105555555555555, 0.6327777777777778, 0.6002777777777778, 0.9783333333333334, 1.0369444444444444, 0.89, 0.6102777777777778, 0.6988888888888889, 0.6313888888888889, 0.9491666666666667, 0.8213888888888888, 0.7294444444444445, 1.4491666666666667, 0.8269444444444445, 1.0444444444444445, 0.7180555555555556, 1.8455555555555556, 0.9347222222222222, 1.2052777777777777, 1.158611111111111, 0.6805555555555556, 23.594444444444445, 0.5958333333333333, 0.8344444444444444, 0.9616666666666667, 0.7763888888888889, 0.6225, 0.7975, 0.6638888888888889, 0.6155555555555555, 0.5827777777777777, 2.6283333333333334, 0.605, 0.785, 0.7330555555555556, 0.7783333333333333, 0.8805555555555555, 0.6094444444444445, 0.6019444444444444, 0.9102777777777777, 0.6336111111111111, 0.8597222222222223, 0.6097222222222223, 0.7019444444444445, 0.6222222222222222, 0.6163888888888889, 0.82, 1.0116666666666667, 0.7488888888888889, 0.5969444444444445, 1.193888888888889, 0.6894444444444444, 0.6, 0.7613888888888889, 0.5947222222222223, 0.6758333333333333, 0.7163888888888889, 0.6386111111111111, 0.6527777777777778, 0.6641666666666667, 1.1769444444444443, 0.6288888888888889, 23.523055555555555, 0.6755555555555556, 0.595, 0.6708333333333333, 18.3325, 0.7297222222222223, 0.7008333333333333, 0.5877777777777777, 0.5963888888888889, 0.5980555555555556, 0.7027777777777777, 0.7113888888888888, 0.6338888888888888, 0.8069444444444445, 1.3063888888888888, 0.8744444444444445, 0.7016666666666667, 0.8625, 0.8919444444444444, 0.8511111111111112, 0.9302777777777778, 0.6077777777777778, 0.7886111111111112, 0.8780555555555556, 0.8402777777777778, 0.6216666666666667, 0.7819444444444444, 0.6041666666666666, 0.7344444444444445, 0.6791666666666667, 0.805, 0.9872222222222222, 0.9366666666666666, 0.7186111111111111, 0.9105555555555556, 0.5830555555555555, 23.893333333333334, 0.6763888888888889, 0.7052777777777778, 0.8661111111111112, 0.6683333333333333, 0.6736111111111112, 0.6547222222222222, 0.6194444444444445, 0.7319444444444444, 1.0030555555555556, 0.6297222222222222, 1.5544444444444445, 1.5722222222222222, 0.8216666666666667, 0.7191666666666666, 0.6566666666666666, 0.7705555555555555, 0.705, 0.6355555555555555, 0.6527777777777778, 0.6991666666666667, 0.9069444444444444, 0.9155555555555556, 0.7747222222222222, 23.965833333333332, 0.5872222222222222, 1.3380555555555556, 0.7616666666666667, 0.7875, 0.6275, 0.5852777777777778, 0.6088888888888889, 0.7711111111111111, 0.7252777777777778, 0.625, 0.6280555555555556, 0.7463888888888889, 0.6955555555555556, 0.7358333333333333, 1.2319444444444445, 0.8755555555555555, 1.005, 0.6055555555555555, 0.7802777777777777, 0.645, 0.5877777777777777, 0.5966666666666667, 0.9863888888888889, 0.7077777777777777, 0.6872222222222222, 0.7638888888888888, 1.5325, 0.6486111111111111, 0.9911111111111112, 0.6441666666666667, 0.7577777777777778, 0.8486111111111111, 0.6808333333333333, 0.9566666666666667, 0.7119444444444445, 0.7319444444444444, 0.6366666666666667, 23.459444444444443, 0.7627777777777778, 0.8233333333333334, 1.1041666666666667, 0.7083333333333334, 0.6625, 0.9644444444444444, 0.6008333333333333, 1.068888888888889, 23.98027777777778, 2.0719444444444446, 0.5883333333333334, 0.7461111111111111, 1.216388888888889, 0.9038888888888889, 0.92, 0.8855555555555555, 0.6925, 0.7975, 0.5894444444444444, 1.1416666666666666, 0.79, 0.6352777777777778, 0.7069444444444445, 0.655, 0.6747222222222222, 1.3411111111111111, 0.6825, 0.5869444444444445, 1.2541666666666667, 0.695, 1.056111111111111, 0.6394444444444445, 0.6108333333333333, 0.7058333333333333, 23.86916666666667, 0.8236111111111111, 0.9341666666666667, 0.8741666666666666, 0.6386111111111111, 0.8163888888888889, 0.6394444444444445, 0.7122222222222222, 0.7497222222222222, 0.5933333333333334, 0.6183333333333333, 0.6744444444444444, 0.7047222222222222, 0.6580555555555555, 0.5825, 0.6238888888888889, 1.1244444444444444, 0.8622222222222222, 23.796944444444446, 0.7955555555555556, 0.8794444444444445, 0.7002777777777778, 0.6575, 1.021388888888889, 0.7169444444444445, 1.0641666666666667, 0.9472222222222222, 0.5855555555555556, 1.3872222222222221, 0.7005555555555556, 7.1497222222222225, 1.0888888888888888, 0.8405555555555555, 0.7672222222222222, 0.8236111111111111, 0.7822222222222223, 0.6558333333333334, 0.9919444444444444, 0.5894444444444444, 0.6288888888888889, 1.0552777777777778, 0.5869444444444445, 0.6108333333333333, 1.2561111111111112, 0.6380555555555556, 1.1852777777777779, 0.6077777777777778, 0.6294444444444445, 0.8869444444444444, 0.6222222222222222, 0.7508333333333334, 0.7230555555555556, 0.7936111111111112, 0.7386111111111111, 0.8427777777777777, 0.6466666666666666, 0.9836111111111111, 0.7216666666666667, 1.006388888888889, 0.6691666666666667, 0.6061111111111112, 1.0352777777777777, 0.6705555555555556, 0.6225, 1.0233333333333334, 0.7413888888888889, 1.0444444444444445, 0.7880555555555555, 0.9547222222222222, 23.686944444444446, 1.1958333333333333, 0.5908333333333333, 0.5838888888888889, 0.7622222222222222, 0.6711111111111111, 0.6263888888888889, 23.93, 0.8113888888888889, 0.7641666666666667, 0.8941666666666667, 0.6163888888888889, 0.6027777777777777, 0.8888888888888888, 0.6836111111111111, 0.5863888888888888, 1.0344444444444445, 23.97361111111111, 0.6997222222222222, 0.6802777777777778, 0.7183333333333334, 0.7761111111111111, 1.3202777777777779, 0.6683333333333333, 0.9411111111111111, 0.7488888888888889, 0.9980555555555556, 1.2102777777777778, 1.121388888888889, 0.6066666666666667, 0.6063888888888889, 0.8019444444444445, 0.6127777777777778, 0.7227777777777777, 1.0694444444444444, 1.0972222222222223, 0.9436111111111111, 0.7719444444444444, 0.6969444444444445, 0.8838888888888888, 0.7163888888888889, 0.59, 0.7075, 0.6597222222222222, 0.6369444444444444, 0.6136111111111111, 23.975, 0.8566666666666667, 1.2244444444444444, 0.6263888888888889, 1.0444444444444445, 0.5827777777777777, 0.8197222222222222, 0.6116666666666667, 0.6686111111111112, 0.6111111111111112, 0.5930555555555556, 1.0183333333333333, 1.11, 0.6066666666666667, 0.62, 0.9566666666666667, 1.3263888888888888, 0.8222222222222222, 0.6347222222222222, 0.6155555555555555, 0.6025, 22.85638888888889, 1.0013888888888889, 0.9305555555555556, 0.9925, 0.9022222222222223, 0.8152777777777778, 0.7947222222222222, 0.7041666666666667, 0.6852777777777778, 0.6008333333333333, 0.5888888888888889, 0.6725, 1.2597222222222222, 0.9288888888888889, 0.7527777777777778, 0.9652777777777778, 0.6961111111111111, 0.6302777777777778, 0.7808333333333334, 0.6313888888888889, 0.6533333333333333, 23.969444444444445, 1.3747222222222222, 0.9777777777777777, 0.8947222222222222, 0.6108333333333333, 0.735, 0.6033333333333334, 1.1108333333333333, 0.8119444444444445, 0.6080555555555556, 0.9308333333333333, 1.5186111111111111, 0.5977777777777777, 0.7341666666666666, 0.6066666666666667, 0.6930555555555555, 0.7691666666666667, 0.9894444444444445, 0.7863888888888889, 0.7272222222222222, 0.7597222222222222, 0.8422222222222222, 0.5863888888888888, 0.6336111111111111, 0.6336111111111111, 0.8655555555555555, 0.9016666666666666, 0.6025, 0.8747222222222222, 0.6672222222222223, 0.6402777777777777, 0.6155555555555555, 0.6075, 0.755, 0.9, 0.6005555555555555, 1.316111111111111, 0.8863888888888889, 0.6469444444444444, 0.7686111111111111, 0.6663888888888889, 1.0630555555555556, 0.5980555555555556, 0.7516666666666667, 1.2122222222222223, 0.5972222222222222, 1.0444444444444445, 0.9752777777777778, 0.6513888888888889, 0.8047222222222222, 1.1527777777777777, 0.8283333333333334, 0.6994444444444444, 0.8202777777777778, 0.8880555555555556, 0.6552777777777777, 0.5897222222222223, 0.6566666666666666, 0.8744444444444445, 0.6313888888888889, 0.7347222222222223, 0.6886111111111111, 0.9641666666666666, 0.6583333333333333, 0.6575, 0.5980555555555556, 0.8025, 0.8013888888888889, 1.0163888888888888, 0.6138888888888889, 0.6775, 0.9441666666666667, 1.0841666666666667, 0.6480555555555556, 1.1391666666666667, 0.8344444444444444, 0.6788888888888889, 0.5886111111111111, 0.5827777777777777, 1.1830555555555555, 0.5975, 0.8452777777777778, 0.6447222222222222, 0.7669444444444444, 0.7822222222222223, 0.725, 0.7486111111111111, 0.7872222222222223, 0.675, 0.6441666666666667, 0.8780555555555556, 1.4211111111111112, 0.7333333333333333, 0.8222222222222222, 0.9805555555555555, 0.8819444444444444, 0.6375, 0.6405555555555555, 0.7419444444444444, 0.995, 1.5619444444444444, 0.8730555555555556, 0.7016666666666667, 0.7322222222222222, 0.8413888888888889, 0.7397222222222222, 0.78, 0.6422222222222222, 1.2486111111111111, 0.8988888888888888, 0.7908333333333334, 1.34, 0.9402777777777778, 0.6205555555555555, 0.6255555555555555, 0.8816666666666667, 1.1613888888888888, 0.8463888888888889, 1.2308333333333332, 0.5947222222222223, 0.6452777777777777, 0.5938888888888889, 1.0747222222222221, 0.64, 1.346111111111111, 0.6222222222222222, 0.6313888888888889, 1.0872222222222223, 0.87, 1.2697222222222222, 0.7716666666666666, 1.11, 0.9497222222222222, 0.7038888888888889, 0.6511111111111111, 0.8963888888888889, 0.8797222222222222, 0.5863888888888888, 1.2497222222222222, 0.605, 0.6988888888888889, 23.946944444444444, 0.7322222222222222, 1.3972222222222221, 0.6386111111111111, 0.7969444444444445, 0.6836111111111111, 0.5872222222222222, 0.6197222222222222, 0.6816666666666666, 0.6430555555555556, 0.7261111111111112, 0.9422222222222222, 0.7744444444444445, 1.1575, 0.5913888888888889, 0.83, 5.121944444444445, 0.8475, 0.6897222222222222, 0.59, 0.6330555555555556, 0.825, 0.6591666666666667, 0.6230555555555556, 0.9227777777777778, 0.815, 1.1177777777777778, 1.1652777777777779, 0.6197222222222222, 1.0322222222222222, 0.8797222222222222, 0.8011111111111111, 23.90138888888889, 0.7569444444444444, 0.6497222222222222, 0.7083333333333334, 0.5825, 0.8941666666666667, 1.011388888888889, 0.8258333333333333, 1.0725, 1.2886111111111112, 0.6963888888888888, 0.7122222222222222, 0.5997222222222223, 1.2633333333333334, 0.7958333333333333, 0.6180555555555556, 0.6019444444444444, 0.8922222222222222, 0.6358333333333334, 0.6883333333333334, 0.7325, 0.6511111111111111, 0.6352777777777778, 0.6738888888888889, 0.8155555555555556, 0.62, 0.6116666666666667, 0.9819444444444444, 0.6883333333333334, 0.6058333333333333, 0.8419444444444445, 0.6297222222222222, 0.6347222222222222, 0.5877777777777777, 0.7136111111111111, 0.6025, 0.7066666666666667, 0.6652777777777777, 0.6225, 0.8583333333333333, 23.7775, 0.9311111111111111, 0.9130555555555555, 0.7875, 0.7858333333333334, 0.6844444444444444, 0.7186111111111111, 0.6722222222222223, 0.7880555555555555, 0.6225, 0.6397222222222222, 1.1913888888888888, 0.6025, 0.6191666666666666, 0.8625, 0.6258333333333334, 0.9994444444444445, 0.585, 0.7694444444444445, 0.6477777777777778, 0.8080555555555555, 0.8066666666666666, 0.6055555555555555, 0.6027777777777777, 1.8077777777777777, 23.768333333333334, 0.6475, 0.6572222222222223, 0.7469444444444444, 0.8283333333333334, 0.8536111111111111, 0.6894444444444444, 1.1983333333333333, 0.6788888888888889, 23.570833333333333, 0.7836111111111111, 0.8211111111111111, 0.6047222222222223, 1.041388888888889, 1.2422222222222221, 0.6380555555555556, 0.9838888888888889, 0.9472222222222222, 0.8038888888888889, 0.8105555555555556, 0.7547222222222222, 0.6880555555555555, 0.8933333333333333, 1.503611111111111, 0.5877777777777777, 0.5877777777777777, 0.9913888888888889, 0.7038888888888889, 0.7525, 0.7841666666666667, 0.6433333333333333, 0.8938888888888888, 0.7377777777777778, 0.5969444444444445, 0.8458333333333333, 0.6188888888888889, 0.7088888888888889, 0.7113888888888888, 0.9969444444444444, 0.5891666666666666, 0.7694444444444445, 0.5922222222222222, 23.4225, 0.7061111111111111, 1.1719444444444445, 0.6402777777777777, 0.8005555555555556, 0.6080555555555556, 0.6825, 0.8283333333333334, 0.69, 0.7688888888888888, 0.6341666666666667, 1.1244444444444444, 0.9702777777777778, 0.7783333333333333, 0.6483333333333333, 1.065, 1.4538888888888888, 0.5858333333333333, 0.9486111111111111, 0.7163888888888889, 0.6227777777777778, 0.8630555555555556, 0.6194444444444445, 0.8266666666666667, 0.5905555555555555, 0.6697222222222222, 0.6397222222222222, 0.6108333333333333, 0.7541666666666667, 0.6313888888888889, 1.0202777777777778, 0.8358333333333333, 0.5997222222222223, 0.7547222222222222, 1.066111111111111, 0.6055555555555555, 0.6388888888888888, 0.6641666666666667, 0.6036111111111111, 0.8361111111111111, 0.5908333333333333, 0.7880555555555555, 1.1702777777777778, 0.8730555555555556, 0.7730555555555556, 0.6702777777777778, 0.785, 0.7302777777777778, 23.175833333333333, 0.5908333333333333, 0.5919444444444445, 0.6586111111111111, 0.8955555555555555, 0.6477777777777778, 0.6686111111111112, 0.8358333333333333, 0.5905555555555555, 0.5880555555555556, 0.7011111111111111, 0.7711111111111111, 0.6483333333333333, 0.8972222222222223, 1.3041666666666667, 0.6288888888888889, 0.6013888888888889, 0.6505555555555556, 0.6352777777777778, 0.7619444444444444, 0.6680555555555555, 1.0180555555555555, 0.5930555555555556, 1.4216666666666666, 0.6161111111111112, 0.8241666666666667, 0.6111111111111112, 0.8163888888888889, 0.7052777777777778, 0.6605555555555556, 0.7738888888888888, 0.6297222222222222, 0.7783333333333333, 0.8244444444444444, 0.6227777777777778, 0.6247222222222222, 0.6858333333333333, 0.6891666666666667, 0.6555555555555556, 1.2238888888888888, 23.578333333333333, 0.7586111111111111, 0.9172222222222223, 0.6836111111111111, 0.5872222222222222, 0.6880555555555555, 0.5925, 0.8813888888888889, 0.6744444444444444, 0.6552777777777777, 1.0908333333333333, 0.6477777777777778, 0.9197222222222222, 1.1302777777777777, 0.9080555555555555, 0.7963888888888889, 0.5997222222222223, 0.7872222222222223, 1.1166666666666667, 0.7333333333333333, 0.7508333333333334, 0.5847222222222223, 0.6316666666666667, 0.7416666666666667, 0.6886111111111111, 1.0702777777777779, 0.9086111111111111, 0.7330555555555556, 0.5916666666666667, 0.7886111111111112, 0.75, 0.7813888888888889, 0.7425, 0.7888888888888889, 0.7308333333333333, 0.7666666666666667, 0.7872222222222223, 0.5952777777777778, 0.6230555555555556, 0.5858333333333333, 0.6525, 0.8913888888888889, 0.7002777777777778, 0.6172222222222222, 0.9980555555555556, 8.5125, 0.6125, 1.1241666666666668, 0.6202777777777778, 0.7313888888888889, 1.0519444444444443, 0.7280555555555556, 1.1336111111111111, 0.7208333333333333, 0.6319444444444444, 0.9036111111111111, 0.5936111111111111, 0.7413888888888889, 1.1, 0.5877777777777777, 0.6241666666666666, 0.6308333333333334, 0.6808333333333333, 0.6861111111111111, 0.7105555555555556, 0.8230555555555555, 0.6822222222222222, 1.4822222222222223, 0.7269444444444444, 0.6522222222222223, 1.3680555555555556, 0.7336111111111111, 0.5880555555555556, 0.6577777777777778, 0.7008333333333333, 1.3505555555555555, 0.6175, 0.8891666666666667, 0.9341666666666667, 0.7936111111111112, 0.7086111111111111, 0.6333333333333333, 0.9016666666666666, 0.6019444444444444, 0.8630555555555556, 1.3483333333333334, 0.7408333333333333, 0.7505555555555555, 0.8538888888888889, 0.9011111111111111, 0.7702777777777777, 23.979166666666668, 1.3683333333333334, 0.6025, 1.1333333333333333, 1.1266666666666667, 1.5977777777777777, 0.6230555555555556, 0.6375, 0.7086111111111111, 0.7216666666666667, 0.8133333333333334, 0.7666666666666667, 0.7383333333333333, 0.7211111111111111, 0.7186111111111111, 1.2261111111111112, 0.5844444444444444, 0.7841666666666667, 0.5872222222222222, 1.1680555555555556, 0.7408333333333333, 0.6036111111111111, 1.1266666666666667, 7.2219444444444445, 1.3955555555555557, 23.875, 0.6975, 0.6466666666666666, 0.6847222222222222, 0.6044444444444445, 0.8480555555555556, 0.6738888888888889, 0.6886111111111111, 0.7591666666666667, 0.6847222222222222, 0.6713888888888889, 0.7405555555555555, 0.6377777777777778, 0.5919444444444445, 0.6761111111111111, 1.3783333333333334, 0.6722222222222223, 0.7005555555555556, 0.7519444444444444, 0.6363888888888889, 1.1613888888888888, 1.2577777777777779, 0.6725, 0.8491666666666666, 0.9877777777777778, 0.7680555555555556, 0.95, 0.8622222222222222, 0.6163888888888889, 23.982222222222223, 1.4583333333333333, 0.6075, 0.6322222222222222, 0.6652777777777777, 0.6561111111111111, 0.6594444444444445, 0.7208333333333333, 0.6752777777777778, 0.8952777777777777, 0.6422222222222222, 0.6713888888888889, 1.1375, 0.9905555555555555, 0.935, 0.8541666666666666, 0.8636111111111111, 0.9977777777777778, 0.5991666666666666, 0.9180555555555555, 0.7313888888888889, 0.7216666666666667, 0.71, 0.5961111111111111, 0.6113888888888889, 0.6227777777777778, 0.5905555555555555, 0.5966666666666667, 0.7144444444444444, 0.6119444444444444, 1.1358333333333333, 0.7691666666666667, 0.7180555555555556, 23.875, 0.6875, 0.7663888888888889, 0.5847222222222223, 1.0091666666666668, 0.705, 1.2961111111111112, 1.343611111111111, 0.6561111111111111, 1.176111111111111, 0.9158333333333334, 1.0680555555555555, 0.9116666666666666, 0.6741666666666667, 1.1316666666666666, 0.6844444444444444, 0.7355555555555555, 1.2830555555555556, 0.8008333333333333, 1.0902777777777777, 0.8097222222222222, 0.5961111111111111, 0.73, 0.8988888888888888, 0.5894444444444444, 1.0258333333333334, 0.8508333333333333, 0.7294444444444445, 0.6761111111111111, 0.6444444444444445, 0.6913888888888889, 0.6236111111111111, 0.6136111111111111, 1.0686111111111112, 0.7944444444444444, 0.6897222222222222, 0.8844444444444445, 0.7105555555555556, 0.7733333333333333, 0.7194444444444444, 0.9794444444444445, 0.6986111111111111, 0.6633333333333333, 1.4530555555555555, 0.7511111111111111, 23.906666666666666, 0.7008333333333333, 0.7111111111111111, 0.7366666666666667, 0.9747222222222223, 0.9469444444444445, 1.2747222222222223, 0.9661111111111111, 0.6044444444444445, 1.0611111111111111, 0.6836111111111111, 0.7080555555555555, 0.8319444444444445, 1.3466666666666667, 1.0788888888888888, 0.7938888888888889, 0.6075, 0.7, 23.962777777777777, 0.8330555555555555, 0.6963888888888888, 0.6047222222222223, 0.9155555555555556, 0.7880555555555555, 0.6822222222222222, 1.3383333333333334, 0.7455555555555555, 0.5966666666666667, 538.8155555555555, 0.725, 0.6366666666666667, 0.6566666666666666, 0.5994444444444444, 0.6519444444444444, 0.6672222222222223, 0.8183333333333334, 0.645, 1.0802777777777777, 0.7572222222222222, 0.6033333333333334, 0.7133333333333334, 0.7388888888888889, 0.6591666666666667, 0.6708333333333333, 0.8555555555555555, 1.0644444444444445, 0.7241666666666666, 0.7116666666666667, 0.6172222222222222, 0.6797222222222222, 0.6575, 0.6075, 0.71, 0.6841666666666667, 0.8047222222222222, 0.9444444444444444, 1.7666666666666666, 0.6286111111111111, 0.6125, 1.0852777777777778, 0.6330555555555556, 1.3322222222222222, 0.9177777777777778, 0.93, 0.7852777777777777, 0.6719444444444445, 0.6455555555555555, 23.717222222222222, 0.9019444444444444, 0.9480555555555555, 0.6319444444444444, 0.5966666666666667, 1.1383333333333334, 0.7927777777777778, 0.915, 1.248888888888889, 0.6508333333333334, 0.5833333333333334, 0.9597222222222223, 0.7572222222222222, 0.6216666666666667, 0.6313888888888889, 0.7733333333333333, 0.6880555555555555, 0.8475, 0.6169444444444444, 0.6102777777777778, 0.7097222222222223, 0.9041666666666667, 0.5930555555555556, 1.028888888888889, 0.6411111111111111, 0.6227777777777778, 0.5888888888888889, 0.6238888888888889, 0.7586111111111111, 0.7083333333333334, 0.7875, 0.6266666666666667, 0.9058333333333334, 0.8655555555555555, 0.6444444444444445, 0.5936111111111111, 0.6475, 0.6091666666666666, 0.6027777777777777, 0.6738888888888889, 0.7291666666666666, 0.7316666666666667, 0.9588888888888889, 0.6236111111111111, 0.6241666666666666, 0.6586111111111111, 1.1977777777777778, 0.6266666666666667, 0.6052777777777778, 0.7038888888888889, 0.7463888888888889, 0.7736111111111111, 0.6888888888888889, 1.2427777777777778, 23.85638888888889, 0.9202777777777778, 0.8188888888888889, 0.615, 11.993611111111111, 0.9291666666666667, 0.6777777777777778, 0.6802777777777778, 0.9166666666666666, 1.4141666666666666, 0.6616666666666666, 0.5897222222222223, 0.7866666666666666, 0.8152777777777778, 0.8230555555555555, 1.2416666666666667, 1.0383333333333333, 0.7627777777777778, 1.0333333333333334, 0.7180555555555556, 0.7577777777777778, 0.7225, 0.7638888888888888, 0.5938888888888889, 0.7477777777777778, 0.6480555555555556, 0.6702777777777778, 0.9944444444444445, 0.5852777777777778, 0.9133333333333333, 0.7383333333333333, 1.3591666666666666, 0.6155555555555555, 1.0483333333333333, 0.8688888888888889, 23.73472222222222, 1.165, 0.6241666666666666, 1.2261111111111112, 0.6713888888888889, 0.5883333333333334, 0.6225, 0.9830555555555556, 1.1841666666666666, 0.8769444444444444, 23.81222222222222, 0.6563888888888889, 0.6291666666666667, 0.5927777777777777, 0.6711111111111111, 0.595, 0.6283333333333333, 0.6416666666666667, 0.6797222222222222, 0.9725, 1.1211111111111112, 0.76, 0.7522222222222222, 0.9705555555555555, 0.715, 0.8738888888888889, 0.7125, 0.7411111111111112, 0.6005555555555555, 0.6380555555555556, 1.0347222222222223, 0.7225, 0.865, 0.8363888888888888, 0.6438888888888888, 1.5505555555555555, 0.6980555555555555, 2.3019444444444446, 0.8344444444444444, 1.1358333333333333, 1.1072222222222223, 0.8913888888888889, 0.7608333333333334, 0.6511111111111111, 0.7655555555555555, 0.6055555555555555, 1.541388888888889, 0.6011111111111112, 0.6397222222222222, 0.8352777777777778, 0.6069444444444444, 0.6886111111111111, 1.2302777777777778, 0.6005555555555555, 0.6663888888888889, 0.9, 1.0233333333333334, 0.6538888888888889, 0.7211111111111111, 0.8152777777777778, 0.6447222222222222, 0.6505555555555556, 0.6597222222222222, 0.8502777777777778, 1.321388888888889, 0.6183333333333333, 1.3038888888888889, 1.0716666666666668, 0.5938888888888889, 0.6386111111111111, 0.7211111111111111, 0.7897222222222222, 0.8219444444444445, 0.6127777777777778, 0.6436111111111111, 1.488611111111111, 0.6994444444444444, 0.7663888888888889, 0.8377777777777777, 0.7277777777777777, 0.6697222222222222, 0.795, 0.6191666666666666, 0.7408333333333333, 0.7155555555555555, 1.1716666666666666, 0.5986111111111111, 0.5894444444444444, 0.7244444444444444, 0.7358333333333333, 0.6694444444444444, 1.031388888888889, 0.7230555555555556, 0.7441666666666666, 0.5852777777777778, 0.6055555555555555, 0.7247222222222223, 0.6233333333333333, 0.6583333333333333, 0.7511111111111111, 0.9052777777777777, 1.3594444444444445, 0.5922222222222222, 0.6580555555555555, 0.8105555555555556, 0.9647222222222223, 0.7972222222222223, 0.5888888888888889, 0.5833333333333334, 0.7025, 0.9380555555555555, 0.7605555555555555, 1.128611111111111, 0.6288888888888889, 0.7702777777777777, 1.1408333333333334, 0.8736111111111111, 1.01, 0.5866666666666667, 0.6766666666666666, 0.6080555555555556, 0.8352777777777778, 0.8327777777777777, 0.8763888888888889, 0.6558333333333334, 0.8541666666666666, 0.635, 0.8288888888888889, 0.6825, 0.6002777777777778, 0.5952777777777778, 0.7261111111111112, 0.8838888888888888, 1.0019444444444445, 0.6316666666666667, 0.6558333333333334, 0.95, 23.45611111111111, 0.8069444444444445, 0.6872222222222222, 0.8197222222222222, 0.6736111111111112, 0.7961111111111111, 0.6361111111111111, 0.7286111111111111, 0.6136111111111111, 0.6188888888888889, 0.7530555555555556, 0.7727777777777778, 0.9369444444444445, 0.6280555555555556, 0.6419444444444444, 0.7627777777777778, 23.9675, 0.8969444444444444, 0.6813888888888889, 0.6811111111111111, 0.7852777777777777, 0.8366666666666667, 0.6580555555555555, 0.7180555555555556, 0.87, 0.6275, 0.6236111111111111, 0.6458333333333334, 0.6741666666666667, 0.6647222222222222, 0.7794444444444445, 0.7280555555555556, 0.5841666666666666, 0.5827777777777777, 0.685, 0.9322222222222222, 0.7619444444444444, 0.5838888888888889, 0.7586111111111111, 1.3605555555555555, 0.9425, 0.7908333333333334, 0.6077777777777778, 0.6327777777777778, 1.028888888888889, 0.5955555555555555, 0.8791666666666667, 0.6819444444444445, 0.6844444444444444, 0.7455555555555555, 0.6388888888888888, 0.5983333333333334, 0.6563888888888889, 0.6688888888888889, 1.0222222222222221, 0.6802777777777778, 0.6286111111111111, 0.7461111111111111, 0.6125, 0.6602777777777777, 23.76388888888889, 0.6008333333333333, 1.015, 0.9608333333333333, 0.6108333333333333, 0.6897222222222222, 1.0286111111111111, 0.7344444444444445, 0.7922222222222223, 0.7372222222222222, 0.6427777777777778, 0.74, 0.6186111111111111, 1.255, 1.2383333333333333, 0.6041666666666666, 0.6727777777777778, 0.8572222222222222, 0.6213888888888889, 0.7861111111111111, 0.9355555555555556, 0.6211111111111111, 0.6944444444444444, 0.8402777777777778, 23.91638888888889, 0.7283333333333334, 0.7580555555555556, 1.1722222222222223, 1.2955555555555556, 0.6022222222222222, 0.88, 0.585, 0.7466666666666667, 0.6322222222222222, 0.7719444444444444, 0.6047222222222223, 0.6555555555555556, 0.7555555555555555, 0.8108333333333333, 0.9458333333333333, 0.5941666666666666, 0.6172222222222222, 0.75, 0.8202777777777778, 0.8188888888888889, 0.6522222222222223, 0.7966666666666666, 0.97, 1.3722222222222222, 0.8736111111111111, 0.6088888888888889, 0.5875, 0.8075, 0.6316666666666667, 0.6275, 1.2833333333333334, 0.6233333333333333, 0.8452777777777778, 0.9305555555555556, 0.9644444444444444, 0.6311111111111111, 0.6786111111111112, 0.5961111111111111, 0.6897222222222222, 0.5838888888888889, 0.7461111111111111, 1.1580555555555556, 0.9913888888888889, 0.84, 23.674444444444443, 0.665, 0.8616666666666667, 1.0991666666666666, 0.6611111111111111, 1.0094444444444444, 0.7386111111111111, 0.8972222222222223, 0.5841666666666666, 0.8886111111111111, 0.6527777777777778, 0.9088888888888889, 0.6477777777777778, 1.5283333333333333, 0.6016666666666667, 0.9091666666666667, 0.7844444444444445, 23.924166666666668, 0.5908333333333333, 0.6108333333333333, 0.8269444444444445, 0.7386111111111111, 0.7630555555555556, 0.7255555555555555, 0.6005555555555555, 0.6008333333333333, 0.8930555555555556, 0.7344444444444445, 0.6269444444444444, 0.7277777777777777, 0.6886111111111111, 0.7338888888888889, 1.0686111111111112, 0.7194444444444444, 0.8022222222222222, 0.7341666666666666, 0.6658333333333334, 0.9522222222222222, 0.7236111111111111, 0.7227777777777777, 1.1658333333333333, 1.2244444444444444, 0.6122222222222222, 0.6922222222222222, 0.6119444444444444, 0.8536111111111111, 0.7422222222222222, 1.0119444444444445, 0.7516666666666667, 0.6919444444444445, 0.6533333333333333, 0.6252777777777778, 0.6830555555555555, 0.9925, 0.9544444444444444, 0.6547222222222222, 0.78, 1.0541666666666667, 0.9255555555555556, 0.6838888888888889, 0.68, 0.7522222222222222, 1.0547222222222221, 0.6066666666666667, 0.7797222222222222, 0.6922222222222222, 0.8688888888888889, 0.5919444444444445, 0.6441666666666667, 0.6091666666666666, 0.5983333333333334, 0.6105555555555555, 0.6113888888888889, 1.4277777777777778, 0.8463888888888889, 0.5913888888888889, 23.81277777777778, 0.6888888888888889, 0.7544444444444445, 0.8902777777777777, 0.885, 0.745, 0.9416666666666667, 0.59, 1.195, 0.6008333333333333, 0.7405555555555555, 0.605, 1.0844444444444445, 0.6366666666666667, 0.7994444444444444, 0.675, 23.715555555555557, 0.6213888888888889, 0.6019444444444444, 0.7552777777777778, 1.3388888888888888, 0.7291666666666666, 0.6166666666666667, 0.6533333333333333, 0.5927777777777777, 0.8163888888888889, 0.9016666666666666, 0.6772222222222222, 0.6266666666666667, 0.9033333333333333, 0.5830555555555555, 1.1241666666666668, 1.0702777777777779, 0.7583333333333333, 0.6441666666666667, 1.1861111111111111, 0.7086111111111111, 0.5886111111111111, 0.7941666666666667, 0.9144444444444444, 0.6380555555555556, 0.7575, 0.5925, 0.7594444444444445, 1.376111111111111, 0.7708333333333334, 0.6208333333333333, 0.7588888888888888, 0.9152777777777777, 0.75, 0.6222222222222222, 0.7222222222222222, 0.6341666666666667, 0.5886111111111111, 0.6880555555555555, 0.7686111111111111, 0.8422222222222222, 0.7686111111111111, 0.5955555555555555, 0.7380555555555556, 0.6516666666666666, 0.6730555555555555, 1.2122222222222223, 0.6813888888888889, 0.7411111111111112, 0.9822222222222222, 0.6477777777777778, 0.8022222222222222, 0.6744444444444444, 0.75, 0.7102777777777778, 0.6511111111111111, 1.0902777777777777, 0.8894444444444445, 1.243611111111111, 0.7344444444444445, 0.6355555555555555, 0.6044444444444445, 0.725, 0.8483333333333334, 0.9169444444444445, 1.115, 0.7030555555555555, 1.166388888888889, 1.0872222222222223, 0.5986111111111111, 1.3094444444444444, 0.8227777777777778, 0.7447222222222222, 0.665, 0.6111111111111112, 0.7375, 1.0986111111111112, 0.9975, 1.025, 0.9491666666666667, 0.7286111111111111, 0.7583333333333333, 0.6319444444444444, 1.0219444444444445, 0.9308333333333333, 0.5944444444444444, 0.7255555555555555, 0.6291666666666667, 0.6705555555555556, 1.168611111111111, 0.7791666666666667, 1.425, 0.5952777777777778, 0.6708333333333333, 0.8780555555555556, 0.9041666666666667, 0.9841666666666666, 1.1083333333333334, 2.54, 1.1625, 0.7161111111111111, 0.6525, 0.6, 0.8402777777777778, 0.6030555555555556, 0.6413888888888889, 0.6841666666666667, 0.6788888888888889, 0.6380555555555556, 0.5963888888888889, 0.6919444444444445, 23.977222222222224, 0.7408333333333333, 0.6375, 0.985, 0.7108333333333333, 0.5980555555555556, 23.838333333333335, 0.7894444444444444, 0.8547222222222223, 0.7655555555555555, 1.0533333333333332, 0.8680555555555556, 1.0422222222222222, 0.7875, 0.7191666666666666, 0.6533333333333333, 0.6172222222222222, 0.7261111111111112, 1.2169444444444444, 0.6113888888888889, 1.146388888888889, 0.9811111111111112, 0.5897222222222223, 1.081388888888889, 0.7683333333333333, 0.605, 0.855, 0.6566666666666666, 0.7727777777777778, 0.5847222222222223, 0.9044444444444445, 0.6152777777777778, 1.1569444444444446, 0.6591666666666667, 0.7141666666666666, 0.8386111111111111, 0.8947222222222222, 0.9066666666666666, 23.946944444444444, 0.66, 0.8725, 1.1166666666666667, 0.9005555555555556, 23.820833333333333, 0.6208333333333333, 0.8558333333333333, 0.8227777777777778, 0.7347222222222223, 0.7194444444444444, 0.9988888888888889, 1.8002777777777779, 0.8283333333333334, 1.0644444444444445, 0.7922222222222223, 0.8372222222222222, 0.6313888888888889, 0.6069444444444444, 0.7691666666666667, 0.6013888888888889, 0.7030555555555555, 0.7027777777777777, 0.6280555555555556, 0.7286111111111111, 1.0672222222222223, 0.7275, 0.6658333333333334, 0.765, 0.665, 0.5911111111111111, 0.6211111111111111, 0.6872222222222222, 0.6980555555555555, 0.8066666666666666, 0.7052777777777778, 0.7108333333333333, 0.5925, 0.63, 0.6319444444444444, 1.478611111111111, 0.7277777777777777, 0.6097222222222223, 0.9211111111111111, 0.5838888888888889, 0.6902777777777778, 1.023611111111111, 0.6591666666666667, 0.7616666666666667, 0.7397222222222222, 0.6169444444444444, 0.9688888888888889, 0.9302777777777778, 0.6080555555555556, 0.9936111111111111, 0.7027777777777777, 0.5927777777777777, 1.0486111111111112, 0.6744444444444444, 0.8672222222222222, 0.5844444444444444, 0.6408333333333334, 0.6058333333333333, 0.6419444444444444, 0.6538888888888889, 0.6658333333333334, 0.9580555555555555, 1.2108333333333334, 0.6619444444444444, 0.6025, 0.6033333333333334, 0.6766666666666666, 2.2333333333333334, 0.7205555555555555, 0.7088888888888889, 0.6827777777777778, 0.6022222222222222, 8.350555555555555, 1.1072222222222223, 0.8688888888888889, 0.6091666666666666, 0.76, 0.7608333333333334, 0.7008333333333333, 0.7558333333333334, 0.9163888888888889, 0.6694444444444444, 0.6180555555555556, 0.6094444444444445, 1.0927777777777778, 0.8097222222222222, 0.6811111111111111, 0.6677777777777778, 0.6533333333333333, 1.228611111111111, 0.9088888888888889, 0.675, 0.5830555555555555, 0.63, 0.8138888888888889, 0.6308333333333334, 0.6488888888888888, 0.6913888888888889, 0.6727777777777778, 0.5936111111111111, 0.6366666666666667, 0.6733333333333333, 0.7636111111111111, 0.6775, 0.765, 0.6586111111111111, 0.9158333333333334, 1.0941666666666667, 0.7713888888888889, 0.6333333333333333, 0.6466666666666666, 0.5830555555555555, 0.7011111111111111, 0.7233333333333334, 0.7747222222222222, 0.5938888888888889, 0.9766666666666667, 0.7255555555555555, 0.8022222222222222, 0.5827777777777777, 0.7161111111111111, 0.9580555555555555, 0.7144444444444444, 0.7194444444444444, 0.8397222222222223, 0.9775, 0.9733333333333334, 0.8455555555555555, 0.79, 0.6258333333333334, 0.8461111111111111, 0.8380555555555556, 0.6463888888888889, 23.962222222222223, 0.7708333333333334, 1.3291666666666666, 0.7952777777777778, 0.7930555555555555, 0.5877777777777777, 0.5919444444444445, 0.8341666666666666, 0.9488888888888889, 1.0858333333333334, 0.6197222222222222, 0.8916666666666667, 0.5933333333333334, 0.7344444444444445, 0.5925, 0.9438888888888889, 0.6358333333333334, 1.1569444444444446, 0.6552777777777777, 0.6119444444444444, 0.6472222222222223, 0.7791666666666667, 0.765, 1.1969444444444444, 1.3586111111111112, 0.59, 1.0672222222222223, 0.7627777777777778, 0.6372222222222222, 0.8019444444444445, 0.8644444444444445, 0.9269444444444445, 0.8752777777777778, 0.5894444444444444, 0.6680555555555555, 0.7663888888888889, 0.6558333333333334, 0.6194444444444445, 0.6616666666666666, 0.5952777777777778, 1.0241666666666667, 0.7527777777777778, 1.116111111111111, 0.8333333333333334, 0.7852777777777777, 1.4341666666666666, 1.2013888888888888, 0.7680555555555556, 1.0572222222222223, 0.7338888888888889, 0.5855555555555556, 0.6741666666666667, 0.8491666666666666, 0.6013888888888889, 0.6705555555555556, 0.7355555555555555, 0.5955555555555555, 0.6047222222222223, 1.018888888888889, 0.6311111111111111, 0.6402777777777777, 0.8383333333333334, 0.6313888888888889, 0.5855555555555556, 0.5961111111111111, 0.8411111111111111, 1.1616666666666666, 0.67, 0.785, 0.8672222222222222, 0.6758333333333333, 0.7377777777777778, 0.6708333333333333, 1.1344444444444444, 0.5994444444444444, 1.0966666666666667, 0.8719444444444444, 0.6413888888888889, 0.6083333333333333, 0.8627777777777778, 0.5836111111111111, 0.8644444444444445, 0.6713888888888889, 0.6936111111111111, 0.935, 23.944166666666668, 0.5858333333333333, 0.6366666666666667, 0.9883333333333333, 0.6202777777777778, 0.6255555555555555, 1.1322222222222222, 0.7613888888888889, 0.7183333333333334, 0.7297222222222223, 0.7797222222222222, 1.5786111111111112, 0.8711111111111111, 0.7386111111111111, 0.6136111111111111, 0.6144444444444445, 23.91, 0.6883333333333334, 0.7822222222222223, 0.875, 23.525277777777777, 0.9202777777777778, 0.9808333333333333, 0.6311111111111111, 0.6558333333333334, 0.6277777777777778, 1.0225, 0.8911111111111111, 0.6755555555555556, 0.6302777777777778, 0.8702777777777778, 0.8855555555555555, 1.0922222222222222, 0.6388888888888888, 0.6522222222222223, 0.8072222222222222, 0.8811111111111111, 1.0891666666666666, 0.6238888888888889, 0.5891666666666666, 1.1575, 0.6055555555555555, 0.7086111111111111, 0.6411111111111111, 0.6755555555555556, 0.6155555555555555, 0.8688888888888889, 0.7111111111111111, 0.6319444444444444, 0.6219444444444444, 0.6347222222222222, 0.7258333333333333, 1.1191666666666666, 0.6108333333333333, 0.6372222222222222, 1.03, 0.8811111111111111, 0.6011111111111112, 1.3141666666666667, 1.1047222222222222, 0.8411111111111111, 0.5922222222222222, 0.6994444444444444, 0.595, 0.6488888888888888, 0.7477777777777778, 0.5863888888888888, 0.6597222222222222, 0.7127777777777777, 0.6658333333333334, 0.6877777777777778, 0.605, 0.5983333333333334, 1.0158333333333334, 0.7419444444444444, 1.055, 0.6522222222222223, 1.3208333333333333, 0.7069444444444445, 0.6908333333333333, 0.5852777777777778, 1.131388888888889, 0.6305555555555555, 1.0997222222222223, 0.8788888888888889, 0.9294444444444444, 0.5888888888888889, 0.6797222222222222, 23.6975, 22.16027777777778, 0.5988888888888889, 0.7575, 0.7852777777777777, 0.7175, 0.6052777777777778, 0.6183333333333333, 0.6616666666666666, 0.6197222222222222, 0.6016666666666667, 0.6275, 0.7388888888888889, 1.0441666666666667, 1.1447222222222222, 0.6386111111111111, 0.8461111111111111, 0.6538888888888889, 0.8355555555555556, 0.6841666666666667, 0.6569444444444444, 1.3183333333333334, 0.6291666666666667, 0.6411111111111111, 0.8866666666666667, 0.8975, 0.7138888888888889, 0.71, 1.4541666666666666, 0.8438888888888889, 0.8822222222222222, 0.6166666666666667, 0.8027777777777778, 0.8977777777777778, 0.61, 0.6580555555555555, 0.685, 0.6794444444444444, 1.1083333333333334, 0.5883333333333334, 0.9744444444444444, 0.6325, 0.5869444444444445, 0.5836111111111111, 1.1880555555555556, 0.8833333333333333, 0.6041666666666666, 0.8605555555555555, 0.7513888888888889, 0.8116666666666666, 0.7525, 23.980833333333333, 0.5927777777777777, 0.6916666666666667, 0.6369444444444444, 0.9286111111111112, 0.6194444444444445, 0.7769444444444444, 1.1419444444444444, 1.0580555555555555, 0.8513888888888889, 0.8805555555555555, 1.0163888888888888, 0.7152777777777778, 1.1397222222222223, 0.7736111111111111, 0.6027777777777777, 0.6488888888888888, 0.7880555555555555, 0.7158333333333333, 0.9116666666666666, 0.6619444444444444, 0.8222222222222222, 1.1758333333333333, 0.8719444444444444, 1.0197222222222222, 0.6663888888888889, 1.0947222222222222, 0.6475, 0.5972222222222222, 0.6386111111111111, 0.6061111111111112, 0.6619444444444444, 0.67, 1.0630555555555556, 0.5838888888888889, 0.69, 0.985, 1.506388888888889, 0.6677777777777778, 0.9336111111111111, 0.6258333333333334, 0.7502777777777778, 0.6538888888888889, 0.6708333333333333, 0.8536111111111111, 1.4677777777777778, 0.5913888888888889, 0.6525, 1.3105555555555555, 0.7788888888888889, 0.8575, 0.7580555555555556, 0.7130555555555556, 1.3111111111111111, 0.6077777777777778, 0.6425, 1.0044444444444445, 0.6433333333333333, 0.63, 0.8569444444444444, 0.6947222222222222, 23.67222222222222, 1.1119444444444444, 0.5838888888888889, 0.7416666666666667, 1.2969444444444445, 0.7363888888888889, 0.8952777777777777, 1.011388888888889, 0.7111111111111111, 0.7275, 0.5836111111111111, 0.8766666666666667, 0.715, 0.6311111111111111, 0.6036111111111111, 1.0463888888888888, 0.6241666666666666, 0.5872222222222222, 0.6888888888888889, 0.9061111111111111, 0.6066666666666667, 0.6030555555555556, 0.6227777777777778, 0.6886111111111111, 1.0575, 0.6275, 0.625, 0.8816666666666667, 1.0591666666666666, 0.6972222222222222, 0.7108333333333333, 1.4652777777777777, 0.7294444444444445, 0.6438888888888888, 0.6238888888888889, 0.7811111111111111, 0.5977777777777777, 0.6819444444444445, 0.8477777777777777, 1.2233333333333334, 0.81, 1.1836111111111112, 0.7077777777777777, 0.7144444444444444, 0.5986111111111111, 1.3491666666666666, 0.8125, 0.9397222222222222, 0.9613888888888888, 0.7294444444444445, 0.6266666666666667, 0.5908333333333333, 0.7161111111111111, 0.9622222222222222, 0.8616666666666667, 0.7411111111111112, 0.6311111111111111, 0.6722222222222223, 0.7219444444444445, 0.6352777777777778, 0.8580555555555556, 0.6441666666666667, 0.7519444444444444, 0.6383333333333333, 0.9697222222222223, 0.6383333333333333, 0.6208333333333333, 0.6591666666666667, 0.8166666666666667, 0.8483333333333334, 0.6880555555555555, 23.741944444444446, 0.8419444444444445, 0.645, 0.84, 22.69527777777778, 0.6188888888888889, 1.32, 1.0569444444444445, 0.7066666666666667, 0.9022222222222223, 0.6133333333333333, 0.6816666666666666, 0.7016666666666667, 0.8380555555555556, 1.0983333333333334, 0.6402777777777777, 0.6888888888888889, 0.5980555555555556, 0.71, 0.8002777777777778, 0.9927777777777778, 1.5455555555555556, 0.7236111111111111, 0.6452777777777777, 0.7361111111111112, 0.6211111111111111, 0.6555555555555556, 0.6088888888888889, 0.59, 0.7480555555555556, 0.6525, 10.26361111111111, 1.7941666666666667, 0.8291666666666667, 1.1902777777777778, 0.7811111111111111, 0.6658333333333334, 0.71, 0.7052777777777778, 0.6227777777777778, 1.1225, 0.6541666666666667, 0.6252777777777778, 1.6588888888888889, 0.6311111111111111, 0.5980555555555556, 1.2197222222222222, 0.6138888888888889, 0.7197222222222223, 0.6869444444444445, 0.6858333333333333, 22.556944444444444, 1.5238888888888888, 0.7863888888888889, 0.7469444444444444, 0.9463888888888888, 0.8163888888888889, 0.9002777777777777, 0.6519444444444444, 0.8680555555555556, 0.7047222222222222, 0.7888888888888889, 0.7619444444444444, 0.5880555555555556, 0.7255555555555555, 0.7311111111111112, 0.7802777777777777, 0.6816666666666666, 1.0122222222222221, 0.6272222222222222, 0.7066666666666667, 1.481111111111111, 0.6458333333333334, 1.1066666666666667, 1.0013888888888889, 0.7083333333333334, 0.6819444444444445, 0.7905555555555556, 0.6594444444444445, 0.6233333333333333, 0.6127777777777778, 0.6511111111111111, 0.6008333333333333, 0.6666666666666666, 0.9338888888888889, 0.9322222222222222, 0.705, 1.0544444444444445, 0.7736111111111111, 0.7013888888888888, 1.2241666666666666, 1.0469444444444445, 0.7986111111111112, 0.5930555555555556, 0.9055555555555556, 0.6819444444444445, 0.7294444444444445, 0.6502777777777777, 0.7708333333333334, 0.8608333333333333, 0.7061111111111111, 0.7280555555555556, 1.0247222222222223, 0.6047222222222223, 0.6838888888888889, 0.9111111111111111, 0.7733333333333333, 0.6036111111111111, 0.6313888888888889, 0.6572222222222223, 0.6369444444444444, 0.6869444444444445, 23.947222222222223, 0.5855555555555556, 0.6383333333333333, 1.0477777777777777, 0.6258333333333334, 0.7055555555555556, 0.8058333333333333, 0.8038888888888889, 0.8341666666666666, 1.0944444444444446, 0.6052777777777778, 0.6183333333333333, 0.5883333333333334, 0.8308333333333333, 0.6208333333333333, 0.6880555555555555, 0.8216666666666667, 0.8555555555555555, 0.5886111111111111, 0.7152777777777778, 1.0155555555555555, 0.7547222222222222, 0.6402777777777777, 0.81, 0.9325, 0.7861111111111111, 0.7533333333333333, 0.9405555555555556, 0.6808333333333333, 0.7683333333333333, 0.8255555555555556, 0.7752777777777777, 0.6077777777777778, 0.7013888888888888, 0.9827777777777778, 0.7486111111111111, 0.7608333333333334, 0.8347222222222223, 0.5825, 0.5913888888888889, 0.6363888888888889, 0.7061111111111111, 0.5944444444444444, 0.6111111111111112, 0.6858333333333333, 0.6658333333333334, 0.6416666666666667, 0.6608333333333334, 1.05, 0.7036111111111111, 0.6016666666666667, 0.7344444444444445, 0.5844444444444444, 0.6944444444444444, 1.03, 0.5980555555555556, 0.6330555555555556, 0.6283333333333333, 0.7155555555555555, 0.6336111111111111, 0.6402777777777777, 0.7713888888888889, 0.6297222222222222, 0.6297222222222222, 23.983888888888888]\n"
     ]
    }
   ],
   "source": [
    "print(out)"
   ]
  },
  {
   "cell_type": "code",
   "execution_count": 35,
   "id": "a46b992b",
   "metadata": {},
   "outputs": [
    {
     "data": {
      "text/plain": [
       "3669"
      ]
     },
     "execution_count": 35,
     "metadata": {},
     "output_type": "execute_result"
    }
   ],
   "source": [
    "len(out)"
   ]
  },
  {
   "cell_type": "code",
   "execution_count": 36,
   "id": "766b5fd2",
   "metadata": {},
   "outputs": [
    {
     "data": {
      "text/plain": [
       "(69263, 13)"
      ]
     },
     "execution_count": 36,
     "metadata": {},
     "output_type": "execute_result"
    }
   ],
   "source": [
    "sample.shape"
   ]
  },
  {
   "cell_type": "code",
   "execution_count": 37,
   "id": "a3eb6aab",
   "metadata": {},
   "outputs": [
    {
     "data": {
      "text/plain": [
       "count    69263.000000\n",
       "mean         0.203048\n",
       "std          0.124970\n",
       "min          0.000556\n",
       "25%          0.105833\n",
       "50%          0.174444\n",
       "75%          0.275556\n",
       "max          0.582222\n",
       "Name: trip_duration_hrs, dtype: float64"
      ]
     },
     "execution_count": 37,
     "metadata": {},
     "output_type": "execute_result"
    }
   ],
   "source": [
    "#Describe function for the target variable after removing outliers\n",
    "sample['trip_duration_hrs'].describe()"
   ]
  },
  {
   "cell_type": "code",
   "execution_count": 38,
   "id": "2176d9c5",
   "metadata": {},
   "outputs": [
    {
     "data": {
      "text/plain": [
       "(69263, 13)"
      ]
     },
     "execution_count": 38,
     "metadata": {},
     "output_type": "execute_result"
    }
   ],
   "source": [
    "sample.shape"
   ]
  },
  {
   "cell_type": "code",
   "execution_count": 39,
   "id": "aa63083c",
   "metadata": {},
   "outputs": [
    {
     "data": {
      "image/png": "[encoded data removed]",
      "text/plain": [
       "<Figure size 720x504 with 1 Axes>"
      ]
     },
     "metadata": {
      "needs_background": "light"
     },
     "output_type": "display_data"
    }
   ],
   "source": [
    "plt.figure(figsize=(10,7))\n",
    "plt.boxplot(sample['trip_duration_hrs'])\n",
    "plt.ylabel(\" Trip duration in hrs\")\n",
    "plt.title(\" Box plot of Trip_duration_hrs variable from the sample after removing outliers\")\n",
    "plt.show()"
   ]
  },
  {
   "cell_type": "code",
   "execution_count": 40,
   "id": "6104287d",
   "metadata": {},
   "outputs": [
    {
     "data": {
      "text/plain": [
       "(69263, 13)"
      ]
     },
     "execution_count": 40,
     "metadata": {},
     "output_type": "execute_result"
    }
   ],
   "source": [
    "sample.shape"
   ]
  },
  {
   "cell_type": "code",
   "execution_count": 41,
   "id": "cdb85e51",
   "metadata": {},
   "outputs": [
    {
     "data": {
      "text/plain": [
       "Index(['id', 'vendor_id', 'pickup_datetime', 'dropoff_datetime',\n",
       "       'passenger_count', 'pickup_longitude', 'pickup_latitude',\n",
       "       'dropoff_longitude', 'dropoff_latitude', 'store_and_fwd_flag',\n",
       "       'trip_duration_hrs', 'pickup_day', 'pickup_hour'],\n",
       "      dtype='object')"
      ]
     },
     "execution_count": 41,
     "metadata": {},
     "output_type": "execute_result"
    }
   ],
   "source": [
    "sample.columns"
   ]
  },
  {
   "cell_type": "code",
   "execution_count": 42,
   "id": "5fa36326",
   "metadata": {},
   "outputs": [
    {
     "data": {
      "text/plain": [
       "(69263, 13)"
      ]
     },
     "execution_count": 42,
     "metadata": {},
     "output_type": "execute_result"
    }
   ],
   "source": [
    "sample.shape"
   ]
  },
  {
   "cell_type": "code",
   "execution_count": 43,
   "id": "931f7ea5",
   "metadata": {},
   "outputs": [
    {
     "data": {
      "text/html": [
       "<div>\n",
       "<style scoped>\n",
       "    .dataframe tbody tr th:only-of-type {\n",
       "        vertical-align: middle;\n",
       "    }\n",
       "\n",
       "    .dataframe tbody tr th {\n",
       "        vertical-align: top;\n",
       "    }\n",
       "\n",
       "    .dataframe thead th {\n",
       "        text-align: right;\n",
       "    }\n",
       "</style>\n",
       "<table border=\"1\" class=\"dataframe\">\n",
       "  <thead>\n",
       "    <tr style=\"text-align: right;\">\n",
       "      <th></th>\n",
       "      <th>id</th>\n",
       "      <th>vendor_id</th>\n",
       "      <th>pickup_datetime</th>\n",
       "      <th>dropoff_datetime</th>\n",
       "      <th>passenger_count</th>\n",
       "      <th>pickup_longitude</th>\n",
       "      <th>pickup_latitude</th>\n",
       "      <th>dropoff_longitude</th>\n",
       "      <th>dropoff_latitude</th>\n",
       "      <th>store_and_fwd_flag</th>\n",
       "      <th>trip_duration_hrs</th>\n",
       "      <th>pickup_day</th>\n",
       "      <th>pickup_hour</th>\n",
       "    </tr>\n",
       "  </thead>\n",
       "  <tbody>\n",
       "    <tr>\n",
       "      <th>0</th>\n",
       "      <td>id2898909</td>\n",
       "      <td>1</td>\n",
       "      <td>2016-03-03 10:30:21</td>\n",
       "      <td>2016-03-03 10:43:49</td>\n",
       "      <td>1</td>\n",
       "      <td>-73.991409</td>\n",
       "      <td>40.750320</td>\n",
       "      <td>-73.978813</td>\n",
       "      <td>40.762032</td>\n",
       "      <td>0</td>\n",
       "      <td>0.224444</td>\n",
       "      <td>3</td>\n",
       "      <td>10</td>\n",
       "    </tr>\n",
       "    <tr>\n",
       "      <th>1</th>\n",
       "      <td>id3276089</td>\n",
       "      <td>2</td>\n",
       "      <td>2016-03-23 18:39:57</td>\n",
       "      <td>2016-03-23 19:01:06</td>\n",
       "      <td>1</td>\n",
       "      <td>-73.981850</td>\n",
       "      <td>40.773289</td>\n",
       "      <td>-73.978973</td>\n",
       "      <td>40.757240</td>\n",
       "      <td>0</td>\n",
       "      <td>0.352500</td>\n",
       "      <td>2</td>\n",
       "      <td>18</td>\n",
       "    </tr>\n",
       "    <tr>\n",
       "      <th>2</th>\n",
       "      <td>id2303543</td>\n",
       "      <td>2</td>\n",
       "      <td>2016-03-03 11:34:33</td>\n",
       "      <td>2016-03-03 11:56:03</td>\n",
       "      <td>1</td>\n",
       "      <td>-73.873032</td>\n",
       "      <td>40.774055</td>\n",
       "      <td>-73.744003</td>\n",
       "      <td>40.776676</td>\n",
       "      <td>0</td>\n",
       "      <td>0.358333</td>\n",
       "      <td>3</td>\n",
       "      <td>11</td>\n",
       "    </tr>\n",
       "    <tr>\n",
       "      <th>3</th>\n",
       "      <td>id0955609</td>\n",
       "      <td>2</td>\n",
       "      <td>2016-05-23 21:02:17</td>\n",
       "      <td>2016-05-23 21:13:37</td>\n",
       "      <td>1</td>\n",
       "      <td>-73.968178</td>\n",
       "      <td>40.762280</td>\n",
       "      <td>-73.970680</td>\n",
       "      <td>40.788422</td>\n",
       "      <td>0</td>\n",
       "      <td>0.188889</td>\n",
       "      <td>0</td>\n",
       "      <td>21</td>\n",
       "    </tr>\n",
       "    <tr>\n",
       "      <th>4</th>\n",
       "      <td>id0548011</td>\n",
       "      <td>2</td>\n",
       "      <td>2016-01-19 10:18:47</td>\n",
       "      <td>2016-01-19 10:27:54</td>\n",
       "      <td>3</td>\n",
       "      <td>-74.017197</td>\n",
       "      <td>40.705070</td>\n",
       "      <td>-74.007240</td>\n",
       "      <td>40.722599</td>\n",
       "      <td>0</td>\n",
       "      <td>0.151944</td>\n",
       "      <td>1</td>\n",
       "      <td>10</td>\n",
       "    </tr>\n",
       "  </tbody>\n",
       "</table>\n",
       "</div>"
      ],
      "text/plain": [
       "          id  vendor_id     pickup_datetime    dropoff_datetime  \\\n",
       "0  id2898909          1 2016-03-03 10:30:21 2016-03-03 10:43:49   \n",
       "1  id3276089          2 2016-03-23 18:39:57 2016-03-23 19:01:06   \n",
       "2  id2303543          2 2016-03-03 11:34:33 2016-03-03 11:56:03   \n",
       "3  id0955609          2 2016-05-23 21:02:17 2016-05-23 21:13:37   \n",
       "4  id0548011          2 2016-01-19 10:18:47 2016-01-19 10:27:54   \n",
       "\n",
       "   passenger_count  pickup_longitude  pickup_latitude  dropoff_longitude  \\\n",
       "0                1        -73.991409        40.750320         -73.978813   \n",
       "1                1        -73.981850        40.773289         -73.978973   \n",
       "2                1        -73.873032        40.774055         -73.744003   \n",
       "3                1        -73.968178        40.762280         -73.970680   \n",
       "4                3        -74.017197        40.705070         -74.007240   \n",
       "\n",
       "   dropoff_latitude  store_and_fwd_flag  trip_duration_hrs  pickup_day  \\\n",
       "0         40.762032                   0           0.224444           3   \n",
       "1         40.757240                   0           0.352500           2   \n",
       "2         40.776676                   0           0.358333           3   \n",
       "3         40.788422                   0           0.188889           0   \n",
       "4         40.722599                   0           0.151944           1   \n",
       "\n",
       "   pickup_hour  \n",
       "0           10  \n",
       "1           18  \n",
       "2           11  \n",
       "3           21  \n",
       "4           10  "
      ]
     },
     "execution_count": 43,
     "metadata": {},
     "output_type": "execute_result"
    }
   ],
   "source": [
    "sample.head()"
   ]
  },
  {
   "cell_type": "markdown",
   "id": "ec1d01bb",
   "metadata": {},
   "source": [
    "# Analysis of Independent Variable"
   ]
  },
  {
   "cell_type": "code",
   "execution_count": 44,
   "id": "958cbe14",
   "metadata": {},
   "outputs": [
    {
     "data": {
      "text/plain": [
       "id                            object\n",
       "vendor_id                      int64\n",
       "pickup_datetime       datetime64[ns]\n",
       "dropoff_datetime      datetime64[ns]\n",
       "passenger_count                int64\n",
       "pickup_longitude             float64\n",
       "pickup_latitude              float64\n",
       "dropoff_longitude            float64\n",
       "dropoff_latitude             float64\n",
       "store_and_fwd_flag             int64\n",
       "trip_duration_hrs            float64\n",
       "pickup_day                     int64\n",
       "pickup_hour                    int64\n",
       "dtype: object"
      ]
     },
     "execution_count": 44,
     "metadata": {},
     "output_type": "execute_result"
    }
   ],
   "source": [
    "sample.dtypes"
   ]
  },
  {
   "cell_type": "code",
   "execution_count": 45,
   "id": "ae0a4aec",
   "metadata": {},
   "outputs": [
    {
     "data": {
      "text/html": [
       "<div>\n",
       "<style scoped>\n",
       "    .dataframe tbody tr th:only-of-type {\n",
       "        vertical-align: middle;\n",
       "    }\n",
       "\n",
       "    .dataframe tbody tr th {\n",
       "        vertical-align: top;\n",
       "    }\n",
       "\n",
       "    .dataframe thead th {\n",
       "        text-align: right;\n",
       "    }\n",
       "</style>\n",
       "<table border=\"1\" class=\"dataframe\">\n",
       "  <thead>\n",
       "    <tr style=\"text-align: right;\">\n",
       "      <th></th>\n",
       "      <th>id</th>\n",
       "      <th>vendor_id</th>\n",
       "      <th>pickup_datetime</th>\n",
       "      <th>dropoff_datetime</th>\n",
       "      <th>passenger_count</th>\n",
       "      <th>pickup_longitude</th>\n",
       "      <th>pickup_latitude</th>\n",
       "      <th>dropoff_longitude</th>\n",
       "      <th>dropoff_latitude</th>\n",
       "      <th>store_and_fwd_flag</th>\n",
       "      <th>trip_duration_hrs</th>\n",
       "      <th>pickup_day</th>\n",
       "      <th>pickup_hour</th>\n",
       "    </tr>\n",
       "  </thead>\n",
       "  <tbody>\n",
       "    <tr>\n",
       "      <th>0</th>\n",
       "      <td>id2898909</td>\n",
       "      <td>1</td>\n",
       "      <td>2016-03-03 10:30:21</td>\n",
       "      <td>2016-03-03 10:43:49</td>\n",
       "      <td>1</td>\n",
       "      <td>-73.991409</td>\n",
       "      <td>40.750320</td>\n",
       "      <td>-73.978813</td>\n",
       "      <td>40.762032</td>\n",
       "      <td>0</td>\n",
       "      <td>0.224444</td>\n",
       "      <td>3</td>\n",
       "      <td>10</td>\n",
       "    </tr>\n",
       "    <tr>\n",
       "      <th>1</th>\n",
       "      <td>id3276089</td>\n",
       "      <td>2</td>\n",
       "      <td>2016-03-23 18:39:57</td>\n",
       "      <td>2016-03-23 19:01:06</td>\n",
       "      <td>1</td>\n",
       "      <td>-73.981850</td>\n",
       "      <td>40.773289</td>\n",
       "      <td>-73.978973</td>\n",
       "      <td>40.757240</td>\n",
       "      <td>0</td>\n",
       "      <td>0.352500</td>\n",
       "      <td>2</td>\n",
       "      <td>18</td>\n",
       "    </tr>\n",
       "    <tr>\n",
       "      <th>2</th>\n",
       "      <td>id2303543</td>\n",
       "      <td>2</td>\n",
       "      <td>2016-03-03 11:34:33</td>\n",
       "      <td>2016-03-03 11:56:03</td>\n",
       "      <td>1</td>\n",
       "      <td>-73.873032</td>\n",
       "      <td>40.774055</td>\n",
       "      <td>-73.744003</td>\n",
       "      <td>40.776676</td>\n",
       "      <td>0</td>\n",
       "      <td>0.358333</td>\n",
       "      <td>3</td>\n",
       "      <td>11</td>\n",
       "    </tr>\n",
       "    <tr>\n",
       "      <th>3</th>\n",
       "      <td>id0955609</td>\n",
       "      <td>2</td>\n",
       "      <td>2016-05-23 21:02:17</td>\n",
       "      <td>2016-05-23 21:13:37</td>\n",
       "      <td>1</td>\n",
       "      <td>-73.968178</td>\n",
       "      <td>40.762280</td>\n",
       "      <td>-73.970680</td>\n",
       "      <td>40.788422</td>\n",
       "      <td>0</td>\n",
       "      <td>0.188889</td>\n",
       "      <td>0</td>\n",
       "      <td>21</td>\n",
       "    </tr>\n",
       "    <tr>\n",
       "      <th>4</th>\n",
       "      <td>id0548011</td>\n",
       "      <td>2</td>\n",
       "      <td>2016-01-19 10:18:47</td>\n",
       "      <td>2016-01-19 10:27:54</td>\n",
       "      <td>3</td>\n",
       "      <td>-74.017197</td>\n",
       "      <td>40.705070</td>\n",
       "      <td>-74.007240</td>\n",
       "      <td>40.722599</td>\n",
       "      <td>0</td>\n",
       "      <td>0.151944</td>\n",
       "      <td>1</td>\n",
       "      <td>10</td>\n",
       "    </tr>\n",
       "  </tbody>\n",
       "</table>\n",
       "</div>"
      ],
      "text/plain": [
       "          id  vendor_id     pickup_datetime    dropoff_datetime  \\\n",
       "0  id2898909          1 2016-03-03 10:30:21 2016-03-03 10:43:49   \n",
       "1  id3276089          2 2016-03-23 18:39:57 2016-03-23 19:01:06   \n",
       "2  id2303543          2 2016-03-03 11:34:33 2016-03-03 11:56:03   \n",
       "3  id0955609          2 2016-05-23 21:02:17 2016-05-23 21:13:37   \n",
       "4  id0548011          2 2016-01-19 10:18:47 2016-01-19 10:27:54   \n",
       "\n",
       "   passenger_count  pickup_longitude  pickup_latitude  dropoff_longitude  \\\n",
       "0                1        -73.991409        40.750320         -73.978813   \n",
       "1                1        -73.981850        40.773289         -73.978973   \n",
       "2                1        -73.873032        40.774055         -73.744003   \n",
       "3                1        -73.968178        40.762280         -73.970680   \n",
       "4                3        -74.017197        40.705070         -74.007240   \n",
       "\n",
       "   dropoff_latitude  store_and_fwd_flag  trip_duration_hrs  pickup_day  \\\n",
       "0         40.762032                   0           0.224444           3   \n",
       "1         40.757240                   0           0.352500           2   \n",
       "2         40.776676                   0           0.358333           3   \n",
       "3         40.788422                   0           0.188889           0   \n",
       "4         40.722599                   0           0.151944           1   \n",
       "\n",
       "   pickup_hour  \n",
       "0           10  \n",
       "1           18  \n",
       "2           11  \n",
       "3           21  \n",
       "4           10  "
      ]
     },
     "execution_count": 45,
     "metadata": {},
     "output_type": "execute_result"
    }
   ],
   "source": [
    "sample.head()"
   ]
  },
  {
   "cell_type": "markdown",
   "id": "31b772ac",
   "metadata": {},
   "source": [
    "# Analysis of Passenger Count Variable"
   ]
  },
  {
   "cell_type": "code",
   "execution_count": 46,
   "id": "cafbbc9d",
   "metadata": {},
   "outputs": [
    {
     "data": {
      "text/plain": [
       "count    69263.000000\n",
       "mean         1.658923\n",
       "std          1.311299\n",
       "min          0.000000\n",
       "25%          1.000000\n",
       "50%          1.000000\n",
       "75%          2.000000\n",
       "max          6.000000\n",
       "Name: passenger_count, dtype: float64"
      ]
     },
     "execution_count": 46,
     "metadata": {},
     "output_type": "execute_result"
    }
   ],
   "source": [
    "#Use of describe function before removing outliers from the passenger count variable\n",
    "sample['passenger_count'].describe()"
   ]
  },
  {
   "cell_type": "code",
   "execution_count": 47,
   "id": "fbe175b4",
   "metadata": {},
   "outputs": [
    {
     "data": {
      "text/html": [
       "<div>\n",
       "<style scoped>\n",
       "    .dataframe tbody tr th:only-of-type {\n",
       "        vertical-align: middle;\n",
       "    }\n",
       "\n",
       "    .dataframe tbody tr th {\n",
       "        vertical-align: top;\n",
       "    }\n",
       "\n",
       "    .dataframe thead th {\n",
       "        text-align: right;\n",
       "    }\n",
       "</style>\n",
       "<table border=\"1\" class=\"dataframe\">\n",
       "  <thead>\n",
       "    <tr style=\"text-align: right;\">\n",
       "      <th></th>\n",
       "      <th>id</th>\n",
       "      <th>vendor_id</th>\n",
       "      <th>pickup_datetime</th>\n",
       "      <th>dropoff_datetime</th>\n",
       "      <th>passenger_count</th>\n",
       "      <th>pickup_longitude</th>\n",
       "      <th>pickup_latitude</th>\n",
       "      <th>dropoff_longitude</th>\n",
       "      <th>dropoff_latitude</th>\n",
       "      <th>store_and_fwd_flag</th>\n",
       "      <th>trip_duration_hrs</th>\n",
       "      <th>pickup_day</th>\n",
       "      <th>pickup_hour</th>\n",
       "    </tr>\n",
       "  </thead>\n",
       "  <tbody>\n",
       "    <tr>\n",
       "      <th>0</th>\n",
       "      <td>id2898909</td>\n",
       "      <td>1</td>\n",
       "      <td>2016-03-03 10:30:21</td>\n",
       "      <td>2016-03-03 10:43:49</td>\n",
       "      <td>1</td>\n",
       "      <td>-73.991409</td>\n",
       "      <td>40.750320</td>\n",
       "      <td>-73.978813</td>\n",
       "      <td>40.762032</td>\n",
       "      <td>0</td>\n",
       "      <td>0.224444</td>\n",
       "      <td>3</td>\n",
       "      <td>10</td>\n",
       "    </tr>\n",
       "    <tr>\n",
       "      <th>1</th>\n",
       "      <td>id3276089</td>\n",
       "      <td>2</td>\n",
       "      <td>2016-03-23 18:39:57</td>\n",
       "      <td>2016-03-23 19:01:06</td>\n",
       "      <td>1</td>\n",
       "      <td>-73.981850</td>\n",
       "      <td>40.773289</td>\n",
       "      <td>-73.978973</td>\n",
       "      <td>40.757240</td>\n",
       "      <td>0</td>\n",
       "      <td>0.352500</td>\n",
       "      <td>2</td>\n",
       "      <td>18</td>\n",
       "    </tr>\n",
       "    <tr>\n",
       "      <th>2</th>\n",
       "      <td>id2303543</td>\n",
       "      <td>2</td>\n",
       "      <td>2016-03-03 11:34:33</td>\n",
       "      <td>2016-03-03 11:56:03</td>\n",
       "      <td>1</td>\n",
       "      <td>-73.873032</td>\n",
       "      <td>40.774055</td>\n",
       "      <td>-73.744003</td>\n",
       "      <td>40.776676</td>\n",
       "      <td>0</td>\n",
       "      <td>0.358333</td>\n",
       "      <td>3</td>\n",
       "      <td>11</td>\n",
       "    </tr>\n",
       "    <tr>\n",
       "      <th>3</th>\n",
       "      <td>id0955609</td>\n",
       "      <td>2</td>\n",
       "      <td>2016-05-23 21:02:17</td>\n",
       "      <td>2016-05-23 21:13:37</td>\n",
       "      <td>1</td>\n",
       "      <td>-73.968178</td>\n",
       "      <td>40.762280</td>\n",
       "      <td>-73.970680</td>\n",
       "      <td>40.788422</td>\n",
       "      <td>0</td>\n",
       "      <td>0.188889</td>\n",
       "      <td>0</td>\n",
       "      <td>21</td>\n",
       "    </tr>\n",
       "    <tr>\n",
       "      <th>4</th>\n",
       "      <td>id0548011</td>\n",
       "      <td>2</td>\n",
       "      <td>2016-01-19 10:18:47</td>\n",
       "      <td>2016-01-19 10:27:54</td>\n",
       "      <td>3</td>\n",
       "      <td>-74.017197</td>\n",
       "      <td>40.705070</td>\n",
       "      <td>-74.007240</td>\n",
       "      <td>40.722599</td>\n",
       "      <td>0</td>\n",
       "      <td>0.151944</td>\n",
       "      <td>1</td>\n",
       "      <td>10</td>\n",
       "    </tr>\n",
       "  </tbody>\n",
       "</table>\n",
       "</div>"
      ],
      "text/plain": [
       "          id  vendor_id     pickup_datetime    dropoff_datetime  \\\n",
       "0  id2898909          1 2016-03-03 10:30:21 2016-03-03 10:43:49   \n",
       "1  id3276089          2 2016-03-23 18:39:57 2016-03-23 19:01:06   \n",
       "2  id2303543          2 2016-03-03 11:34:33 2016-03-03 11:56:03   \n",
       "3  id0955609          2 2016-05-23 21:02:17 2016-05-23 21:13:37   \n",
       "4  id0548011          2 2016-01-19 10:18:47 2016-01-19 10:27:54   \n",
       "\n",
       "   passenger_count  pickup_longitude  pickup_latitude  dropoff_longitude  \\\n",
       "0                1        -73.991409        40.750320         -73.978813   \n",
       "1                1        -73.981850        40.773289         -73.978973   \n",
       "2                1        -73.873032        40.774055         -73.744003   \n",
       "3                1        -73.968178        40.762280         -73.970680   \n",
       "4                3        -74.017197        40.705070         -74.007240   \n",
       "\n",
       "   dropoff_latitude  store_and_fwd_flag  trip_duration_hrs  pickup_day  \\\n",
       "0         40.762032                   0           0.224444           3   \n",
       "1         40.757240                   0           0.352500           2   \n",
       "2         40.776676                   0           0.358333           3   \n",
       "3         40.788422                   0           0.188889           0   \n",
       "4         40.722599                   0           0.151944           1   \n",
       "\n",
       "   pickup_hour  \n",
       "0           10  \n",
       "1           18  \n",
       "2           11  \n",
       "3           21  \n",
       "4           10  "
      ]
     },
     "execution_count": 47,
     "metadata": {},
     "output_type": "execute_result"
    }
   ],
   "source": [
    "sample.head()"
   ]
  },
  {
   "cell_type": "code",
   "execution_count": 48,
   "id": "9fefd89e",
   "metadata": {},
   "outputs": [
    {
     "data": {
      "text/plain": [
       "Index(['id', 'vendor_id', 'pickup_datetime', 'dropoff_datetime',\n",
       "       'passenger_count', 'pickup_longitude', 'pickup_latitude',\n",
       "       'dropoff_longitude', 'dropoff_latitude', 'store_and_fwd_flag',\n",
       "       'trip_duration_hrs', 'pickup_day', 'pickup_hour'],\n",
       "      dtype='object')"
      ]
     },
     "execution_count": 48,
     "metadata": {},
     "output_type": "execute_result"
    }
   ],
   "source": [
    "sample.columns"
   ]
  },
  {
   "cell_type": "code",
   "execution_count": 49,
   "id": "2eafce58",
   "metadata": {},
   "outputs": [
    {
     "data": {
      "text/html": [
       "<div>\n",
       "<style scoped>\n",
       "    .dataframe tbody tr th:only-of-type {\n",
       "        vertical-align: middle;\n",
       "    }\n",
       "\n",
       "    .dataframe tbody tr th {\n",
       "        vertical-align: top;\n",
       "    }\n",
       "\n",
       "    .dataframe thead th {\n",
       "        text-align: right;\n",
       "    }\n",
       "</style>\n",
       "<table border=\"1\" class=\"dataframe\">\n",
       "  <thead>\n",
       "    <tr style=\"text-align: right;\">\n",
       "      <th></th>\n",
       "      <th>vendor_id</th>\n",
       "      <th>passenger_count</th>\n",
       "      <th>pickup_longitude</th>\n",
       "      <th>pickup_latitude</th>\n",
       "      <th>dropoff_longitude</th>\n",
       "      <th>dropoff_latitude</th>\n",
       "      <th>store_and_fwd_flag</th>\n",
       "      <th>trip_duration_hrs</th>\n",
       "      <th>pickup_day</th>\n",
       "      <th>pickup_hour</th>\n",
       "    </tr>\n",
       "  </thead>\n",
       "  <tbody>\n",
       "    <tr>\n",
       "      <th>vendor_id</th>\n",
       "      <td>1.000000</td>\n",
       "      <td>0.290966</td>\n",
       "      <td>0.012300</td>\n",
       "      <td>0.005513</td>\n",
       "      <td>0.005793</td>\n",
       "      <td>0.007955</td>\n",
       "      <td>-0.075978</td>\n",
       "      <td>0.003728</td>\n",
       "      <td>0.006409</td>\n",
       "      <td>0.012063</td>\n",
       "    </tr>\n",
       "    <tr>\n",
       "      <th>passenger_count</th>\n",
       "      <td>0.290966</td>\n",
       "      <td>1.000000</td>\n",
       "      <td>0.000295</td>\n",
       "      <td>-0.001597</td>\n",
       "      <td>-0.000521</td>\n",
       "      <td>0.002440</td>\n",
       "      <td>-0.025142</td>\n",
       "      <td>0.010153</td>\n",
       "      <td>0.025550</td>\n",
       "      <td>0.011418</td>\n",
       "    </tr>\n",
       "    <tr>\n",
       "      <th>pickup_longitude</th>\n",
       "      <td>0.012300</td>\n",
       "      <td>0.000295</td>\n",
       "      <td>1.000000</td>\n",
       "      <td>-0.102033</td>\n",
       "      <td>0.644794</td>\n",
       "      <td>-0.128031</td>\n",
       "      <td>0.009176</td>\n",
       "      <td>0.113149</td>\n",
       "      <td>-0.020848</td>\n",
       "      <td>0.005603</td>\n",
       "    </tr>\n",
       "    <tr>\n",
       "      <th>pickup_latitude</th>\n",
       "      <td>0.005513</td>\n",
       "      <td>-0.001597</td>\n",
       "      <td>-0.102033</td>\n",
       "      <td>1.000000</td>\n",
       "      <td>-0.122032</td>\n",
       "      <td>0.700913</td>\n",
       "      <td>-0.001947</td>\n",
       "      <td>-0.088122</td>\n",
       "      <td>-0.036998</td>\n",
       "      <td>0.022779</td>\n",
       "    </tr>\n",
       "    <tr>\n",
       "      <th>dropoff_longitude</th>\n",
       "      <td>0.005793</td>\n",
       "      <td>-0.000521</td>\n",
       "      <td>0.644794</td>\n",
       "      <td>-0.122032</td>\n",
       "      <td>1.000000</td>\n",
       "      <td>-0.034173</td>\n",
       "      <td>0.010447</td>\n",
       "      <td>0.123455</td>\n",
       "      <td>0.002533</td>\n",
       "      <td>-0.042649</td>\n",
       "    </tr>\n",
       "    <tr>\n",
       "      <th>dropoff_latitude</th>\n",
       "      <td>0.007955</td>\n",
       "      <td>0.002440</td>\n",
       "      <td>-0.128031</td>\n",
       "      <td>0.700913</td>\n",
       "      <td>-0.034173</td>\n",
       "      <td>1.000000</td>\n",
       "      <td>-0.004743</td>\n",
       "      <td>-0.089033</td>\n",
       "      <td>-0.024559</td>\n",
       "      <td>0.019687</td>\n",
       "    </tr>\n",
       "    <tr>\n",
       "      <th>store_and_fwd_flag</th>\n",
       "      <td>-0.075978</td>\n",
       "      <td>-0.025142</td>\n",
       "      <td>0.009176</td>\n",
       "      <td>-0.001947</td>\n",
       "      <td>0.010447</td>\n",
       "      <td>-0.004743</td>\n",
       "      <td>1.000000</td>\n",
       "      <td>0.011109</td>\n",
       "      <td>-0.004393</td>\n",
       "      <td>0.000919</td>\n",
       "    </tr>\n",
       "    <tr>\n",
       "      <th>trip_duration_hrs</th>\n",
       "      <td>0.003728</td>\n",
       "      <td>0.010153</td>\n",
       "      <td>0.113149</td>\n",
       "      <td>-0.088122</td>\n",
       "      <td>0.123455</td>\n",
       "      <td>-0.089033</td>\n",
       "      <td>0.011109</td>\n",
       "      <td>1.000000</td>\n",
       "      <td>-0.018381</td>\n",
       "      <td>0.029754</td>\n",
       "    </tr>\n",
       "    <tr>\n",
       "      <th>pickup_day</th>\n",
       "      <td>0.006409</td>\n",
       "      <td>0.025550</td>\n",
       "      <td>-0.020848</td>\n",
       "      <td>-0.036998</td>\n",
       "      <td>0.002533</td>\n",
       "      <td>-0.024559</td>\n",
       "      <td>-0.004393</td>\n",
       "      <td>-0.018381</td>\n",
       "      <td>1.000000</td>\n",
       "      <td>-0.086758</td>\n",
       "    </tr>\n",
       "    <tr>\n",
       "      <th>pickup_hour</th>\n",
       "      <td>0.012063</td>\n",
       "      <td>0.011418</td>\n",
       "      <td>0.005603</td>\n",
       "      <td>0.022779</td>\n",
       "      <td>-0.042649</td>\n",
       "      <td>0.019687</td>\n",
       "      <td>0.000919</td>\n",
       "      <td>0.029754</td>\n",
       "      <td>-0.086758</td>\n",
       "      <td>1.000000</td>\n",
       "    </tr>\n",
       "  </tbody>\n",
       "</table>\n",
       "</div>"
      ],
      "text/plain": [
       "                    vendor_id  passenger_count  pickup_longitude  \\\n",
       "vendor_id            1.000000         0.290966          0.012300   \n",
       "passenger_count      0.290966         1.000000          0.000295   \n",
       "pickup_longitude     0.012300         0.000295          1.000000   \n",
       "pickup_latitude      0.005513        -0.001597         -0.102033   \n",
       "dropoff_longitude    0.005793        -0.000521          0.644794   \n",
       "dropoff_latitude     0.007955         0.002440         -0.128031   \n",
       "store_and_fwd_flag  -0.075978        -0.025142          0.009176   \n",
       "trip_duration_hrs    0.003728         0.010153          0.113149   \n",
       "pickup_day           0.006409         0.025550         -0.020848   \n",
       "pickup_hour          0.012063         0.011418          0.005603   \n",
       "\n",
       "                    pickup_latitude  dropoff_longitude  dropoff_latitude  \\\n",
       "vendor_id                  0.005513           0.005793          0.007955   \n",
       "passenger_count           -0.001597          -0.000521          0.002440   \n",
       "pickup_longitude          -0.102033           0.644794         -0.128031   \n",
       "pickup_latitude            1.000000          -0.122032          0.700913   \n",
       "dropoff_longitude         -0.122032           1.000000         -0.034173   \n",
       "dropoff_latitude           0.700913          -0.034173          1.000000   \n",
       "store_and_fwd_flag        -0.001947           0.010447         -0.004743   \n",
       "trip_duration_hrs         -0.088122           0.123455         -0.089033   \n",
       "pickup_day                -0.036998           0.002533         -0.024559   \n",
       "pickup_hour                0.022779          -0.042649          0.019687   \n",
       "\n",
       "                    store_and_fwd_flag  trip_duration_hrs  pickup_day  \\\n",
       "vendor_id                    -0.075978           0.003728    0.006409   \n",
       "passenger_count              -0.025142           0.010153    0.025550   \n",
       "pickup_longitude              0.009176           0.113149   -0.020848   \n",
       "pickup_latitude              -0.001947          -0.088122   -0.036998   \n",
       "dropoff_longitude             0.010447           0.123455    0.002533   \n",
       "dropoff_latitude             -0.004743          -0.089033   -0.024559   \n",
       "store_and_fwd_flag            1.000000           0.011109   -0.004393   \n",
       "trip_duration_hrs             0.011109           1.000000   -0.018381   \n",
       "pickup_day                   -0.004393          -0.018381    1.000000   \n",
       "pickup_hour                   0.000919           0.029754   -0.086758   \n",
       "\n",
       "                    pickup_hour  \n",
       "vendor_id              0.012063  \n",
       "passenger_count        0.011418  \n",
       "pickup_longitude       0.005603  \n",
       "pickup_latitude        0.022779  \n",
       "dropoff_longitude     -0.042649  \n",
       "dropoff_latitude       0.019687  \n",
       "store_and_fwd_flag     0.000919  \n",
       "trip_duration_hrs      0.029754  \n",
       "pickup_day            -0.086758  \n",
       "pickup_hour            1.000000  "
      ]
     },
     "execution_count": 49,
     "metadata": {},
     "output_type": "execute_result"
    }
   ],
   "source": [
    "#checking the corelation between all the variables\n",
    "sample.corr()"
   ]
  },
  {
   "cell_type": "markdown",
   "id": "c47b66cd",
   "metadata": {},
   "source": [
    "From the above co-relation matrix it seems that there is a quite a good amount of correlation between (dropff_longitude,pickup_longitude), (dropoff_latitude,pickup_latitude),(pickup_longitude,dropoff_longitude), (pickup_latitude,dropoff_latitude)"
   ]
  },
  {
   "cell_type": "code",
   "execution_count": 50,
   "id": "00a4f046",
   "metadata": {},
   "outputs": [
    {
     "data": {
      "text/html": [
       "<div>\n",
       "<style scoped>\n",
       "    .dataframe tbody tr th:only-of-type {\n",
       "        vertical-align: middle;\n",
       "    }\n",
       "\n",
       "    .dataframe tbody tr th {\n",
       "        vertical-align: top;\n",
       "    }\n",
       "\n",
       "    .dataframe thead th {\n",
       "        text-align: right;\n",
       "    }\n",
       "</style>\n",
       "<table border=\"1\" class=\"dataframe\">\n",
       "  <thead>\n",
       "    <tr style=\"text-align: right;\">\n",
       "      <th></th>\n",
       "      <th>id</th>\n",
       "      <th>vendor_id</th>\n",
       "      <th>pickup_datetime</th>\n",
       "      <th>dropoff_datetime</th>\n",
       "      <th>passenger_count</th>\n",
       "      <th>pickup_longitude</th>\n",
       "      <th>pickup_latitude</th>\n",
       "      <th>dropoff_longitude</th>\n",
       "      <th>dropoff_latitude</th>\n",
       "      <th>store_and_fwd_flag</th>\n",
       "      <th>trip_duration_hrs</th>\n",
       "      <th>pickup_day</th>\n",
       "      <th>pickup_hour</th>\n",
       "    </tr>\n",
       "  </thead>\n",
       "  <tbody>\n",
       "    <tr>\n",
       "      <th>0</th>\n",
       "      <td>id2898909</td>\n",
       "      <td>1</td>\n",
       "      <td>2016-03-03 10:30:21</td>\n",
       "      <td>2016-03-03 10:43:49</td>\n",
       "      <td>1</td>\n",
       "      <td>-73.991409</td>\n",
       "      <td>40.750320</td>\n",
       "      <td>-73.978813</td>\n",
       "      <td>40.762032</td>\n",
       "      <td>0</td>\n",
       "      <td>0.224444</td>\n",
       "      <td>3</td>\n",
       "      <td>10</td>\n",
       "    </tr>\n",
       "    <tr>\n",
       "      <th>1</th>\n",
       "      <td>id3276089</td>\n",
       "      <td>2</td>\n",
       "      <td>2016-03-23 18:39:57</td>\n",
       "      <td>2016-03-23 19:01:06</td>\n",
       "      <td>1</td>\n",
       "      <td>-73.981850</td>\n",
       "      <td>40.773289</td>\n",
       "      <td>-73.978973</td>\n",
       "      <td>40.757240</td>\n",
       "      <td>0</td>\n",
       "      <td>0.352500</td>\n",
       "      <td>2</td>\n",
       "      <td>18</td>\n",
       "    </tr>\n",
       "    <tr>\n",
       "      <th>2</th>\n",
       "      <td>id2303543</td>\n",
       "      <td>2</td>\n",
       "      <td>2016-03-03 11:34:33</td>\n",
       "      <td>2016-03-03 11:56:03</td>\n",
       "      <td>1</td>\n",
       "      <td>-73.873032</td>\n",
       "      <td>40.774055</td>\n",
       "      <td>-73.744003</td>\n",
       "      <td>40.776676</td>\n",
       "      <td>0</td>\n",
       "      <td>0.358333</td>\n",
       "      <td>3</td>\n",
       "      <td>11</td>\n",
       "    </tr>\n",
       "    <tr>\n",
       "      <th>3</th>\n",
       "      <td>id0955609</td>\n",
       "      <td>2</td>\n",
       "      <td>2016-05-23 21:02:17</td>\n",
       "      <td>2016-05-23 21:13:37</td>\n",
       "      <td>1</td>\n",
       "      <td>-73.968178</td>\n",
       "      <td>40.762280</td>\n",
       "      <td>-73.970680</td>\n",
       "      <td>40.788422</td>\n",
       "      <td>0</td>\n",
       "      <td>0.188889</td>\n",
       "      <td>0</td>\n",
       "      <td>21</td>\n",
       "    </tr>\n",
       "    <tr>\n",
       "      <th>4</th>\n",
       "      <td>id0548011</td>\n",
       "      <td>2</td>\n",
       "      <td>2016-01-19 10:18:47</td>\n",
       "      <td>2016-01-19 10:27:54</td>\n",
       "      <td>3</td>\n",
       "      <td>-74.017197</td>\n",
       "      <td>40.705070</td>\n",
       "      <td>-74.007240</td>\n",
       "      <td>40.722599</td>\n",
       "      <td>0</td>\n",
       "      <td>0.151944</td>\n",
       "      <td>1</td>\n",
       "      <td>10</td>\n",
       "    </tr>\n",
       "  </tbody>\n",
       "</table>\n",
       "</div>"
      ],
      "text/plain": [
       "          id  vendor_id     pickup_datetime    dropoff_datetime  \\\n",
       "0  id2898909          1 2016-03-03 10:30:21 2016-03-03 10:43:49   \n",
       "1  id3276089          2 2016-03-23 18:39:57 2016-03-23 19:01:06   \n",
       "2  id2303543          2 2016-03-03 11:34:33 2016-03-03 11:56:03   \n",
       "3  id0955609          2 2016-05-23 21:02:17 2016-05-23 21:13:37   \n",
       "4  id0548011          2 2016-01-19 10:18:47 2016-01-19 10:27:54   \n",
       "\n",
       "   passenger_count  pickup_longitude  pickup_latitude  dropoff_longitude  \\\n",
       "0                1        -73.991409        40.750320         -73.978813   \n",
       "1                1        -73.981850        40.773289         -73.978973   \n",
       "2                1        -73.873032        40.774055         -73.744003   \n",
       "3                1        -73.968178        40.762280         -73.970680   \n",
       "4                3        -74.017197        40.705070         -74.007240   \n",
       "\n",
       "   dropoff_latitude  store_and_fwd_flag  trip_duration_hrs  pickup_day  \\\n",
       "0         40.762032                   0           0.224444           3   \n",
       "1         40.757240                   0           0.352500           2   \n",
       "2         40.776676                   0           0.358333           3   \n",
       "3         40.788422                   0           0.188889           0   \n",
       "4         40.722599                   0           0.151944           1   \n",
       "\n",
       "   pickup_hour  \n",
       "0           10  \n",
       "1           18  \n",
       "2           11  \n",
       "3           21  \n",
       "4           10  "
      ]
     },
     "execution_count": 50,
     "metadata": {},
     "output_type": "execute_result"
    }
   ],
   "source": [
    "sample.head()"
   ]
  },
  {
   "cell_type": "code",
   "execution_count": 51,
   "id": "d18c2566",
   "metadata": {},
   "outputs": [
    {
     "data": {
      "image/png": "[encoded data removed]",
      "text/plain": [
       "<Figure size 600x400 with 1 Axes>"
      ]
     },
     "metadata": {
      "needs_background": "light"
     },
     "output_type": "display_data"
    }
   ],
   "source": [
    "#Box Plot of Sample passenger count before removing outliers\n",
    "plt.figure(dpi=100)\n",
    "plt.boxplot(sample['passenger_count'])\n",
    "plt.ylabel(\"Passenger Count\")\n",
    "plt.title(\"Box Plot for passenger count\")\n",
    "plt.show()"
   ]
  },
  {
   "cell_type": "markdown",
   "id": "eda7e8a2",
   "metadata": {},
   "source": [
    "From the above box plot we can see that there are some outliers in the passenger_count columns which needs to be removed"
   ]
  },
  {
   "cell_type": "markdown",
   "id": "166fedce",
   "metadata": {},
   "source": [
    "You can clearly see from the above graph that passnger count of 4,5,6 are the outliers in this dataset which need to replaced by the mean of passenger count"
   ]
  },
  {
   "cell_type": "code",
   "execution_count": 52,
   "id": "66a4cb53",
   "metadata": {},
   "outputs": [
    {
     "data": {
      "text/plain": [
       "array([1, 3, 2, 6, 4, 5, 0], dtype=int64)"
      ]
     },
     "execution_count": 52,
     "metadata": {},
     "output_type": "execute_result"
    }
   ],
   "source": [
    "sample['passenger_count'].unique()"
   ]
  },
  {
   "cell_type": "code",
   "execution_count": 53,
   "id": "dd539b79",
   "metadata": {},
   "outputs": [
    {
     "data": {
      "text/plain": [
       "count    69263.000000\n",
       "mean         1.658923\n",
       "std          1.311299\n",
       "min          0.000000\n",
       "25%          1.000000\n",
       "50%          1.000000\n",
       "75%          2.000000\n",
       "max          6.000000\n",
       "Name: passenger_count, dtype: float64"
      ]
     },
     "execution_count": 53,
     "metadata": {},
     "output_type": "execute_result"
    }
   ],
   "source": [
    "sample['passenger_count'].describe()"
   ]
  },
  {
   "cell_type": "markdown",
   "id": "424bedc9",
   "metadata": {},
   "source": [
    "Clearly the passenger Count of 4,5,6 are the outliers and they need to be replaced by the mean of that column"
   ]
  },
  {
   "cell_type": "code",
   "execution_count": 54,
   "id": "440f14be",
   "metadata": {},
   "outputs": [
    {
     "data": {
      "text/plain": [
       "id                            object\n",
       "vendor_id                      int64\n",
       "pickup_datetime       datetime64[ns]\n",
       "dropoff_datetime      datetime64[ns]\n",
       "passenger_count                int64\n",
       "pickup_longitude             float64\n",
       "pickup_latitude              float64\n",
       "dropoff_longitude            float64\n",
       "dropoff_latitude             float64\n",
       "store_and_fwd_flag             int64\n",
       "trip_duration_hrs            float64\n",
       "pickup_day                     int64\n",
       "pickup_hour                    int64\n",
       "dtype: object"
      ]
     },
     "execution_count": 54,
     "metadata": {},
     "output_type": "execute_result"
    }
   ],
   "source": [
    "sample.dtypes"
   ]
  },
  {
   "cell_type": "code",
   "execution_count": 55,
   "id": "1fc93968",
   "metadata": {},
   "outputs": [],
   "source": [
    "sample.reset_index(drop=True,inplace=True)"
   ]
  },
  {
   "cell_type": "code",
   "execution_count": 56,
   "id": "776f0c4a",
   "metadata": {},
   "outputs": [
    {
     "data": {
      "text/plain": [
       "(69263, 13)"
      ]
     },
     "execution_count": 56,
     "metadata": {},
     "output_type": "execute_result"
    }
   ],
   "source": [
    "sample.shape"
   ]
  },
  {
   "cell_type": "code",
   "execution_count": 57,
   "id": "296fa5bb",
   "metadata": {},
   "outputs": [
    {
     "data": {
      "text/html": [
       "<div>\n",
       "<style scoped>\n",
       "    .dataframe tbody tr th:only-of-type {\n",
       "        vertical-align: middle;\n",
       "    }\n",
       "\n",
       "    .dataframe tbody tr th {\n",
       "        vertical-align: top;\n",
       "    }\n",
       "\n",
       "    .dataframe thead th {\n",
       "        text-align: right;\n",
       "    }\n",
       "</style>\n",
       "<table border=\"1\" class=\"dataframe\">\n",
       "  <thead>\n",
       "    <tr style=\"text-align: right;\">\n",
       "      <th></th>\n",
       "      <th>id</th>\n",
       "      <th>vendor_id</th>\n",
       "      <th>pickup_datetime</th>\n",
       "      <th>dropoff_datetime</th>\n",
       "      <th>passenger_count</th>\n",
       "      <th>pickup_longitude</th>\n",
       "      <th>pickup_latitude</th>\n",
       "      <th>dropoff_longitude</th>\n",
       "      <th>dropoff_latitude</th>\n",
       "      <th>store_and_fwd_flag</th>\n",
       "      <th>trip_duration_hrs</th>\n",
       "      <th>pickup_day</th>\n",
       "      <th>pickup_hour</th>\n",
       "    </tr>\n",
       "  </thead>\n",
       "  <tbody>\n",
       "    <tr>\n",
       "      <th>69258</th>\n",
       "      <td>id2804119</td>\n",
       "      <td>2</td>\n",
       "      <td>2016-06-21 09:30:01</td>\n",
       "      <td>2016-06-21 09:55:05</td>\n",
       "      <td>1</td>\n",
       "      <td>-73.946777</td>\n",
       "      <td>40.775864</td>\n",
       "      <td>-73.975365</td>\n",
       "      <td>40.761646</td>\n",
       "      <td>0</td>\n",
       "      <td>0.417778</td>\n",
       "      <td>1</td>\n",
       "      <td>9</td>\n",
       "    </tr>\n",
       "    <tr>\n",
       "      <th>69259</th>\n",
       "      <td>id2475921</td>\n",
       "      <td>1</td>\n",
       "      <td>2016-03-25 10:52:42</td>\n",
       "      <td>2016-03-25 11:00:33</td>\n",
       "      <td>1</td>\n",
       "      <td>-73.986534</td>\n",
       "      <td>40.751839</td>\n",
       "      <td>-73.980682</td>\n",
       "      <td>40.765621</td>\n",
       "      <td>0</td>\n",
       "      <td>0.130833</td>\n",
       "      <td>4</td>\n",
       "      <td>10</td>\n",
       "    </tr>\n",
       "    <tr>\n",
       "      <th>69260</th>\n",
       "      <td>id1665559</td>\n",
       "      <td>2</td>\n",
       "      <td>2016-02-12 15:15:53</td>\n",
       "      <td>2016-02-12 15:38:40</td>\n",
       "      <td>5</td>\n",
       "      <td>-74.006218</td>\n",
       "      <td>40.749527</td>\n",
       "      <td>-74.000519</td>\n",
       "      <td>40.723869</td>\n",
       "      <td>0</td>\n",
       "      <td>0.379722</td>\n",
       "      <td>4</td>\n",
       "      <td>15</td>\n",
       "    </tr>\n",
       "    <tr>\n",
       "      <th>69261</th>\n",
       "      <td>id0261534</td>\n",
       "      <td>1</td>\n",
       "      <td>2016-04-29 23:41:13</td>\n",
       "      <td>2016-04-29 23:44:03</td>\n",
       "      <td>1</td>\n",
       "      <td>-73.950462</td>\n",
       "      <td>40.686958</td>\n",
       "      <td>-73.940331</td>\n",
       "      <td>40.688156</td>\n",
       "      <td>0</td>\n",
       "      <td>0.047222</td>\n",
       "      <td>4</td>\n",
       "      <td>23</td>\n",
       "    </tr>\n",
       "    <tr>\n",
       "      <th>69262</th>\n",
       "      <td>id0657460</td>\n",
       "      <td>2</td>\n",
       "      <td>2016-01-20 13:02:14</td>\n",
       "      <td>2016-01-20 13:16:23</td>\n",
       "      <td>2</td>\n",
       "      <td>-73.997810</td>\n",
       "      <td>40.713528</td>\n",
       "      <td>-73.967789</td>\n",
       "      <td>40.757038</td>\n",
       "      <td>0</td>\n",
       "      <td>0.235833</td>\n",
       "      <td>2</td>\n",
       "      <td>13</td>\n",
       "    </tr>\n",
       "  </tbody>\n",
       "</table>\n",
       "</div>"
      ],
      "text/plain": [
       "              id  vendor_id     pickup_datetime    dropoff_datetime  \\\n",
       "69258  id2804119          2 2016-06-21 09:30:01 2016-06-21 09:55:05   \n",
       "69259  id2475921          1 2016-03-25 10:52:42 2016-03-25 11:00:33   \n",
       "69260  id1665559          2 2016-02-12 15:15:53 2016-02-12 15:38:40   \n",
       "69261  id0261534          1 2016-04-29 23:41:13 2016-04-29 23:44:03   \n",
       "69262  id0657460          2 2016-01-20 13:02:14 2016-01-20 13:16:23   \n",
       "\n",
       "       passenger_count  pickup_longitude  pickup_latitude  dropoff_longitude  \\\n",
       "69258                1        -73.946777        40.775864         -73.975365   \n",
       "69259                1        -73.986534        40.751839         -73.980682   \n",
       "69260                5        -74.006218        40.749527         -74.000519   \n",
       "69261                1        -73.950462        40.686958         -73.940331   \n",
       "69262                2        -73.997810        40.713528         -73.967789   \n",
       "\n",
       "       dropoff_latitude  store_and_fwd_flag  trip_duration_hrs  pickup_day  \\\n",
       "69258         40.761646                   0           0.417778           1   \n",
       "69259         40.765621                   0           0.130833           4   \n",
       "69260         40.723869                   0           0.379722           4   \n",
       "69261         40.688156                   0           0.047222           4   \n",
       "69262         40.757038                   0           0.235833           2   \n",
       "\n",
       "       pickup_hour  \n",
       "69258            9  \n",
       "69259           10  \n",
       "69260           15  \n",
       "69261           23  \n",
       "69262           13  "
      ]
     },
     "execution_count": 57,
     "metadata": {},
     "output_type": "execute_result"
    }
   ],
   "source": [
    "sample.tail()"
   ]
  },
  {
   "cell_type": "markdown",
   "id": "af2299d0",
   "metadata": {},
   "source": [
    "# Removing the outliers from the passenger count variable"
   ]
  },
  {
   "cell_type": "code",
   "execution_count": 58,
   "id": "0138fc51",
   "metadata": {},
   "outputs": [
    {
     "name": "stderr",
     "output_type": "stream",
     "text": [
      "C:\\Users\\LENOVO\\Anaconda3\\lib\\site-packages\\pandas\\core\\series.py:4509: SettingWithCopyWarning: \n",
      "A value is trying to be set on a copy of a slice from a DataFrame\n",
      "\n",
      "See the caveats in the documentation: https://pandas.pydata.org/pandas-docs/stable/user_guide/indexing.html#returning-a-view-versus-a-copy\n",
      "  return super().replace(\n"
     ]
    }
   ],
   "source": [
    "sample['passenger_count'].replace(to_replace=[4,5,6],value=sample['passenger_count'].mean(),inplace=True)"
   ]
  },
  {
   "cell_type": "code",
   "execution_count": 59,
   "id": "aa4afe4c",
   "metadata": {},
   "outputs": [
    {
     "data": {
      "text/plain": [
       "count    69263.000000\n",
       "mean         1.292836\n",
       "std          0.515957\n",
       "min          0.000000\n",
       "25%          1.000000\n",
       "50%          1.000000\n",
       "75%          1.658923\n",
       "max          3.000000\n",
       "Name: passenger_count, dtype: float64"
      ]
     },
     "execution_count": 59,
     "metadata": {},
     "output_type": "execute_result"
    }
   ],
   "source": [
    "#Describe function afer removing outliers from the passenger_count by replacing them by mean values\n",
    "sample['passenger_count'].describe()"
   ]
  },
  {
   "cell_type": "code",
   "execution_count": 60,
   "id": "ef75dfbd",
   "metadata": {},
   "outputs": [
    {
     "data": {
      "image/png": "[encoded data removed]",
      "text/plain": [
       "<Figure size 840x560 with 1 Axes>"
      ]
     },
     "metadata": {
      "needs_background": "light"
     },
     "output_type": "display_data"
    }
   ],
   "source": [
    "#Histogram of passenger count variable after removing outliers\n",
    "plt.figure(dpi=140)\n",
    "plt.hist(sample['passenger_count'], bins=6)\n",
    "plt.xlabel(\"Histogram of passenger Count\")\n",
    "plt.ylabel(\"Frequency\")\n",
    "plt.title(\"Histogram of passenger Count\")\n",
    "plt.show()\n"
   ]
  },
  {
   "cell_type": "markdown",
   "id": "61f620ca",
   "metadata": {},
   "source": [
    "As you can see from the above histogram the passenger count of 1 to 2 has the highest frequency that means most of the trips had a passenger_count between 0 and 2 "
   ]
  },
  {
   "cell_type": "code",
   "execution_count": 61,
   "id": "a81d4556",
   "metadata": {},
   "outputs": [
    {
     "data": {
      "text/plain": [
       "Index(['id', 'vendor_id', 'pickup_datetime', 'dropoff_datetime',\n",
       "       'passenger_count', 'pickup_longitude', 'pickup_latitude',\n",
       "       'dropoff_longitude', 'dropoff_latitude', 'store_and_fwd_flag',\n",
       "       'trip_duration_hrs', 'pickup_day', 'pickup_hour'],\n",
       "      dtype='object')"
      ]
     },
     "execution_count": 61,
     "metadata": {},
     "output_type": "execute_result"
    }
   ],
   "source": [
    "sample.columns"
   ]
  },
  {
   "cell_type": "code",
   "execution_count": 62,
   "id": "b3aa38c3",
   "metadata": {},
   "outputs": [
    {
     "data": {
      "image/png": "[encoded data removed]",
      "text/plain": [
       "<Figure size 600x400 with 1 Axes>"
      ]
     },
     "metadata": {
      "needs_background": "light"
     },
     "output_type": "display_data"
    }
   ],
   "source": [
    "plt.figure(dpi=100)\n",
    "plt.boxplot(sample['pickup_day'])\n",
    "plt.ylabel(\"Pickup Day\")\n",
    "plt.title(\"Box Plot for Pickup Day\")\n",
    "plt.show()"
   ]
  },
  {
   "cell_type": "markdown",
   "id": "c07a5a6a",
   "metadata": {},
   "source": [
    "This box plot shows that pickup day doesn't have any outliers"
   ]
  },
  {
   "cell_type": "code",
   "execution_count": 63,
   "id": "c44c2d6a",
   "metadata": {},
   "outputs": [
    {
     "data": {
      "image/png": "[encoded data removed]",
      "text/plain": [
       "<Figure size 600x400 with 1 Axes>"
      ]
     },
     "metadata": {
      "needs_background": "light"
     },
     "output_type": "display_data"
    }
   ],
   "source": [
    "plt.figure(dpi=100)\n",
    "plt.boxplot(sample['pickup_hour'])\n",
    "plt.ylabel(\"Pickup Hour\")\n",
    "plt.title(\"Box Plot for Pickup Hour\")\n",
    "plt.show()"
   ]
  },
  {
   "cell_type": "markdown",
   "id": "fa3f9b55",
   "metadata": {},
   "source": [
    "This box plot shows that pickup hour doesn't have any outliers"
   ]
  },
  {
   "cell_type": "code",
   "execution_count": 64,
   "id": "e018ef9c",
   "metadata": {},
   "outputs": [
    {
     "data": {
      "image/png": "[encoded data removed]",
      "text/plain": [
       "<Figure size 432x288 with 1 Axes>"
      ]
     },
     "metadata": {
      "needs_background": "light"
     },
     "output_type": "display_data"
    }
   ],
   "source": [
    "#Checking the relation between pickup hour and trip duration\n",
    "plt.scatter(sample['pickup_latitude'],sample['trip_duration_hrs'])\n",
    "plt.xlabel(\"Pickup day\")\n",
    "plt.ylabel(\"Trip Duration\")\n",
    "plt.title(\" Pickup Hour vs trip durationin hrs\")\n",
    "plt.show()"
   ]
  },
  {
   "cell_type": "code",
   "execution_count": 65,
   "id": "6ca0cb5c",
   "metadata": {},
   "outputs": [
    {
     "data": {
      "text/html": [
       "<div>\n",
       "<style scoped>\n",
       "    .dataframe tbody tr th:only-of-type {\n",
       "        vertical-align: middle;\n",
       "    }\n",
       "\n",
       "    .dataframe tbody tr th {\n",
       "        vertical-align: top;\n",
       "    }\n",
       "\n",
       "    .dataframe thead th {\n",
       "        text-align: right;\n",
       "    }\n",
       "</style>\n",
       "<table border=\"1\" class=\"dataframe\">\n",
       "  <thead>\n",
       "    <tr style=\"text-align: right;\">\n",
       "      <th></th>\n",
       "      <th>vendor_id</th>\n",
       "      <th>passenger_count</th>\n",
       "      <th>pickup_longitude</th>\n",
       "      <th>pickup_latitude</th>\n",
       "      <th>dropoff_longitude</th>\n",
       "      <th>dropoff_latitude</th>\n",
       "      <th>store_and_fwd_flag</th>\n",
       "      <th>trip_duration_hrs</th>\n",
       "      <th>pickup_day</th>\n",
       "      <th>pickup_hour</th>\n",
       "    </tr>\n",
       "  </thead>\n",
       "  <tbody>\n",
       "    <tr>\n",
       "      <th>vendor_id</th>\n",
       "      <td>1.000000</td>\n",
       "      <td>0.156832</td>\n",
       "      <td>0.012300</td>\n",
       "      <td>0.005513</td>\n",
       "      <td>0.005793</td>\n",
       "      <td>0.007955</td>\n",
       "      <td>-0.075978</td>\n",
       "      <td>0.003728</td>\n",
       "      <td>0.006409</td>\n",
       "      <td>0.012063</td>\n",
       "    </tr>\n",
       "    <tr>\n",
       "      <th>passenger_count</th>\n",
       "      <td>0.156832</td>\n",
       "      <td>1.000000</td>\n",
       "      <td>-0.005147</td>\n",
       "      <td>-0.013563</td>\n",
       "      <td>-0.002212</td>\n",
       "      <td>-0.004696</td>\n",
       "      <td>-0.014552</td>\n",
       "      <td>0.018442</td>\n",
       "      <td>0.043683</td>\n",
       "      <td>0.023311</td>\n",
       "    </tr>\n",
       "    <tr>\n",
       "      <th>pickup_longitude</th>\n",
       "      <td>0.012300</td>\n",
       "      <td>-0.005147</td>\n",
       "      <td>1.000000</td>\n",
       "      <td>-0.102033</td>\n",
       "      <td>0.644794</td>\n",
       "      <td>-0.128031</td>\n",
       "      <td>0.009176</td>\n",
       "      <td>0.113149</td>\n",
       "      <td>-0.020848</td>\n",
       "      <td>0.005603</td>\n",
       "    </tr>\n",
       "    <tr>\n",
       "      <th>pickup_latitude</th>\n",
       "      <td>0.005513</td>\n",
       "      <td>-0.013563</td>\n",
       "      <td>-0.102033</td>\n",
       "      <td>1.000000</td>\n",
       "      <td>-0.122032</td>\n",
       "      <td>0.700913</td>\n",
       "      <td>-0.001947</td>\n",
       "      <td>-0.088122</td>\n",
       "      <td>-0.036998</td>\n",
       "      <td>0.022779</td>\n",
       "    </tr>\n",
       "    <tr>\n",
       "      <th>dropoff_longitude</th>\n",
       "      <td>0.005793</td>\n",
       "      <td>-0.002212</td>\n",
       "      <td>0.644794</td>\n",
       "      <td>-0.122032</td>\n",
       "      <td>1.000000</td>\n",
       "      <td>-0.034173</td>\n",
       "      <td>0.010447</td>\n",
       "      <td>0.123455</td>\n",
       "      <td>0.002533</td>\n",
       "      <td>-0.042649</td>\n",
       "    </tr>\n",
       "    <tr>\n",
       "      <th>dropoff_latitude</th>\n",
       "      <td>0.007955</td>\n",
       "      <td>-0.004696</td>\n",
       "      <td>-0.128031</td>\n",
       "      <td>0.700913</td>\n",
       "      <td>-0.034173</td>\n",
       "      <td>1.000000</td>\n",
       "      <td>-0.004743</td>\n",
       "      <td>-0.089033</td>\n",
       "      <td>-0.024559</td>\n",
       "      <td>0.019687</td>\n",
       "    </tr>\n",
       "    <tr>\n",
       "      <th>store_and_fwd_flag</th>\n",
       "      <td>-0.075978</td>\n",
       "      <td>-0.014552</td>\n",
       "      <td>0.009176</td>\n",
       "      <td>-0.001947</td>\n",
       "      <td>0.010447</td>\n",
       "      <td>-0.004743</td>\n",
       "      <td>1.000000</td>\n",
       "      <td>0.011109</td>\n",
       "      <td>-0.004393</td>\n",
       "      <td>0.000919</td>\n",
       "    </tr>\n",
       "    <tr>\n",
       "      <th>trip_duration_hrs</th>\n",
       "      <td>0.003728</td>\n",
       "      <td>0.018442</td>\n",
       "      <td>0.113149</td>\n",
       "      <td>-0.088122</td>\n",
       "      <td>0.123455</td>\n",
       "      <td>-0.089033</td>\n",
       "      <td>0.011109</td>\n",
       "      <td>1.000000</td>\n",
       "      <td>-0.018381</td>\n",
       "      <td>0.029754</td>\n",
       "    </tr>\n",
       "    <tr>\n",
       "      <th>pickup_day</th>\n",
       "      <td>0.006409</td>\n",
       "      <td>0.043683</td>\n",
       "      <td>-0.020848</td>\n",
       "      <td>-0.036998</td>\n",
       "      <td>0.002533</td>\n",
       "      <td>-0.024559</td>\n",
       "      <td>-0.004393</td>\n",
       "      <td>-0.018381</td>\n",
       "      <td>1.000000</td>\n",
       "      <td>-0.086758</td>\n",
       "    </tr>\n",
       "    <tr>\n",
       "      <th>pickup_hour</th>\n",
       "      <td>0.012063</td>\n",
       "      <td>0.023311</td>\n",
       "      <td>0.005603</td>\n",
       "      <td>0.022779</td>\n",
       "      <td>-0.042649</td>\n",
       "      <td>0.019687</td>\n",
       "      <td>0.000919</td>\n",
       "      <td>0.029754</td>\n",
       "      <td>-0.086758</td>\n",
       "      <td>1.000000</td>\n",
       "    </tr>\n",
       "  </tbody>\n",
       "</table>\n",
       "</div>"
      ],
      "text/plain": [
       "                    vendor_id  passenger_count  pickup_longitude  \\\n",
       "vendor_id            1.000000         0.156832          0.012300   \n",
       "passenger_count      0.156832         1.000000         -0.005147   \n",
       "pickup_longitude     0.012300        -0.005147          1.000000   \n",
       "pickup_latitude      0.005513        -0.013563         -0.102033   \n",
       "dropoff_longitude    0.005793        -0.002212          0.644794   \n",
       "dropoff_latitude     0.007955        -0.004696         -0.128031   \n",
       "store_and_fwd_flag  -0.075978        -0.014552          0.009176   \n",
       "trip_duration_hrs    0.003728         0.018442          0.113149   \n",
       "pickup_day           0.006409         0.043683         -0.020848   \n",
       "pickup_hour          0.012063         0.023311          0.005603   \n",
       "\n",
       "                    pickup_latitude  dropoff_longitude  dropoff_latitude  \\\n",
       "vendor_id                  0.005513           0.005793          0.007955   \n",
       "passenger_count           -0.013563          -0.002212         -0.004696   \n",
       "pickup_longitude          -0.102033           0.644794         -0.128031   \n",
       "pickup_latitude            1.000000          -0.122032          0.700913   \n",
       "dropoff_longitude         -0.122032           1.000000         -0.034173   \n",
       "dropoff_latitude           0.700913          -0.034173          1.000000   \n",
       "store_and_fwd_flag        -0.001947           0.010447         -0.004743   \n",
       "trip_duration_hrs         -0.088122           0.123455         -0.089033   \n",
       "pickup_day                -0.036998           0.002533         -0.024559   \n",
       "pickup_hour                0.022779          -0.042649          0.019687   \n",
       "\n",
       "                    store_and_fwd_flag  trip_duration_hrs  pickup_day  \\\n",
       "vendor_id                    -0.075978           0.003728    0.006409   \n",
       "passenger_count              -0.014552           0.018442    0.043683   \n",
       "pickup_longitude              0.009176           0.113149   -0.020848   \n",
       "pickup_latitude              -0.001947          -0.088122   -0.036998   \n",
       "dropoff_longitude             0.010447           0.123455    0.002533   \n",
       "dropoff_latitude             -0.004743          -0.089033   -0.024559   \n",
       "store_and_fwd_flag            1.000000           0.011109   -0.004393   \n",
       "trip_duration_hrs             0.011109           1.000000   -0.018381   \n",
       "pickup_day                   -0.004393          -0.018381    1.000000   \n",
       "pickup_hour                   0.000919           0.029754   -0.086758   \n",
       "\n",
       "                    pickup_hour  \n",
       "vendor_id              0.012063  \n",
       "passenger_count        0.023311  \n",
       "pickup_longitude       0.005603  \n",
       "pickup_latitude        0.022779  \n",
       "dropoff_longitude     -0.042649  \n",
       "dropoff_latitude       0.019687  \n",
       "store_and_fwd_flag     0.000919  \n",
       "trip_duration_hrs      0.029754  \n",
       "pickup_day            -0.086758  \n",
       "pickup_hour            1.000000  "
      ]
     },
     "execution_count": 65,
     "metadata": {},
     "output_type": "execute_result"
    }
   ],
   "source": [
    "sample.corr()"
   ]
  },
  {
   "cell_type": "code",
   "execution_count": 66,
   "id": "f033c664",
   "metadata": {},
   "outputs": [],
   "source": [
    "import h3\n",
    "from h3 import point_dist"
   ]
  },
  {
   "cell_type": "code",
   "execution_count": 67,
   "id": "aa482370",
   "metadata": {},
   "outputs": [
    {
     "data": {
      "text/html": [
       "<div>\n",
       "<style scoped>\n",
       "    .dataframe tbody tr th:only-of-type {\n",
       "        vertical-align: middle;\n",
       "    }\n",
       "\n",
       "    .dataframe tbody tr th {\n",
       "        vertical-align: top;\n",
       "    }\n",
       "\n",
       "    .dataframe thead th {\n",
       "        text-align: right;\n",
       "    }\n",
       "</style>\n",
       "<table border=\"1\" class=\"dataframe\">\n",
       "  <thead>\n",
       "    <tr style=\"text-align: right;\">\n",
       "      <th></th>\n",
       "      <th>id</th>\n",
       "      <th>vendor_id</th>\n",
       "      <th>pickup_datetime</th>\n",
       "      <th>dropoff_datetime</th>\n",
       "      <th>passenger_count</th>\n",
       "      <th>pickup_longitude</th>\n",
       "      <th>pickup_latitude</th>\n",
       "      <th>dropoff_longitude</th>\n",
       "      <th>dropoff_latitude</th>\n",
       "      <th>store_and_fwd_flag</th>\n",
       "      <th>trip_duration_hrs</th>\n",
       "      <th>pickup_day</th>\n",
       "      <th>pickup_hour</th>\n",
       "    </tr>\n",
       "  </thead>\n",
       "  <tbody>\n",
       "    <tr>\n",
       "      <th>0</th>\n",
       "      <td>id2898909</td>\n",
       "      <td>1</td>\n",
       "      <td>2016-03-03 10:30:21</td>\n",
       "      <td>2016-03-03 10:43:49</td>\n",
       "      <td>1.0</td>\n",
       "      <td>-73.991409</td>\n",
       "      <td>40.750320</td>\n",
       "      <td>-73.978813</td>\n",
       "      <td>40.762032</td>\n",
       "      <td>0</td>\n",
       "      <td>0.224444</td>\n",
       "      <td>3</td>\n",
       "      <td>10</td>\n",
       "    </tr>\n",
       "    <tr>\n",
       "      <th>1</th>\n",
       "      <td>id3276089</td>\n",
       "      <td>2</td>\n",
       "      <td>2016-03-23 18:39:57</td>\n",
       "      <td>2016-03-23 19:01:06</td>\n",
       "      <td>1.0</td>\n",
       "      <td>-73.981850</td>\n",
       "      <td>40.773289</td>\n",
       "      <td>-73.978973</td>\n",
       "      <td>40.757240</td>\n",
       "      <td>0</td>\n",
       "      <td>0.352500</td>\n",
       "      <td>2</td>\n",
       "      <td>18</td>\n",
       "    </tr>\n",
       "    <tr>\n",
       "      <th>2</th>\n",
       "      <td>id2303543</td>\n",
       "      <td>2</td>\n",
       "      <td>2016-03-03 11:34:33</td>\n",
       "      <td>2016-03-03 11:56:03</td>\n",
       "      <td>1.0</td>\n",
       "      <td>-73.873032</td>\n",
       "      <td>40.774055</td>\n",
       "      <td>-73.744003</td>\n",
       "      <td>40.776676</td>\n",
       "      <td>0</td>\n",
       "      <td>0.358333</td>\n",
       "      <td>3</td>\n",
       "      <td>11</td>\n",
       "    </tr>\n",
       "    <tr>\n",
       "      <th>3</th>\n",
       "      <td>id0955609</td>\n",
       "      <td>2</td>\n",
       "      <td>2016-05-23 21:02:17</td>\n",
       "      <td>2016-05-23 21:13:37</td>\n",
       "      <td>1.0</td>\n",
       "      <td>-73.968178</td>\n",
       "      <td>40.762280</td>\n",
       "      <td>-73.970680</td>\n",
       "      <td>40.788422</td>\n",
       "      <td>0</td>\n",
       "      <td>0.188889</td>\n",
       "      <td>0</td>\n",
       "      <td>21</td>\n",
       "    </tr>\n",
       "    <tr>\n",
       "      <th>4</th>\n",
       "      <td>id0548011</td>\n",
       "      <td>2</td>\n",
       "      <td>2016-01-19 10:18:47</td>\n",
       "      <td>2016-01-19 10:27:54</td>\n",
       "      <td>3.0</td>\n",
       "      <td>-74.017197</td>\n",
       "      <td>40.705070</td>\n",
       "      <td>-74.007240</td>\n",
       "      <td>40.722599</td>\n",
       "      <td>0</td>\n",
       "      <td>0.151944</td>\n",
       "      <td>1</td>\n",
       "      <td>10</td>\n",
       "    </tr>\n",
       "  </tbody>\n",
       "</table>\n",
       "</div>"
      ],
      "text/plain": [
       "          id  vendor_id     pickup_datetime    dropoff_datetime  \\\n",
       "0  id2898909          1 2016-03-03 10:30:21 2016-03-03 10:43:49   \n",
       "1  id3276089          2 2016-03-23 18:39:57 2016-03-23 19:01:06   \n",
       "2  id2303543          2 2016-03-03 11:34:33 2016-03-03 11:56:03   \n",
       "3  id0955609          2 2016-05-23 21:02:17 2016-05-23 21:13:37   \n",
       "4  id0548011          2 2016-01-19 10:18:47 2016-01-19 10:27:54   \n",
       "\n",
       "   passenger_count  pickup_longitude  pickup_latitude  dropoff_longitude  \\\n",
       "0              1.0        -73.991409        40.750320         -73.978813   \n",
       "1              1.0        -73.981850        40.773289         -73.978973   \n",
       "2              1.0        -73.873032        40.774055         -73.744003   \n",
       "3              1.0        -73.968178        40.762280         -73.970680   \n",
       "4              3.0        -74.017197        40.705070         -74.007240   \n",
       "\n",
       "   dropoff_latitude  store_and_fwd_flag  trip_duration_hrs  pickup_day  \\\n",
       "0         40.762032                   0           0.224444           3   \n",
       "1         40.757240                   0           0.352500           2   \n",
       "2         40.776676                   0           0.358333           3   \n",
       "3         40.788422                   0           0.188889           0   \n",
       "4         40.722599                   0           0.151944           1   \n",
       "\n",
       "   pickup_hour  \n",
       "0           10  \n",
       "1           18  \n",
       "2           11  \n",
       "3           21  \n",
       "4           10  "
      ]
     },
     "execution_count": 67,
     "metadata": {},
     "output_type": "execute_result"
    }
   ],
   "source": [
    "sample.head()"
   ]
  },
  {
   "cell_type": "code",
   "execution_count": 68,
   "id": "dea5dd9d",
   "metadata": {},
   "outputs": [],
   "source": [
    "distance=sample[['pickup_latitude','pickup_longitude','dropoff_latitude','dropoff_longitude']]"
   ]
  },
  {
   "cell_type": "code",
   "execution_count": 69,
   "id": "50040e0a",
   "metadata": {},
   "outputs": [
    {
     "data": {
      "text/html": [
       "<div>\n",
       "<style scoped>\n",
       "    .dataframe tbody tr th:only-of-type {\n",
       "        vertical-align: middle;\n",
       "    }\n",
       "\n",
       "    .dataframe tbody tr th {\n",
       "        vertical-align: top;\n",
       "    }\n",
       "\n",
       "    .dataframe thead th {\n",
       "        text-align: right;\n",
       "    }\n",
       "</style>\n",
       "<table border=\"1\" class=\"dataframe\">\n",
       "  <thead>\n",
       "    <tr style=\"text-align: right;\">\n",
       "      <th></th>\n",
       "      <th>pickup_latitude</th>\n",
       "      <th>pickup_longitude</th>\n",
       "      <th>dropoff_latitude</th>\n",
       "      <th>dropoff_longitude</th>\n",
       "    </tr>\n",
       "  </thead>\n",
       "  <tbody>\n",
       "    <tr>\n",
       "      <th>0</th>\n",
       "      <td>40.750320</td>\n",
       "      <td>-73.991409</td>\n",
       "      <td>40.762032</td>\n",
       "      <td>-73.978813</td>\n",
       "    </tr>\n",
       "    <tr>\n",
       "      <th>1</th>\n",
       "      <td>40.773289</td>\n",
       "      <td>-73.981850</td>\n",
       "      <td>40.757240</td>\n",
       "      <td>-73.978973</td>\n",
       "    </tr>\n",
       "    <tr>\n",
       "      <th>2</th>\n",
       "      <td>40.774055</td>\n",
       "      <td>-73.873032</td>\n",
       "      <td>40.776676</td>\n",
       "      <td>-73.744003</td>\n",
       "    </tr>\n",
       "    <tr>\n",
       "      <th>3</th>\n",
       "      <td>40.762280</td>\n",
       "      <td>-73.968178</td>\n",
       "      <td>40.788422</td>\n",
       "      <td>-73.970680</td>\n",
       "    </tr>\n",
       "    <tr>\n",
       "      <th>4</th>\n",
       "      <td>40.705070</td>\n",
       "      <td>-74.017197</td>\n",
       "      <td>40.722599</td>\n",
       "      <td>-74.007240</td>\n",
       "    </tr>\n",
       "  </tbody>\n",
       "</table>\n",
       "</div>"
      ],
      "text/plain": [
       "   pickup_latitude  pickup_longitude  dropoff_latitude  dropoff_longitude\n",
       "0        40.750320        -73.991409         40.762032         -73.978813\n",
       "1        40.773289        -73.981850         40.757240         -73.978973\n",
       "2        40.774055        -73.873032         40.776676         -73.744003\n",
       "3        40.762280        -73.968178         40.788422         -73.970680\n",
       "4        40.705070        -74.017197         40.722599         -74.007240"
      ]
     },
     "execution_count": 69,
     "metadata": {},
     "output_type": "execute_result"
    }
   ],
   "source": [
    "distance.head()"
   ]
  },
  {
   "cell_type": "code",
   "execution_count": 70,
   "id": "5dcfa1cd",
   "metadata": {},
   "outputs": [],
   "source": [
    "#creating the distance feature from the latitude and longitude\n",
    "dist_km=[]\n",
    "for i in range(0,69263):\n",
    "    dist_km.append(h3._cy.geo.point_dist(distance.iloc[i,0],distance.iloc[i,1],distance.iloc[i,2],distance.iloc[i,3]))"
   ]
  },
  {
   "cell_type": "code",
   "execution_count": 71,
   "id": "89334ccf",
   "metadata": {},
   "outputs": [
    {
     "data": {
      "text/plain": [
       "69263"
      ]
     },
     "execution_count": 71,
     "metadata": {},
     "output_type": "execute_result"
    }
   ],
   "source": [
    "len(dist_km)"
   ]
  },
  {
   "cell_type": "code",
   "execution_count": 72,
   "id": "0755d391",
   "metadata": {},
   "outputs": [
    {
     "data": {
      "text/plain": [
       "[1.6797100602862092,\n",
       " 1.8008720344725144,\n",
       " 10.868779277603032,\n",
       " 2.9145019206870857,\n",
       " 2.1220550528693938]"
      ]
     },
     "execution_count": 72,
     "metadata": {},
     "output_type": "execute_result"
    }
   ],
   "source": [
    "dist_km[0:5]"
   ]
  },
  {
   "cell_type": "code",
   "execution_count": 73,
   "id": "7bfb0d62",
   "metadata": {},
   "outputs": [
    {
     "name": "stderr",
     "output_type": "stream",
     "text": [
      "<ipython-input-73-43c04644ce2b>:2: SettingWithCopyWarning: \n",
      "A value is trying to be set on a copy of a slice from a DataFrame.\n",
      "Try using .loc[row_indexer,col_indexer] = value instead\n",
      "\n",
      "See the caveats in the documentation: https://pandas.pydata.org/pandas-docs/stable/user_guide/indexing.html#returning-a-view-versus-a-copy\n",
      "  sample['distance_kms']=dist_km\n"
     ]
    }
   ],
   "source": [
    "#creating a new feature in the sample dataset\n",
    "sample['distance_kms']=dist_km"
   ]
  },
  {
   "cell_type": "code",
   "execution_count": 74,
   "id": "f36d43ee",
   "metadata": {},
   "outputs": [
    {
     "data": {
      "text/plain": [
       "69263"
      ]
     },
     "execution_count": 74,
     "metadata": {},
     "output_type": "execute_result"
    }
   ],
   "source": [
    "len(dist_km)"
   ]
  },
  {
   "cell_type": "code",
   "execution_count": 75,
   "id": "150baac1",
   "metadata": {},
   "outputs": [
    {
     "data": {
      "text/plain": [
       "(69263, 14)"
      ]
     },
     "execution_count": 75,
     "metadata": {},
     "output_type": "execute_result"
    }
   ],
   "source": [
    "sample.shape"
   ]
  },
  {
   "cell_type": "code",
   "execution_count": 76,
   "id": "4da55b24",
   "metadata": {},
   "outputs": [
    {
     "data": {
      "text/html": [
       "<div>\n",
       "<style scoped>\n",
       "    .dataframe tbody tr th:only-of-type {\n",
       "        vertical-align: middle;\n",
       "    }\n",
       "\n",
       "    .dataframe tbody tr th {\n",
       "        vertical-align: top;\n",
       "    }\n",
       "\n",
       "    .dataframe thead th {\n",
       "        text-align: right;\n",
       "    }\n",
       "</style>\n",
       "<table border=\"1\" class=\"dataframe\">\n",
       "  <thead>\n",
       "    <tr style=\"text-align: right;\">\n",
       "      <th></th>\n",
       "      <th>id</th>\n",
       "      <th>vendor_id</th>\n",
       "      <th>pickup_datetime</th>\n",
       "      <th>dropoff_datetime</th>\n",
       "      <th>passenger_count</th>\n",
       "      <th>pickup_longitude</th>\n",
       "      <th>pickup_latitude</th>\n",
       "      <th>dropoff_longitude</th>\n",
       "      <th>dropoff_latitude</th>\n",
       "      <th>store_and_fwd_flag</th>\n",
       "      <th>trip_duration_hrs</th>\n",
       "      <th>pickup_day</th>\n",
       "      <th>pickup_hour</th>\n",
       "      <th>distance_kms</th>\n",
       "    </tr>\n",
       "  </thead>\n",
       "  <tbody>\n",
       "    <tr>\n",
       "      <th>0</th>\n",
       "      <td>id2898909</td>\n",
       "      <td>1</td>\n",
       "      <td>2016-03-03 10:30:21</td>\n",
       "      <td>2016-03-03 10:43:49</td>\n",
       "      <td>1.0</td>\n",
       "      <td>-73.991409</td>\n",
       "      <td>40.750320</td>\n",
       "      <td>-73.978813</td>\n",
       "      <td>40.762032</td>\n",
       "      <td>0</td>\n",
       "      <td>0.224444</td>\n",
       "      <td>3</td>\n",
       "      <td>10</td>\n",
       "      <td>1.679710</td>\n",
       "    </tr>\n",
       "    <tr>\n",
       "      <th>1</th>\n",
       "      <td>id3276089</td>\n",
       "      <td>2</td>\n",
       "      <td>2016-03-23 18:39:57</td>\n",
       "      <td>2016-03-23 19:01:06</td>\n",
       "      <td>1.0</td>\n",
       "      <td>-73.981850</td>\n",
       "      <td>40.773289</td>\n",
       "      <td>-73.978973</td>\n",
       "      <td>40.757240</td>\n",
       "      <td>0</td>\n",
       "      <td>0.352500</td>\n",
       "      <td>2</td>\n",
       "      <td>18</td>\n",
       "      <td>1.800872</td>\n",
       "    </tr>\n",
       "    <tr>\n",
       "      <th>2</th>\n",
       "      <td>id2303543</td>\n",
       "      <td>2</td>\n",
       "      <td>2016-03-03 11:34:33</td>\n",
       "      <td>2016-03-03 11:56:03</td>\n",
       "      <td>1.0</td>\n",
       "      <td>-73.873032</td>\n",
       "      <td>40.774055</td>\n",
       "      <td>-73.744003</td>\n",
       "      <td>40.776676</td>\n",
       "      <td>0</td>\n",
       "      <td>0.358333</td>\n",
       "      <td>3</td>\n",
       "      <td>11</td>\n",
       "      <td>10.868779</td>\n",
       "    </tr>\n",
       "    <tr>\n",
       "      <th>3</th>\n",
       "      <td>id0955609</td>\n",
       "      <td>2</td>\n",
       "      <td>2016-05-23 21:02:17</td>\n",
       "      <td>2016-05-23 21:13:37</td>\n",
       "      <td>1.0</td>\n",
       "      <td>-73.968178</td>\n",
       "      <td>40.762280</td>\n",
       "      <td>-73.970680</td>\n",
       "      <td>40.788422</td>\n",
       "      <td>0</td>\n",
       "      <td>0.188889</td>\n",
       "      <td>0</td>\n",
       "      <td>21</td>\n",
       "      <td>2.914502</td>\n",
       "    </tr>\n",
       "    <tr>\n",
       "      <th>4</th>\n",
       "      <td>id0548011</td>\n",
       "      <td>2</td>\n",
       "      <td>2016-01-19 10:18:47</td>\n",
       "      <td>2016-01-19 10:27:54</td>\n",
       "      <td>3.0</td>\n",
       "      <td>-74.017197</td>\n",
       "      <td>40.705070</td>\n",
       "      <td>-74.007240</td>\n",
       "      <td>40.722599</td>\n",
       "      <td>0</td>\n",
       "      <td>0.151944</td>\n",
       "      <td>1</td>\n",
       "      <td>10</td>\n",
       "      <td>2.122055</td>\n",
       "    </tr>\n",
       "  </tbody>\n",
       "</table>\n",
       "</div>"
      ],
      "text/plain": [
       "          id  vendor_id     pickup_datetime    dropoff_datetime  \\\n",
       "0  id2898909          1 2016-03-03 10:30:21 2016-03-03 10:43:49   \n",
       "1  id3276089          2 2016-03-23 18:39:57 2016-03-23 19:01:06   \n",
       "2  id2303543          2 2016-03-03 11:34:33 2016-03-03 11:56:03   \n",
       "3  id0955609          2 2016-05-23 21:02:17 2016-05-23 21:13:37   \n",
       "4  id0548011          2 2016-01-19 10:18:47 2016-01-19 10:27:54   \n",
       "\n",
       "   passenger_count  pickup_longitude  pickup_latitude  dropoff_longitude  \\\n",
       "0              1.0        -73.991409        40.750320         -73.978813   \n",
       "1              1.0        -73.981850        40.773289         -73.978973   \n",
       "2              1.0        -73.873032        40.774055         -73.744003   \n",
       "3              1.0        -73.968178        40.762280         -73.970680   \n",
       "4              3.0        -74.017197        40.705070         -74.007240   \n",
       "\n",
       "   dropoff_latitude  store_and_fwd_flag  trip_duration_hrs  pickup_day  \\\n",
       "0         40.762032                   0           0.224444           3   \n",
       "1         40.757240                   0           0.352500           2   \n",
       "2         40.776676                   0           0.358333           3   \n",
       "3         40.788422                   0           0.188889           0   \n",
       "4         40.722599                   0           0.151944           1   \n",
       "\n",
       "   pickup_hour  distance_kms  \n",
       "0           10      1.679710  \n",
       "1           18      1.800872  \n",
       "2           11     10.868779  \n",
       "3           21      2.914502  \n",
       "4           10      2.122055  "
      ]
     },
     "execution_count": 76,
     "metadata": {},
     "output_type": "execute_result"
    }
   ],
   "source": [
    "sample.head()"
   ]
  },
  {
   "cell_type": "markdown",
   "id": "e57a2969",
   "metadata": {},
   "source": [
    "As we can see from the above matrix the distance_kms column has a positive co-relation with the  the target variable so we can use it to create our first benchmark linear regression model"
   ]
  },
  {
   "cell_type": "code",
   "execution_count": 78,
   "id": "96a052ee",
   "metadata": {},
   "outputs": [
    {
     "data": {
      "text/plain": [
       "Text(0.5, 1.0, ' Box Plot for distance_kms variable')"
      ]
     },
     "execution_count": 78,
     "metadata": {},
     "output_type": "execute_result"
    },
    {
     "data": {
      "image/png": "[encoded data removed]",
      "text/plain": [
       "<Figure size 840x560 with 1 Axes>"
      ]
     },
     "metadata": {
      "needs_background": "light"
     },
     "output_type": "display_data"
    }
   ],
   "source": [
    "#checking for outliers\n",
    "plt.figure(dpi=140)\n",
    "plt.boxplot(sample['distance_kms'])\n",
    "plt.ylabel(\" Distance in kms\")\n",
    "plt.title(\" Box Plot for distance_kms variable\")"
   ]
  },
  {
   "cell_type": "code",
   "execution_count": 79,
   "id": "a1f8514d",
   "metadata": {},
   "outputs": [
    {
     "data": {
      "text/plain": [
       "count    69263.000000\n",
       "mean         2.913444\n",
       "std          2.930460\n",
       "min          0.000000\n",
       "25%          1.189397\n",
       "50%          1.984817\n",
       "75%          3.488179\n",
       "max         85.884973\n",
       "Name: distance_kms, dtype: float64"
      ]
     },
     "execution_count": 79,
     "metadata": {},
     "output_type": "execute_result"
    }
   ],
   "source": [
    "sample['distance_kms'].describe()"
   ]
  },
  {
   "cell_type": "code",
   "execution_count": 80,
   "id": "0f288d3e",
   "metadata": {},
   "outputs": [
    {
     "name": "stdout",
     "output_type": "stream",
     "text": [
      "[10.868779277603032, 10.357937494148308, 8.177872475425243, 9.01670304479258, 9.266683780843033, 13.941879395536247, 21.718901805478385, 7.064000264801301, 9.576437564927792, 8.161658983594519, 19.565326798900653, 13.743859266044325, 21.665999806799814, 17.42223917309022, 15.622160274534654, 15.280723790132315, 10.793001678205814, 9.093732063516482, 13.670534044185358, 9.369006953471184, 8.106085182371775, 10.906149778798268, 9.57891632527618, 8.655079445236852, 16.586423609013863, 8.112640410277342, 10.606031702270322, 15.768091834255705, 8.5166068368245, 7.16841622097577, 16.934435299125074, 12.463385577565965, 18.917735158838813, 9.078473021811535, 9.124082768460203, 10.80580480998995, 13.690179071250745, 12.663995146040238, 7.844914747414473, 8.095558567046663, 9.115827312751, 8.239622933726837, 16.247315609420404, 9.240616684768806, 9.298141736757632, 12.818441422659848, 10.358521786600397, 14.281037592353632, 7.346664027571051, 6.999923761312495, 13.461973812962361, 7.154752534275404, 15.755042795319191, 8.85665709719505, 8.057802542933693, 7.58315540096476, 7.164104931996684, 8.277356043820586, 12.24086589245531, 9.761898741186933, 19.85278225191175, 18.64792357868585, 8.553666598036834, 8.964344474197462, 7.011986719795818, 17.54915538568654, 10.491480389003423, 9.43167655687253, 9.958882196070594, 11.947414430593543, 12.856874525453783, 20.833599881534642, 11.770333098616243, 9.835856940999056, 19.000620493152027, 16.919100446295435, 7.994164601368674, 7.893769170346046, 14.169868330115042, 8.647393450939935, 9.193062859318024, 7.142681192925381, 7.457139633646894, 7.988769297099738, 8.338865865903797, 7.84904495195144, 8.121212938594875, 7.915299260498507, 7.766898134309435, 10.917606802777433, 8.325517504541999, 7.20022203311732, 12.14431497608061, 13.010452830066747, 7.629362255791387, 6.969964865725316, 18.851232601058395, 9.53425847169004, 11.068033610247092, 7.62729400181607, 7.915949049029064, 13.394790965307077, 8.201981417916441, 21.085739086836597, 6.9700398679766264, 8.250393362453108, 8.96097983888751, 8.29439685676229, 9.19379110874807, 7.560498184532533, 9.507410369206648, 6.995395541818967, 12.328616620207997, 16.19358776078466, 8.444771532174126, 9.529671561987586, 9.76309564794684, 10.929306146606992, 8.857728119053153, 9.695038593657074, 7.3510999521639055, 8.26202905652729, 8.556317364256222, 11.061454047910722, 10.509935932573395, 9.640585289122972, 9.187718411371135, 7.981279940138425, 7.498766200327, 20.200952764568587, 10.04732725739889, 9.006908736182165, 14.05332223190446, 7.188019138579001, 7.6318318849050995, 10.40888086186721, 9.024980028811314, 11.049143020482616, 8.979460140718132, 9.797189781853062, 10.665680838646024, 10.777097690794628, 7.646860233692087, 7.637451338087433, 7.1223877664801725, 8.487966646838881, 7.376864129554309, 21.252132734534957, 7.018608368458782, 8.966012807620675, 10.171901825998422, 8.582268497913823, 17.1879649661447, 18.453516765478323, 10.287711569073238, 7.09221787206057, 9.566121019973552, 11.771340704742652, 14.187833981681603, 10.964550841953443, 7.751434046379556, 10.975020968499463, 7.380152825108198, 12.262575802139912, 9.391266225970304, 8.177866967014923, 7.156887997426893, 6.986197677948061, 15.54375377071691, 20.289267906994084, 7.094002973871018, 8.052878086633726, 10.538040983037138, 20.858139022666027, 14.64456014344894, 8.22981538026734, 13.630806051679716, 7.706512255104907, 8.421752881009429, 13.493786021228555, 14.344712413740188, 10.89910759159095, 8.972705492078932, 9.427321343106515, 7.777252843006679, 9.135251119263506, 10.469674054285255, 9.301639455704962, 7.866878337671489, 7.101344132735972, 11.634840104646115, 7.712930875109494, 9.476243566319623, 8.520515658069899, 8.49954883875689, 9.707738860265941, 8.431926248036508, 7.225924720215083, 19.378439236243196, 9.669312000754466, 7.968998140530882, 19.64634736315111, 7.037046769226599, 8.146961280196248, 19.809049585576513, 19.306864506590088, 6.96152057428399, 17.243586440736074, 12.522152723889803, 7.825326093354505, 8.02387442675454, 12.395167770893037, 7.08011099616862, 8.030304495572421, 11.176503715487286, 18.650402323710637, 10.59755766812225, 7.403561821352926, 8.154031726455043, 9.439002441181213, 9.644352177945722, 10.465383847232669, 10.61794579119981, 9.641885197451048, 10.504095299938392, 12.600154542060599, 9.68068188758207, 19.313954216606966, 8.131694797712655, 10.830256271862957, 8.341626096337961, 8.632874522092163, 7.3508268636089555, 8.948800659519708, 23.14085383094287, 8.5313615099169, 9.743898803569074, 7.770769264066169, 10.857616758959447, 7.22281473918527, 7.244767283251545, 8.870838465017375, 8.608499102493646, 9.492485297416902, 8.56409917740437, 14.936653244319011, 9.449072687121387, 7.092942163432742, 16.44695985663306, 8.641831068847633, 7.5513267069083625, 20.497065903226105, 8.795465909017235, 10.87327252585084, 9.306906853535024, 10.899076985847822, 11.499884043171658, 8.716313747177077, 11.43359132848999, 19.081958827721486, 12.87983016133684, 10.614164047886593, 12.849779613229991, 19.026366132853834, 10.940041911144531, 7.678320391640082, 19.433418952529074, 16.7489375513837, 7.772287962884259, 15.972521430899942, 14.63140479293377, 10.196467508264744, 19.45211077242591, 13.0100321669534, 7.179720415474258, 15.899727369795402, 8.242209263639166, 8.943879370333965, 10.10426183530439, 13.489691979046766, 8.957469707811905, 7.134569956750668, 9.377662919759787, 18.120441219175166, 23.655390895776026, 12.890918062897144, 7.640188536000499, 10.070960082453006, 10.785916274242124, 11.61963958797136, 10.398455259148433, 8.453491676407596, 20.870268066903957, 15.953220348360668, 9.840577490285032, 9.066392429013293, 8.101069850431623, 9.373395760739017, 15.549642906319795, 9.334754532341636, 7.126063822722646, 8.22777408328569, 15.216395113734402, 8.675798673160221, 21.696063058933188, 7.894194373271483, 9.406409294655072, 11.715098494417413, 11.009651875748709, 11.318634241662485, 23.48804653895283, 9.170056133086208, 17.544976340929097, 8.28288088963133, 9.690329333322905, 13.677103492324564, 8.677990731047235, 8.488808636986121, 11.053912619874199, 9.074954003660714, 7.361237426801419, 8.52971524963885, 9.738170960531729, 8.36887336756273, 17.65785100411045, 10.04397667268692, 11.68446966606373, 7.76173070164337, 8.696224990513816, 12.349479336829873, 7.054238394154073, 8.076887543822314, 10.71471360265882, 16.41538005798231, 20.05925266972963, 10.180058420704976, 17.025596254683123, 8.443385891790314, 9.43402031214291, 14.37417969372641, 8.208669305684015, 15.805796708638395, 19.690651048267284, 10.837642836416661, 7.030416782295544, 7.618985953311693, 6.9616139614363695, 10.092440206319647, 9.559618289469094, 8.236823699438132, 7.436340660405039, 10.927089427668088, 8.175670459212608, 16.001202336212735, 8.912713708779604, 9.350449916846095, 7.557145888601562, 7.88239758372782, 8.900486197254134, 14.56926593483499, 7.49173883470819, 8.713146723760033, 8.305731857905743, 20.191833700806725, 10.917542037599157, 7.081782352872968, 9.87589785842303, 15.933796783238265, 7.320722273180813, 11.731657184648986, 8.56077360211525, 10.310362081451585, 9.95931082727148, 8.596116470408594, 7.252270513797946, 7.777921755578266, 11.483643484271088, 8.080893140360052, 8.707707721089065, 15.406593864067812, 7.00088867879024, 8.066348702873881, 9.165802143550998, 6.958701312235516, 8.82055665974942, 10.758346675032143, 7.2041760719001635, 20.17867957421353, 21.54963661775324, 14.883819164236195, 7.499295258232183, 7.893652130937979, 10.409676099436533, 8.423652175591974, 9.632712409865984, 14.857886551934982, 7.987919230562493, 7.452148908498346, 8.341424567046154, 8.529147339456625, 7.798903718563712, 13.030312088515164, 11.20248596192549, 7.653487486569067, 21.113479651805193, 7.173341988551599, 19.862050815332875, 13.6184511638685, 11.872374790373224, 8.286610141570817, 7.3845788586155825, 8.131911844124742, 7.982641068858832, 11.386869883140795, 10.42607572229419, 14.497630307702284, 12.817724733758256, 9.137774970968767, 16.86309469359654, 10.07111170245818, 14.49479603083506, 7.077754565944226, 8.550981343198847, 7.663876434251065, 7.463304770813734, 16.856878296542398, 7.588209802872006, 14.33704045988293, 9.88715147888016, 9.70575551077392, 10.63169922444995, 7.226198831548575, 11.181807511123765, 9.11080370736801, 7.2896904261802415, 9.275210311538904, 11.148554886968894, 20.179523421155785, 7.204114246345091, 12.761250493203665, 10.571965273690758, 17.211179843884505, 12.783500625165464, 9.621748742553635, 20.072836601615155, 9.86708483330024, 7.521320191245819, 7.333482413518374, 7.3748432117739116, 12.693109269451922, 14.165746655043195, 7.438248721560663, 6.9509495206962395, 19.52141816167868, 7.791254574014435, 6.959121901409863, 6.982911908969946, 13.421830242074812, 7.3593627556823975, 7.870061911545926, 8.945151231508838, 8.77970939913602, 10.268789746701962, 27.110612521127596, 7.358374745545637, 19.59091614119292, 7.78403518164032, 9.52894265844962, 19.74582601637504, 15.931750717809829, 20.525187708364033, 8.98883103321016, 7.346419747018499, 11.341354298240379, 9.629104661867979, 6.984028848871578, 18.818586235816763, 8.932234275492227, 12.484274572133739, 8.655751262110126, 7.93431914573114, 8.158470460291513, 7.605637689499722, 8.679324167065623, 7.698911575933696, 11.930971522382809, 13.040185725233838, 16.072495480245838, 6.939794535508412, 8.437559506446378, 7.571738712568673, 7.121144441086488, 9.746997961602789, 7.797573142836279, 10.510336367922369, 7.027652279484894, 6.973430914420114, 8.00783440594801, 8.741712346250615, 9.442615317139458, 13.62916402721862, 11.176652388288542, 8.914285438887976, 10.08876653532943, 7.370771749652844, 9.072685008782175, 10.302141655822691, 7.091754029570817, 13.984755908107605, 12.60022844285732, 7.791928444193043, 7.537216196018289, 9.839148988171985, 12.496181448025682, 13.607469148655762, 7.065682114114313, 10.576056511594084, 7.365184911797141, 7.233192314974781, 7.958829694167911, 9.587935262906557, 9.803440392056178, 15.881391899302207, 20.709516048390775, 10.12597378334381, 20.22899085979911, 8.928718929554012, 9.006835013831724, 10.989073939535235, 11.171376591988993, 8.59433068226545, 8.464676449752812, 6.946636364036545, 8.604015069873899, 12.25005103514853, 13.109661730878523, 10.978755917289693, 9.441714005664027, 8.608495016705486, 9.671054829174437, 7.280543413252502, 9.002414891957727, 19.459327590628728, 15.581980013182251, 11.656364329006042, 13.612925576568443, 9.752556423619602, 8.591362750969404, 11.971318961904316, 11.589634631744312, 8.393208921682671, 21.04712596138008, 20.78069789313348, 13.593489950668006, 16.16185292408393, 9.08667495920824, 7.062936055684736, 7.618418629020765, 9.903426355281288, 13.825946474320439, 7.8293998629317, 9.010331112350578, 14.055123394213531, 8.580634326927957, 7.253547470964479, 7.303999351532583, 6.9512847940672255, 9.750621258093469, 7.101616770698983, 9.307475755832598, 8.917676781083756, 8.130949114212436, 9.633094268761994, 7.069344898801075, 6.95832399274357, 9.241739751948893, 13.666083973594786, 8.210274447720296, 9.440084381438421, 13.034101190349183, 19.502419768782804, 11.054553394469277, 11.729752665713834, 8.601214435959465, 9.290654203756928, 7.132530516675815, 16.71386765727003, 13.187705328454767, 9.936418645063853, 20.68776755012586, 13.637435137084534, 8.444404484767862, 7.462552815949783, 8.200815595237408, 8.060487810403146, 14.088540827469856, 16.42691097282079, 7.675006879028799, 18.930474463768068, 7.39427696005944, 8.437451924314104, 9.204662472668678, 7.103322614461005, 14.234065887652907, 10.207959079303357, 11.838434581385718, 7.8388138871743855, 9.533070025841754, 21.186779903146963, 9.232727067639344, 15.735551766761292, 7.060261318165796, 9.722017039982623, 10.471764582656874, 10.129382346375714, 8.931820579308837, 8.645650440398692, 20.010479460067213, 9.791325993284595, 8.376181712754821, 7.235089510899807, 9.579838112848147, 7.057595501943732, 9.7602453792628, 16.69815013071701, 16.327585656004214, 13.950572757164782, 8.505588595220337, 7.4590029741137975, 12.942308060088122, 13.53914738858189, 9.669170910419684, 19.40638388347686, 9.79038672382462, 11.861483267180207, 8.114525395528563, 11.372099622448355, 10.915098659084226, 8.094528561395284, 12.973748736009398, 7.614687607116196, 7.302332853823438, 19.28073193525247, 9.32182603399296, 7.642608195643661, 10.259769243278548, 12.421200533026804, 8.631442873728203, 7.188513386179141, 20.88458507249274, 19.790443838214873, 7.1719722787477895, 9.214653446781668, 7.190225700865029, 8.290561649754995, 11.353051106937944, 12.326387608818969, 7.060212465185982, 15.619661725951586, 9.019514965589396, 9.85371705011013, 7.054339199279706, 8.403984614654346, 8.011022567488947, 10.042167825905246, 20.240201361966832, 8.886619626727654, 9.716958634303452, 7.723961199227711, 9.448765183929101, 8.92261937900293, 9.353308085049827, 10.610845124442571, 9.00039819771083, 9.255818816300325, 21.5677499856742, 20.50844233052339, 10.833415419362012, 7.432876322063389, 7.114376842523743, 17.24466200014637, 12.569369052860702, 9.551385015944236, 20.665769420354366, 9.814898400276308, 10.20417495918657, 14.780520311379663, 8.032968637272448, 11.376966620804447, 11.800875266066907, 12.598626288494575, 7.289929120736002, 14.48284817776115, 7.547049665526896, 9.38379745608449, 15.670523009852099, 7.4994326459990495, 7.414455442153182, 7.790041490744444, 11.11456760979818, 8.348741799428886, 7.2289047071656105, 9.591611170711486, 17.271158839337083, 8.423457711312293, 7.433357726236151, 9.04365704753923, 13.061648362732182, 9.029214263622906, 9.96090297933748, 9.767247134785102, 8.279776735223848, 11.325355346287912, 7.253285707748531, 7.376709082953794, 8.395427941906048, 9.218665401642232, 20.259620702513935, 7.233536180443995, 9.246769521458306, 7.1131969636182, 9.017236777237782, 13.067031969786544, 12.878591611605438, 9.250738632310979, 7.727547002025058, 18.4426545506665, 9.063160159925534, 12.299298909048098, 7.131806370246134, 7.582770041694626, 8.92888225857918, 11.16954124428335, 14.172403903577255, 20.811544110781714, 7.903649503628355, 8.994006501004122, 10.751871207508797, 14.558011084254327, 7.737389180502394, 7.270402312508866, 7.794759063385508, 6.943866763996451, 12.59337880329762, 13.538007769874152, 10.364646156805737, 12.794705099647185, 9.934766628983041, 14.8383889527282, 9.818228078908295, 7.388742513347932, 18.111040206654238, 10.226767400754127, 7.366574836662398, 10.209605716149957, 14.53471772094878, 7.9558772834983005, 13.830040505550562, 7.043490754679405, 13.750338150496228, 20.84867630134627, 9.904699113635271, 8.243454500004045, 8.890469196259199, 7.264351550099917, 8.21701727641714, 8.350705084813596, 9.847935284980364, 11.058192598470697, 20.493295722481605, 11.55314762877412, 13.998431724606395, 11.562603281948372, 7.471636848761411, 10.597040335708419, 10.013771133169156, 25.12988560439391, 14.825853088480878, 7.962772576964048, 7.535746451694806, 14.06104439943118, 7.909764641439885, 9.106892340329386, 15.89021159470721, 11.435190579054977, 7.953659638196105, 7.3729603833786275, 9.595964876068473, 20.347538772171873, 9.383475035875902, 7.763105568944127, 7.111198707825165, 8.419539237219366, 8.76812221772194, 8.04624387014385, 8.337366381647948, 11.60530629254369, 10.217587304871708, 10.285453646264278, 10.470154184936812, 11.907936156448704, 15.862980574665157, 10.401096047214601, 7.19355985037617, 10.900154325080898, 9.361006973527516, 22.628304674250177, 15.769584022682912, 9.046264172152535, 9.598499020613259, 15.299150549827166, 8.966573902316435, 9.847879564010295, 7.041762170982602, 7.652432052319935, 7.705212255969618, 17.600403625553138, 10.88541246867314, 13.166941267166896, 7.4761686295292495, 10.889128425149245, 10.420214819025862, 21.30482707514872, 16.2202886875687, 9.932297451940068, 7.355537741837333, 11.598396380584026, 9.511703599668659, 7.779476887620111, 9.284161570522643, 8.916485705440428, 13.027943516332014, 14.30379762630433, 10.123296940618307, 12.049091386604905, 9.870848791147463, 10.344709269062433, 11.936814695637223, 9.333188375446662, 8.685503347975784, 11.27933820459107, 8.668869485870871, 10.600564975813118, 9.585719729474686, 19.265449357842314, 8.646663929821765, 9.146546470428808, 9.11436180823235, 9.948626833614206, 9.499667309398768, 7.8463371483668665, 8.335379115776446, 9.85527001390926, 14.398401853032045, 9.056704128688706, 15.898506411481575, 15.217271645150396, 7.968721250010523, 9.252159185480224, 8.021718623306448, 7.204905980707398, 6.949728406075867, 10.121740916326269, 8.599940405959352, 7.5305840070461985, 7.393372476644978, 14.635161509020616, 11.751377463135787, 8.666364969745231, 9.137106111031772, 10.188170892971234, 8.27935636200377, 12.28280713332326, 8.38263663710134, 11.580490593341452, 7.929649376674204, 8.503076862084171, 9.45968122445725, 10.570350466907202, 8.39606054153463, 7.197808005428974, 8.588525573863295, 9.627854473404899, 10.237991413512807, 10.688301511723727, 8.142191505362865, 9.664947059749423, 17.321412136384858, 12.504213386196582, 21.34310538659456, 9.598934126799339, 10.93424937188391, 11.572222796200297, 10.499825965262477, 15.604782201160303, 8.534917271388627, 8.65213859987811, 18.919424420076382, 7.069272732470589, 9.272877907512445, 11.564339384286614, 9.796739279704385, 19.357132983904418, 12.390882558468313, 8.533357880574979, 9.832895395961415, 9.223488145731846, 7.91765687481931, 12.712188704821838, 7.665005664065923, 7.791425192965778, 11.31278811051467, 7.186490735603888, 9.392345864984383, 10.307312835594653, 11.270848720200124, 9.48451666396629, 9.887278180013588, 14.60075406590132, 8.811219955888856, 8.170951380996105, 11.265915089563258, 9.112804614953056, 8.76194049016288, 10.710362202741615, 14.575832813305784, 7.197690564388067, 13.606013477568887, 9.281734224769925, 7.22203957332382, 11.624582351711757, 7.882143768872503, 7.7131345593237866, 20.483404356067496, 19.938907263491107, 9.715486750595865, 10.506297924876963, 7.525704992798781, 8.96700138902812, 9.455264345545652, 7.731100609832363, 9.217019335556767, 7.061566152675523, 7.265793395067769, 7.187762577659246, 10.612246591984306, 8.204103835597769, 7.228352293115251, 7.71523704638722, 7.006427337547215, 9.671902002003755, 18.01485113073612, 8.623036218079923, 9.831551743311621, 11.948211787497705, 7.041228664053118, 8.329650924061875, 13.05139396683895, 7.8445675104223325, 9.299305737357086, 11.407616490228719, 11.661612168987137, 9.151765534274805, 13.24369416506434, 9.772870543685741, 9.07850039783027, 7.125412184013371, 9.431359558526495, 9.8547460868855, 18.207853998439806, 13.773789402139442, 8.124862283116437, 8.68606007065111, 16.995076491886977, 9.439225742600126, 7.993627170166617, 9.17018265605471, 20.174659439498424, 7.0067985152638075, 9.788047126916128, 7.327435026093681, 8.421385647282627, 8.085970524062803, 6.938602427741562, 9.94028972499695, 10.997435438476463, 9.017425712669649, 15.615980465492955, 11.197756509655372, 9.249657410577575, 7.873417894525298, 7.530685094763795, 14.682444502977502, 16.408022289355575, 10.211585866079265, 9.94475616857703, 11.070559729336637, 17.868471457504914, 10.276166736458917, 9.302516952423987, 7.555133060596005, 20.850397050493463, 8.047166887723963, 8.813945580071262, 10.17421243903232, 9.664051073442607, 8.713699542884353, 7.913053559938148, 9.042613835114604, 14.007316798358946, 8.05597072181993, 10.798186374235144, 20.265121023267312, 7.955936153829895, 7.830712025785911, 7.302400252973725, 9.245952340893146, 12.46461467883849, 8.38713237155004, 8.552231386157898, 8.584779672111827, 7.213701051340417, 8.856144386881065, 7.310566890181867, 13.709671795711184, 7.551312143603171, 7.2952921629269785, 7.918010640755871, 7.021365670647766, 7.518302908995234, 14.623289120581443, 14.725856398422485, 10.175590837500842, 11.221273917199031, 10.893976823488769, 7.616376320169769, 7.894441981628267, 10.56212349223368, 10.623367300386136, 9.655403995757219, 9.346217264053703, 9.464927863922432, 9.939768146377084, 9.069223543045046, 9.456665195891988, 18.223233919296458, 7.952530535973037, 9.766541670202137, 8.658224422589416, 8.217528663152143, 12.663061682253652, 9.482184704774816, 19.400219760366785, 10.060229329944718, 7.445880190657274, 7.979319179422885, 11.259838321184912, 10.435251333553017, 7.028389190110655, 13.527200893157904, 15.69659973250534, 7.385943813067003, 9.767338138669214, 16.197648780528237, 12.52270632913285, 11.920531429262399, 8.323859739034633, 8.768402456278741, 19.08893868712637, 8.803052518443055, 11.96875481120667, 10.696002342916085, 21.547566505841708, 9.184354659122851, 18.80879446907288, 11.498440342185699, 7.194592193952308, 9.430917007215255, 8.963870628454435, 8.840737174343348, 7.157895970519772, 12.460469551388394, 8.938969013161955, 10.045920758355017, 7.797748989380135, 9.234843039303664, 10.040078718371712, 7.632479751450883, 7.819732002492308, 10.190956675022425, 7.743484639608898, 7.826863846393428, 10.607562975035298, 8.094836218228492, 8.476088365679425, 7.501675635342452, 10.056177135080985, 9.884340362763188, 7.362284586148948, 12.470323680904146, 10.58881658586678, 9.229551771470431, 12.577013390380404, 10.051695301105692, 15.452240141404198, 10.620183568454749, 12.609341961966283, 7.146383685772466, 14.098345941240645, 9.710889401869993, 14.21298445314822, 10.956093845965095, 8.626897060985952, 11.594581124447867, 11.760863348830146, 8.55784752310187, 10.941544449078668, 10.140210845397027, 9.23695336616988, 13.223180701548886, 10.693479130679908, 11.8576024154676, 9.219756646620043, 9.312006938564338, 8.696431114799628, 7.099865642217095, 7.8696700244903015, 10.015271978115315, 9.46511021993517, 12.235665562048245, 10.472035147810075, 15.448290466589256, 9.244882585748202, 8.382986078003038, 16.086942772559397, 10.26468889858712, 11.775219487698955, 9.28513518896216, 7.561867060742111, 17.098645361573503, 10.259722325007214, 13.418991537151397, 9.925555035665958, 9.783616484347906, 7.115023471950022, 8.779194444953557, 7.081444504806616, 7.469899105785318, 9.768331532724362, 13.07585124153546, 10.1622343936005, 8.985818624168363, 8.650259979302973, 7.701020361242856, 7.038675562117877, 7.55625517758197, 11.550100612487011, 9.439392504949714, 9.748022809942787, 12.77779617741148, 8.556894114432202, 11.800462874974116, 7.039151393558345, 17.041210647627263, 12.556634130117635, 7.700287307987806, 19.130223044809444, 10.356316571166003, 21.43521172433551, 9.2705257509026, 22.332819435600104, 8.266106366511792, 7.858845027812791, 9.373099278670793, 20.416174424751222, 15.397361701513283, 7.4133711990638265, 13.718803043375964, 7.024910047237486, 7.7211040178439765, 9.22525884235435, 21.879128150871086, 9.796433725077929, 12.009941313171016, 20.47726329181285, 7.957995265826799, 13.175891327432957, 7.886983538971966, 11.324655825033565, 7.03951267951271, 8.187773018833886, 9.177360792663922, 14.299313164355754, 10.460350832760017, 14.258248571594647, 8.80428557715343, 10.903392234088079, 7.33694957100333, 7.19248390981082, 10.606458168524316, 7.874355993526507, 6.984874914161063, 9.674878243743109, 6.9438635597709455, 12.839741618791514, 7.656310302620879, 15.76468417696847, 7.227317689379777, 7.986168247528204, 10.158446167755505, 9.518662433465158, 12.433203878748767, 8.01287987373628, 6.992511578192432, 9.277165150362542, 12.052066056180475, 9.461489019416959, 9.738925206727306, 9.609827581496594, 18.89194280967171, 7.8429418077519255, 19.473356759993116, 7.77603779742353, 9.578836638314657, 7.904933673468109, 7.097764294768078, 7.17355201374699, 11.200952086558457, 9.338225977059892, 18.663684261803592, 9.356719251801469, 14.1196271399345, 7.972805466382809, 20.14073089063627, 9.71265910850772, 15.820529680320485, 20.51217293116353, 16.96720317820679, 7.226325694615727, 7.626817513432149, 8.353129971010494, 13.101615590426654, 9.28286507414655, 11.33567807877175, 23.359791819789635, 9.490463463229847, 10.88008887199142, 9.690467220433133, 7.728622167712299, 9.121801841590043, 8.495063990283214, 9.94579864480057, 9.754711815496913, 7.955747939520012, 9.08944455895537, 10.459650666270887, 8.622108584774713, 9.212434537167928, 7.686966867157029, 19.21002374955936, 14.363670281300559, 14.835571498255794, 18.73980008716989, 8.384744845037257, 20.137401043220226, 17.449785932052084, 7.398071057348272, 10.902049952489808, 10.244564386724743, 22.088617605844508, 7.845440782120646, 9.283888868004563, 7.256286969681099, 16.03311758593089, 12.552791889690583, 7.65463891669135, 10.356874346201538, 20.786663018590893, 9.217518714475277, 7.634385117377808, 8.380626481401247, 9.372305346589938, 7.6623283994962845, 6.979246686853178, 7.777703117097878, 12.907316668815458, 11.440450707756096, 11.411804388773067, 8.918065090210355, 8.567076096721978, 21.16621315886958, 9.550047190044626, 15.049269480334372, 7.372196440089822, 8.66562553470236, 7.450002338686043, 10.754616610674404, 10.749778018289046, 20.687283036172705, 7.478594302845028, 6.947071744255874, 8.561943056558361, 14.64273490867494, 11.406013721206254, 17.952994705638844, 11.17271400107128, 8.984089172389584, 8.444286929852396, 11.861657625121294, 7.148346564558882, 10.995475998879618, 20.15630704814962, 9.815966044014905, 11.373471179624907, 13.343181047327192, 7.070690142867477, 21.081651453342207, 7.782761714645501, 15.244262418754609, 8.531877347663489, 7.165785242117709, 7.268019379099083, 8.185310203337917, 11.06036186707262, 7.106876873258067, 9.16977863308899, 7.6592653712721015, 7.01382513028076, 8.529658889327308, 9.132476963213493, 9.295591744142573, 20.023661216311872, 10.445050665787198, 7.586847885957224, 8.161825382923968, 12.790020290184554, 8.936864744521102, 7.756248621566489, 7.610846013030269, 9.655224713755178, 10.674519586347005, 8.29323631500195, 11.16187293778518, 7.864766443833374, 19.50366518252154, 10.422221707920102, 7.133346451143849, 7.428014971207653, 11.1338672150592, 9.424204140655654, 8.353496586288685, 6.949750750166411, 11.340020851985054, 15.66774690383154, 17.17883808144365, 9.463960656258763, 20.757107817562993, 14.296607832101746, 10.26133227698451, 8.867169387683555, 11.752556679289668, 9.282464320767591, 16.343748389781606, 9.230562535105516, 7.168724828757061, 7.511841901724804, 11.018750598391904, 17.847388238676785, 9.968072134082021, 7.155018135692528, 8.249173754083463, 12.978801641685461, 10.502642268395721, 9.181185211556828, 16.0332640609553, 8.46502058150459, 7.170846718122109, 8.303940046571363, 9.994211988610605, 15.820067374160118, 7.794025985433216, 8.885948683843365, 12.84706504988005, 7.8093596914142145, 9.153437287546828, 7.345609255973389, 10.950405762279159, 20.491230416617256, 7.3245167292755085, 7.1306821108785226, 7.371087876472491, 9.078692346770225, 9.301846460301359, 14.07833434406089, 8.068671737331139, 9.476868664626071, 7.1556898810947365, 8.411530597342747, 7.986798878268146, 7.676102910933283, 8.261215439853315, 8.648987285029083, 9.980910704099207, 7.207841347186718, 7.460651871611384, 13.734185745535603, 14.404324287388844, 7.801395193001745, 14.233632780651957, 9.670767656333453, 9.496568236692122, 8.35845952123543, 17.814104935608064, 7.522673509255408, 7.398141223133537, 9.878156879559812, 13.52251531572254, 9.908049604936235, 11.090521684392415, 8.910402611996663, 15.035366050708875, 10.67652500992964, 12.037883837261132, 8.254219303097265, 7.067185755530706, 12.084021648065642, 7.336422091591065, 10.79580913652988, 11.67942728795067, 9.477029740466087, 14.551068581708355, 15.446699910374937, 9.035312826322164, 9.383896390024264, 7.980059757398189, 19.740710858830873, 10.468492037897075, 7.015223652784665, 8.78421159327337, 8.664423037034219, 9.14992361783404, 7.418372442215503, 7.103538563723664, 10.023076937740548, 20.580068791454593, 9.059196473475103, 9.061596646256712, 8.251190795979154, 8.22875045451461, 12.534678125200736, 9.746907574336676, 8.4397782496026, 7.1742532722798895, 12.16063661692308, 7.375049340141573, 10.850305673552837, 7.315551813236916, 7.2685775735583675, 11.948155195757327, 9.03679254799184, 14.557572576548122, 8.076847383101137, 6.952494752205814, 7.219121903052121, 14.006791255124906, 8.459581055968163, 7.325896767440027, 8.2499245165594, 7.873144510490881, 8.121064124901181, 10.47410394436221, 19.538059214677908, 7.2309400018239, 9.690736543613976, 15.569244430906961, 7.088278480009025, 8.534951316985186, 8.03990063494149, 10.066134504121342, 9.25441318425607, 10.196949411442473, 11.53444353475479, 8.604653221520499, 16.187282026515774, 9.72193675076443, 7.183225256032573, 19.987181392349942, 8.402278715321028, 7.4717432394511505, 12.384657622589145, 10.170954596817532, 8.041483249579883, 7.527552556831646, 7.393304852059519, 8.684493082784115, 8.817477404020925, 9.295746923483122, 9.05217192593876, 10.655096442043277, 10.67951549429572, 9.3037575051434, 8.936862963103973, 7.111034740105428, 8.377360254705842, 7.985001229168159, 21.021580911157358, 8.253453831682535, 8.840727082501694, 9.519287596399638, 9.0687089192961, 20.342334879197633, 10.694219676272597, 13.965232296683942, 8.01167539637491, 9.110727966275494, 7.010218299697341, 8.545577950301473, 8.33558000920149, 7.77833467140933, 13.696207435289791, 8.27751174133336, 7.25023641975482, 7.315266605862361, 15.065266717337233, 8.838504162690807, 7.340222592928176, 20.873080147975774, 8.295545323360054, 7.186362757562821, 8.741337470310816, 14.019514818232127, 7.731056603888377, 8.489299130376635, 15.461958896219791, 6.995599938002972, 8.65573946966107, 7.500903218148354, 7.207178017593432, 11.85959248601318, 17.419078595413165, 10.789126319922117, 7.6587122938777865, 9.52447802893794, 7.558416867258887, 8.281286675139087, 8.821283496703465, 7.752331687395283, 20.75296106892887, 7.986465368137618, 20.313602998440583, 13.02979549775373, 7.6054980234781, 8.149411494408145, 9.992024328625922, 15.236611433739961, 7.863424990551318, 7.887141241945667, 10.200040724769117, 8.233622382955929, 11.463737589039143, 9.153679085570351, 19.022971708038284, 9.734413948227498, 7.051246779485249, 7.165981893479336, 9.861072874220293, 7.956536456625511, 8.966859649757122, 10.86578722024956, 10.812640060699419, 13.669417919899836, 17.224009724071987, 7.0673048241928065, 7.941439986739315, 10.021034386468564, 9.229839950418626, 14.191641839372945, 6.956243899708463, 14.029512181158992, 11.159445518312685, 22.558459358570584, 10.72214490496631, 7.12103460696888, 9.100244219423633, 11.384231092254465, 22.51959591198527, 7.01880322112487, 9.022826751184688, 8.470493411857197, 7.736202994684222, 15.719585195491307, 11.526609246304888, 7.211858896150204, 7.908149001295617, 7.264481896235122, 8.09511327740463, 8.849969833994903, 13.041588790819054, 10.459290886841737, 12.997338452204838, 8.028150262910833, 11.970291657191757, 13.595971817780285, 7.533499962180145, 20.91225232576485, 20.150987707580203, 22.128131252525574, 14.222004109390525, 8.998239048936181, 11.38798174392945, 9.024081950251968, 7.285364380401525, 8.374617386217745, 9.143266985328317, 7.297082538898513, 13.645800096642512, 8.214219804829481, 15.318705675091499, 16.112941589633326, 10.544090400760659, 10.856363958077969, 9.144298530276501, 10.36357904208346, 7.087432199567765, 7.849651660754316, 10.741607286811076, 16.864572315568847, 21.413373681033022, 9.666409570012641, 9.994095584402256, 8.704595464110241, 8.62748796565807, 7.297299866911798, 15.84072519858133, 21.236827528164092, 11.051526600195174, 7.24690885186756, 19.7952086197453, 15.815613683536485, 7.370756189990808, 10.305042258344715, 9.971298496091947, 9.517006907523289, 7.418279328429375, 11.739264548462533, 8.09105950490569, 6.9701810868650105, 7.1554675008940904, 9.795375951761674, 9.808967172481712, 10.040750970905874, 16.95052075581795, 7.8226947762167915, 7.955726617696808, 10.323332640619084, 14.59746563051303, 9.41537878622043, 8.306042165591535, 8.958460496596917, 10.30108923316682, 7.004255134470655, 9.061154823029334, 10.989995855363487, 20.42147183033211, 8.932621203935389, 7.059056314373512, 11.704248272346335, 13.097774103463273, 9.27350628318608, 7.627209289841517, 8.848698849610816, 9.526740537929573, 8.64695967766833, 6.96494127111175, 7.832886411903821, 18.04538571237391, 14.540229495229703, 7.805005387253707, 9.352575683852708, 10.2742078547154, 7.195324549444025, 6.999860489724879, 13.229982543233932, 19.840976249040267, 7.435493116277101, 7.596153104925867, 8.639917346364648, 9.656355938825, 9.649790750433768, 11.122081556095315, 8.551928506835578, 20.878075533909573, 12.200805415627512, 12.571360305133924, 7.978361787846915, 8.4103390575065, 8.131496447227589, 7.902365070251419, 14.243510231773898, 8.786766434755544, 16.646447827840056, 9.965198133220799, 15.342642078420594, 15.282366603737566, 8.783388437993597, 8.088567191070679, 11.55859966180014, 7.62224935067004, 7.412738701313872, 7.92870408682154, 8.565766306733249, 15.089725172021407, 14.167392829288458, 8.475037176609986, 10.245263486439097, 7.382840523360798, 10.414587760283595, 7.813916604733758, 11.257352080277306, 8.076222987437014, 15.232598382400997, 12.63621479391474, 10.003422740675784, 10.918990257630528, 9.009253523824059, 7.264463977600764, 10.017635602319743, 21.294213957087056, 12.542383902987341, 11.70458502216785, 13.38795659168051, 10.861326572076498, 20.320610937957326, 7.488712699821066, 8.948037352092634, 7.152873930687619, 11.19567729361106, 9.888157245482724, 8.441747728859745, 11.735449273117135, 16.896192232371543, 12.119665853457198, 20.800566886628204, 8.342515834170774, 10.133329778280032, 9.189382094659319, 9.961760752150461, 8.878973373383893, 10.337572619638012, 8.498611653020557, 12.470729363788386, 7.154995010168494, 18.777697250986968, 8.441709248935831, 9.591022368780292, 9.304708324191429, 8.529008521683364, 20.22114384613453, 8.178041640586834, 21.909381407056824, 9.92841905490669, 20.80332515753364, 10.686653901496689, 7.254331756665308, 7.434714015424215, 7.805339354904821, 12.146289111743618, 14.42045679850798, 10.785807859312722, 7.423156840649174, 9.415246373315188, 10.86949970438067, 12.837822075252637, 13.59951662916039, 10.532691316884767, 16.05279563451488, 15.589923248804162, 8.786805924258474, 8.008629753550542, 7.02841645908588, 11.559637570929766, 8.706245389806028, 7.2730115281673156, 7.993376077904814, 7.79714307292217, 15.937526532965821, 19.948337373397017, 8.749958099560063, 9.166106128471624, 7.88989897635855, 14.467274705562787, 7.99918805068296, 9.000882465479513, 7.330445191326676, 8.034350539813978, 8.64479504417535, 8.228689100313805, 13.058606179052292, 10.168295877104118, 13.57007852614858, 11.333197074162781, 7.25651232734555, 7.398011852790069, 10.892038768427899, 12.194056252379337, 7.211882715285362, 7.534472387345492, 14.602568736727552, 11.947583359670043, 7.5242756192785665, 11.877854597466182, 10.78385509873014, 8.78122117452622, 9.312910448966667, 7.968078786340425, 9.108866832897037, 10.37322437531344, 8.93353062647096, 12.236547329841017, 7.425257704029226, 7.447442951145302, 7.590390674075524, 12.020343578792797, 7.805561610497146, 8.692027163882582, 21.073282140082185, 12.173960596432005, 17.0496984966848, 9.345192076876106, 8.796468625880575, 6.96578898857791, 9.578372619387736, 17.097133325958968, 10.676531542305874, 7.306942012575386, 19.960750846387306, 10.370224406937796, 21.08361549967376, 10.279032854403757, 11.224673838743877, 7.322623993918357, 15.816373582093275, 9.301964020117824, 9.172618873897735, 18.173909035456994, 10.838345179067279, 7.916230617717128, 7.330314930807831, 7.354605930062391, 10.293695335939374, 12.192966819038409, 9.99297328119842, 8.248069409240042, 7.053701959588574, 9.60620613047799, 8.024244004915847, 8.862998426028707, 8.558198293191747, 9.927630404956055, 14.3614270277104, 7.044187188750031, 8.788459294300086, 9.632389450795092, 7.362140147640534, 11.44525495891808, 9.043040028197073, 8.20074895679673, 12.829851672439347, 7.067895322725066, 10.262890535535906, 10.889845319423955, 10.625148671257369, 8.75472865488315, 9.931553673618863, 7.835491571809467, 20.588155799907767, 7.441843222727346, 9.326931561707207, 8.676042037324365, 7.16950877361448, 10.79781277817804, 14.041138894530702, 7.724602347708399, 9.794481688447664, 20.483141237615587, 8.373928114751783, 10.940659118461403, 8.010192283150133, 8.729142453902892, 10.49580336888186, 8.681666744384858, 11.969289576636248, 10.25337378226943, 20.769308925886364, 9.114810328925504, 8.245809585734028, 7.924701070510569, 7.3872418503165065, 7.007404685450686, 7.55459255670191, 10.527832394447401, 16.78051448252131, 7.079840867347386, 8.307597445814846, 9.4423727567978, 14.35560395852645, 8.213373999345922, 10.035318254096474, 9.613952810669446, 15.168899565344812, 9.74206522423284, 7.261740991691895, 7.325743702110638, 7.920202613764421, 10.146969406821166, 9.750439513248748, 9.053923212146735, 7.170619222406903, 7.028092368511658, 7.285828942101541, 7.868657763191754, 9.938953725507368, 8.72225143892968, 10.657945555816381, 14.096808078612254, 7.639761027232274, 7.0859406900004664, 9.312650484261603, 10.346520170997637, 12.81160970246636, 9.595600934097178, 8.073923258646978, 7.127395938911411, 8.65728861071062, 9.795922953564604, 12.148399600423849, 9.612018949791565, 20.737198666125366, 7.431655141121463, 21.78451701221805, 7.1187186585880164, 11.513218979888213, 10.946258425103512, 7.489894996494422, 8.89957820912743, 9.748842617215919, 8.420683883025225, 7.700496245761399, 9.079039765200422, 11.910986060072714, 9.192116943339142, 7.354060249155825, 9.646000153522293, 16.498531054215746, 7.9895704131573435, 8.479403176869196, 11.027287588276064, 9.681679432344222, 12.540086835857942, 7.451841434452272, 9.717707236200736, 9.283509398405599, 17.974776573270095, 12.053294885103737, 9.5344389039571, 18.867661082938135, 9.068729629794666, 8.60422867031611, 7.881030707654042, 7.52181666342164, 8.627171540459946, 13.753036701548668, 10.510723969168199, 14.075427572198436, 9.264157882121292, 15.095004406787835, 11.307566548434636, 7.705146521893601, 8.033631804149518, 16.188350475876838, 7.585838481469767, 11.166086481177878, 9.772120638743427, 7.390339768990728, 21.54188763530199, 8.6653158593793, 7.222537320658878, 8.695987971608371, 19.339107207759515, 11.223093007805554, 10.32147042237926, 7.704622046975634, 9.627772340584714, 7.2785873182762035, 9.094068818079359, 6.9740770162218775, 11.518183111439804, 13.113252410524868, 22.308225907403518, 20.020516210689397, 10.40487683780802, 7.8802825980064855, 15.357263207726247, 7.257876972156394, 8.183019327188134, 7.107013751849443, 16.205528890483194, 10.065141905471334, 9.767585262802633, 13.721275722491113, 7.692804510782135, 15.986882709949892, 12.604051148609594, 7.495417863792302, 7.723406767612988, 7.66293619096324, 9.764548552387689, 7.173578747002043, 11.742241335394626, 8.90779393992184, 10.569088157061959, 7.21801487277856, 8.917396080471702, 9.25299522630142, 10.37044005834943, 10.204637624862434, 7.415982636850662, 7.38987216405885, 8.528012261924262, 9.580306199371416, 7.097859128176916, 9.576603546314162, 21.090312793311046, 11.320699913037778, 9.775814197971497, 7.550214006546511, 17.721399984675244, 8.47826085620473, 9.91225823422076, 13.710747245475064, 7.04010326160701, 7.437538312011522, 9.852017944976506, 10.146809977082535, 10.821001696356666, 14.895090189229798, 15.97807409556061, 8.018422675233136, 19.472607726705238, 7.488358897260964, 9.309906887765157, 7.4851437905443925, 9.8791075386861, 7.364166120350466, 8.914529122814798, 10.097523073319268, 13.1958368493473, 7.014266224768678, 22.75394731716087, 8.175362111220492, 9.215329730183543, 8.755630467999492, 7.123572014190476, 7.016115605113119, 11.792424738886023, 8.981504387182897, 7.47524882205258, 8.30997746142365, 7.396172826617196, 8.590569284403758, 7.001005404642519, 7.260052842664124, 10.148898654018508, 13.157589839291058, 21.078843879453963, 7.899512734973017, 9.913713343157369, 21.89213784742025, 10.14457996771814, 18.896974441882996, 7.0539469336924165, 13.912141399574471, 7.301350243061341, 9.92279319924309, 7.3347386834982355, 9.981221540411555, 10.511988067565259, 7.598647315986596, 8.53747397860365, 9.837248640305809, 11.978165067959605, 21.78097674963607, 20.808623363619798, 14.142824321544946, 7.046928603040538, 8.251623299916833, 7.411651979320511, 12.201176242035256, 8.828723566514956, 20.14050709995793, 8.367824026932855, 15.948225430642712, 10.606650846843808, 8.329284981525495, 15.840302898321369, 7.330575152400382, 8.58473785297155, 10.581273571802447, 9.85151664625699, 8.731808098022448, 7.007854848171006, 11.073189160741903, 11.461527852656385, 8.552832535535835, 9.677071846282734, 21.866342405467353, 8.587542759976856, 7.000201036807511, 9.514196934414088, 13.380672347416443, 8.461232770883122, 10.691475028347947, 7.11435000253692, 10.663639195885093, 8.369867762386948, 9.17757699544751, 9.859852828936397, 7.439504113139209, 18.15539712283312, 7.298440783422157, 13.548871344268578, 7.169855486911946, 16.11497136837286, 13.75480765928179, 9.355795475858237, 10.127443368344808, 8.745286333103449, 13.99215954062874, 9.002407932668863, 9.967280546859795, 7.473398361734128, 9.456223783807204, 10.743103947711871, 9.752868961056082, 11.48773951104951, 12.083328571875315, 10.308987779033545, 20.143023227539064, 10.559936257207616, 10.47116571553215, 20.97534862563563, 8.541373829869043, 10.144220033904645, 7.20651067549346, 9.924971942221186, 10.366629953198894, 20.573545741953684, 13.992258125452178, 8.621978046116112, 9.806160321011468, 10.030695643781353, 10.190447281521834, 9.726565593740665, 8.329210957743113, 8.760316660830279, 19.714694794520778, 16.132532697353156, 15.5435918008873, 11.52415965965861, 9.293271126264013, 9.867744969350882, 16.164124371768466, 10.465842457371304, 8.522561590976778, 7.4570143084517735, 8.624590600680751, 8.221253976026563, 7.990053022503721, 8.173042889410407, 15.092432525161106, 9.133391129475397, 10.335822900954453, 7.233544083702709, 12.732631672337032, 8.127875899373132, 10.539242465027716, 10.625299394929444, 7.630686950908593, 15.133964431704744, 9.979109523955854, 11.016766525050752, 8.854446481627246, 9.29268851504323, 7.227857334235555, 6.985803923581674, 21.592608675140827, 18.582348468060356, 8.648185520598787, 7.691661034871297, 15.828724748666147, 7.016704604418521, 10.48517508659163, 21.417621430918565, 11.282982255155996, 12.869721720300948, 7.238017720841121, 9.61456218496896, 10.446935124562504, 9.615841743181099, 9.257819617898521, 8.227911389341628, 8.527021521714289, 8.584194076758342, 18.82305667309061, 7.1543557053196025, 12.94877240545979, 9.497618823057708, 17.69036697408493, 7.944733101600206, 10.87759175028537, 9.329279265863795, 9.744382579572456, 9.083518466478825, 15.810958116028699, 22.595837604640288, 12.005718149097818, 9.252989766277084, 8.768786000784855, 10.396232836013711, 12.902080099465278, 11.338971708467358, 7.371019965395134, 8.734560496295181, 7.875058684411265, 8.489250338007961, 9.56694526153525, 9.992036535668827, 7.704805884502155, 8.026691201983919, 19.586902584507445, 18.80483181705671, 19.140599391750072, 9.612752114856526, 9.236402534233228, 13.452519923521667, 6.962972529656674, 10.514186963977371, 9.588179445588707, 12.382655983712402, 10.524394387251599, 11.458864645215714, 9.540231803319662, 20.30595707072912, 7.272288499924907, 8.972006444774834, 9.68034654929768, 8.997478289875986, 22.02757282784826, 11.102958279529027, 8.893666876991661, 15.002556798764038, 14.932704314602768, 18.054486647049306, 15.51443486407015, 8.873167162058921, 9.262829992683404, 8.139485437166897, 9.401208899491452, 9.871922100993073, 7.886673908044696, 8.06016758828269, 7.2801082668604264, 8.888224580012968, 11.190001933131033, 12.255001804342497, 10.925869748729681, 8.887268758610537, 8.363478722822125, 7.841818622802887, 9.397052145593463, 7.467121149280677, 8.639345576066367, 8.301536500262124, 7.396975491891649, 10.166881980011368, 12.33205970585426, 9.505638358787163, 7.090783813019599, 12.914236118266883, 8.305955886664584, 9.540612902563625, 21.210112226834926, 11.833753288812597, 8.587542563512521, 11.723246180561292, 19.27299201462719, 11.06580949112533, 12.362626387856867, 8.189731762530894, 10.079463901139604, 8.474650750772236, 7.26590197674091, 10.840301741800241, 10.524580852731502, 8.989840727310549, 12.798361385952905, 8.351795670513301, 7.926140086907208, 9.693887153939407, 10.440974315771534, 11.519466652192174, 8.414240320146092, 8.343318803880194, 13.314408552060161, 8.060560267907636, 19.998098069512636, 11.654539929495213, 10.086701721350986, 7.738300872428789, 9.53009616867101, 9.62665294811903, 13.614242557078738, 15.832142724257224, 8.595027267287765, 7.52650248230043, 19.762467314521054, 8.24663290531685, 8.493319414515575, 8.598929889280145, 13.297998764961111, 8.181936300506978, 9.419198273982378, 10.928370099420363, 9.816227244911508, 10.265076801591416, 10.929844921154082, 11.367610727503882, 9.158357689799054, 9.7397126394605, 8.961780255152988, 16.008727070898924, 9.749670784563792, 10.267742111401878, 9.91110114256619, 8.96823463321084, 7.8968721911333395, 8.021812583915645, 8.664945153313075, 15.103233497887791, 12.397853872930884, 8.552424477737175, 15.137582150488763, 8.433048683980164, 19.68325485878599, 9.213735216680192, 8.304997808019465, 9.318657142166062, 9.297332528061354, 15.627059293940812, 7.104191730735494, 11.116779494383177, 12.707636375169848, 12.160071375354047, 17.94381977723421, 12.367261293036, 10.800794034553352, 7.432551287016344, 18.637553695710185, 9.056930509582156, 7.480721174266398, 15.290644796959185, 10.751039310980877, 11.514224559117773, 9.680643504410176, 16.95610442311364, 8.061003232519427, 7.569069756026789, 14.07402942917116, 9.284646056628803, 7.0360777333716, 10.655451041480752, 8.073578176542261, 18.42307649202019, 14.140332956184178, 7.1593495840693295, 10.958072813453567, 8.553987166400765, 25.986651002315234, 11.155430189915762, 11.425014838536857, 10.953063579501991, 9.063869502720827, 15.112954342910237, 13.457245687705571, 21.33004548931927, 7.916199413852989, 7.368778451533264, 15.074350664496718, 10.90053524761213, 12.743910734253907, 16.990729569038603, 8.960056885186205, 9.059552582783313, 14.82740547287816, 9.101670091603925, 7.508172681475459, 7.780918781359579, 9.555858621771433, 10.388410893122153, 9.359731097834427, 9.349358811715769, 10.237318213085052, 10.133599268686488, 7.299969673726756, 8.48623015617761, 6.9553263310055105, 14.01065008970391, 9.876588531714065, 8.201294538727712, 9.194012707322685, 10.852740881789568, 16.494267786059734, 8.883884938348183, 13.874939005702208, 9.973705616987234, 12.236300153191776, 9.791723426545932, 18.465075662428585, 10.641002268830631, 6.984238702643049, 7.142209340141038, 12.27148323686967, 19.15542545358018, 8.391382496906616, 8.300523629153188, 12.762186835531047, 7.020548986511752, 8.394540590886715, 20.512690221862055, 9.351298169733086, 15.78060855249709, 9.607919845848954, 12.09793368929004, 15.043483247331363, 10.872748629526559, 9.42727366762156, 9.040080531096786, 12.850633681067198, 15.566164666805674, 23.047376735777892, 10.756612608365733, 10.273457270296907, 17.46099336002992, 8.250901198212086, 7.150886040327919, 8.60171220759731, 7.525806883032979, 8.129884175669801, 9.569397848237147, 8.520215746809777, 20.253434825750574, 7.905863398233773, 9.784037849245683, 8.160538458259403, 7.854591019552036, 14.083665456048674, 14.18630645393534, 11.217719037875836, 8.445321959547435, 7.213744715529442, 7.210741455199613, 7.583828340330504, 9.148517597481037, 9.20193677024676, 9.03104862958206, 9.77390401430087, 9.711563336984534, 9.566021452789746, 12.338378676644437, 8.106257110923453, 18.522182230134014, 15.268427986608016, 7.586953658350064, 7.266956217022374, 13.770302372073104, 14.450350181950041, 8.634955516655541, 7.057848533661762, 12.720543676803587, 8.633619374817977, 14.836385755536172, 9.8560025529762, 13.478195880903032, 8.07583615819371, 22.246033695411338, 9.135301750699115, 7.168807636941148, 17.206144916486572, 10.096939094507196, 7.79747820069481, 8.968459801727718, 8.803339892980741, 9.848054291765337, 8.799323069759442, 7.604937234418975, 8.954297138917717, 9.750609609836093, 11.95082219431268, 7.219111161418115, 9.822301523126853, 18.91436309156114, 10.010932101864727, 7.969389607087137, 8.456233820159241, 8.607977479860732, 7.258185990002283, 18.57693729395331, 7.416610209130226, 7.865734799160764, 12.865807065290348, 10.385286480693757, 9.057127881584657, 9.628797874787786, 22.277759286073124, 20.06439850285277, 6.9413914395453515, 10.09703789699219, 8.377571828890797, 11.451553209379618, 7.310721837159273, 8.99288665807763, 8.080094687864833, 7.8754050679634195, 9.663411563651081, 7.227638706101635, 21.112013962408255, 8.603114560338408, 10.663268811835241, 14.16471183872994, 8.724839801586182, 17.01056602496134, 7.308475824312184, 7.146964690082913, 10.25615686017373, 12.256156734118434, 8.1341444496452, 14.146019263311914, 20.351461473063754, 10.978619876144453, 15.315330254014746, 10.044516850163665, 8.687972082990678, 20.585266008985347, 8.87353697913128, 10.27639619615955, 9.771704068006171, 7.857584592943568, 7.7626186146375, 23.385257846460167, 6.943002641812766, 10.530416375720842, 11.05771824282829, 7.084415920946926, 9.522304140446355, 10.194851889094172, 9.41630986449965, 7.65463200707649, 11.278364347636135, 9.757205327657534, 10.332672755090611, 8.054548212854154, 8.322672367963829, 7.436233317769602, 12.816890308632182, 7.314614161850444, 12.964531797258262, 10.813917940842066, 8.94555019547666, 8.022420960328551, 9.308653700754421, 10.540307005944728, 11.34220304075533, 7.847391650575666, 7.679802084055192, 7.101402300945477, 8.01746552506385, 9.625607940937899, 9.584701190023699, 10.106997763407893, 8.670790654324044, 7.266886255030953, 8.4591168916143, 7.620954188196725, 11.682492605591886, 10.91357343340946, 19.158203601430998, 7.54138971870727, 7.432527294441145, 9.45563334157616, 14.061367033456218, 9.570567164505938, 8.597527429429672, 11.427999353885196, 24.78481804810212, 7.499117962370154, 9.370296098490549, 16.64473434297507, 13.82170782368326, 8.344198708178235, 11.123994582540936, 7.908977328335139, 8.62807571987974, 9.776957196689686, 7.638686869428301, 13.462588793887305, 20.836312432953278, 9.516164377993066, 7.096491852727961, 7.7470249194487995, 7.349339068868886, 8.172056147941165, 10.118013159375645, 8.869968658132075, 9.160397311058635, 14.948446183525641, 7.574872682704911, 24.233867507065153, 7.680045136760444, 7.436457528539326, 9.417492238962282, 8.78185660238568, 13.71676036859414, 10.220010048064818, 8.068917915733861, 8.531418738177718, 17.92154276531171, 7.620225681685503, 9.298410170277648, 9.751837825537153, 14.933902673007386, 10.41311524310862, 9.56666299999452, 8.02735609006719, 10.892325342949068, 8.717019335450114, 20.105298920937617, 7.992687317933842, 21.0567094731192, 9.534279752465798, 6.944963292085341, 11.747670291663159, 10.580392295227265, 8.76407599791222, 9.482424298392655, 14.799219007019772, 19.936378061494473, 15.302716897825054, 10.49667584493994, 9.284218002192775, 7.460084238124957, 8.412500695377345, 7.3258919638484095, 7.062722335389668, 7.124932026965143, 9.544452738338505, 8.300797809112586, 9.292868190255241, 10.685936684419744, 19.826173855812275, 10.440528991223204, 9.254877834340455, 10.634335926255558, 17.154947523724033, 12.970003731244983, 8.831934057037081, 10.691576876937681, 25.3998805658741, 14.314796925057024, 10.714427801620985, 9.208497634893252, 9.762022966964004, 11.474353723414477, 14.28241447246075, 7.171716674077715, 12.375614097862398, 14.190208720756553, 13.47766205460357, 9.775282759046961, 15.327887267020449, 6.974677247227992, 13.390222502614339, 8.885227787038993, 9.439215456344533, 8.216828540687724, 10.479856635698349, 7.852168970197985, 8.046254586958764, 7.1327990759446305, 19.809568282401386, 9.923464309741098, 7.826807293624638, 7.671428203829488, 13.784651510117822, 8.137882625839651, 7.539137106594516, 9.991622215141705, 7.510801318240255, 16.374170483196114, 7.980442137547444, 9.607905033707782, 11.07043297309185, 11.532936573590272, 8.150197654254638, 16.001993805409523, 18.4226305757979, 9.178749736417245, 8.534634852621707, 8.22195463495658, 14.272480634861818, 7.782528088998254, 7.192713483716353, 7.629594669616435, 7.922096405252886, 6.976778402147905, 9.901541881905413, 11.71765897390598, 9.747220393353704, 9.25523794964599, 13.225808951606101, 7.254083295001526, 10.338452911690927, 7.847378204487287, 10.535743617939305, 12.96991256831215, 16.997608433560316, 8.64882882607916, 7.429067024005714, 6.9570751262748285, 12.813049880197031, 7.287250515381779, 15.133657747778354, 8.13580164902111, 15.59562515659856, 18.675521596037164, 9.814395347572868, 7.821633693867538, 9.434476844447387, 7.350716196705052, 11.193941244012324, 9.39129560538508, 15.37017190324405, 7.422407925895942, 10.33022471023697, 14.339474996899796, 11.159029386509413, 10.30432341135018, 12.368994180425677, 9.552404624262497, 19.846387144020717, 7.007235530383525, 18.721598382016115, 9.671784790381869, 10.705098187704868, 11.256186370306997, 7.266695084375263, 8.897323069790673, 11.476915182576978, 15.441907273882842, 7.732925244807455, 7.019240294124827, 11.35624224635823, 19.99227415266798, 8.982193750332016, 8.300623375318423, 8.123995535112714, 8.38858858633635, 11.491470873187945, 10.316501476879841, 7.642620281495429, 8.810485688977788, 12.70793789532044, 9.581975515309926, 8.477808466962847, 7.818173249178856, 12.91073627284265, 10.413676130387547, 10.246941374194632, 9.802178827012762, 9.35760342705959, 10.708396873057948, 19.990423473506347, 7.933088261793961, 12.237848314721589, 9.866582698876117, 7.610820892500609, 10.79335985920107, 8.886859581331455, 14.525792177673413, 11.697533379774885, 19.337068154251266, 10.741569855807391, 9.637053546224504, 10.249874025245418, 7.300225831891437, 11.476404081840327, 15.972242863415563, 10.254329156654537, 9.75899065311504, 9.956719263047702, 7.48697177293229, 9.359205720155911, 19.847187048132877, 10.129165818988614, 9.172533347667102, 7.259267673149203, 10.704121902097981, 7.194717531759382, 13.903349038498297, 9.66664204821636, 7.447620431393307, 9.263709720236621, 12.373882876671619, 9.280591513061843, 8.497448844322383, 9.144857393645422, 9.038895574542108, 8.271861236605245, 8.346500639711794, 13.109389917946213, 7.27101103923556, 7.256412764957745, 9.045055023721982, 10.964837395197153, 7.3212293382615155, 7.641556877099144, 9.828896907803967, 9.849007830166745, 7.670328070074915, 8.660483082402006, 19.725781209192427, 7.762049860516706, 9.326159538184546, 10.080377897697831, 9.85218171568235, 8.707325461567722, 7.770465231972379, 10.783038642174938, 8.480905807056022, 9.278141832071288, 22.955699073201824, 10.707185552840626, 7.3910111049331615, 19.94617684513056, 7.4854336595653335, 15.253238116689783, 7.453917674642384, 9.775991112384395, 10.35048229505453, 10.122445521085986, 7.930679367606019, 13.143359438533246, 12.872920663205461, 12.431507599971813, 13.631508785084568, 8.491004817771005, 8.095837187211334, 12.105742769106923, 9.088771784030685, 7.610955700293027, 17.153374990455205, 9.318814897245257, 16.36168419982429, 7.547821958161881, 7.4310204120604695, 7.118006748166156, 9.100765669235079, 9.029543862851266, 11.297920407813084, 15.388229787843532, 19.476903677910197, 15.362987413659523, 16.118341390291153, 10.728302201863261, 9.671367429114978, 11.500745978246488, 15.168158550018102, 7.625603279361873, 9.351012462207537, 8.74055357879676, 9.109426711370938, 10.699564815232321, 20.427542928397692, 19.959535404235222, 19.88717889590143, 9.403468522257503, 8.630291018387467, 11.203280363741337, 12.801494619246784, 10.446186370897978, 17.529766017589868, 13.459412929186493, 18.64878098514512, 8.601804804298057, 7.545780566436039, 10.020618405500654, 8.373435354728192, 8.424030562209788, 11.580359131295323, 8.548732747593114, 7.320210024580217, 8.637494830001062, 17.249039403899182, 9.513182376709981, 16.178318387492883, 6.961250691306066, 7.010598167977166, 20.769479299239165, 8.018096102691999, 7.912130353631028, 12.11941060307009, 10.746032084288482, 13.20618398123406, 8.830997973272568, 8.339421922187674, 9.670795745498186, 9.04837353253706, 10.118395083522449, 9.053157711061354, 11.458581457797198, 8.154553547418367, 7.147007442843599, 7.530770990103356, 10.806640775531383, 16.07164566615594, 12.149655503679833, 8.549065942610703, 9.714505845211649, 8.813356401472284, 9.05289721006462, 9.700622289445235, 7.749214230004668, 16.940537826590745, 11.722333912137797, 10.187229389348975, 7.295543529614851, 8.591362121698545, 20.939144883752284, 11.979186319551312, 6.969239301715425, 9.226192216423824, 7.338305916416435, 21.034069512545386, 7.175639175004785, 10.695659416872015, 18.08294185199266, 9.347141422257941, 7.577070883243406, 10.382539309434845, 9.110904776886837, 7.360472051509221, 8.933953945488607, 8.455638308732404, 9.567705201836272, 11.157800828713288, 11.390751344617673, 7.336731409214408, 7.633347199781027, 9.789881293451002, 8.347450699071622, 9.054515265776018, 8.280872382949614, 6.943534029866498, 7.268363837781518, 14.39429411380445, 19.82947028244269, 12.067816416348158, 7.168550576210255, 16.388182534316137, 7.182758538268571, 9.822252217898596, 10.823464512216693, 8.605510951695283, 10.861713120363635, 10.178976591698506, 12.405684228996186, 9.967223222880994, 11.834748754504222, 14.279749912556037, 9.136253170242934, 7.268764863268924, 7.939443358331536, 7.645232753238541, 19.44105521072338, 9.085370115435941, 8.314238140824408, 14.403538182537702, 9.506255369784396, 21.692575051247395, 8.007457513498943, 9.336840423303823, 8.27711163440555, 14.118487909496947, 8.222027458992729, 7.122256795769895, 11.292744314128543, 21.79174403189584, 7.979413712488825, 15.515161486513406, 9.351452671548673, 8.988989309917697, 9.727575245709035, 7.82004192050527, 12.905246594623469, 11.841412213703022, 8.251662600801222, 9.603417965354586, 8.865286987661252, 8.339595289390635, 21.4164315300708, 11.293164470902724, 7.163643176487815, 9.16561397137142, 9.714417388138607, 8.348075897436576, 15.450254962008787, 8.035902996942461, 10.248065188740071, 9.769050473435804, 10.656239735358783, 8.12089977470177, 9.315513453915429, 7.379517640414822, 17.233383448892283, 6.969164416697635, 18.533336324460283, 8.478946157078102, 18.359897666031472, 7.779522688453087, 8.559498852510856, 7.450561240540936, 9.220031230911497, 9.928654348328989, 20.644691826328586, 7.391805176299118, 8.353716415082639, 9.403607646194828, 9.894617251783192, 7.768730894731019, 19.3518257985159, 10.096065678641427, 14.935993176775822, 15.91224903021978, 7.9141797667050655, 9.238239673597008, 8.338241530516136, 8.522719810128542, 8.243211702186972, 6.973500174010296, 19.912834837676105, 10.371673655666845, 8.922703565798491, 9.305238200021845, 7.814921752938872, 12.324281878945843, 11.254178419488657, 12.794975397165986, 11.471412389700966, 9.749751311245747, 12.834472966447272, 8.521983351490455, 9.201448843147574, 11.231795620889127, 10.36945257370435, 8.491914429171231, 8.181070266657946, 11.561814867758045, 7.409554086924763, 7.435619758716308, 18.41672762475596, 20.896123633753927, 7.109237939364469, 7.071544172485846, 8.876107714227663, 8.668702118360663, 22.685343972554207, 7.775551620847945, 11.371965497578865, 8.877319797371781, 7.250002990345698, 18.57604470908872, 8.491470883957927, 12.661723250810487, 10.619257366483742, 18.88105412941543, 9.521710395655408, 8.745175972884086, 8.158186026734747, 7.800058779312598, 10.177190988521325, 21.674681805755025, 8.494087160185417, 9.075362521098231, 8.553684854848195, 9.7350457028951, 7.9567529395893075, 9.777527043841616, 10.466882483324179, 6.987930204626827, 20.06736140173451, 7.8287923713680545, 8.537205451774327, 11.191792647401593, 15.212612935007751, 7.456447413492473, 23.85097623291618, 9.392405112654266, 10.041765891589971, 9.836887368157452, 6.989977075396595, 20.031856073414307, 10.197045517687998, 17.83106203526526, 9.048706083813801, 15.758102281544716, 10.890719341719732, 9.440475116856462, 7.041915815049822, 9.714860287837597, 8.158329587578441, 20.108698989844786, 15.820268566023184, 15.074482729448121, 8.110278957936709, 10.179868655331855, 13.303795296968486, 7.300230925443152, 8.481446728260922, 18.38976174777706, 9.991978995087278, 9.163946232829199, 7.836768360204554, 8.750065332731982, 6.942788809341449, 7.3198167731130725, 11.350079336525294, 7.374854474881528, 9.756932351512317, 21.158536296514683, 10.322537778866215, 7.45897380312814, 8.299531428735916, 21.27415811625965, 10.436987488524863, 11.23297371618025, 11.211918228064048, 7.376775122203093, 7.0976510862207265, 20.857349153955266, 9.938478172223569, 21.8128408957433, 18.488829445754565, 9.669835461056948, 9.874459496200872, 7.820076773235173, 7.448298380916295, 11.58751235551285, 9.729336219900388, 11.81832836859726, 7.114760395497812, 7.35058026488821, 10.410754005592656, 11.248783900034725, 7.6584626447785915, 12.320500541741017, 13.015123006329837, 9.467384106129728, 7.7549210545111675, 11.992900522986956, 12.208756549957835, 19.1552599691618, 13.867829527429022, 9.109495146992447, 9.72775525421732, 12.305334277339888, 7.445315947789846, 8.546562693390019, 9.800683495371134, 8.634056295560642, 7.831548418708112, 7.108082057895769, 7.347013084970401, 9.772579478087186, 8.019998850615039, 9.132338257361791, 17.095771785318494, 8.433249286113304, 7.103873651337475, 13.528073820078532, 9.662044362406569, 8.745681799439264, 10.5375382726438, 7.333150235650483, 7.369122470918297, 9.277493026192158, 7.3927990100203775, 9.71966694171216, 9.11547963415266, 9.05345055127626, 7.640572371607014, 7.788985518362434, 18.11956639426359, 8.863447348474667, 9.384593949167574, 8.411572035190344, 11.737213193230597, 19.382625858375228, 9.425403826472456, 9.327388461737982, 11.094173797107473, 13.917669197323248, 15.165170621980058, 12.649155582880883, 19.183540815576492, 7.87199820334515, 9.335534600734753, 22.29974852504955, 15.855637246858466, 8.066332615602379, 8.638407356428766, 13.279044042355952, 13.073812854100833, 19.370989289665328, 11.538992106076128, 21.903157125656023, 7.090054080023274, 8.561903196978678, 16.618502312726214, 8.50361439461035, 9.702294143144817, 11.158302770247344, 8.847395175318702, 7.401852417435086, 9.176764128879126, 9.955605375656178, 8.017566370901335, 7.198521726361358, 7.9696186568668965, 8.88882650495591, 11.884732861379899, 18.59622189369347, 7.754288851734138, 9.073530696606765, 9.04864074228452, 11.033839122397715, 9.486863503752534, 7.324010434716673, 10.294618070407397, 13.843480299251391, 12.222807791512556, 7.473096412472924, 7.3795786327099115, 8.603318350988664, 10.48982228976218, 10.096522050066858, 15.398548596529823, 8.446228421169195, 7.191729369362629, 10.066926560159155, 9.07758446321621, 15.818610355279738, 7.104821855700865, 8.627759535841628, 11.711804335207004, 7.112798270038517, 8.34830743048183, 11.338533012486291, 20.894723514721562, 7.1987771710478095, 7.89997818111733, 7.153578165645467, 8.8704155154699, 13.303696432472673, 9.589260469242497, 10.647550578767092, 9.397584130141054, 11.169263996825803, 7.446212985761393, 13.507576765708551, 14.608676488076135, 7.864930908978846, 8.64089618884909, 14.337387601946514, 16.2694933478007, 9.524531271147714, 10.565701962700912, 9.139077545407162, 8.706626308042352, 7.816303772417771, 11.801213326817876, 6.987131193973675, 9.00325344866795, 9.563405792013697, 10.466607489914587, 10.0990080886444, 14.86450004857314, 10.12240250714909, 7.994307909035114, 9.190832484796797, 10.770599155164577, 20.341416476100846, 9.521462953877641, 11.661651446194195, 8.628403876639162, 8.951818381596803, 10.558299008179834, 13.502845269184844, 13.187176400989719, 10.868839239606748, 9.05681292523286, 12.25951378081648, 12.024776685993285, 10.536392769336581, 8.630378279456053, 9.380539189354879, 8.25211012908894, 8.397916010764781, 9.205862685423645, 8.84569866454284, 10.473719892348402, 7.175484970116687, 7.9180127042681985, 19.50329349209615, 8.738274780900444, 7.243436310157054, 15.227482603924965, 7.729425390575833, 7.536393219417073, 23.82877784122299, 12.270461262889558, 9.603517016381579, 7.735944802571271, 10.120771309826123, 7.66748159273984, 7.538507042480077, 8.73412183327544, 15.155432345003904, 8.448921738759477, 16.102028809842114, 7.903482588183555, 7.115763927524953, 19.047408527882126, 20.498493483178976, 7.827867015718955, 7.081845986565461, 7.898293473417817, 8.702442838984341, 10.013544699691982, 9.464910874256452, 7.415461523275232, 8.080489516992621, 7.334139634852513, 8.169248324248942, 7.776124085059784, 7.182899118071392, 8.645895285353854, 21.96773142108091, 7.187833955762508, 7.202777572035553, 21.32176010828414, 12.425688985991748, 8.370514720491379, 16.75073130117496, 7.87224641578961, 10.324091953833813, 7.707203382563656, 9.556004435605804, 9.93981541805395, 9.725988564298795, 12.61386248017906, 14.371659077947927, 10.025564948692864, 7.756588186222826, 7.145983750420311, 20.617390843464594, 9.915396502198261, 7.622483676728859, 7.738253430856156, 7.38777277129006, 8.358939485385003, 9.76954243529967, 7.911646366610443, 9.828471713575453, 9.5870394853537, 9.445748134378963, 14.022967334094893, 9.661117622737367, 19.89297499525203, 7.507895861939818, 7.876045486478745, 11.122481590387538, 8.27153385073321, 7.870116878525555, 8.259248638738176, 11.417352560393086, 8.755215464137672, 8.261789372443685, 7.456214224317201, 8.963413618566749, 7.333261564275025, 10.158894891219564, 13.604664398432984, 10.894412939083917, 9.572992150414432, 7.650034580787711, 7.2437515757480595, 20.11169922352508, 19.182882986158283, 9.361834051006573, 21.035385026403752, 8.52630911605681, 19.826497712872055, 8.72114946023328, 10.811254134851275, 8.265863811362095, 7.792982157717486, 9.322331635524815, 11.012228356059547, 7.79217650497652, 7.74119346180479, 10.463388484715377, 10.169409070710039, 8.24978028578583, 9.746387318655877, 10.279465492352504, 11.048910909936636, 9.131322019450248, 21.94479408365251, 7.29702175237041, 10.15100668767203, 17.43732136354856, 11.389225102518125, 8.193328388618834, 10.140430266351238, 7.234934261273268, 10.8161913151797, 7.435624256411315, 10.403389949774335, 7.333092957100244, 8.546048468464328, 7.326925649250451, 7.729816465801027, 8.684310714030332, 16.06553927113345, 6.948241682019512, 9.860068444278488, 9.051304893487242, 11.062873185538615, 13.26945105222408, 7.23695762998813, 9.975021180302525, 8.101046072882172, 10.512655844650931, 7.119917254931597, 7.615605786455322, 11.726464173013447, 7.127987397298736, 11.48782181471106, 7.0347390656139845, 20.181866871193765, 10.781725736864928, 15.248317454434746, 20.92123563770608, 17.326137917714366, 9.066962485860234, 7.251197419190773, 8.67702299954745, 7.091824127102126, 8.522269213010421, 11.126462905334485, 9.759422300940567, 9.306903330049863, 8.468415686626473, 15.311569410051852, 8.343437640372484, 20.20634377259265, 15.705502387785415, 9.964581341682221, 9.48698919124625, 10.567365954748595, 10.051599719481858, 13.261404143098941, 13.06868780195172, 7.144085520755823, 14.732210661175937, 20.33171005699998, 10.319030158760384, 10.315936008462309, 7.520602363840334, 7.638006483125476, 10.594311929781814, 10.244619476767653, 10.553458570278655, 15.8253777726792, 19.630392945235954, 7.261636811587588, 9.367776261992676, 8.201595538548865, 19.640255417900015, 8.334489882580833, 6.941145562235931, 12.566513432295931, 7.1947222856166375, 11.787182253977983, 9.033598472143465, 7.609974671407083, 8.136868884324455, 7.9574523530917585, 12.496978463310136, 9.017011127178316, 19.57004003843076, 13.114546315303642, 8.50220033381145, 7.513077586726115, 9.059533990877458, 9.066045526479405, 9.889546370802696, 18.219105054620776, 15.435914573642235, 8.077911202126899, 10.13188727995624, 11.237947905294444, 12.269668275891815, 15.920882225219952, 16.727537324936613, 10.550210011901045, 6.953531305315197, 12.768771768277366, 7.414725748466103, 13.298013955503453, 7.391453212088808, 7.336911510784154, 9.164409242884153, 24.755230484663496, 15.470672024669057, 13.9892576813546, 11.615020838746881, 7.450907083600777, 13.472695254573008, 9.844266980133925, 8.794565199553384, 8.385554962552325, 8.18691744524278, 11.235904362923828, 9.246210693140645, 7.0306297066333325, 8.038408562395288, 14.182214736259214, 7.26671111516317, 9.040776973474566, 13.11604732480926, 9.848600320165238, 10.228375025635714, 20.129384273159044, 7.132335095068162, 9.694375403488149, 7.378738288513184, 7.211452655231005, 7.626792527394693, 7.198111251654611, 9.85188810587586, 10.40908688015477, 17.350859897110958, 8.691622276173508, 11.348432871749608, 15.718855734480623, 11.246661345829008, 13.90226868827379, 10.599779084257715, 20.627632762133324, 10.219017799729865, 13.539745686599492, 13.776510978633903, 16.84323436638672, 9.411791895976906, 9.94246773642558, 11.037949608835099, 10.14670279341755, 8.455381443541993, 19.190657617655937, 7.127431336914635, 9.35706087929309, 7.99361973896566, 7.7313646578831285, 10.626214165712385, 8.631027748419182, 8.937878364198122, 7.257639121586591, 7.395475177432554, 9.894622507581131, 6.937564806355635, 6.965503507763993, 8.990807823985316, 11.389126508530774, 8.288948339366131, 9.478427998262381, 9.509453337623514, 8.797489401542453, 14.507851603683427, 8.234266826509275, 9.421837061755713, 14.336698829119078, 10.125844312590202, 16.38275070203531, 14.849794760344565, 7.0361327905367, 9.588915417901886, 14.127739536199007, 9.54188810891292, 10.618454834518625, 7.315196695653691, 7.460220662912148, 22.41441532394731, 13.895596502086867, 10.6290201291505, 9.787107028654978, 11.27094085173787, 8.580154541356137, 6.975755118067581, 13.63182281485247, 7.105068598945932, 10.061140192092541, 8.972944515106455, 8.228619885024548, 17.422691842266904, 11.014198187004416, 7.613174186649728, 9.905781689063595, 15.951406883662175, 8.277749582834678, 12.381305475948752, 13.330083470714673, 6.93902941870059, 19.95432822697185, 7.129156069990914, 10.654560360508274, 21.524837266711224, 9.979848406100174, 7.614820403403803, 9.885651703893222, 10.68939529868121, 15.299729996710614, 7.646879185115635, 85.88497305855633, 9.338967989379011, 7.20947001012598, 8.001982236079767, 10.368340062436117, 7.592931914644785, 10.328847533305737, 13.651305871325599, 11.865744530064877, 10.758561513494774, 12.82148154006537, 9.55839354558392, 7.086900516727991, 7.196459946670406, 9.751242443423198, 9.142532132397886, 8.406005650015398, 10.93462154538109, 7.003756785318089, 8.911472827475752, 7.7491641093271415, 9.8622038544533, 9.107592138720449, 7.28912244079375, 7.228261957480861, 9.32965083299418, 7.908978665077957, 8.10066638067542, 7.211929245208982, 9.297194009313898, 8.369057691844692, 13.301098722438221, 7.29010000611139, 8.292828011095985, 11.187717316758828, 18.703320423594114, 11.780673617527349, 11.340637450548614, 7.648930364939958, 21.15771989720401, 7.997942785993128, 8.072825488535207, 8.526201701685261, 43.34547656136721, 7.43902264424234, 7.585928818538334, 9.314275210489262, 19.91462931102119, 19.110773149920135, 7.273553927266328, 8.377202033752175, 7.539246976212518, 10.22326617181583, 19.60551938529028, 9.615368579073111, 7.167157555306884, 21.24036096555127, 12.277560489780914, 10.612454446856121, 7.250012805388871, 9.690770333951427, 10.699276922500172, 19.276973442501873, 10.898554677605295, 12.46118947786631, 11.49753635059618, 9.635498125186347, 7.4990971979381404, 9.914815922345582, 14.736784399224785, 7.745488011341084, 19.772712587464813, 10.632559449969497, 10.044689581288003, 11.370196014491107, 7.154461822150229, 9.228379534537442, 20.830786261184414, 7.090142584475403, 10.161283138663075, 15.921486202233195, 8.777166034210172, 7.958389944848041, 12.344558161722919, 9.238689181561405, 9.647358157773853, 7.658753706755781, 10.10904438371315, 10.458515863918217, 9.672298343203895, 10.005874391042179, 8.627410716690573, 8.300805409466951, 8.518062941150907, 8.359330890891533, 7.310124687144062, 7.902004430754259, 9.725878986637149, 11.787018739021459, 7.46780385305284, 10.105312182036654, 8.9406367443717, 9.564858432657207, 8.548395496182849, 7.6115373584924475, 8.932963009402181, 11.624191054435254, 9.273288644528815, 9.077584203343653, 8.303209261996257, 19.89125135407652, 14.124871868828336, 9.13149888741593, 10.13014946933637, 7.1887699052807665, 8.674948906887233, 8.887423925756078, 9.572629589623793, 7.019034638644219, 10.79524973402461, 7.576416696371077, 7.233438478103326, 8.285993885378026, 9.088198390630266, 10.039669374168371, 8.482269013572438, 9.73325956291555, 20.02846306097934, 8.706051309114564, 10.552834946745975, 9.108199808685566, 17.767823938893187, 9.320434602774089, 9.216992005896863, 11.385491908199525, 7.764273912579967, 7.264136787591414, 8.80663067408744, 8.150802291388459, 6.996669129666416, 9.989800890853395, 14.732052173875942, 10.599494549412565, 8.17743656777173, 8.498860606765518, 7.090810784027638, 21.213995402873447, 18.571423903753985, 8.805879307830411, 7.8292392187185245, 11.020493256762926, 14.2230427018152, 7.11754405506861, 8.321171104819646, 8.900722723782662, 8.230889437147964, 20.120167354727045, 18.98558377624924, 16.90230394354858, 9.591757224134703, 15.055381448644521, 10.088992862947919, 11.105212858629505, 23.70137809182897, 10.483648638789093, 9.749446883501172, 9.267476280350659, 8.436424684517645, 18.850937550143342, 8.328111610811627, 7.685554619482339, 13.19685314563792, 10.844153469493095, 8.31788510262069, 9.384178404121172, 7.195393529418787, 9.879057343448396, 9.454941868775778, 12.735093472802525, 8.93901498662089, 10.47216044874057, 7.423635409573349, 12.060066043656072, 10.75325638767625, 7.044056287598288, 15.909174172416536, 20.946244144819595, 7.132832050069881, 11.695733313574545, 8.691280019441141, 9.396150961622206, 20.750854528218188, 7.154918101416765, 16.998886411021687, 9.297336662034905, 7.966989521239722, 19.2309513160637, 14.249596345126232, 8.729580328051188, 9.49109780346589, 19.427923359232405, 7.044555127307089, 9.139479299496678, 9.693520888740686, 13.827849094570928, 8.042839437454456, 9.37628666628169, 12.515843011932583, 11.531357515706063, 21.446069012379336, 8.37718477114763, 10.698764156502607, 8.426731546070357, 15.497479647228365, 7.613746759427016, 8.749429027591539, 9.77610531946136, 13.100510207865485, 8.452923386332154, 9.374136539289491, 10.58491661612791, 21.81740605094682, 14.057959763874539, 10.130148089139038, 9.36634721522028, 8.745549684291746, 12.229374275930638, 7.290216037910913, 9.889144908236169, 9.549944762505111, 20.0128472949656, 9.285521258667076, 11.572923542158085, 13.75087558498683, 7.819880114755976, 6.9435849419327305, 8.137493914840622, 8.172600098054183, 7.879094658170528, 9.94249264200734, 9.500906921155659, 15.668420396664786, 9.887923898091978, 11.90580449103913, 10.631241740051099, 7.834805695291068, 11.907214812946311, 20.3491452914206, 9.718993640714448, 9.443624171474376, 9.10767240896721, 13.702119623407903, 10.873840781990413, 8.797804927840817, 6.996377074690988, 10.877052005383016, 13.377328872875516, 22.49547625575827, 6.973399295150315, 9.155159689572878, 14.302022239780937, 10.558489947402045, 7.382219083213181, 9.153323652574741, 18.78024834471608, 8.549506770298564, 20.237811642053252, 20.006597741599265, 10.732518722827885, 9.475028124931162, 7.016035845707182, 9.313764810890468, 20.17916068126105, 7.177560134781744, 7.6083830102800745, 10.017198919718997, 14.473745004113356, 8.395600514417515, 7.80999866857219, 15.784682152044912, 7.8715225939091225, 7.242731958916383, 8.93392115263629, 9.604140394283306, 9.954819005020504, 7.030099976287512, 9.375233193243224, 20.256508486391827, 9.777868619558525, 8.505547731136717, 8.7824370494851, 8.914431579681732, 9.4291863997318, 15.264540957647721, 15.485619590297508, 9.772734726749947, 19.83149460608248, 13.623358531419875, 8.059539408079274, 9.444385942973028, 10.575625282797642, 8.146843987815606, 10.190771071226232, 8.650232046170608, 8.694113611440129, 8.768040652603345, 7.283338561620135, 8.440507634864446, 8.565261099429625, 20.096746966158484, 20.57220290886716, 19.409994861806172, 8.292453717971405, 12.87543626339078, 8.124218755467293, 10.982636933729964, 12.220022923656648, 21.248165377188208, 6.992961044847383, 8.343890873170238, 10.439090039955158, 8.8246387173334, 9.690669596278836, 6.994130911172119, 9.626743237708924, 9.345661082132366, 8.3508059200311, 8.927103608647228, 13.244597412228575, 19.88292308720407, 13.756716980892527, 7.01219921594518, 8.072271898252612, 10.90648178051976, 7.111456260090465, 7.223735137690168, 11.511872460199072, 8.750641231491658, 9.001513182346391, 9.293883405560976, 7.9943907119264015, 10.250400073304945, 7.7071670854558, 9.559019177010054, 9.709291871611061, 7.90116388785348, 8.081658446526344, 7.976273388491324, 12.979016003791033, 20.379364421164922, 8.66926559892334, 8.66111065021374, 18.655970190704227, 9.625306855837731, 7.1056437781701085, 8.507271553794746, 9.972666392256965, 16.84375368155925, 6.967873154094802, 12.352905750922726, 8.443811385264162, 20.03553611679756, 10.399748452732375, 33.37096254497068, 15.94727274787263, 8.078311615029406, 10.036238702725726, 10.279146434332356, 13.131057106458563, 8.657532376769577, 15.797667947494284, 7.223214323899324, 13.665060981988033, 8.114445243547605, 7.709718475225113, 12.930404655717865, 8.503132014018341, 7.118115321765199, 7.024960601628279, 15.863012908293939, 12.296051466518461, 10.273249452235929, 9.175404822855203, 14.024913825209852, 14.55153586208237, 10.707396292482235, 13.39094474068598, 9.673909728863693, 7.862407194276943, 8.735611193326882, 7.451182443976967, 13.926851961736338, 14.057911753128119, 21.015209080348754, 19.729968502382555, 9.352489047339478, 7.104193849580082, 25.376478226443567, 8.065934309122442, 17.653625742772483, 14.139362562246323, 13.246005959766666, 7.321827129152752, 11.819312638666515, 9.47666193988318, 7.33509492352311, 8.722295961882795, 9.679716140665478, 9.930999018184162, 23.22262209328343, 7.476240062511224, 17.314208422197076, 19.968448188830138, 7.51027457258628, 6.979116481611677, 14.989303435749825, 10.20617041933712, 9.495391777966148, 8.967449507971303, 9.068028594991834, 12.322033009760935, 8.945239486081034, 15.602296069889414, 17.349859658272205, 9.208451536722595, 9.482829826614013, 9.89709238541282, 13.954817413128714, 8.418139257513266, 20.927809126083776, 20.35603806565984, 10.55172341095, 20.486050437275747, 10.082001364071942, 8.761266112174015, 7.208323780217577, 16.205197596075596, 19.01893368428035, 11.498637331492384, 15.75736523263943, 7.198837265503713, 19.133403886502514, 7.352333666744367, 7.409630298699747, 7.41799437010121, 9.88288080395964, 11.978069233717736, 19.881351441204178, 9.752747595703083, 7.631090920297509, 10.945080976001764, 9.781415969210258, 20.539917715497115, 7.819484479375441, 8.94856903219002, 8.253528377240759, 20.920166786091457, 7.343560291225213, 7.484594339434499, 17.91138308774456, 7.776186881310832, 8.682335845722685, 8.889238089336095, 10.75579368362285, 13.853539023508768, 18.32151477242369, 14.445364285141533, 10.357448070317158, 6.947394354184629, 8.506669758629158, 8.348060954969382, 11.961092400376367, 9.640168515698182, 9.490727780640615, 10.328084312145846, 7.980848698340181, 13.090733956682419, 11.050011300945812, 11.274421181505653, 7.972195374974324, 7.3556517581218115, 10.807247498211487, 8.043763792127109, 7.68043674925307, 8.171322715732229, 9.195394610886634, 7.40119730448501, 15.388208066096102, 8.985043853374878, 8.941717248381016, 7.300903847174693, 9.922134055056635, 7.371985209635613, 7.507930916133031, 8.71167590245484, 9.485468465315215, 9.333006836536073, 7.0868167282315815, 9.335278977795157, 11.196014766526664, 20.086200298725345, 7.558639885575659, 9.188204593625228, 10.502711911194648, 7.3470156154503306, 8.546436763266597, 14.564720905219405, 7.23818370824734, 8.221733702438092, 8.478852281972435, 18.451077538905054, 9.520187190079348, 12.960805758759454, 9.696349963260658, 8.917019645402956, 9.965127442044116, 7.744860834269988, 11.625711394896422, 7.004209553171901, 13.282251560253409, 9.103734114934937, 15.770589442134208, 9.157309616579514, 13.299099840557114, 8.940251512058605, 7.63255212762861, 7.276880022015233, 9.186971703820852, 7.0293635252107265, 10.931358795282682, 8.55500929458891, 7.343184666655707, 7.064654143438835, 8.029195185810936, 15.58578422935698, 8.441019549649393, 7.435366179048396, 8.303802214927734, 12.846941311905127, 10.011980306503833, 7.629099022825178, 10.736902223043945, 19.711654377365612, 15.54187981584183, 9.892739393117127, 11.164318514960685, 8.00066446544708, 7.160455021269067, 7.134355447441769, 7.352440328393456, 8.099260634648557, 9.338090556702385, 9.642425419187145, 9.876148130572949, 8.931416299922864, 10.607288044033405, 8.618467642789096, 20.16995780220451, 8.910889228839078, 9.662075184570245, 9.54398678862485, 8.611337834130493, 9.649290279677421, 22.963837600463723, 9.392364223936891, 22.345913073134682, 10.10057738395275, 7.410233998273706, 7.0264570783761835, 8.1891944616883, 19.056756610778322, 9.104778663434564, 9.220768558253747, 11.741820353419298, 9.973564616145062, 11.282376268710257, 7.3497090910991325, 8.978963003235197, 19.80778007161267, 15.73479909226413, 8.43619541378003, 20.845448495207066, 8.652210278296964, 8.157338595793792, 8.446927740689159, 12.211620831135315, 10.620089919065425, 9.538625715928365, 20.115302705164133, 10.502240529301496, 9.325250464575795, 9.653865339079204, 8.917343083894865, 8.16443788938983, 10.98650276059118, 9.346441765139229, 7.320132871293228, 7.022861356429748, 16.13773416575817, 9.80846963546083, 9.870795661574292, 10.461819321244919, 10.814132064750272, 12.720362511453121, 11.870549923184052, 7.804186126473735, 17.580711759405084, 10.104478606066913, 12.57734656530377, 9.19888125544939, 7.805947030184866, 13.549577389346188, 7.0639880494054275, 11.608048766888963, 13.524637158655882, 23.57695045366613, 14.572031300372918, 9.24744825512895, 7.675085058024664, 11.637652397008527, 8.565290478688889, 17.010028658009382, 9.519127008306276, 8.227735174765325, 11.00960262365832, 21.559488679596946, 8.69358657942967, 6.93903598375892, 9.009188166863336, 8.840425826836034, 9.206895849203956, 7.0501639197587345, 19.2331529266802, 9.418711567108835, 15.900007805801051, 9.95049192967691, 8.365884864527487, 8.253122722924154, 7.638156953335818, 7.8255472956089545, 13.784987659758418, 8.427767353988788, 10.753644671072239, 11.87692225374489, 12.159980916850596, 10.19363065106956, 8.004159241567985, 20.29878860543671, 7.951948020631725, 8.913688852322752, 10.909090814151131, 7.721437578762314, 9.726398575916855, 14.380550364192123, 9.000533128059566, 13.518071903576782, 11.57368402530451, 7.252581310266835, 9.996610170709776, 13.416766641742958, 7.003536109980862, 7.581262601786443, 9.239793377100817, 9.887275366754075, 20.235173892747746, 15.384421149931793, 7.848672775506723, 13.14165883437562, 9.277988997001053, 9.458330645227063, 9.670260820516372, 12.008643004588803, 9.242909478610787, 7.293103801391442, 19.874213628379454, 19.418209093790846, 15.935303264370205, 9.19145130924485, 8.46934178220902, 9.324166668108344, 19.670848699292474, 9.920948768663665, 19.416823359622832, 8.127283131626138, 7.737412296881228, 13.438076859750048, 17.834648218680268, 9.670420272177859, 16.494034692169272, 8.918309780288192, 11.736336846326434, 9.33006609523085, 7.565649527641427, 7.538167514595967, 8.485896997853189, 11.250048477568988, 7.29016064424633, 16.059463433035503, 11.675650999280032, 14.038782773337447, 11.893989179509544, 8.98465093073892, 7.174672346887293, 8.875313810976028, 8.281111764408644, 20.569048056012836, 8.143228618471985, 11.547269858589745, 8.996240329386513, 8.447191358786501, 17.75153154173706, 8.929802848320008, 9.863843260006563, 9.395737878522906, 8.325512035095334, 18.895427560838222, 12.28609584194297, 7.916990884496774, 6.939904683523639, 8.924686827687298, 8.743691255815667, 10.05739297602479, 12.556327425727298, 9.663518225819384, 9.038662966161915, 9.371433597449974, 9.575751386214106, 8.14086429733255, 11.570387624422233, 10.848845872605137, 7.116097485362146, 9.234483852282356, 9.868610631280434, 16.716454906050103, 7.143061024221849, 9.02805740524908, 8.593669659288729, 18.066770337537267, 10.744885475150802, 7.036289220547345, 16.76375602865707, 10.294228818448481, 9.459613380844095, 7.3349451431338775, 10.659126948358512, 6.996070400895727, 9.87983535067283, 9.479724444570817, 22.35474570979345, 21.61988767216973, 6.94424005964925, 7.9669159015571465, 16.371982690212693, 7.866345876387948, 8.915780595133292, 9.456033493072669, 14.126014204250314, 7.0775249459609535, 9.75766450162803, 7.417841367958604, 13.126987631867287, 7.406416029171317, 7.853568463465302, 7.543094409605301, 7.515257201212751, 21.173656324013947, 14.925546394267268, 10.280561842725367, 10.995413120065995, 10.347455132953032, 7.333008722704891, 9.431323471126843, 7.0421459514551525, 7.04604340813107, 7.536994113188421, 7.204264397927923, 8.541033731912234, 12.350270797543693, 6.983863617203174, 8.88612164903492, 7.70383876007372, 7.342619309196454, 8.119228772303018, 9.893385092637754, 8.193047870439027, 19.66262911311195, 6.96460644501909, 13.10678006944972, 12.4447510861943, 11.044052714750677, 18.874553614254868, 7.034191374275116, 7.407557652161381, 8.720899207756457, 23.097857368185895, 11.445588761448192, 13.76607715067027, 17.163996835171822, 7.323050135821892, 10.724308773101678, 11.473651191483338, 9.489683223513287, 8.826326991901029, 16.70927940020965, 8.914264089608546, 9.40835857702048, 7.470412639386144, 9.971067561849852, 8.942572806406371, 8.71048983257876, 7.4517806823323, 9.37930663776472, 7.61798261914705, 11.589065871613153, 7.5141779998123495, 8.39537629587445, 8.889771409880444, 8.95657378506879, 9.796255638355321, 13.664020423834444, 12.662086479722568, 10.718002021368786, 21.016122042857578, 7.153729093582122, 11.114453543862956, 11.47214401181176, 8.272030513888568, 18.707041548736687, 7.065462900421885, 12.635276692060058, 6.990966807229568, 10.352143418098937, 8.307942583182255, 9.552237507398702, 10.370528114526863, 8.587107425308204, 21.718509993294607, 19.979475587213237, 10.424198247721469, 15.297622467094044, 9.920295700949264, 9.124218245101817, 12.279409904530471, 10.452580882455562, 12.056430365044049, 9.526157447727432, 7.103015655642745, 8.7644083684381, 12.243936542329592, 15.021455550976588, 8.480782693155149, 10.431118575696297, 7.803204406102325, 8.646397813187507, 7.199937475099864, 13.238744338053168, 9.746418360320884, 9.205705627649039, 13.344818192653785, 9.697624688285291, 8.828721293662941, 7.229528700665242, 13.738474153700928, 8.193879050527352, 7.199715872347263, 10.025088909148991, 8.867785468240259, 7.4628797726461915, 11.169450650062359, 7.021538881949724, 7.79089892053147, 6.94641455967751, 13.699815207784205, 8.239472785291353, 12.920830683498338, 12.040336871416061, 12.86280819998864, 8.847851230429626, 17.49942142946198, 10.250202768072382, 7.73594680378966, 8.34392337743598, 7.839626178720975, 20.933878645624937, 13.820094287526542, 8.07703304047608, 9.269618654921269, 9.539270510510452, 9.903475693734993, 21.715132713452903, 9.79230446339047, 7.788953116029792, 15.193756632138715, 10.142438865328335, 8.392851894078772, 10.044242406342912, 8.944829187555712, 7.6532375546432725, 7.2680874329879925, 7.3803895628727325, 7.708839457007904, 15.819822016479987, 10.32221936684706, 7.787479669576989, 9.182082676242189, 7.742457475489773, 8.728075720241312, 8.755684406136874, 18.228125016587278, 7.676436963891486, 8.089672787958522, 9.777728628457295, 13.523432637003458, 7.2242750878942505, 11.43923868798621, 16.235339574815576, 13.424968462207111, 7.640340776075359, 10.920013747488179, 9.259872532062936, 7.227747273089447, 8.451078668825637, 8.150279927060405, 7.827974909235097, 20.883371616537527, 9.915249026493386, 14.572167469393365, 10.77630961192255, 13.492949457970148, 9.68798054499019, 8.7463795167261, 8.838316093394013, 12.911045110277273, 20.108642826147463, 13.146689582849755, 7.253383528164539, 10.665807588013049, 17.862797234930856, 20.79833405393587, 10.151228233727238, 22.41775055162282, 8.605877530258471, 20.402661888326428, 18.257440316876547, 9.999730100765118, 8.832507433544576, 13.315708679131864, 8.85317684079196, 9.424667293561924, 14.292958597684258, 10.833730738723546, 7.07976237913565, 10.34544373474804, 20.680630011109493, 7.820755099934578, 21.372803500263835, 7.641116039926228, 12.831459257157157, 9.499451167220945, 7.953397998338561, 7.33281182548991, 7.0858463030451855, 10.16775868008568, 8.40797970890362, 9.56273296780107, 7.794742935086249, 13.147289151952146, 11.472874592493058, 9.42578198105291, 20.061907356928835, 7.105844129759797, 19.220261760535948, 7.206996841697716, 7.275430188591124, 9.709483743817323, 17.193638864156313, 7.276988980711843, 7.51918734921724, 7.023959040326849, 6.9570205527080375, 7.625877034789791, 7.096421116592702, 13.098909077872545, 8.76239303902286, 14.435785182721936, 7.714818843322456, 9.027034746515906, 7.174593066410367, 8.06967047851923, 14.241219540054988, 9.94178719003689, 7.811613062290412, 17.677034517133986, 9.37471342340864, 8.676865742521331, 8.361108667120972, 7.299477679857029, 14.691262234407692, 13.264405333421868, 7.467862260275611, 15.162011331234229, 19.069400353890785, 11.102803579383718, 20.707587559185363, 19.774374306302313, 8.247177997113807, 7.634099142933078, 8.121500456046146, 10.862653845186724, 7.866128118776533, 7.1697805895333175, 13.697732156194474, 14.453512192877907, 15.699098900110386, 8.607808897552843, 7.639863454629295, 11.168712804746484, 10.600445084848289, 8.985395035748859, 11.725225128166231, 9.854798833707617, 13.586547151958579, 13.618203281717946, 11.489175811710775, 11.130204871174024, 11.975267754700315, 8.08535118414653, 7.094946747282914, 8.407941006999728, 7.883818111455688, 9.159549239541862, 10.970085703889497, 10.922723045858755, 9.77208949081538, 12.278397769888597, 8.595758797317135, 9.77375377473901, 18.68333143659364, 12.21910898383244, 10.86194248116845, 8.10885158719501, 8.114714386548533, 7.47344402126466, 8.966276523389336, 7.289872612575445, 14.276933839874475, 20.369565186892444, 10.814438030670994, 7.124318552719455, 15.364551178429966, 7.163802732573014, 10.2449022898014, 7.361558168588496, 15.240586920855451, 13.594520828529719, 11.087892338391494, 8.040287812165326, 14.259480896939959, 9.323848485476427, 7.714534879183073, 10.012281014544548, 10.985245586000099, 9.57862465039186, 8.536468407495311, 9.091627077147974, 22.24922113337144, 8.132845547389717, 12.99714591897945, 14.501838233772347, 13.608028453066149, 8.012978174962576, 7.698017290081855, 8.436584110390697, 8.745805468050229, 8.396052723974995, 11.050225396096799, 8.227641288012801, 7.646782794856977, 17.01845748047062, 9.92267043529837, 7.629377488365179, 10.465378962965604, 10.525371315951439, 7.3845228490790245, 8.5446975189354, 22.994558429472352, 12.988342886592125, 9.358665660284665, 7.8947123915731465, 9.844130500955663, 11.214208911646347, 6.956515699159331, 9.089724079146293, 9.517062807728585, 8.371285636428448, 11.384619567425066, 8.225909849530158, 7.195177995070065, 8.601661199731268, 8.964122423328616, 9.488425870224349, 7.3957896774018845, 7.232714230701469, 7.576070906801254, 11.978006785462398, 7.574152286572032, 9.842082963416745, 7.890757656465353, 10.074238173776951, 15.087319694778415, 11.885604230342127, 8.849737274469339, 29.65045975371966, 10.149854473586839, 8.643606926032582, 13.836709206478226, 8.541825914827143, 11.593183419604092, 10.803953115302217, 10.800413159821312, 7.7030215964877184, 7.20964423189819, 7.071782225395018, 7.0012289098598535, 11.052261796309118, 15.578960775536158, 7.2407618714326345, 12.988199052965735, 7.813389194843963, 7.7152625796888605, 9.174012386780706, 14.47646841338167, 8.46601752265321, 7.406004418927543, 7.722085405896616, 7.465494996249777, 9.81136845583216, 7.944340610043272, 7.392910708205551, 8.0018075128677, 9.661283313315082, 7.648850718628851, 15.116678312698921, 12.51089500675339, 10.343790631605772, 7.5282602599807005, 7.386091530943964, 11.49637130838793, 7.352210788170475, 20.068907233832622, 8.59066163253215, 7.48136902383571, 9.867172683757186, 10.251541343115894, 10.016554318645031, 7.1749475714660855, 8.155819118792426, 13.932329689005254, 9.151279142474534, 9.110840037402612, 8.213346862663823, 11.83434322289523, 8.770719697799874, 13.284319139513677, 10.392990180927857, 13.142946923445514, 10.344672172077923, 10.152400251523181, 7.900061106391996, 7.198956856806451, 13.254596393416016, 10.600469368702429, 11.007379034976365, 11.341481449409596, 7.279053805819271, 13.73039545949567, 7.022730948773103, 24.731604699580036, 19.58558562678437, 7.053515386170106, 13.315625276274156, 11.686093598258841, 10.438530434913384, 16.620419128354058, 8.444980401401835, 12.1358014931479, 7.331101893009886, 13.98872066753823, 21.614301669432198, 8.315273782055728, 6.9456308508736, 7.065478467843492, 8.539398403228029, 21.034634039933632, 13.558122494860985, 10.11029101047332, 11.976478296887716, 8.098107856859057, 7.9910186498185904, 7.205434020106558, 12.025173794328131, 10.446421427685197, 10.069344057753094, 12.720563304971403, 9.733160395082047, 8.762348557837402, 9.048396875019339, 7.400884466775437, 13.441229074178649, 6.954006157535352, 7.0120381839856165, 18.22790611938204, 14.463485526400898, 11.398332082266164, 9.451850772651524, 17.78282237065374, 9.408115733129353, 20.00177636322524, 7.00363870826673, 11.373871725581992, 7.901444864181295, 7.63083577001148, 21.06413845012605, 10.022756379813142, 8.449096528884183, 7.465305610592875, 10.17460818832771, 7.018957632838038, 7.617314267596066, 8.71003957061428, 21.33143437212493, 8.853785872600554, 7.37152750020246, 10.088283182594312, 11.9109532382559, 9.78137724813402, 9.22966910766191, 11.620572831888337, 11.369760607441345, 9.435004604717415, 7.678567172704771, 7.496249259064891, 8.225003977163324, 25.57569576812677, 12.994681692924262, 9.78839562958208, 8.171116817428176, 7.992558078898664, 7.627397886121423, 9.993144784960094, 7.6133908962618255, 14.412547700580822, 9.720124005268595, 17.01695881526385, 8.488266463450948, 17.119950625814155, 16.485777964596398, 8.776308460380193, 10.721314642581195, 8.062177030272082, 13.277184698138289, 11.480544208021227, 10.358691259642903, 8.133121475999289, 19.439255142382656, 10.591241321953103, 7.814976992367146, 10.356695408228632, 10.030801798244852, 9.79481975446455, 15.658967819230515, 7.8781756992512255, 10.391787157638023, 9.912184706635353, 7.702339405092689, 9.139174943213133, 8.464505347877605, 9.471168159284069, 10.51041726606574, 10.1318799321626, 15.049708906226105, 6.9414714043723125, 7.793714582249304, 10.816311742671648, 9.21602950642735, 12.554362756265661, 9.80129169673437, 8.384629471946901, 8.223280014935906, 6.962459241674353, 8.368016890200643, 11.215143580948398, 7.333584520220288, 12.564855978948016, 21.061081044174266, 8.04213915973574, 8.324279495748373, 9.506487922266261, 14.07355236351683, 20.29486965036387, 7.44845689712331, 7.256604939463767, 9.092321180173753, 8.845755154369527, 8.85154988264954, 11.253088879306771, 7.157508524456617, 14.279783448794214, 13.525644388559357, 11.087622207477194, 8.681664344798422, 8.775660877549653, 8.839726930674804, 9.541630938102934, 15.894114904241023, 9.200966868106335, 7.164512770301326, 22.770561375433235, 19.84263140345285, 6.968861554921971, 8.273898463746223, 9.890583386953967, 8.831005680527724, 7.556110703369871, 13.930745252790125, 9.659336017115644, 10.24391454104143, 20.11530656743113, 8.500499500916403, 7.882483091745652, 12.281337556060043, 10.306897931319467, 12.60049471366546, 9.600438947347104, 7.902154064565586, 7.342193596943553, 7.195856118087388, 10.608544767928333, 9.427924370166732, 6.969860111266001, 7.590671384919963, 7.766954896256798, 10.045751997844002, 20.84455217000699, 15.800111645327998, 10.646927718382079, 12.312729613167962, 9.947451428265882, 20.38746972509113, 8.861077825730991, 7.512311823282141, 9.706287824084951, 11.408020943556268, 7.502508735668694, 16.582843667797825, 11.439160146975603, 9.054852791680348, 9.89024238444981, 7.304048710948829, 8.788033195751124, 10.606016624776476, 10.266362283988217, 8.504680915226375, 7.455101663439302, 9.333248050471541, 13.708355466972359, 7.46230121433453, 15.69100709040081, 10.893192954920286, 8.226391312793583, 8.924485061677924, 8.008557344413864, 7.790708330613054, 14.227729273278529, 11.779831082752438, 11.05566102247693, 7.9984832349165265, 13.477880743156199, 20.4150819554229, 14.454541384642232, 7.490001410467217, 10.060788509041101, 14.7270869356252, 9.660061298434972, 7.07022748599826, 11.98872246853899, 8.569133502786686, 7.145997660294573, 10.58456925788357, 9.07313707948485, 10.505296885474948, 9.052987205265431, 7.401299393071954, 8.05890956206048, 7.152848849633589, 12.887908202355801, 7.521105057755046, 9.200623166643988, 8.507294435576348, 22.315064956297118, 11.72690760372427, 8.810179519354934, 14.150840387369238, 9.141926790950636, 12.14962508704721, 8.608611905664967, 8.185395678772107, 8.810721379158542, 20.01866687893903, 7.930053393611975, 9.126045151327784, 7.127792979309138, 9.998868242446047, 11.164322496367797, 19.67847156627419, 11.219845282465135, 9.618112280446198, 6.970857988339673, 7.367069419293247, 8.236673233138111, 7.305114250574565, 9.601111728093594, 11.516927360705528, 8.605479160948374, 7.254198694577282, 9.147439518102594, 6.9879595744541865, 7.81219746424942, 9.028635824266887, 17.372698854294036, 10.347867174715619, 10.59864013982638, 8.57703898831886, 7.175467159597319, 14.363304276873889, 6.942003940695454, 7.526391962285718, 15.045996764639385, 10.657365946466017, 6.948905892339335, 11.750318633892146, 9.605454969410143, 11.298847153909104, 10.960381294377553, 14.131384546790729, 21.16280853206837, 9.129154998822514, 8.22967080310885, 9.269259004699578, 7.264163211612298, 7.729313764931193, 8.026339445308038, 8.288590995845514, 7.193774188497673, 8.13666394636785, 9.030413370779394, 7.2200786216683905, 9.284994315491303, 6.961791043817317, 8.83279145638942, 9.44237997444807, 9.807920732485375, 8.688850855162556, 10.861801156779727, 15.00040528137123, 9.618777913124797, 7.520075549778178, 14.380847747603386, 8.516194893324295, 7.242993901708627, 14.026615188686804, 20.132967687394203, 7.12775984512566, 13.354523218184605, 8.133234729487102, 17.77275943267917, 17.75718330168111, 9.361443337536839, 10.759140346780633, 9.523435320794558, 7.822246509021802, 8.08278295596065, 11.011823924030146, 14.794720909511378, 9.730322006219708, 11.234662246534855, 7.514813813290429, 20.97674514595888, 11.415909208714691, 8.024679753559399, 20.10761535841923, 12.974450355476458, 9.550415672050281, 7.450232837154277, 7.279732337164966, 8.65148358045379, 7.5466668103423356, 20.052290235728982, 15.632156138676441, 15.813210454656508, 7.398445064153133, 7.854003767536524, 19.30241914177164, 14.90300338686252, 21.034272978853842, 7.209711194328994, 6.962907367442191, 9.455906826385219, 7.6639011349013115, 8.356546094668698, 31.23965272648355, 8.031398723325442, 9.130931141856433, 8.697279120786424, 8.970636785705928, 8.592135326107533, 9.083736032497404, 11.152646868195784, 8.249777482608359, 7.887861300070193, 8.52225858191166, 7.132127187632032, 8.60884421365625, 10.715224700466868, 11.251246806856742, 9.090034007288345, 9.135698123801292, 7.516952101508917, 14.377477411801799, 7.686202268712826, 16.784339252017073, 7.679467275593621, 7.693315576119567, 19.755930739171617, 19.588366655582647, 12.156368670283136, 9.367411451851153, 7.246358973469071, 10.068708702386449, 10.090994762200742, 11.418045678324665, 11.543046771398117, 10.378282930243422, 12.128148586599147, 7.513446300336307, 10.268856704962213, 12.513363055528078, 10.26250592307476, 7.217915493551457, 7.742555780568174, 17.257092338885467, 11.675416320829468, 7.160361687748846, 16.514356740214968, 7.056231067764043, 8.817702308212022, 16.431332765670764, 16.052521393022072, 8.913571436681197, 11.057014059346468, 9.984412045596473, 7.606398085042454, 8.641805877725966, 21.05476537256391, 10.260891095516978, 9.835977310325383, 9.02885770175557, 18.03843472492047, 22.340179703257316, 9.697044980793665, 9.589461749918575, 8.243614659378302, 9.283820378878067, 18.58939424679222, 8.08514087345628, 7.117166678049208, 8.994093534574484, 14.226359633430413, 7.601999637918667, 26.79894610622662, 9.231798696557924, 9.266966071199144, 15.34364329766718, 12.14995934351155, 7.2375542503734716, 9.73502911353886, 7.4018710437951984, 14.854441549543234, 25.331713246411805, 21.52854810896838, 8.010272663988323, 17.194354837220498, 16.216809802837528, 9.809924132276741, 8.472511827718819, 9.971682891921223, 7.2177051564802435, 9.316470967915627, 9.439709510760766, 7.818660457417697, 7.3118289433800845, 16.876224005905044, 10.747936885345643, 7.587513236027608, 17.18862663891099, 7.329948172391513, 12.40725236200895, 8.372720852282495, 9.917893301433333, 15.368450247793307, 8.727429706969914, 9.893861999971442, 9.389944714020098, 8.271169304527461, 11.287283522608782, 12.485642920070372, 19.5868483490882, 11.904492890966756, 8.403738028169903, 16.44394367273075, 7.658591169420953, 18.13155881761317, 9.625399024156515, 21.53602231075951, 8.290364648007571, 9.834808241063193, 8.291095145951582, 7.394549228155872, 8.72557446944835, 9.013073456698255, 8.697111522423814, 11.339175434907924, 7.196382511324697, 8.58942774206319, 15.054833201066229, 15.594580474742415, 12.623576150946624, 12.149262796022493, 20.766191428524085, 8.732555581710173, 7.027444688413577, 9.561352681466877, 9.149965716975883, 7.357264006241515, 13.784856255567199, 18.528709634113294, 8.072185982469865, 13.99162402218449, 8.9874403558478, 9.697449721808614, 7.177868736889018, 17.350191682684205, 8.612221718347948, 7.103976173633057, 8.292634049687097, 8.863945779976595, 18.855650189120166, 19.128051513276315, 10.076567336357417, 14.213344323201952, 23.06133472542478, 21.396719830589852, 7.317743032697461, 15.219715269532507, 8.409957199282976, 8.358997618247033, 13.397806477031438, 19.700277992903377, 19.712668966578516, 22.24501208974514, 10.407348322465845, 9.257855455151294, 9.25462945908312, 7.308941846998923, 7.484217119337443, 9.6374925836847, 9.59121110664784, 6.939503593904603, 13.540969550912893, 12.536814478380503, 19.73867341188553, 11.404204605583097, 7.041626322909063, 11.087029808364662, 16.454723561425403, 13.420267984488083, 7.657992639880603, 10.663118001570236, 7.541147408050327, 14.125952310613398, 8.188227160095458, 8.046354089337637, 11.067958558076793, 8.474811799408318, 8.27440292000625, 10.538539178656936, 9.155089465557591, 8.456089491102095, 7.181238522413457, 7.5824326710157255, 21.872341346738835, 19.969105380485935, 10.219249450907514, 12.37169023634345, 7.212581409678553, 20.601412558352028, 11.768859476241609, 10.63701844076387, 6.9700227407786155, 12.958649652849507, 8.725800588163036, 8.24232811010987, 7.1851690286466585, 9.129262078672532, 11.311864128741997, 8.495730556966395, 9.331951786308021, 15.776823143264046, 19.359728853970573, 10.579836437185675, 14.186629398112022, 10.164405121041453, 7.179397544420639, 8.819623088273504, 10.258886623323749, 8.42433621176595, 19.80734402275366, 6.9640640570781756, 8.696524104555198, 8.996741712586935, 8.838850876386973, 9.761877029011062, 9.314860430622582, 7.917487091092243, 14.755144249830236, 7.38769690713022, 9.054591747509027, 13.058381883777644, 7.945822797671111, 7.0550101163517605, 7.123845479306848, 7.873832964549128, 8.42032846534067, 9.614392017242915, 8.054757276650513, 8.033719137434757, 10.074225770227539, 7.003382859669236, 10.291461623385784, 10.78430593127892, 8.046149112648319, 11.44437589275439, 9.438641242327561, 9.846414042782836, 8.159694161192034, 23.176076267075505, 8.202434672912617, 12.816601150890344, 9.040151673779693, 11.871876099785537, 6.98820747212284, 8.706150964541537, 9.4412823693568, 9.837717494813184, 8.213947417925986, 13.346702937411207]\n"
     ]
    }
   ],
   "source": [
    "#removing the outliers from the distance_kms variable\n",
    "Q1_dist=sample['distance_kms'].quantile(.25)\n",
    "Q3_dist=sample['distance_kms'].quantile(.75)\n",
    "IQR_dist=Q3_dist-Q1_dist\n",
    "upper_limit_dist=Q3_dist+1.5*IQR_dist\n",
    "lower_limit_dist=0\n",
    "# As the minimum value for distance_kms variable is 0 we set the lower limit to 0\n",
    "\n",
    "def outliers_distance(upper_limit_dist,lower_limit_dist):\n",
    "    outliers_dist=[]\n",
    "    for i in sample['distance_kms']:\n",
    "        if i > upper_limit_dist:\n",
    "            outliers_dist.append(i)\n",
    "        elif i < lower_limit_dist:\n",
    "            outliers_dist.append(i)\n",
    "    return outliers_dist\n",
    "outliers_distance=outliers_distance(upper_limit_dist,lower_limit_dist)\n",
    "print(outliers_distance)\n"
   ]
  },
  {
   "cell_type": "code",
   "execution_count": 81,
   "id": "c1db642e",
   "metadata": {},
   "outputs": [
    {
     "data": {
      "text/plain": [
       "6.936353008534086"
      ]
     },
     "execution_count": 81,
     "metadata": {},
     "output_type": "execute_result"
    }
   ],
   "source": [
    "upper_limit_dist"
   ]
  },
  {
   "cell_type": "code",
   "execution_count": 82,
   "id": "29927749",
   "metadata": {},
   "outputs": [
    {
     "data": {
      "text/plain": [
       "0"
      ]
     },
     "execution_count": 82,
     "metadata": {},
     "output_type": "execute_result"
    }
   ],
   "source": [
    "lower_limit_dist"
   ]
  },
  {
   "cell_type": "code",
   "execution_count": 84,
   "id": "9a77202b",
   "metadata": {},
   "outputs": [
    {
     "data": {
      "text/plain": [
       "0"
      ]
     },
     "execution_count": 84,
     "metadata": {},
     "output_type": "execute_result"
    }
   ],
   "source": [
    "sample['distance_kms'].isnull().sum()"
   ]
  },
  {
   "cell_type": "markdown",
   "id": "194fc00b",
   "metadata": {},
   "source": [
    "Replacing the outliers in the distance kms variables by median of it as mean can change because of outliers"
   ]
  },
  {
   "cell_type": "code",
   "execution_count": 86,
   "id": "b86a2410",
   "metadata": {},
   "outputs": [
    {
     "name": "stderr",
     "output_type": "stream",
     "text": [
      "C:\\Users\\LENOVO\\Anaconda3\\lib\\site-packages\\pandas\\core\\series.py:4509: SettingWithCopyWarning: \n",
      "A value is trying to be set on a copy of a slice from a DataFrame\n",
      "\n",
      "See the caveats in the documentation: https://pandas.pydata.org/pandas-docs/stable/user_guide/indexing.html#returning-a-view-versus-a-copy\n",
      "  return super().replace(\n"
     ]
    }
   ],
   "source": [
    "for i in sample['distance_kms']:\n",
    "    for j in outliers_distance:\n",
    "        if(i==j):\n",
    "            sample['distance_kms'].replace(to_replace=i,value=sample['distance_kms'].median(),inplace=True)"
   ]
  },
  {
   "cell_type": "code",
   "execution_count": 87,
   "id": "dbb3063e",
   "metadata": {},
   "outputs": [
    {
     "data": {
      "text/plain": [
       "count    69263.000000\n",
       "mean         2.222030\n",
       "std          1.421552\n",
       "min          0.000000\n",
       "25%          1.189397\n",
       "50%          1.984817\n",
       "75%          2.843885\n",
       "max          6.935176\n",
       "Name: distance_kms, dtype: float64"
      ]
     },
     "execution_count": 87,
     "metadata": {},
     "output_type": "execute_result"
    }
   ],
   "source": [
    "sample['distance_kms'].describe()"
   ]
  },
  {
   "cell_type": "code",
   "execution_count": 88,
   "id": "60030756",
   "metadata": {},
   "outputs": [
    {
     "data": {
      "text/html": [
       "<div>\n",
       "<style scoped>\n",
       "    .dataframe tbody tr th:only-of-type {\n",
       "        vertical-align: middle;\n",
       "    }\n",
       "\n",
       "    .dataframe tbody tr th {\n",
       "        vertical-align: top;\n",
       "    }\n",
       "\n",
       "    .dataframe thead th {\n",
       "        text-align: right;\n",
       "    }\n",
       "</style>\n",
       "<table border=\"1\" class=\"dataframe\">\n",
       "  <thead>\n",
       "    <tr style=\"text-align: right;\">\n",
       "      <th></th>\n",
       "      <th>id</th>\n",
       "      <th>vendor_id</th>\n",
       "      <th>pickup_datetime</th>\n",
       "      <th>dropoff_datetime</th>\n",
       "      <th>passenger_count</th>\n",
       "      <th>pickup_longitude</th>\n",
       "      <th>pickup_latitude</th>\n",
       "      <th>dropoff_longitude</th>\n",
       "      <th>dropoff_latitude</th>\n",
       "      <th>store_and_fwd_flag</th>\n",
       "      <th>trip_duration_hrs</th>\n",
       "      <th>pickup_day</th>\n",
       "      <th>pickup_hour</th>\n",
       "      <th>distance_kms</th>\n",
       "    </tr>\n",
       "  </thead>\n",
       "  <tbody>\n",
       "    <tr>\n",
       "      <th>0</th>\n",
       "      <td>id2898909</td>\n",
       "      <td>1</td>\n",
       "      <td>2016-03-03 10:30:21</td>\n",
       "      <td>2016-03-03 10:43:49</td>\n",
       "      <td>1.0</td>\n",
       "      <td>-73.991409</td>\n",
       "      <td>40.750320</td>\n",
       "      <td>-73.978813</td>\n",
       "      <td>40.762032</td>\n",
       "      <td>0</td>\n",
       "      <td>0.224444</td>\n",
       "      <td>3</td>\n",
       "      <td>10</td>\n",
       "      <td>1.679710</td>\n",
       "    </tr>\n",
       "    <tr>\n",
       "      <th>1</th>\n",
       "      <td>id3276089</td>\n",
       "      <td>2</td>\n",
       "      <td>2016-03-23 18:39:57</td>\n",
       "      <td>2016-03-23 19:01:06</td>\n",
       "      <td>1.0</td>\n",
       "      <td>-73.981850</td>\n",
       "      <td>40.773289</td>\n",
       "      <td>-73.978973</td>\n",
       "      <td>40.757240</td>\n",
       "      <td>0</td>\n",
       "      <td>0.352500</td>\n",
       "      <td>2</td>\n",
       "      <td>18</td>\n",
       "      <td>1.800872</td>\n",
       "    </tr>\n",
       "    <tr>\n",
       "      <th>2</th>\n",
       "      <td>id2303543</td>\n",
       "      <td>2</td>\n",
       "      <td>2016-03-03 11:34:33</td>\n",
       "      <td>2016-03-03 11:56:03</td>\n",
       "      <td>1.0</td>\n",
       "      <td>-73.873032</td>\n",
       "      <td>40.774055</td>\n",
       "      <td>-73.744003</td>\n",
       "      <td>40.776676</td>\n",
       "      <td>0</td>\n",
       "      <td>0.358333</td>\n",
       "      <td>3</td>\n",
       "      <td>11</td>\n",
       "      <td>1.984817</td>\n",
       "    </tr>\n",
       "    <tr>\n",
       "      <th>3</th>\n",
       "      <td>id0955609</td>\n",
       "      <td>2</td>\n",
       "      <td>2016-05-23 21:02:17</td>\n",
       "      <td>2016-05-23 21:13:37</td>\n",
       "      <td>1.0</td>\n",
       "      <td>-73.968178</td>\n",
       "      <td>40.762280</td>\n",
       "      <td>-73.970680</td>\n",
       "      <td>40.788422</td>\n",
       "      <td>0</td>\n",
       "      <td>0.188889</td>\n",
       "      <td>0</td>\n",
       "      <td>21</td>\n",
       "      <td>2.914502</td>\n",
       "    </tr>\n",
       "    <tr>\n",
       "      <th>4</th>\n",
       "      <td>id0548011</td>\n",
       "      <td>2</td>\n",
       "      <td>2016-01-19 10:18:47</td>\n",
       "      <td>2016-01-19 10:27:54</td>\n",
       "      <td>3.0</td>\n",
       "      <td>-74.017197</td>\n",
       "      <td>40.705070</td>\n",
       "      <td>-74.007240</td>\n",
       "      <td>40.722599</td>\n",
       "      <td>0</td>\n",
       "      <td>0.151944</td>\n",
       "      <td>1</td>\n",
       "      <td>10</td>\n",
       "      <td>2.122055</td>\n",
       "    </tr>\n",
       "  </tbody>\n",
       "</table>\n",
       "</div>"
      ],
      "text/plain": [
       "          id  vendor_id     pickup_datetime    dropoff_datetime  \\\n",
       "0  id2898909          1 2016-03-03 10:30:21 2016-03-03 10:43:49   \n",
       "1  id3276089          2 2016-03-23 18:39:57 2016-03-23 19:01:06   \n",
       "2  id2303543          2 2016-03-03 11:34:33 2016-03-03 11:56:03   \n",
       "3  id0955609          2 2016-05-23 21:02:17 2016-05-23 21:13:37   \n",
       "4  id0548011          2 2016-01-19 10:18:47 2016-01-19 10:27:54   \n",
       "\n",
       "   passenger_count  pickup_longitude  pickup_latitude  dropoff_longitude  \\\n",
       "0              1.0        -73.991409        40.750320         -73.978813   \n",
       "1              1.0        -73.981850        40.773289         -73.978973   \n",
       "2              1.0        -73.873032        40.774055         -73.744003   \n",
       "3              1.0        -73.968178        40.762280         -73.970680   \n",
       "4              3.0        -74.017197        40.705070         -74.007240   \n",
       "\n",
       "   dropoff_latitude  store_and_fwd_flag  trip_duration_hrs  pickup_day  \\\n",
       "0         40.762032                   0           0.224444           3   \n",
       "1         40.757240                   0           0.352500           2   \n",
       "2         40.776676                   0           0.358333           3   \n",
       "3         40.788422                   0           0.188889           0   \n",
       "4         40.722599                   0           0.151944           1   \n",
       "\n",
       "   pickup_hour  distance_kms  \n",
       "0           10      1.679710  \n",
       "1           18      1.800872  \n",
       "2           11      1.984817  \n",
       "3           21      2.914502  \n",
       "4           10      2.122055  "
      ]
     },
     "execution_count": 88,
     "metadata": {},
     "output_type": "execute_result"
    }
   ],
   "source": [
    "sample.head()"
   ]
  },
  {
   "cell_type": "code",
   "execution_count": 90,
   "id": "8c10e1f4",
   "metadata": {},
   "outputs": [
    {
     "data": {
      "image/png": "[encoded data removed]",
      "text/plain": [
       "<Figure size 840x560 with 1 Axes>"
      ]
     },
     "metadata": {
      "needs_background": "light"
     },
     "output_type": "display_data"
    }
   ],
   "source": [
    "# creating a scatter plot for our new feature distance and trip duration in hrs\n",
    "plt.figure(dpi=140)\n",
    "plt.title(\" Distance vs trip duration in hrs\")\n",
    "plt.xlabel(\"Distance in kms\")\n",
    "plt.ylabel(\" Trip duration in hrs\")\n",
    "#plt.plot(sample['mean_trip_duration'],color='Red')\n",
    "plt.scatter(sample['distance_kms'],sample['trip_duration_hrs'])\n",
    "plt.show()"
   ]
  },
  {
   "cell_type": "markdown",
   "id": "eda7b184",
   "metadata": {},
   "source": [
    "# Actually building the benchmark model as we have removed the outliers from the distance_kms variable"
   ]
  },
  {
   "cell_type": "code",
   "execution_count": 91,
   "id": "10134024",
   "metadata": {},
   "outputs": [
    {
     "name": "stderr",
     "output_type": "stream",
     "text": [
      "<ipython-input-91-2ca4915ab7d3>:1: SettingWithCopyWarning: \n",
      "A value is trying to be set on a copy of a slice from a DataFrame.\n",
      "Try using .loc[row_indexer,col_indexer] = value instead\n",
      "\n",
      "See the caveats in the documentation: https://pandas.pydata.org/pandas-docs/stable/user_guide/indexing.html#returning-a-view-versus-a-copy\n",
      "  sample['mean_trip_duration']=sample['trip_duration_hrs'].mean()\n"
     ]
    }
   ],
   "source": [
    "sample['mean_trip_duration']=sample['trip_duration_hrs'].mean()"
   ]
  },
  {
   "cell_type": "code",
   "execution_count": 92,
   "id": "3803b895",
   "metadata": {},
   "outputs": [
    {
     "data": {
      "text/plain": [
       "0        0.203048\n",
       "1        0.203048\n",
       "2        0.203048\n",
       "3        0.203048\n",
       "4        0.203048\n",
       "           ...   \n",
       "69258    0.203048\n",
       "69259    0.203048\n",
       "69260    0.203048\n",
       "69261    0.203048\n",
       "69262    0.203048\n",
       "Name: mean_trip_duration, Length: 69263, dtype: float64"
      ]
     },
     "execution_count": 92,
     "metadata": {},
     "output_type": "execute_result"
    }
   ],
   "source": [
    "sample['mean_trip_duration']"
   ]
  },
  {
   "cell_type": "code",
   "execution_count": 93,
   "id": "2d4eb9ca",
   "metadata": {},
   "outputs": [
    {
     "data": {
      "image/png": "[encoded data removed]",
      "text/plain": [
       "<Figure size 720x480 with 1 Axes>"
      ]
     },
     "metadata": {
      "needs_background": "light"
     },
     "output_type": "display_data"
    }
   ],
   "source": [
    "plt.figure(dpi=120)\n",
    "a=range(0,len(sample))\n",
    "plt.scatter(a,sample['trip_duration_hrs'],color='Red',label='Actual Trip duration in hrs')\n",
    "plt.plot(a,sample['mean_trip_duration'],color='Blue',label='Mean Trip duration')\n",
    "plt.xlabel(\" Fitted points\")\n",
    "plt.ylabel(\" Mean Trip duration\")\n",
    "plt.title(\" Mean trip_duration\")\n",
    "plt.legend()\n",
    "plt.show()"
   ]
  },
  {
   "cell_type": "markdown",
   "id": "a89cdc75",
   "metadata": {},
   "source": [
    "As you can see from the graph the blue line which represents the mean trip duration does not predict the actual trip duration accurately  and there is a lot of difference between the actual and the predicted values and hence the error is very high with this model"
   ]
  },
  {
   "cell_type": "code",
   "execution_count": 94,
   "id": "1b4e5329",
   "metadata": {},
   "outputs": [
    {
     "data": {
      "text/html": [
       "<div>\n",
       "<style scoped>\n",
       "    .dataframe tbody tr th:only-of-type {\n",
       "        vertical-align: middle;\n",
       "    }\n",
       "\n",
       "    .dataframe tbody tr th {\n",
       "        vertical-align: top;\n",
       "    }\n",
       "\n",
       "    .dataframe thead th {\n",
       "        text-align: right;\n",
       "    }\n",
       "</style>\n",
       "<table border=\"1\" class=\"dataframe\">\n",
       "  <thead>\n",
       "    <tr style=\"text-align: right;\">\n",
       "      <th></th>\n",
       "      <th>id</th>\n",
       "      <th>vendor_id</th>\n",
       "      <th>pickup_datetime</th>\n",
       "      <th>dropoff_datetime</th>\n",
       "      <th>passenger_count</th>\n",
       "      <th>pickup_longitude</th>\n",
       "      <th>pickup_latitude</th>\n",
       "      <th>dropoff_longitude</th>\n",
       "      <th>dropoff_latitude</th>\n",
       "      <th>store_and_fwd_flag</th>\n",
       "      <th>trip_duration_hrs</th>\n",
       "      <th>pickup_day</th>\n",
       "      <th>pickup_hour</th>\n",
       "      <th>distance_kms</th>\n",
       "      <th>mean_trip_duration</th>\n",
       "    </tr>\n",
       "  </thead>\n",
       "  <tbody>\n",
       "    <tr>\n",
       "      <th>0</th>\n",
       "      <td>id2898909</td>\n",
       "      <td>1</td>\n",
       "      <td>2016-03-03 10:30:21</td>\n",
       "      <td>2016-03-03 10:43:49</td>\n",
       "      <td>1.0</td>\n",
       "      <td>-73.991409</td>\n",
       "      <td>40.750320</td>\n",
       "      <td>-73.978813</td>\n",
       "      <td>40.762032</td>\n",
       "      <td>0</td>\n",
       "      <td>0.224444</td>\n",
       "      <td>3</td>\n",
       "      <td>10</td>\n",
       "      <td>1.679710</td>\n",
       "      <td>0.203048</td>\n",
       "    </tr>\n",
       "    <tr>\n",
       "      <th>1</th>\n",
       "      <td>id3276089</td>\n",
       "      <td>2</td>\n",
       "      <td>2016-03-23 18:39:57</td>\n",
       "      <td>2016-03-23 19:01:06</td>\n",
       "      <td>1.0</td>\n",
       "      <td>-73.981850</td>\n",
       "      <td>40.773289</td>\n",
       "      <td>-73.978973</td>\n",
       "      <td>40.757240</td>\n",
       "      <td>0</td>\n",
       "      <td>0.352500</td>\n",
       "      <td>2</td>\n",
       "      <td>18</td>\n",
       "      <td>1.800872</td>\n",
       "      <td>0.203048</td>\n",
       "    </tr>\n",
       "    <tr>\n",
       "      <th>2</th>\n",
       "      <td>id2303543</td>\n",
       "      <td>2</td>\n",
       "      <td>2016-03-03 11:34:33</td>\n",
       "      <td>2016-03-03 11:56:03</td>\n",
       "      <td>1.0</td>\n",
       "      <td>-73.873032</td>\n",
       "      <td>40.774055</td>\n",
       "      <td>-73.744003</td>\n",
       "      <td>40.776676</td>\n",
       "      <td>0</td>\n",
       "      <td>0.358333</td>\n",
       "      <td>3</td>\n",
       "      <td>11</td>\n",
       "      <td>1.984817</td>\n",
       "      <td>0.203048</td>\n",
       "    </tr>\n",
       "    <tr>\n",
       "      <th>3</th>\n",
       "      <td>id0955609</td>\n",
       "      <td>2</td>\n",
       "      <td>2016-05-23 21:02:17</td>\n",
       "      <td>2016-05-23 21:13:37</td>\n",
       "      <td>1.0</td>\n",
       "      <td>-73.968178</td>\n",
       "      <td>40.762280</td>\n",
       "      <td>-73.970680</td>\n",
       "      <td>40.788422</td>\n",
       "      <td>0</td>\n",
       "      <td>0.188889</td>\n",
       "      <td>0</td>\n",
       "      <td>21</td>\n",
       "      <td>2.914502</td>\n",
       "      <td>0.203048</td>\n",
       "    </tr>\n",
       "    <tr>\n",
       "      <th>4</th>\n",
       "      <td>id0548011</td>\n",
       "      <td>2</td>\n",
       "      <td>2016-01-19 10:18:47</td>\n",
       "      <td>2016-01-19 10:27:54</td>\n",
       "      <td>3.0</td>\n",
       "      <td>-74.017197</td>\n",
       "      <td>40.705070</td>\n",
       "      <td>-74.007240</td>\n",
       "      <td>40.722599</td>\n",
       "      <td>0</td>\n",
       "      <td>0.151944</td>\n",
       "      <td>1</td>\n",
       "      <td>10</td>\n",
       "      <td>2.122055</td>\n",
       "      <td>0.203048</td>\n",
       "    </tr>\n",
       "  </tbody>\n",
       "</table>\n",
       "</div>"
      ],
      "text/plain": [
       "          id  vendor_id     pickup_datetime    dropoff_datetime  \\\n",
       "0  id2898909          1 2016-03-03 10:30:21 2016-03-03 10:43:49   \n",
       "1  id3276089          2 2016-03-23 18:39:57 2016-03-23 19:01:06   \n",
       "2  id2303543          2 2016-03-03 11:34:33 2016-03-03 11:56:03   \n",
       "3  id0955609          2 2016-05-23 21:02:17 2016-05-23 21:13:37   \n",
       "4  id0548011          2 2016-01-19 10:18:47 2016-01-19 10:27:54   \n",
       "\n",
       "   passenger_count  pickup_longitude  pickup_latitude  dropoff_longitude  \\\n",
       "0              1.0        -73.991409        40.750320         -73.978813   \n",
       "1              1.0        -73.981850        40.773289         -73.978973   \n",
       "2              1.0        -73.873032        40.774055         -73.744003   \n",
       "3              1.0        -73.968178        40.762280         -73.970680   \n",
       "4              3.0        -74.017197        40.705070         -74.007240   \n",
       "\n",
       "   dropoff_latitude  store_and_fwd_flag  trip_duration_hrs  pickup_day  \\\n",
       "0         40.762032                   0           0.224444           3   \n",
       "1         40.757240                   0           0.352500           2   \n",
       "2         40.776676                   0           0.358333           3   \n",
       "3         40.788422                   0           0.188889           0   \n",
       "4         40.722599                   0           0.151944           1   \n",
       "\n",
       "   pickup_hour  distance_kms  mean_trip_duration  \n",
       "0           10      1.679710            0.203048  \n",
       "1           18      1.800872            0.203048  \n",
       "2           11      1.984817            0.203048  \n",
       "3           21      2.914502            0.203048  \n",
       "4           10      2.122055            0.203048  "
      ]
     },
     "execution_count": 94,
     "metadata": {},
     "output_type": "execute_result"
    }
   ],
   "source": [
    "\n",
    "sample.head()"
   ]
  },
  {
   "cell_type": "code",
   "execution_count": 95,
   "id": "b71aebf6",
   "metadata": {},
   "outputs": [
    {
     "data": {
      "text/html": [
       "<div>\n",
       "<style scoped>\n",
       "    .dataframe tbody tr th:only-of-type {\n",
       "        vertical-align: middle;\n",
       "    }\n",
       "\n",
       "    .dataframe tbody tr th {\n",
       "        vertical-align: top;\n",
       "    }\n",
       "\n",
       "    .dataframe thead th {\n",
       "        text-align: right;\n",
       "    }\n",
       "</style>\n",
       "<table border=\"1\" class=\"dataframe\">\n",
       "  <thead>\n",
       "    <tr style=\"text-align: right;\">\n",
       "      <th></th>\n",
       "      <th>vendor_id</th>\n",
       "      <th>passenger_count</th>\n",
       "      <th>pickup_longitude</th>\n",
       "      <th>pickup_latitude</th>\n",
       "      <th>dropoff_longitude</th>\n",
       "      <th>dropoff_latitude</th>\n",
       "      <th>store_and_fwd_flag</th>\n",
       "      <th>trip_duration_hrs</th>\n",
       "      <th>pickup_day</th>\n",
       "      <th>pickup_hour</th>\n",
       "      <th>distance_kms</th>\n",
       "      <th>mean_trip_duration</th>\n",
       "    </tr>\n",
       "  </thead>\n",
       "  <tbody>\n",
       "    <tr>\n",
       "      <th>vendor_id</th>\n",
       "      <td>1.000000</td>\n",
       "      <td>0.156832</td>\n",
       "      <td>0.012300</td>\n",
       "      <td>0.005513</td>\n",
       "      <td>0.005793</td>\n",
       "      <td>0.007955</td>\n",
       "      <td>-0.075978</td>\n",
       "      <td>0.003728</td>\n",
       "      <td>0.006409</td>\n",
       "      <td>0.012063</td>\n",
       "      <td>0.001247</td>\n",
       "      <td>NaN</td>\n",
       "    </tr>\n",
       "    <tr>\n",
       "      <th>passenger_count</th>\n",
       "      <td>0.156832</td>\n",
       "      <td>1.000000</td>\n",
       "      <td>-0.005147</td>\n",
       "      <td>-0.013563</td>\n",
       "      <td>-0.002212</td>\n",
       "      <td>-0.004696</td>\n",
       "      <td>-0.014552</td>\n",
       "      <td>0.018442</td>\n",
       "      <td>0.043683</td>\n",
       "      <td>0.023311</td>\n",
       "      <td>0.008349</td>\n",
       "      <td>NaN</td>\n",
       "    </tr>\n",
       "    <tr>\n",
       "      <th>pickup_longitude</th>\n",
       "      <td>0.012300</td>\n",
       "      <td>-0.005147</td>\n",
       "      <td>1.000000</td>\n",
       "      <td>-0.102033</td>\n",
       "      <td>0.644794</td>\n",
       "      <td>-0.128031</td>\n",
       "      <td>0.009176</td>\n",
       "      <td>0.113149</td>\n",
       "      <td>-0.020848</td>\n",
       "      <td>0.005603</td>\n",
       "      <td>-0.021094</td>\n",
       "      <td>NaN</td>\n",
       "    </tr>\n",
       "    <tr>\n",
       "      <th>pickup_latitude</th>\n",
       "      <td>0.005513</td>\n",
       "      <td>-0.013563</td>\n",
       "      <td>-0.102033</td>\n",
       "      <td>1.000000</td>\n",
       "      <td>-0.122032</td>\n",
       "      <td>0.700913</td>\n",
       "      <td>-0.001947</td>\n",
       "      <td>-0.088122</td>\n",
       "      <td>-0.036998</td>\n",
       "      <td>0.022779</td>\n",
       "      <td>-0.049094</td>\n",
       "      <td>NaN</td>\n",
       "    </tr>\n",
       "    <tr>\n",
       "      <th>dropoff_longitude</th>\n",
       "      <td>0.005793</td>\n",
       "      <td>-0.002212</td>\n",
       "      <td>0.644794</td>\n",
       "      <td>-0.122032</td>\n",
       "      <td>1.000000</td>\n",
       "      <td>-0.034173</td>\n",
       "      <td>0.010447</td>\n",
       "      <td>0.123455</td>\n",
       "      <td>0.002533</td>\n",
       "      <td>-0.042649</td>\n",
       "      <td>0.039247</td>\n",
       "      <td>NaN</td>\n",
       "    </tr>\n",
       "    <tr>\n",
       "      <th>dropoff_latitude</th>\n",
       "      <td>0.007955</td>\n",
       "      <td>-0.004696</td>\n",
       "      <td>-0.128031</td>\n",
       "      <td>0.700913</td>\n",
       "      <td>-0.034173</td>\n",
       "      <td>1.000000</td>\n",
       "      <td>-0.004743</td>\n",
       "      <td>-0.089033</td>\n",
       "      <td>-0.024559</td>\n",
       "      <td>0.019687</td>\n",
       "      <td>-0.042097</td>\n",
       "      <td>NaN</td>\n",
       "    </tr>\n",
       "    <tr>\n",
       "      <th>store_and_fwd_flag</th>\n",
       "      <td>-0.075978</td>\n",
       "      <td>-0.014552</td>\n",
       "      <td>0.009176</td>\n",
       "      <td>-0.001947</td>\n",
       "      <td>0.010447</td>\n",
       "      <td>-0.004743</td>\n",
       "      <td>1.000000</td>\n",
       "      <td>0.011109</td>\n",
       "      <td>-0.004393</td>\n",
       "      <td>0.000919</td>\n",
       "      <td>0.002448</td>\n",
       "      <td>NaN</td>\n",
       "    </tr>\n",
       "    <tr>\n",
       "      <th>trip_duration_hrs</th>\n",
       "      <td>0.003728</td>\n",
       "      <td>0.018442</td>\n",
       "      <td>0.113149</td>\n",
       "      <td>-0.088122</td>\n",
       "      <td>0.123455</td>\n",
       "      <td>-0.089033</td>\n",
       "      <td>0.011109</td>\n",
       "      <td>1.000000</td>\n",
       "      <td>-0.018381</td>\n",
       "      <td>0.029754</td>\n",
       "      <td>0.559692</td>\n",
       "      <td>NaN</td>\n",
       "    </tr>\n",
       "    <tr>\n",
       "      <th>pickup_day</th>\n",
       "      <td>0.006409</td>\n",
       "      <td>0.043683</td>\n",
       "      <td>-0.020848</td>\n",
       "      <td>-0.036998</td>\n",
       "      <td>0.002533</td>\n",
       "      <td>-0.024559</td>\n",
       "      <td>-0.004393</td>\n",
       "      <td>-0.018381</td>\n",
       "      <td>1.000000</td>\n",
       "      <td>-0.086758</td>\n",
       "      <td>0.029437</td>\n",
       "      <td>NaN</td>\n",
       "    </tr>\n",
       "    <tr>\n",
       "      <th>pickup_hour</th>\n",
       "      <td>0.012063</td>\n",
       "      <td>0.023311</td>\n",
       "      <td>0.005603</td>\n",
       "      <td>0.022779</td>\n",
       "      <td>-0.042649</td>\n",
       "      <td>0.019687</td>\n",
       "      <td>0.000919</td>\n",
       "      <td>0.029754</td>\n",
       "      <td>-0.086758</td>\n",
       "      <td>1.000000</td>\n",
       "      <td>-0.000444</td>\n",
       "      <td>NaN</td>\n",
       "    </tr>\n",
       "    <tr>\n",
       "      <th>distance_kms</th>\n",
       "      <td>0.001247</td>\n",
       "      <td>0.008349</td>\n",
       "      <td>-0.021094</td>\n",
       "      <td>-0.049094</td>\n",
       "      <td>0.039247</td>\n",
       "      <td>-0.042097</td>\n",
       "      <td>0.002448</td>\n",
       "      <td>0.559692</td>\n",
       "      <td>0.029437</td>\n",
       "      <td>-0.000444</td>\n",
       "      <td>1.000000</td>\n",
       "      <td>NaN</td>\n",
       "    </tr>\n",
       "    <tr>\n",
       "      <th>mean_trip_duration</th>\n",
       "      <td>NaN</td>\n",
       "      <td>NaN</td>\n",
       "      <td>NaN</td>\n",
       "      <td>NaN</td>\n",
       "      <td>NaN</td>\n",
       "      <td>NaN</td>\n",
       "      <td>NaN</td>\n",
       "      <td>NaN</td>\n",
       "      <td>NaN</td>\n",
       "      <td>NaN</td>\n",
       "      <td>NaN</td>\n",
       "      <td>NaN</td>\n",
       "    </tr>\n",
       "  </tbody>\n",
       "</table>\n",
       "</div>"
      ],
      "text/plain": [
       "                    vendor_id  passenger_count  pickup_longitude  \\\n",
       "vendor_id            1.000000         0.156832          0.012300   \n",
       "passenger_count      0.156832         1.000000         -0.005147   \n",
       "pickup_longitude     0.012300        -0.005147          1.000000   \n",
       "pickup_latitude      0.005513        -0.013563         -0.102033   \n",
       "dropoff_longitude    0.005793        -0.002212          0.644794   \n",
       "dropoff_latitude     0.007955        -0.004696         -0.128031   \n",
       "store_and_fwd_flag  -0.075978        -0.014552          0.009176   \n",
       "trip_duration_hrs    0.003728         0.018442          0.113149   \n",
       "pickup_day           0.006409         0.043683         -0.020848   \n",
       "pickup_hour          0.012063         0.023311          0.005603   \n",
       "distance_kms         0.001247         0.008349         -0.021094   \n",
       "mean_trip_duration        NaN              NaN               NaN   \n",
       "\n",
       "                    pickup_latitude  dropoff_longitude  dropoff_latitude  \\\n",
       "vendor_id                  0.005513           0.005793          0.007955   \n",
       "passenger_count           -0.013563          -0.002212         -0.004696   \n",
       "pickup_longitude          -0.102033           0.644794         -0.128031   \n",
       "pickup_latitude            1.000000          -0.122032          0.700913   \n",
       "dropoff_longitude         -0.122032           1.000000         -0.034173   \n",
       "dropoff_latitude           0.700913          -0.034173          1.000000   \n",
       "store_and_fwd_flag        -0.001947           0.010447         -0.004743   \n",
       "trip_duration_hrs         -0.088122           0.123455         -0.089033   \n",
       "pickup_day                -0.036998           0.002533         -0.024559   \n",
       "pickup_hour                0.022779          -0.042649          0.019687   \n",
       "distance_kms              -0.049094           0.039247         -0.042097   \n",
       "mean_trip_duration              NaN                NaN               NaN   \n",
       "\n",
       "                    store_and_fwd_flag  trip_duration_hrs  pickup_day  \\\n",
       "vendor_id                    -0.075978           0.003728    0.006409   \n",
       "passenger_count              -0.014552           0.018442    0.043683   \n",
       "pickup_longitude              0.009176           0.113149   -0.020848   \n",
       "pickup_latitude              -0.001947          -0.088122   -0.036998   \n",
       "dropoff_longitude             0.010447           0.123455    0.002533   \n",
       "dropoff_latitude             -0.004743          -0.089033   -0.024559   \n",
       "store_and_fwd_flag            1.000000           0.011109   -0.004393   \n",
       "trip_duration_hrs             0.011109           1.000000   -0.018381   \n",
       "pickup_day                   -0.004393          -0.018381    1.000000   \n",
       "pickup_hour                   0.000919           0.029754   -0.086758   \n",
       "distance_kms                  0.002448           0.559692    0.029437   \n",
       "mean_trip_duration                 NaN                NaN         NaN   \n",
       "\n",
       "                    pickup_hour  distance_kms  mean_trip_duration  \n",
       "vendor_id              0.012063      0.001247                 NaN  \n",
       "passenger_count        0.023311      0.008349                 NaN  \n",
       "pickup_longitude       0.005603     -0.021094                 NaN  \n",
       "pickup_latitude        0.022779     -0.049094                 NaN  \n",
       "dropoff_longitude     -0.042649      0.039247                 NaN  \n",
       "dropoff_latitude       0.019687     -0.042097                 NaN  \n",
       "store_and_fwd_flag     0.000919      0.002448                 NaN  \n",
       "trip_duration_hrs      0.029754      0.559692                 NaN  \n",
       "pickup_day            -0.086758      0.029437                 NaN  \n",
       "pickup_hour            1.000000     -0.000444                 NaN  \n",
       "distance_kms          -0.000444      1.000000                 NaN  \n",
       "mean_trip_duration          NaN           NaN                 NaN  "
      ]
     },
     "execution_count": 95,
     "metadata": {},
     "output_type": "execute_result"
    }
   ],
   "source": [
    "sample.corr()"
   ]
  },
  {
   "cell_type": "code",
   "execution_count": 96,
   "id": "7be6e517",
   "metadata": {},
   "outputs": [
    {
     "data": {
      "text/html": [
       "<div>\n",
       "<style scoped>\n",
       "    .dataframe tbody tr th:only-of-type {\n",
       "        vertical-align: middle;\n",
       "    }\n",
       "\n",
       "    .dataframe tbody tr th {\n",
       "        vertical-align: top;\n",
       "    }\n",
       "\n",
       "    .dataframe thead th {\n",
       "        text-align: right;\n",
       "    }\n",
       "</style>\n",
       "<table border=\"1\" class=\"dataframe\">\n",
       "  <thead>\n",
       "    <tr style=\"text-align: right;\">\n",
       "      <th></th>\n",
       "      <th>vendor_id</th>\n",
       "      <th>passenger_count</th>\n",
       "      <th>pickup_longitude</th>\n",
       "      <th>pickup_latitude</th>\n",
       "      <th>dropoff_longitude</th>\n",
       "      <th>dropoff_latitude</th>\n",
       "      <th>store_and_fwd_flag</th>\n",
       "      <th>trip_duration_hrs</th>\n",
       "      <th>pickup_day</th>\n",
       "      <th>pickup_hour</th>\n",
       "      <th>distance_kms</th>\n",
       "      <th>mean_trip_duration</th>\n",
       "    </tr>\n",
       "  </thead>\n",
       "  <tbody>\n",
       "    <tr>\n",
       "      <th>vendor_id</th>\n",
       "      <td>1.000000</td>\n",
       "      <td>0.156832</td>\n",
       "      <td>0.012300</td>\n",
       "      <td>0.005513</td>\n",
       "      <td>0.005793</td>\n",
       "      <td>0.007955</td>\n",
       "      <td>-0.075978</td>\n",
       "      <td>0.003728</td>\n",
       "      <td>0.006409</td>\n",
       "      <td>0.012063</td>\n",
       "      <td>0.001247</td>\n",
       "      <td>NaN</td>\n",
       "    </tr>\n",
       "    <tr>\n",
       "      <th>passenger_count</th>\n",
       "      <td>0.156832</td>\n",
       "      <td>1.000000</td>\n",
       "      <td>-0.005147</td>\n",
       "      <td>-0.013563</td>\n",
       "      <td>-0.002212</td>\n",
       "      <td>-0.004696</td>\n",
       "      <td>-0.014552</td>\n",
       "      <td>0.018442</td>\n",
       "      <td>0.043683</td>\n",
       "      <td>0.023311</td>\n",
       "      <td>0.008349</td>\n",
       "      <td>NaN</td>\n",
       "    </tr>\n",
       "    <tr>\n",
       "      <th>pickup_longitude</th>\n",
       "      <td>0.012300</td>\n",
       "      <td>-0.005147</td>\n",
       "      <td>1.000000</td>\n",
       "      <td>-0.102033</td>\n",
       "      <td>0.644794</td>\n",
       "      <td>-0.128031</td>\n",
       "      <td>0.009176</td>\n",
       "      <td>0.113149</td>\n",
       "      <td>-0.020848</td>\n",
       "      <td>0.005603</td>\n",
       "      <td>-0.021094</td>\n",
       "      <td>NaN</td>\n",
       "    </tr>\n",
       "    <tr>\n",
       "      <th>pickup_latitude</th>\n",
       "      <td>0.005513</td>\n",
       "      <td>-0.013563</td>\n",
       "      <td>-0.102033</td>\n",
       "      <td>1.000000</td>\n",
       "      <td>-0.122032</td>\n",
       "      <td>0.700913</td>\n",
       "      <td>-0.001947</td>\n",
       "      <td>-0.088122</td>\n",
       "      <td>-0.036998</td>\n",
       "      <td>0.022779</td>\n",
       "      <td>-0.049094</td>\n",
       "      <td>NaN</td>\n",
       "    </tr>\n",
       "    <tr>\n",
       "      <th>dropoff_longitude</th>\n",
       "      <td>0.005793</td>\n",
       "      <td>-0.002212</td>\n",
       "      <td>0.644794</td>\n",
       "      <td>-0.122032</td>\n",
       "      <td>1.000000</td>\n",
       "      <td>-0.034173</td>\n",
       "      <td>0.010447</td>\n",
       "      <td>0.123455</td>\n",
       "      <td>0.002533</td>\n",
       "      <td>-0.042649</td>\n",
       "      <td>0.039247</td>\n",
       "      <td>NaN</td>\n",
       "    </tr>\n",
       "    <tr>\n",
       "      <th>dropoff_latitude</th>\n",
       "      <td>0.007955</td>\n",
       "      <td>-0.004696</td>\n",
       "      <td>-0.128031</td>\n",
       "      <td>0.700913</td>\n",
       "      <td>-0.034173</td>\n",
       "      <td>1.000000</td>\n",
       "      <td>-0.004743</td>\n",
       "      <td>-0.089033</td>\n",
       "      <td>-0.024559</td>\n",
       "      <td>0.019687</td>\n",
       "      <td>-0.042097</td>\n",
       "      <td>NaN</td>\n",
       "    </tr>\n",
       "    <tr>\n",
       "      <th>store_and_fwd_flag</th>\n",
       "      <td>-0.075978</td>\n",
       "      <td>-0.014552</td>\n",
       "      <td>0.009176</td>\n",
       "      <td>-0.001947</td>\n",
       "      <td>0.010447</td>\n",
       "      <td>-0.004743</td>\n",
       "      <td>1.000000</td>\n",
       "      <td>0.011109</td>\n",
       "      <td>-0.004393</td>\n",
       "      <td>0.000919</td>\n",
       "      <td>0.002448</td>\n",
       "      <td>NaN</td>\n",
       "    </tr>\n",
       "    <tr>\n",
       "      <th>trip_duration_hrs</th>\n",
       "      <td>0.003728</td>\n",
       "      <td>0.018442</td>\n",
       "      <td>0.113149</td>\n",
       "      <td>-0.088122</td>\n",
       "      <td>0.123455</td>\n",
       "      <td>-0.089033</td>\n",
       "      <td>0.011109</td>\n",
       "      <td>1.000000</td>\n",
       "      <td>-0.018381</td>\n",
       "      <td>0.029754</td>\n",
       "      <td>0.559692</td>\n",
       "      <td>NaN</td>\n",
       "    </tr>\n",
       "    <tr>\n",
       "      <th>pickup_day</th>\n",
       "      <td>0.006409</td>\n",
       "      <td>0.043683</td>\n",
       "      <td>-0.020848</td>\n",
       "      <td>-0.036998</td>\n",
       "      <td>0.002533</td>\n",
       "      <td>-0.024559</td>\n",
       "      <td>-0.004393</td>\n",
       "      <td>-0.018381</td>\n",
       "      <td>1.000000</td>\n",
       "      <td>-0.086758</td>\n",
       "      <td>0.029437</td>\n",
       "      <td>NaN</td>\n",
       "    </tr>\n",
       "    <tr>\n",
       "      <th>pickup_hour</th>\n",
       "      <td>0.012063</td>\n",
       "      <td>0.023311</td>\n",
       "      <td>0.005603</td>\n",
       "      <td>0.022779</td>\n",
       "      <td>-0.042649</td>\n",
       "      <td>0.019687</td>\n",
       "      <td>0.000919</td>\n",
       "      <td>0.029754</td>\n",
       "      <td>-0.086758</td>\n",
       "      <td>1.000000</td>\n",
       "      <td>-0.000444</td>\n",
       "      <td>NaN</td>\n",
       "    </tr>\n",
       "    <tr>\n",
       "      <th>distance_kms</th>\n",
       "      <td>0.001247</td>\n",
       "      <td>0.008349</td>\n",
       "      <td>-0.021094</td>\n",
       "      <td>-0.049094</td>\n",
       "      <td>0.039247</td>\n",
       "      <td>-0.042097</td>\n",
       "      <td>0.002448</td>\n",
       "      <td>0.559692</td>\n",
       "      <td>0.029437</td>\n",
       "      <td>-0.000444</td>\n",
       "      <td>1.000000</td>\n",
       "      <td>NaN</td>\n",
       "    </tr>\n",
       "    <tr>\n",
       "      <th>mean_trip_duration</th>\n",
       "      <td>NaN</td>\n",
       "      <td>NaN</td>\n",
       "      <td>NaN</td>\n",
       "      <td>NaN</td>\n",
       "      <td>NaN</td>\n",
       "      <td>NaN</td>\n",
       "      <td>NaN</td>\n",
       "      <td>NaN</td>\n",
       "      <td>NaN</td>\n",
       "      <td>NaN</td>\n",
       "      <td>NaN</td>\n",
       "      <td>NaN</td>\n",
       "    </tr>\n",
       "  </tbody>\n",
       "</table>\n",
       "</div>"
      ],
      "text/plain": [
       "                    vendor_id  passenger_count  pickup_longitude  \\\n",
       "vendor_id            1.000000         0.156832          0.012300   \n",
       "passenger_count      0.156832         1.000000         -0.005147   \n",
       "pickup_longitude     0.012300        -0.005147          1.000000   \n",
       "pickup_latitude      0.005513        -0.013563         -0.102033   \n",
       "dropoff_longitude    0.005793        -0.002212          0.644794   \n",
       "dropoff_latitude     0.007955        -0.004696         -0.128031   \n",
       "store_and_fwd_flag  -0.075978        -0.014552          0.009176   \n",
       "trip_duration_hrs    0.003728         0.018442          0.113149   \n",
       "pickup_day           0.006409         0.043683         -0.020848   \n",
       "pickup_hour          0.012063         0.023311          0.005603   \n",
       "distance_kms         0.001247         0.008349         -0.021094   \n",
       "mean_trip_duration        NaN              NaN               NaN   \n",
       "\n",
       "                    pickup_latitude  dropoff_longitude  dropoff_latitude  \\\n",
       "vendor_id                  0.005513           0.005793          0.007955   \n",
       "passenger_count           -0.013563          -0.002212         -0.004696   \n",
       "pickup_longitude          -0.102033           0.644794         -0.128031   \n",
       "pickup_latitude            1.000000          -0.122032          0.700913   \n",
       "dropoff_longitude         -0.122032           1.000000         -0.034173   \n",
       "dropoff_latitude           0.700913          -0.034173          1.000000   \n",
       "store_and_fwd_flag        -0.001947           0.010447         -0.004743   \n",
       "trip_duration_hrs         -0.088122           0.123455         -0.089033   \n",
       "pickup_day                -0.036998           0.002533         -0.024559   \n",
       "pickup_hour                0.022779          -0.042649          0.019687   \n",
       "distance_kms              -0.049094           0.039247         -0.042097   \n",
       "mean_trip_duration              NaN                NaN               NaN   \n",
       "\n",
       "                    store_and_fwd_flag  trip_duration_hrs  pickup_day  \\\n",
       "vendor_id                    -0.075978           0.003728    0.006409   \n",
       "passenger_count              -0.014552           0.018442    0.043683   \n",
       "pickup_longitude              0.009176           0.113149   -0.020848   \n",
       "pickup_latitude              -0.001947          -0.088122   -0.036998   \n",
       "dropoff_longitude             0.010447           0.123455    0.002533   \n",
       "dropoff_latitude             -0.004743          -0.089033   -0.024559   \n",
       "store_and_fwd_flag            1.000000           0.011109   -0.004393   \n",
       "trip_duration_hrs             0.011109           1.000000   -0.018381   \n",
       "pickup_day                   -0.004393          -0.018381    1.000000   \n",
       "pickup_hour                   0.000919           0.029754   -0.086758   \n",
       "distance_kms                  0.002448           0.559692    0.029437   \n",
       "mean_trip_duration                 NaN                NaN         NaN   \n",
       "\n",
       "                    pickup_hour  distance_kms  mean_trip_duration  \n",
       "vendor_id              0.012063      0.001247                 NaN  \n",
       "passenger_count        0.023311      0.008349                 NaN  \n",
       "pickup_longitude       0.005603     -0.021094                 NaN  \n",
       "pickup_latitude        0.022779     -0.049094                 NaN  \n",
       "dropoff_longitude     -0.042649      0.039247                 NaN  \n",
       "dropoff_latitude       0.019687     -0.042097                 NaN  \n",
       "store_and_fwd_flag     0.000919      0.002448                 NaN  \n",
       "trip_duration_hrs      0.029754      0.559692                 NaN  \n",
       "pickup_day            -0.086758      0.029437                 NaN  \n",
       "pickup_hour            1.000000     -0.000444                 NaN  \n",
       "distance_kms          -0.000444      1.000000                 NaN  \n",
       "mean_trip_duration          NaN           NaN                 NaN  "
      ]
     },
     "execution_count": 96,
     "metadata": {},
     "output_type": "execute_result"
    }
   ],
   "source": [
    "sample.corr()"
   ]
  },
  {
   "cell_type": "code",
   "execution_count": 97,
   "id": "b1d8a364",
   "metadata": {},
   "outputs": [
    {
     "data": {
      "text/plain": [
       "0.015617261962324469"
      ]
     },
     "execution_count": 97,
     "metadata": {},
     "output_type": "execute_result"
    }
   ],
   "source": [
    "# calculating the mean squared for mean regression model\n",
    "from sklearn.metrics import mean_squared_error\n",
    "y_hat=sample['mean_trip_duration']\n",
    "y=sample['trip_duration_hrs']\n",
    "MSE=mean_squared_error(y_hat,y)\n",
    "MSE"
   ]
  },
  {
   "cell_type": "code",
   "execution_count": 98,
   "id": "db54c10e",
   "metadata": {},
   "outputs": [],
   "source": [
    "# Seperating the target variable from the independent variable and selecting the features for our target variable\n",
    "X=sample[['vendor_id','passenger_count','distance_kms','pickup_day','pickup_hour']]\n",
    "Y=sample['trip_duration_hrs']"
   ]
  },
  {
   "cell_type": "markdown",
   "id": "b47c2e52",
   "metadata": {},
   "source": [
    "Selected the feature distance_kms as it is derived from the co-ordinates instead of using the coordinates as the feature"
   ]
  },
  {
   "cell_type": "code",
   "execution_count": 99,
   "id": "159f9f65",
   "metadata": {},
   "outputs": [
    {
     "data": {
      "text/plain": [
       "vendor_id            int64\n",
       "passenger_count    float64\n",
       "distance_kms       float64\n",
       "pickup_day           int64\n",
       "pickup_hour          int64\n",
       "dtype: object"
      ]
     },
     "execution_count": 99,
     "metadata": {},
     "output_type": "execute_result"
    }
   ],
   "source": [
    "X.dtypes"
   ]
  },
  {
   "cell_type": "code",
   "execution_count": 100,
   "id": "03155549",
   "metadata": {},
   "outputs": [],
   "source": [
    "#Scaling the dataset\n",
    "from sklearn.preprocessing import StandardScaler\n",
    "scaler=StandardScaler()\n",
    "X=scaler.fit_transform(X)"
   ]
  },
  {
   "cell_type": "code",
   "execution_count": 101,
   "id": "63231015",
   "metadata": {},
   "outputs": [],
   "source": [
    "X=pd.DataFrame(data=X)"
   ]
  },
  {
   "cell_type": "code",
   "execution_count": 102,
   "id": "e0b5fabe",
   "metadata": {},
   "outputs": [
    {
     "data": {
      "text/plain": [
       "(69263, 15)"
      ]
     },
     "execution_count": 102,
     "metadata": {},
     "output_type": "execute_result"
    }
   ],
   "source": [
    "sample.shape"
   ]
  },
  {
   "cell_type": "code",
   "execution_count": 103,
   "id": "6d041d8d",
   "metadata": {},
   "outputs": [
    {
     "data": {
      "text/html": [
       "<div>\n",
       "<style scoped>\n",
       "    .dataframe tbody tr th:only-of-type {\n",
       "        vertical-align: middle;\n",
       "    }\n",
       "\n",
       "    .dataframe tbody tr th {\n",
       "        vertical-align: top;\n",
       "    }\n",
       "\n",
       "    .dataframe thead th {\n",
       "        text-align: right;\n",
       "    }\n",
       "</style>\n",
       "<table border=\"1\" class=\"dataframe\">\n",
       "  <thead>\n",
       "    <tr style=\"text-align: right;\">\n",
       "      <th></th>\n",
       "      <th>0</th>\n",
       "      <th>1</th>\n",
       "      <th>2</th>\n",
       "      <th>3</th>\n",
       "      <th>4</th>\n",
       "    </tr>\n",
       "  </thead>\n",
       "  <tbody>\n",
       "    <tr>\n",
       "      <th>0</th>\n",
       "      <td>-1.072298</td>\n",
       "      <td>-0.567564</td>\n",
       "      <td>-0.381501</td>\n",
       "      <td>-0.028070</td>\n",
       "      <td>-0.556748</td>\n",
       "    </tr>\n",
       "    <tr>\n",
       "      <th>1</th>\n",
       "      <td>0.932577</td>\n",
       "      <td>-0.567564</td>\n",
       "      <td>-0.296268</td>\n",
       "      <td>-0.538502</td>\n",
       "      <td>0.679141</td>\n",
       "    </tr>\n",
       "    <tr>\n",
       "      <th>2</th>\n",
       "      <td>0.932577</td>\n",
       "      <td>-0.567564</td>\n",
       "      <td>-0.166870</td>\n",
       "      <td>-0.028070</td>\n",
       "      <td>-0.402262</td>\n",
       "    </tr>\n",
       "    <tr>\n",
       "      <th>3</th>\n",
       "      <td>0.932577</td>\n",
       "      <td>-0.567564</td>\n",
       "      <td>0.487127</td>\n",
       "      <td>-1.559365</td>\n",
       "      <td>1.142599</td>\n",
       "    </tr>\n",
       "    <tr>\n",
       "      <th>4</th>\n",
       "      <td>0.932577</td>\n",
       "      <td>3.308758</td>\n",
       "      <td>-0.070328</td>\n",
       "      <td>-1.048934</td>\n",
       "      <td>-0.556748</td>\n",
       "    </tr>\n",
       "    <tr>\n",
       "      <th>...</th>\n",
       "      <td>...</td>\n",
       "      <td>...</td>\n",
       "      <td>...</td>\n",
       "      <td>...</td>\n",
       "      <td>...</td>\n",
       "    </tr>\n",
       "    <tr>\n",
       "      <th>69258</th>\n",
       "      <td>0.932577</td>\n",
       "      <td>-0.567564</td>\n",
       "      <td>0.462936</td>\n",
       "      <td>-1.048934</td>\n",
       "      <td>-0.711234</td>\n",
       "    </tr>\n",
       "    <tr>\n",
       "      <th>69259</th>\n",
       "      <td>-1.072298</td>\n",
       "      <td>-0.567564</td>\n",
       "      <td>-0.430645</td>\n",
       "      <td>0.482361</td>\n",
       "      <td>-0.556748</td>\n",
       "    </tr>\n",
       "    <tr>\n",
       "      <th>69260</th>\n",
       "      <td>0.932577</td>\n",
       "      <td>0.709535</td>\n",
       "      <td>0.472093</td>\n",
       "      <td>0.482361</td>\n",
       "      <td>0.215682</td>\n",
       "    </tr>\n",
       "    <tr>\n",
       "      <th>69261</th>\n",
       "      <td>-1.072298</td>\n",
       "      <td>-0.567564</td>\n",
       "      <td>-0.954898</td>\n",
       "      <td>0.482361</td>\n",
       "      <td>1.451571</td>\n",
       "    </tr>\n",
       "    <tr>\n",
       "      <th>69262</th>\n",
       "      <td>0.932577</td>\n",
       "      <td>1.370597</td>\n",
       "      <td>2.277431</td>\n",
       "      <td>-0.538502</td>\n",
       "      <td>-0.093290</td>\n",
       "    </tr>\n",
       "  </tbody>\n",
       "</table>\n",
       "<p>69263 rows × 5 columns</p>\n",
       "</div>"
      ],
      "text/plain": [
       "              0         1         2         3         4\n",
       "0     -1.072298 -0.567564 -0.381501 -0.028070 -0.556748\n",
       "1      0.932577 -0.567564 -0.296268 -0.538502  0.679141\n",
       "2      0.932577 -0.567564 -0.166870 -0.028070 -0.402262\n",
       "3      0.932577 -0.567564  0.487127 -1.559365  1.142599\n",
       "4      0.932577  3.308758 -0.070328 -1.048934 -0.556748\n",
       "...         ...       ...       ...       ...       ...\n",
       "69258  0.932577 -0.567564  0.462936 -1.048934 -0.711234\n",
       "69259 -1.072298 -0.567564 -0.430645  0.482361 -0.556748\n",
       "69260  0.932577  0.709535  0.472093  0.482361  0.215682\n",
       "69261 -1.072298 -0.567564 -0.954898  0.482361  1.451571\n",
       "69262  0.932577  1.370597  2.277431 -0.538502 -0.093290\n",
       "\n",
       "[69263 rows x 5 columns]"
      ]
     },
     "execution_count": 103,
     "metadata": {},
     "output_type": "execute_result"
    }
   ],
   "source": [
    "X\n"
   ]
  },
  {
   "cell_type": "markdown",
   "id": "c4c05d45",
   "metadata": {},
   "source": [
    "# Linear Regression"
   ]
  },
  {
   "cell_type": "code",
   "execution_count": 104,
   "id": "2d2506dc",
   "metadata": {},
   "outputs": [],
   "source": [
    "from sklearn.model_selection import train_test_split\n",
    "x_train,x_test,y_train,y_test=train_test_split(X,Y,test_size=0.3)"
   ]
  },
  {
   "cell_type": "code",
   "execution_count": 105,
   "id": "d12341e2",
   "metadata": {},
   "outputs": [
    {
     "data": {
      "text/plain": [
       "((48484, 5), (20779, 5), (48484,), (20779,))"
      ]
     },
     "execution_count": 105,
     "metadata": {},
     "output_type": "execute_result"
    }
   ],
   "source": [
    "x_train.shape,x_test.shape,y_train.shape,y_test.shape"
   ]
  },
  {
   "cell_type": "markdown",
   "id": "ee014470",
   "metadata": {},
   "source": [
    "# Training the model on the train dataset with 70% train data and 30% test data"
   ]
  },
  {
   "cell_type": "code",
   "execution_count": 106,
   "id": "e7a0c6ea",
   "metadata": {},
   "outputs": [
    {
     "data": {
      "text/plain": [
       "LinearRegression(normalize=True)"
      ]
     },
     "execution_count": 106,
     "metadata": {},
     "output_type": "execute_result"
    }
   ],
   "source": [
    "from sklearn.linear_model import LinearRegression\n",
    "# We set this paramter normalize is equal to true so that that value of y intercept will be equal to zero\n",
    "lr=LinearRegression(normalize=True)\n",
    "#the lr.fit function will implement gradient descent to find the optimal values of coefficients i.e the slope of the line\n",
    "lr.fit(x_train,y_train)\n"
   ]
  },
  {
   "cell_type": "code",
   "execution_count": 107,
   "id": "061101f3",
   "metadata": {},
   "outputs": [
    {
     "data": {
      "text/plain": [
       "array([ 0.00014886,  0.00206571,  0.0700613 , -0.00439172,  0.00294463])"
      ]
     },
     "execution_count": 107,
     "metadata": {},
     "output_type": "execute_result"
    }
   ],
   "source": [
    "lr.coef_"
   ]
  },
  {
   "cell_type": "code",
   "execution_count": 108,
   "id": "45b8f94d",
   "metadata": {},
   "outputs": [],
   "source": [
    "coefficient=pd.DataFrame({'Feature_Columns':['vendor_id','passenger_count','distance_kms','pickup_day','pickup_hour'],'Coefficients':lr.coef_})"
   ]
  },
  {
   "cell_type": "code",
   "execution_count": 109,
   "id": "32b54858",
   "metadata": {},
   "outputs": [],
   "source": [
    "coefficient.sort_values(by=['Coefficients'],ascending=True,inplace=True)"
   ]
  },
  {
   "cell_type": "code",
   "execution_count": 110,
   "id": "2899465f",
   "metadata": {},
   "outputs": [],
   "source": [
    "coefficient.reset_index(drop=True,inplace=True)"
   ]
  },
  {
   "cell_type": "code",
   "execution_count": 111,
   "id": "a7413077",
   "metadata": {},
   "outputs": [
    {
     "data": {
      "text/html": [
       "<div>\n",
       "<style scoped>\n",
       "    .dataframe tbody tr th:only-of-type {\n",
       "        vertical-align: middle;\n",
       "    }\n",
       "\n",
       "    .dataframe tbody tr th {\n",
       "        vertical-align: top;\n",
       "    }\n",
       "\n",
       "    .dataframe thead th {\n",
       "        text-align: right;\n",
       "    }\n",
       "</style>\n",
       "<table border=\"1\" class=\"dataframe\">\n",
       "  <thead>\n",
       "    <tr style=\"text-align: right;\">\n",
       "      <th></th>\n",
       "      <th>Feature_Columns</th>\n",
       "      <th>Coefficients</th>\n",
       "    </tr>\n",
       "  </thead>\n",
       "  <tbody>\n",
       "    <tr>\n",
       "      <th>0</th>\n",
       "      <td>pickup_day</td>\n",
       "      <td>-0.004392</td>\n",
       "    </tr>\n",
       "    <tr>\n",
       "      <th>1</th>\n",
       "      <td>vendor_id</td>\n",
       "      <td>0.000149</td>\n",
       "    </tr>\n",
       "    <tr>\n",
       "      <th>2</th>\n",
       "      <td>passenger_count</td>\n",
       "      <td>0.002066</td>\n",
       "    </tr>\n",
       "    <tr>\n",
       "      <th>3</th>\n",
       "      <td>pickup_hour</td>\n",
       "      <td>0.002945</td>\n",
       "    </tr>\n",
       "    <tr>\n",
       "      <th>4</th>\n",
       "      <td>distance_kms</td>\n",
       "      <td>0.070061</td>\n",
       "    </tr>\n",
       "  </tbody>\n",
       "</table>\n",
       "</div>"
      ],
      "text/plain": [
       "   Feature_Columns  Coefficients\n",
       "0       pickup_day     -0.004392\n",
       "1        vendor_id      0.000149\n",
       "2  passenger_count      0.002066\n",
       "3      pickup_hour      0.002945\n",
       "4     distance_kms      0.070061"
      ]
     },
     "execution_count": 111,
     "metadata": {},
     "output_type": "execute_result"
    }
   ],
   "source": [
    "coefficient"
   ]
  },
  {
   "cell_type": "code",
   "execution_count": 112,
   "id": "f051cb04",
   "metadata": {},
   "outputs": [
    {
     "data": {
      "image/png": "[encoded data removed]",
      "text/plain": [
       "<Figure size 720x480 with 1 Axes>"
      ]
     },
     "metadata": {
      "needs_background": "light"
     },
     "output_type": "display_data"
    }
   ],
   "source": [
    "#Plotting the coefficients against the features\n",
    "plt.figure(dpi=120)\n",
    "plt.barh(coefficient['Feature_Columns'],coefficient['Coefficients'])\n",
    "plt.title(\" Coefficients vs Features\")\n",
    "plt.xlabel(\" Value of Coefficients\")\n",
    "plt.ylabel(\"Features\")\n",
    "plt.show()"
   ]
  },
  {
   "cell_type": "markdown",
   "id": "2c9cc876",
   "metadata": {},
   "source": [
    "As you can see from the above bar chart the feature distance_kms has the highest value of coefficient as it has a high correlation with the target variable and the feature vendor_id has the lowest value of coefficient that means that it has a low correlation with the target variable"
   ]
  },
  {
   "cell_type": "markdown",
   "id": "474c042d",
   "metadata": {},
   "source": [
    "# Testing the model on the test dataset and calculating the value of R2 by using the score function"
   ]
  },
  {
   "cell_type": "code",
   "execution_count": 113,
   "id": "b4407df4",
   "metadata": {},
   "outputs": [
    {
     "name": "stdout",
     "output_type": "stream",
     "text": [
      " Liner Regression Train Score(R2) = 0.3137771341761356\n",
      " Linear Regression Test Score(R2) = 0.31923843642494665\n"
     ]
    }
   ],
   "source": [
    "predicted_value=lr.predict(x_test)\n",
    "train_score=lr.score(x_train,y_train)\n",
    "test_score=lr.score(x_test,y_test)\n",
    "print(\" Liner Regression Train Score(R2) = {}\".format(train_score))\n",
    "print(\" Linear Regression Test Score(R2) = {}\".format(test_score))"
   ]
  },
  {
   "cell_type": "code",
   "execution_count": 154,
   "id": "c048cd78",
   "metadata": {},
   "outputs": [
    {
     "data": {
      "text/plain": [
       "0.3137771341761356"
      ]
     },
     "execution_count": 154,
     "metadata": {},
     "output_type": "execute_result"
    }
   ],
   "source": [
    "train_score"
   ]
  },
  {
   "cell_type": "markdown",
   "id": "9381f5ba",
   "metadata": {},
   "source": [
    "# The value of R2 is 0.31749 which is less than 0.4 which indicates that the input variables have a low correlation with the target variable"
   ]
  },
  {
   "cell_type": "code",
   "execution_count": 192,
   "id": "b90fe28e",
   "metadata": {},
   "outputs": [],
   "source": [
    "#Calculating the MSE for linear Regression\n",
    "mse_linear=MSE(predicted_value,y_test)"
   ]
  },
  {
   "cell_type": "code",
   "execution_count": 193,
   "id": "2b9a08ef",
   "metadata": {},
   "outputs": [
    {
     "data": {
      "text/plain": [
       "0.010529792049759668"
      ]
     },
     "execution_count": 193,
     "metadata": {},
     "output_type": "execute_result"
    }
   ],
   "source": [
    "mse_linear"
   ]
  },
  {
   "cell_type": "markdown",
   "id": "78721868",
   "metadata": {},
   "source": [
    "# Implementing Ridge and Lasso Regression"
   ]
  },
  {
   "cell_type": "code",
   "execution_count": 114,
   "id": "10e1eef5",
   "metadata": {},
   "outputs": [],
   "source": [
    "from sklearn.linear_model import Ridge\n",
    "from sklearn.linear_model import Lasso"
   ]
  },
  {
   "cell_type": "code",
   "execution_count": 115,
   "id": "42f13244",
   "metadata": {},
   "outputs": [
    {
     "data": {
      "text/plain": [
       "Ridge(alpha=0.3)"
      ]
     },
     "execution_count": 115,
     "metadata": {},
     "output_type": "execute_result"
    }
   ],
   "source": [
    "ridge=Ridge(alpha=.3)\n",
    "ridge.fit(x_train,y_train)"
   ]
  },
  {
   "cell_type": "code",
   "execution_count": 116,
   "id": "bdd4b274",
   "metadata": {},
   "outputs": [
    {
     "data": {
      "text/plain": [
       "array([ 0.00014886,  0.0020657 ,  0.07006087, -0.00439168,  0.00294461])"
      ]
     },
     "execution_count": 116,
     "metadata": {},
     "output_type": "execute_result"
    }
   ],
   "source": [
    "ridge.coef_"
   ]
  },
  {
   "cell_type": "code",
   "execution_count": 194,
   "id": "eb3cde24",
   "metadata": {},
   "outputs": [],
   "source": [
    "predicted_ridge=ridge.predict(x_test)"
   ]
  },
  {
   "cell_type": "code",
   "execution_count": 195,
   "id": "3209ba17",
   "metadata": {},
   "outputs": [],
   "source": [
    "mse_ridge=MSE(predicted_ridge,y_test)"
   ]
  },
  {
   "cell_type": "code",
   "execution_count": 196,
   "id": "f6a22741",
   "metadata": {},
   "outputs": [
    {
     "data": {
      "text/plain": [
       "0.010529792006220881"
      ]
     },
     "execution_count": 196,
     "metadata": {},
     "output_type": "execute_result"
    }
   ],
   "source": [
    "mse_ridge"
   ]
  },
  {
   "cell_type": "code",
   "execution_count": 118,
   "id": "4a336eaf",
   "metadata": {},
   "outputs": [
    {
     "name": "stdout",
     "output_type": "stream",
     "text": [
      " Ridge Regression train score(R2) = 0.3137771341640131\n",
      " Ridge Regression test score(R2) = 0.3192384392397727\n"
     ]
    }
   ],
   "source": [
    "ridge_train_score=ridge.score(x_train,y_train)\n",
    "ridge_test_score=ridge.score(x_test,y_test)\n",
    "print(\" Ridge Regression train score(R2) = {}\".format(ridge_train_score))\n",
    "print(\" Ridge Regression test score(R2) = {}\".format(ridge_test_score))"
   ]
  },
  {
   "cell_type": "code",
   "execution_count": 119,
   "id": "a3e1c6b1",
   "metadata": {},
   "outputs": [
    {
     "data": {
      "text/plain": [
       "array([ 0.,  0.,  0., -0.,  0.])"
      ]
     },
     "execution_count": 119,
     "metadata": {},
     "output_type": "execute_result"
    }
   ],
   "source": [
    "lasso=Lasso(alpha=.3)\n",
    "lasso.fit(x_train,y_train)\n",
    "lasso.coef_"
   ]
  },
  {
   "cell_type": "markdown",
   "id": "9fbb63d5",
   "metadata": {},
   "source": [
    "As you can see  the coefficient value of lasso regression have become zero as the input variables have a very low correlation with the target variable which can also be see from the R2 score of liner regression which is less than 0.4 "
   ]
  },
  {
   "cell_type": "code",
   "execution_count": 197,
   "id": "eedc231b",
   "metadata": {},
   "outputs": [],
   "source": [
    "predicted_lasso=lasso.predict(x_test)"
   ]
  },
  {
   "cell_type": "code",
   "execution_count": 199,
   "id": "7f3e6055",
   "metadata": {},
   "outputs": [],
   "source": [
    "mse_lasso=MSE(predicted_lasso,y_test)"
   ]
  },
  {
   "cell_type": "code",
   "execution_count": 200,
   "id": "d85739bb",
   "metadata": {},
   "outputs": [
    {
     "data": {
      "text/plain": [
       "0.015467715743626985"
      ]
     },
     "execution_count": 200,
     "metadata": {},
     "output_type": "execute_result"
    }
   ],
   "source": [
    "mse_lasso"
   ]
  },
  {
   "cell_type": "code",
   "execution_count": 121,
   "id": "8cedb9de",
   "metadata": {},
   "outputs": [
    {
     "name": "stdout",
     "output_type": "stream",
     "text": [
      " Lasso Regression train score = 0.0\n",
      " Lasso Regression test score = -3.257880701212912e-06\n"
     ]
    }
   ],
   "source": [
    "lasso_train_score=lasso.score(x_train,y_train)\n",
    "lasso_test_score=lasso.score(x_test,y_test)\n",
    "print(\" Lasso Regression train score = {}\".format(lasso_train_score))\n",
    "print(\" Lasso Regression test score = {}\".format(lasso_test_score))"
   ]
  },
  {
   "cell_type": "markdown",
   "id": "5ef3dc40",
   "metadata": {},
   "source": [
    "An R2 Score of 0.0 in the train dataset indicates that the input variable are not correlated  with the target variable"
   ]
  },
  {
   "cell_type": "markdown",
   "id": "6beb832f",
   "metadata": {},
   "source": [
    "# Implementing KNN "
   ]
  },
  {
   "cell_type": "code",
   "execution_count": 122,
   "id": "b1b09950",
   "metadata": {},
   "outputs": [],
   "source": [
    "X_KNN=sample[['vendor_id','passenger_count','distance_kms','pickup_day','pickup_hour']]\n",
    "Y_KNN=sample['trip_duration_hrs']\n"
   ]
  },
  {
   "cell_type": "code",
   "execution_count": 123,
   "id": "2db6078c",
   "metadata": {},
   "outputs": [],
   "source": [
    "from sklearn.preprocessing import MinMaxScaler\n",
    "scaler=MinMaxScaler()\n",
    "X_KNN=scaler.fit_transform(X_KNN)"
   ]
  },
  {
   "cell_type": "code",
   "execution_count": 124,
   "id": "9ace8371",
   "metadata": {},
   "outputs": [],
   "source": [
    "x=pd.DataFrame(X_KNN)"
   ]
  },
  {
   "cell_type": "code",
   "execution_count": 125,
   "id": "e9d75633",
   "metadata": {},
   "outputs": [
    {
     "data": {
      "text/html": [
       "<div>\n",
       "<style scoped>\n",
       "    .dataframe tbody tr th:only-of-type {\n",
       "        vertical-align: middle;\n",
       "    }\n",
       "\n",
       "    .dataframe tbody tr th {\n",
       "        vertical-align: top;\n",
       "    }\n",
       "\n",
       "    .dataframe thead th {\n",
       "        text-align: right;\n",
       "    }\n",
       "</style>\n",
       "<table border=\"1\" class=\"dataframe\">\n",
       "  <thead>\n",
       "    <tr style=\"text-align: right;\">\n",
       "      <th></th>\n",
       "      <th>0</th>\n",
       "      <th>1</th>\n",
       "      <th>2</th>\n",
       "      <th>3</th>\n",
       "      <th>4</th>\n",
       "    </tr>\n",
       "  </thead>\n",
       "  <tbody>\n",
       "    <tr>\n",
       "      <th>0</th>\n",
       "      <td>0.0</td>\n",
       "      <td>0.333333</td>\n",
       "      <td>0.242202</td>\n",
       "      <td>0.500000</td>\n",
       "      <td>0.434783</td>\n",
       "    </tr>\n",
       "    <tr>\n",
       "      <th>1</th>\n",
       "      <td>1.0</td>\n",
       "      <td>0.333333</td>\n",
       "      <td>0.259672</td>\n",
       "      <td>0.333333</td>\n",
       "      <td>0.782609</td>\n",
       "    </tr>\n",
       "    <tr>\n",
       "      <th>2</th>\n",
       "      <td>1.0</td>\n",
       "      <td>0.333333</td>\n",
       "      <td>0.286196</td>\n",
       "      <td>0.500000</td>\n",
       "      <td>0.478261</td>\n",
       "    </tr>\n",
       "    <tr>\n",
       "      <th>3</th>\n",
       "      <td>1.0</td>\n",
       "      <td>0.333333</td>\n",
       "      <td>0.420249</td>\n",
       "      <td>0.000000</td>\n",
       "      <td>0.913043</td>\n",
       "    </tr>\n",
       "    <tr>\n",
       "      <th>4</th>\n",
       "      <td>1.0</td>\n",
       "      <td>1.000000</td>\n",
       "      <td>0.305984</td>\n",
       "      <td>0.166667</td>\n",
       "      <td>0.434783</td>\n",
       "    </tr>\n",
       "    <tr>\n",
       "      <th>...</th>\n",
       "      <td>...</td>\n",
       "      <td>...</td>\n",
       "      <td>...</td>\n",
       "      <td>...</td>\n",
       "      <td>...</td>\n",
       "    </tr>\n",
       "    <tr>\n",
       "      <th>69258</th>\n",
       "      <td>1.0</td>\n",
       "      <td>0.333333</td>\n",
       "      <td>0.415290</td>\n",
       "      <td>0.166667</td>\n",
       "      <td>0.391304</td>\n",
       "    </tr>\n",
       "    <tr>\n",
       "      <th>69259</th>\n",
       "      <td>0.0</td>\n",
       "      <td>0.333333</td>\n",
       "      <td>0.232128</td>\n",
       "      <td>0.666667</td>\n",
       "      <td>0.434783</td>\n",
       "    </tr>\n",
       "    <tr>\n",
       "      <th>69260</th>\n",
       "      <td>1.0</td>\n",
       "      <td>0.552974</td>\n",
       "      <td>0.417168</td>\n",
       "      <td>0.666667</td>\n",
       "      <td>0.652174</td>\n",
       "    </tr>\n",
       "    <tr>\n",
       "      <th>69261</th>\n",
       "      <td>0.0</td>\n",
       "      <td>0.333333</td>\n",
       "      <td>0.124669</td>\n",
       "      <td>0.666667</td>\n",
       "      <td>1.000000</td>\n",
       "    </tr>\n",
       "    <tr>\n",
       "      <th>69262</th>\n",
       "      <td>1.0</td>\n",
       "      <td>0.666667</td>\n",
       "      <td>0.787218</td>\n",
       "      <td>0.333333</td>\n",
       "      <td>0.565217</td>\n",
       "    </tr>\n",
       "  </tbody>\n",
       "</table>\n",
       "<p>69263 rows × 5 columns</p>\n",
       "</div>"
      ],
      "text/plain": [
       "         0         1         2         3         4\n",
       "0      0.0  0.333333  0.242202  0.500000  0.434783\n",
       "1      1.0  0.333333  0.259672  0.333333  0.782609\n",
       "2      1.0  0.333333  0.286196  0.500000  0.478261\n",
       "3      1.0  0.333333  0.420249  0.000000  0.913043\n",
       "4      1.0  1.000000  0.305984  0.166667  0.434783\n",
       "...    ...       ...       ...       ...       ...\n",
       "69258  1.0  0.333333  0.415290  0.166667  0.391304\n",
       "69259  0.0  0.333333  0.232128  0.666667  0.434783\n",
       "69260  1.0  0.552974  0.417168  0.666667  0.652174\n",
       "69261  0.0  0.333333  0.124669  0.666667  1.000000\n",
       "69262  1.0  0.666667  0.787218  0.333333  0.565217\n",
       "\n",
       "[69263 rows x 5 columns]"
      ]
     },
     "execution_count": 125,
     "metadata": {},
     "output_type": "execute_result"
    }
   ],
   "source": [
    "x"
   ]
  },
  {
   "cell_type": "code",
   "execution_count": 126,
   "id": "2da8011d",
   "metadata": {},
   "outputs": [],
   "source": [
    "from sklearn.model_selection import train_test_split\n",
    "x_train_knn,x_test_knn,y_train_knn,y_test_knn=train_test_split(x,Y_KNN,random_state=1,test_size=0.3)\n"
   ]
  },
  {
   "cell_type": "code",
   "execution_count": 127,
   "id": "f87fe9a0",
   "metadata": {},
   "outputs": [
    {
     "name": "stdout",
     "output_type": "stream",
     "text": [
      " MSE of for the test dataset is  0.026376179515138442\n"
     ]
    }
   ],
   "source": [
    "from sklearn.neighbors import KNeighborsRegressor as KNN\n",
    "from sklearn.metrics import mean_squared_error as MSE\n",
    "kreg=KNN(n_neighbors=5)\n",
    "kreg.fit(x_train_knn,y_train_knn)\n",
    "y_predicted=kreg.predict(x_test_knn)\n",
    "k=MSE(y_predicted,y_test)\n",
    "print(' MSE of for the test dataset is ',k)\n"
   ]
  },
  {
   "cell_type": "code",
   "execution_count": 128,
   "id": "26693b19",
   "metadata": {},
   "outputs": [
    {
     "data": {
      "text/plain": [
       "0.026376179515138442"
      ]
     },
     "execution_count": 128,
     "metadata": {},
     "output_type": "execute_result"
    }
   ],
   "source": [
    "k"
   ]
  },
  {
   "cell_type": "code",
   "execution_count": 129,
   "id": "12493e48",
   "metadata": {},
   "outputs": [
    {
     "data": {
      "text/plain": [
       "(48484, 5)"
      ]
     },
     "execution_count": 129,
     "metadata": {},
     "output_type": "execute_result"
    }
   ],
   "source": [
    "x_train_knn.shape"
   ]
  },
  {
   "cell_type": "code",
   "execution_count": 130,
   "id": "898df999",
   "metadata": {},
   "outputs": [
    {
     "data": {
      "text/plain": [
       "(48484,)"
      ]
     },
     "execution_count": 130,
     "metadata": {},
     "output_type": "execute_result"
    }
   ],
   "source": [
    "y_train_knn.shape"
   ]
  },
  {
   "cell_type": "code",
   "execution_count": 131,
   "id": "39e9dfe4",
   "metadata": {},
   "outputs": [
    {
     "data": {
      "text/plain": [
       "(20779, 5)"
      ]
     },
     "execution_count": 131,
     "metadata": {},
     "output_type": "execute_result"
    }
   ],
   "source": [
    "x_test_knn.shape"
   ]
  },
  {
   "cell_type": "code",
   "execution_count": 132,
   "id": "dc2ab607",
   "metadata": {},
   "outputs": [
    {
     "data": {
      "text/plain": [
       "(20779,)"
      ]
     },
     "execution_count": 132,
     "metadata": {},
     "output_type": "execute_result"
    }
   ],
   "source": [
    "y_test.shape"
   ]
  },
  {
   "cell_type": "markdown",
   "id": "50340cc3",
   "metadata": {},
   "source": [
    "# Plotting the elbow curve to find the best value of k"
   ]
  },
  {
   "cell_type": "code",
   "execution_count": 133,
   "id": "7a2c39a5",
   "metadata": {},
   "outputs": [],
   "source": [
    "def elbow(K):\n",
    "    mse_list=[]\n",
    "    for i in K:\n",
    "        kreg=KNN(n_neighbors=i)\n",
    "        kreg.fit(x_train_knn,y_train_knn)\n",
    "        y_predicted=kreg.predict(x_test_knn)\n",
    "        error=MSE(y_predicted,y_test)\n",
    "        mse_list.append(error)\n",
    "    return mse_list\n",
    "K=range(1,50,2)\n",
    "mse_knn=elbow(K)\n",
    "    "
   ]
  },
  {
   "cell_type": "code",
   "execution_count": 134,
   "id": "f9a53fe1",
   "metadata": {},
   "outputs": [
    {
     "data": {
      "image/png": "[encoded data removed]",
      "text/plain": [
       "<Figure size 720x480 with 1 Axes>"
      ]
     },
     "metadata": {
      "needs_background": "light"
     },
     "output_type": "display_data"
    }
   ],
   "source": [
    "plt.figure(dpi=120)\n",
    "plt.plot(K,mse_knn,color='Red')\n",
    "plt.xlabel(\"Different values of K\")\n",
    "plt.ylabel(\" Mean Squared Error\")\n",
    "plt.title(\" Elbow Curve \")\n",
    "plt.show()"
   ]
  },
  {
   "cell_type": "markdown",
   "id": "338966dd",
   "metadata": {},
   "source": [
    "Here we select the value of K=10 as after that the mean squared error is not decreasing sharply"
   ]
  },
  {
   "cell_type": "code",
   "execution_count": 206,
   "id": "3d6563f7",
   "metadata": {},
   "outputs": [],
   "source": [
    "kreg=KNN(n_neighbors=10)\n",
    "kreg.fit(x_train_knn,y_train_knn)\n",
    "y_predicted=kreg.predict(x_test_knn)\n",
    "mse_knn=MSE(y_predicted,y_test_knn)"
   ]
  },
  {
   "cell_type": "code",
   "execution_count": 207,
   "id": "3c873893",
   "metadata": {},
   "outputs": [
    {
     "data": {
      "text/plain": [
       "0.008224080378553192"
      ]
     },
     "execution_count": 207,
     "metadata": {},
     "output_type": "execute_result"
    }
   ],
   "source": [
    "mse_knn"
   ]
  },
  {
   "cell_type": "markdown",
   "id": "5d104df1",
   "metadata": {},
   "source": [
    "# Calculating the R2 Score for KNN(Regression) for train and the test dataset"
   ]
  },
  {
   "cell_type": "code",
   "execution_count": 137,
   "id": "f3752b07",
   "metadata": {},
   "outputs": [
    {
     "name": "stdout",
     "output_type": "stream",
     "text": [
      " R2 score(Decision Tree Regression) for training dataset is 0.5771184613007545 \n"
     ]
    }
   ],
   "source": [
    "train_score_knn=kreg.score(x_train_knn,y_train_knn)\n",
    "print(\" R2 score(Decision Tree Regression) for training dataset is {} \".format(train_score_knn))"
   ]
  },
  {
   "cell_type": "code",
   "execution_count": 138,
   "id": "0b023ab0",
   "metadata": {},
   "outputs": [
    {
     "name": "stdout",
     "output_type": "stream",
     "text": [
      " R2 score(Decision Tree Regression) for testing dataset is 0.47199363409661343 \n"
     ]
    }
   ],
   "source": [
    "test_score_knn=kreg.score(x_test_knn,y_test_knn)\n",
    "print(\" R2 score(Decision Tree Regression) for testing dataset is {} \".format(test_score_knn))"
   ]
  },
  {
   "cell_type": "markdown",
   "id": "6f84ff81",
   "metadata": {},
   "source": [
    "# Implementing Regression Tree"
   ]
  },
  {
   "cell_type": "code",
   "execution_count": 139,
   "id": "22d3d555",
   "metadata": {},
   "outputs": [],
   "source": [
    "from sklearn.model_selection import cross_val_score\n",
    "from sklearn.tree import DecisionTreeRegressor\n",
    "from sklearn.metrics import mean_squared_error as MSE\n",
    "X_tree=sample[['vendor_id','passenger_count','distance_kms','pickup_day','pickup_hour']]\n",
    "Y_tree=sample['trip_duration_hrs']\n",
    "    "
   ]
  },
  {
   "cell_type": "code",
   "execution_count": 140,
   "id": "8c2838fd",
   "metadata": {},
   "outputs": [],
   "source": [
    "from sklearn.model_selection import train_test_split\n",
    "x_train_tree,x_test_tree,y_train_tree,y_test_tree=train_test_split(X_tree,Y_tree,random_state=1,test_size=0.3)"
   ]
  },
  {
   "cell_type": "code",
   "execution_count": 141,
   "id": "4d346b4c",
   "metadata": {},
   "outputs": [
    {
     "name": "stdout",
     "output_type": "stream",
     "text": [
      "Train MSE = 0.0005427302863890035\n",
      "Test MSE = 0.010803049000691628\n"
     ]
    }
   ],
   "source": [
    "tree=DecisionTreeRegressor(random_state=1)\n",
    "dreg=tree.fit(x_train_tree,y_train_tree)\n",
    "y_train_predict=tree.predict(x_train_tree)\n",
    "y_test_predict=tree.predict(x_test_tree)\n",
    "mse_train=MSE(y_train_predict,y_train_tree)\n",
    "mse_test=MSE(y_test_predict,y_test_tree)\n",
    "print('Train MSE = {}'.format(mse_train))\n",
    "print('Test MSE = {}'.format(mse_test))\n",
    "        \n"
   ]
  },
  {
   "cell_type": "markdown",
   "id": "09117d1d",
   "metadata": {},
   "source": [
    "Clearly the mean squared error is low for the train dataset and it is quite high for the test data set that means our model is overfitting and we need to use Cost Complexity pruning to prevent this overfitting"
   ]
  },
  {
   "cell_type": "code",
   "execution_count": 142,
   "id": "9cd8fb82",
   "metadata": {},
   "outputs": [],
   "source": [
    "train_score_reg=tree.score(x_train_tree,y_train_tree)\n",
    "test_score_reg=tree.score(x_test_tree,y_test_tree)"
   ]
  },
  {
   "cell_type": "code",
   "execution_count": 143,
   "id": "23df0ab6",
   "metadata": {},
   "outputs": [
    {
     "name": "stdout",
     "output_type": "stream",
     "text": [
      "Train R2 Score for Decision tree(Regression) = 0.9652874903500697\n",
      "Test R2 Score for Decision tree(Regression) = 0.30641744961460615\n"
     ]
    }
   ],
   "source": [
    "print('Train R2 Score for Decision tree(Regression) = {}'.format(train_score_reg))\n",
    "print('Test R2 Score for Decision tree(Regression) = {}'.format(test_score_reg))"
   ]
  },
  {
   "cell_type": "markdown",
   "id": "4114ed2d",
   "metadata": {},
   "source": [
    "As you can see that the R2 Score for train data set is higher than the test data set that depicts that the model is overfitting that's why we need to use the cost complexity pruning to preduce it"
   ]
  },
  {
   "cell_type": "markdown",
   "id": "69db9e4a",
   "metadata": {},
   "source": [
    "# Cost Complexity Pruning"
   ]
  },
  {
   "cell_type": "code",
   "execution_count": 144,
   "id": "2009860b",
   "metadata": {},
   "outputs": [],
   "source": [
    "alpha=tree.cost_complexity_pruning_path(x_train_tree,y_train_tree)\n",
    "alphas=alpha['ccp_alphas']"
   ]
  },
  {
   "cell_type": "code",
   "execution_count": 145,
   "id": "15b5b8ed",
   "metadata": {},
   "outputs": [
    {
     "data": {
      "text/plain": [
       "34196"
      ]
     },
     "execution_count": 145,
     "metadata": {},
     "output_type": "execute_result"
    }
   ],
   "source": [
    "len(alphas)"
   ]
  },
  {
   "cell_type": "code",
   "execution_count": null,
   "id": "81392c10",
   "metadata": {},
   "outputs": [],
   "source": [
    "for i in alphas:\n",
    "    mse_train=[]\n",
    "    mse_test=[]\n",
    "    tree=DecisionTreeRegressor(ccp_alpha=i)\n",
    "    tree.fit(x_train_tree,y_train_tree)\n",
    "    y_train_predicted=tree.predict(x_train_tree)\n",
    "    y_test_predicted=tree.predict(x_test_tree)\n",
    "    mse_train.append(MSE(y_train_predicted,y_train_tree))\n",
    "    mse_test.append(MSE(y_test_predicted,y_test_tree))\n",
    "    \n",
    "    "
   ]
  },
  {
   "cell_type": "code",
   "execution_count": null,
   "id": "d435f080",
   "metadata": {},
   "outputs": [],
   "source": [
    "mse_train"
   ]
  },
  {
   "cell_type": "code",
   "execution_count": 146,
   "id": "c419fc91",
   "metadata": {},
   "outputs": [],
   "source": [
    "feature_importance=tree.feature_importances_"
   ]
  },
  {
   "cell_type": "code",
   "execution_count": 147,
   "id": "2b144c49",
   "metadata": {},
   "outputs": [],
   "source": [
    "reg_feature_importance=pd.DataFrame({'Features':['vendor_id','passenger_count','distance_kms','pickup_day','pickup_hour'],'Feature_Importance':feature_importance})"
   ]
  },
  {
   "cell_type": "code",
   "execution_count": 148,
   "id": "30628a16",
   "metadata": {},
   "outputs": [],
   "source": [
    "reg_feature_importance.sort_values(by=['Feature_Importance'],ascending=True,inplace=True)"
   ]
  },
  {
   "cell_type": "code",
   "execution_count": 149,
   "id": "2d57ad44",
   "metadata": {},
   "outputs": [],
   "source": [
    "reg_feature_importance.reset_index(drop=True,inplace=True)"
   ]
  },
  {
   "cell_type": "code",
   "execution_count": 150,
   "id": "bb1c50a8",
   "metadata": {},
   "outputs": [
    {
     "data": {
      "text/html": [
       "<div>\n",
       "<style scoped>\n",
       "    .dataframe tbody tr th:only-of-type {\n",
       "        vertical-align: middle;\n",
       "    }\n",
       "\n",
       "    .dataframe tbody tr th {\n",
       "        vertical-align: top;\n",
       "    }\n",
       "\n",
       "    .dataframe thead th {\n",
       "        text-align: right;\n",
       "    }\n",
       "</style>\n",
       "<table border=\"1\" class=\"dataframe\">\n",
       "  <thead>\n",
       "    <tr style=\"text-align: right;\">\n",
       "      <th></th>\n",
       "      <th>Features</th>\n",
       "      <th>Feature_Importance</th>\n",
       "    </tr>\n",
       "  </thead>\n",
       "  <tbody>\n",
       "    <tr>\n",
       "      <th>0</th>\n",
       "      <td>vendor_id</td>\n",
       "      <td>0.017895</td>\n",
       "    </tr>\n",
       "    <tr>\n",
       "      <th>1</th>\n",
       "      <td>passenger_count</td>\n",
       "      <td>0.025874</td>\n",
       "    </tr>\n",
       "    <tr>\n",
       "      <th>2</th>\n",
       "      <td>pickup_day</td>\n",
       "      <td>0.051449</td>\n",
       "    </tr>\n",
       "    <tr>\n",
       "      <th>3</th>\n",
       "      <td>pickup_hour</td>\n",
       "      <td>0.098135</td>\n",
       "    </tr>\n",
       "    <tr>\n",
       "      <th>4</th>\n",
       "      <td>distance_kms</td>\n",
       "      <td>0.806647</td>\n",
       "    </tr>\n",
       "  </tbody>\n",
       "</table>\n",
       "</div>"
      ],
      "text/plain": [
       "          Features  Feature_Importance\n",
       "0        vendor_id            0.017895\n",
       "1  passenger_count            0.025874\n",
       "2       pickup_day            0.051449\n",
       "3      pickup_hour            0.098135\n",
       "4     distance_kms            0.806647"
      ]
     },
     "execution_count": 150,
     "metadata": {},
     "output_type": "execute_result"
    }
   ],
   "source": [
    "reg_feature_importance"
   ]
  },
  {
   "cell_type": "markdown",
   "id": "4d3b2b5a",
   "metadata": {},
   "source": [
    "# Plotting the graph of Feature Importance vs Features in Decision Tree(Regression)"
   ]
  },
  {
   "cell_type": "code",
   "execution_count": 151,
   "id": "7de9365e",
   "metadata": {},
   "outputs": [
    {
     "data": {
      "text/plain": [
       "Text(0.5, 1.0, ' Importance of features vs their name')"
      ]
     },
     "execution_count": 151,
     "metadata": {},
     "output_type": "execute_result"
    },
    {
     "data": {
      "image/png": "[encoded data removed]",
      "text/plain": [
       "<Figure size 720x480 with 1 Axes>"
      ]
     },
     "metadata": {
      "needs_background": "light"
     },
     "output_type": "display_data"
    }
   ],
   "source": [
    "plt.figure(dpi=120)\n",
    "plt.barh(reg_feature_importance['Features'],reg_feature_importance['Feature_Importance'])\n",
    "plt.xlabel(\" Feature Importance\")\n",
    "plt.ylabel(\" Feaure Name\")\n",
    "plt.title(\" Importance of features vs their name\")"
   ]
  },
  {
   "cell_type": "markdown",
   "id": "12ea9dc0",
   "metadata": {},
   "source": [
    "As you can see from the above graph that  variable \"distance_kms\" has the highest feature importance  and vendor_id has the lowest feature importance that means the variable distance_kms has the correlation with the target variable."
   ]
  },
  {
   "cell_type": "markdown",
   "id": "e1f08d13",
   "metadata": {},
   "source": [
    "# Plotting the decision tree"
   ]
  },
  {
   "cell_type": "code",
   "execution_count": 152,
   "id": "99a83141",
   "metadata": {},
   "outputs": [],
   "source": [
    "from sklearn import tree"
   ]
  },
  {
   "cell_type": "code",
   "execution_count": null,
   "id": "f84310fa",
   "metadata": {},
   "outputs": [],
   "source": [
    "tree.plot_tree(dreg,feature_names=['vendor_id','passenger_count','distance_kms','pickup_day','pickup_hour'],filled=True,max_depth=2)\n",
    "plt.figure(dpi=100)\n"
   ]
  },
  {
   "cell_type": "code",
   "execution_count": 153,
   "id": "0ce913d3",
   "metadata": {},
   "outputs": [
    {
     "data": {
      "text/plain": [
       "(69263, 15)"
      ]
     },
     "execution_count": 153,
     "metadata": {},
     "output_type": "execute_result"
    }
   ],
   "source": [
    "sample.shape"
   ]
  },
  {
   "cell_type": "code",
   "execution_count": 184,
   "id": "5ab71b12",
   "metadata": {},
   "outputs": [],
   "source": [
    "score=pd.DataFrame({'Model Name':['Linear Regression','Ridge Regression','Lasso Regression','KNN','Decision Tree Regression'], 'Train R2 Score' : [0.313777,ridge_train_score,lasso_train_score,train_score_knn,train_score_reg],'Test R2 Score':[test_score,ridge_test_score,lasso_test_score,test_score_knn,test_score_reg]})"
   ]
  },
  {
   "cell_type": "code",
   "execution_count": 185,
   "id": "6be00f15",
   "metadata": {},
   "outputs": [
    {
     "data": {
      "text/html": [
       "<div>\n",
       "<style scoped>\n",
       "    .dataframe tbody tr th:only-of-type {\n",
       "        vertical-align: middle;\n",
       "    }\n",
       "\n",
       "    .dataframe tbody tr th {\n",
       "        vertical-align: top;\n",
       "    }\n",
       "\n",
       "    .dataframe thead th {\n",
       "        text-align: right;\n",
       "    }\n",
       "</style>\n",
       "<table border=\"1\" class=\"dataframe\">\n",
       "  <thead>\n",
       "    <tr style=\"text-align: right;\">\n",
       "      <th></th>\n",
       "      <th>Model Name</th>\n",
       "      <th>Train R2 Score</th>\n",
       "      <th>Test R2 Score</th>\n",
       "    </tr>\n",
       "  </thead>\n",
       "  <tbody>\n",
       "    <tr>\n",
       "      <th>0</th>\n",
       "      <td>Linear Regression</td>\n",
       "      <td>0.313777</td>\n",
       "      <td>0.319238</td>\n",
       "    </tr>\n",
       "    <tr>\n",
       "      <th>1</th>\n",
       "      <td>Ridge Regression</td>\n",
       "      <td>0.313777</td>\n",
       "      <td>0.319238</td>\n",
       "    </tr>\n",
       "    <tr>\n",
       "      <th>2</th>\n",
       "      <td>Lasso Regression</td>\n",
       "      <td>0.000000</td>\n",
       "      <td>-0.000003</td>\n",
       "    </tr>\n",
       "    <tr>\n",
       "      <th>3</th>\n",
       "      <td>KNN</td>\n",
       "      <td>0.577118</td>\n",
       "      <td>0.471994</td>\n",
       "    </tr>\n",
       "    <tr>\n",
       "      <th>4</th>\n",
       "      <td>Decision Tree Regression</td>\n",
       "      <td>0.965287</td>\n",
       "      <td>0.306417</td>\n",
       "    </tr>\n",
       "  </tbody>\n",
       "</table>\n",
       "</div>"
      ],
      "text/plain": [
       "                 Model Name  Train R2 Score  Test R2 Score\n",
       "0         Linear Regression        0.313777       0.319238\n",
       "1          Ridge Regression        0.313777       0.319238\n",
       "2          Lasso Regression        0.000000      -0.000003\n",
       "3                       KNN        0.577118       0.471994\n",
       "4  Decision Tree Regression        0.965287       0.306417"
      ]
     },
     "execution_count": 185,
     "metadata": {},
     "output_type": "execute_result"
    }
   ],
   "source": [
    "score"
   ]
  },
  {
   "cell_type": "code",
   "execution_count": 174,
   "id": "7309e155",
   "metadata": {},
   "outputs": [
    {
     "data": {
      "text/html": [
       "<div>\n",
       "<style scoped>\n",
       "    .dataframe tbody tr th:only-of-type {\n",
       "        vertical-align: middle;\n",
       "    }\n",
       "\n",
       "    .dataframe tbody tr th {\n",
       "        vertical-align: top;\n",
       "    }\n",
       "\n",
       "    .dataframe thead th {\n",
       "        text-align: right;\n",
       "    }\n",
       "</style>\n",
       "<table border=\"1\" class=\"dataframe\">\n",
       "  <thead>\n",
       "    <tr style=\"text-align: right;\">\n",
       "      <th></th>\n",
       "      <th>Model Name</th>\n",
       "      <th>Train r2 Score</th>\n",
       "      <th>Test R2 Score</th>\n",
       "    </tr>\n",
       "  </thead>\n",
       "  <tbody>\n",
       "    <tr>\n",
       "      <th>0</th>\n",
       "      <td>Linear Regression</td>\n",
       "      <td>0.313777</td>\n",
       "      <td>0.319238</td>\n",
       "    </tr>\n",
       "    <tr>\n",
       "      <th>1</th>\n",
       "      <td>Ridge Regression</td>\n",
       "      <td>0.313777</td>\n",
       "      <td>0.319238</td>\n",
       "    </tr>\n",
       "    <tr>\n",
       "      <th>2</th>\n",
       "      <td>Lasso Regression</td>\n",
       "      <td>0.000000</td>\n",
       "      <td>-0.000003</td>\n",
       "    </tr>\n",
       "    <tr>\n",
       "      <th>3</th>\n",
       "      <td>KNN</td>\n",
       "      <td>0.577118</td>\n",
       "      <td>0.471994</td>\n",
       "    </tr>\n",
       "    <tr>\n",
       "      <th>4</th>\n",
       "      <td>Decision Tree Regression</td>\n",
       "      <td>0.965287</td>\n",
       "      <td>0.306417</td>\n",
       "    </tr>\n",
       "  </tbody>\n",
       "</table>\n",
       "</div>"
      ],
      "text/plain": [
       "                 Model Name  Train r2 Score  Test R2 Score\n",
       "0         Linear Regression        0.313777       0.319238\n",
       "1          Ridge Regression        0.313777       0.319238\n",
       "2          Lasso Regression        0.000000      -0.000003\n",
       "3                       KNN        0.577118       0.471994\n",
       "4  Decision Tree Regression        0.965287       0.306417"
      ]
     },
     "execution_count": 174,
     "metadata": {},
     "output_type": "execute_result"
    }
   ],
   "source": [
    "train_test_score.iloc[0,1]"
   ]
  },
  {
   "cell_type": "markdown",
   "id": "85cfce24",
   "metadata": {},
   "source": [
    "# Plotting the train Score of All models"
   ]
  },
  {
   "cell_type": "code",
   "execution_count": 189,
   "id": "00a3a9cc",
   "metadata": {},
   "outputs": [
    {
     "data": {
      "text/plain": [
       "Text(0, 0.5, 'Model Name ')"
      ]
     },
     "execution_count": 189,
     "metadata": {},
     "output_type": "execute_result"
    },
    {
     "data": {
      "image/png": "[encoded data removed]",
      "text/plain": [
       "<Figure size 720x480 with 1 Axes>"
      ]
     },
     "metadata": {
      "needs_background": "light"
     },
     "output_type": "display_data"
    }
   ],
   "source": [
    "plt.figure(dpi=120)\n",
    "plt.barh(score['Model Name'],score['Train R2 Score'])\n",
    "plt.title(\" Train R2 Score of all models\")\n",
    "plt.xlabel(\" Train R2 Score \")\n",
    "plt.ylabel(\"Model Name \")"
   ]
  },
  {
   "cell_type": "markdown",
   "id": "084a5cd4",
   "metadata": {},
   "source": [
    "As per the above graph and considering the train R2 Scores of all the models except the benchmark model decision tree regression has perfomed better than the other models as it has the highest value of R2 Score lasso regression which failed to depict the  relationship between the features and the target variables has a train score of zero"
   ]
  },
  {
   "cell_type": "markdown",
   "id": "5fa5fa21",
   "metadata": {},
   "source": [
    "# Plotting the test Score for All models"
   ]
  },
  {
   "cell_type": "code",
   "execution_count": 190,
   "id": "d2ece351",
   "metadata": {},
   "outputs": [
    {
     "data": {
      "text/plain": [
       "Text(0, 0.5, ' Model Name ')"
      ]
     },
     "execution_count": 190,
     "metadata": {},
     "output_type": "execute_result"
    },
    {
     "data": {
      "image/png": "[encoded data removed]",
      "text/plain": [
       "<Figure size 720x480 with 1 Axes>"
      ]
     },
     "metadata": {
      "needs_background": "light"
     },
     "output_type": "display_data"
    }
   ],
   "source": [
    "plt.figure(dpi=120)\n",
    "plt.barh(score['Model Name'],score['Test R2 Score'])\n",
    "plt.title(\" Test R2 Score of all models\")\n",
    "plt.xlabel(\" Test R2 Score \")\n",
    "plt.ylabel(\" Model Name \")"
   ]
  },
  {
   "cell_type": "markdown",
   "id": "07dd9fc9",
   "metadata": {},
   "source": [
    "As per the above graph the test score R2 for decision tree has decreased as compared to its train score as it was overfitting the model as and the remianing test scores remain the same for the remaining models"
   ]
  },
  {
   "cell_type": "markdown",
   "id": "40b018de",
   "metadata": {},
   "source": [
    "# Evaluation Metrics to Compare all the models"
   ]
  },
  {
   "cell_type": "markdown",
   "id": "177dcc14",
   "metadata": {},
   "source": [
    "R2 score could have been a good metric to compare with all the models as R2 score also shows the degree to which your input variable explains the variation in the output variable and it is derived from MSE but it is easy to compare Benchmark model with other models using MSE and also the values are small so the values of mse won't be very large thats why to compare all the models including the benchmark model we are using MSE"
   ]
  },
  {
   "cell_type": "code",
   "execution_count": 208,
   "id": "514d25ed",
   "metadata": {},
   "outputs": [],
   "source": [
    "mse_matrix=pd.DataFrame({'Model Name':['Bench Mark Model','Linear Regression','Ridge Regression','Lasso Regression','KNN','Decision Tree Regression'],'MSE Values':[0.015617261962324469,0.010529792049759668,0.010529792006220881,0.015467715743626985,0.008224080378553192,0.010803049000691628]})"
   ]
  },
  {
   "cell_type": "code",
   "execution_count": 209,
   "id": "4f45cb66",
   "metadata": {},
   "outputs": [
    {
     "data": {
      "text/html": [
       "<div>\n",
       "<style scoped>\n",
       "    .dataframe tbody tr th:only-of-type {\n",
       "        vertical-align: middle;\n",
       "    }\n",
       "\n",
       "    .dataframe tbody tr th {\n",
       "        vertical-align: top;\n",
       "    }\n",
       "\n",
       "    .dataframe thead th {\n",
       "        text-align: right;\n",
       "    }\n",
       "</style>\n",
       "<table border=\"1\" class=\"dataframe\">\n",
       "  <thead>\n",
       "    <tr style=\"text-align: right;\">\n",
       "      <th></th>\n",
       "      <th>Model Name</th>\n",
       "      <th>MSE Values</th>\n",
       "    </tr>\n",
       "  </thead>\n",
       "  <tbody>\n",
       "    <tr>\n",
       "      <th>0</th>\n",
       "      <td>Bench Mark Model</td>\n",
       "      <td>0.015617</td>\n",
       "    </tr>\n",
       "    <tr>\n",
       "      <th>1</th>\n",
       "      <td>Linear Regression</td>\n",
       "      <td>0.010530</td>\n",
       "    </tr>\n",
       "    <tr>\n",
       "      <th>2</th>\n",
       "      <td>Ridge Regression</td>\n",
       "      <td>0.010530</td>\n",
       "    </tr>\n",
       "    <tr>\n",
       "      <th>3</th>\n",
       "      <td>Lasso Regression</td>\n",
       "      <td>0.015468</td>\n",
       "    </tr>\n",
       "    <tr>\n",
       "      <th>4</th>\n",
       "      <td>KNN</td>\n",
       "      <td>0.008224</td>\n",
       "    </tr>\n",
       "    <tr>\n",
       "      <th>5</th>\n",
       "      <td>Decision Tree Regression</td>\n",
       "      <td>0.010803</td>\n",
       "    </tr>\n",
       "  </tbody>\n",
       "</table>\n",
       "</div>"
      ],
      "text/plain": [
       "                 Model Name  MSE Values\n",
       "0          Bench Mark Model    0.015617\n",
       "1         Linear Regression    0.010530\n",
       "2          Ridge Regression    0.010530\n",
       "3          Lasso Regression    0.015468\n",
       "4                       KNN    0.008224\n",
       "5  Decision Tree Regression    0.010803"
      ]
     },
     "execution_count": 209,
     "metadata": {},
     "output_type": "execute_result"
    }
   ],
   "source": [
    "mse_matrix"
   ]
  },
  {
   "cell_type": "code",
   "execution_count": 210,
   "id": "8d7cc7cc",
   "metadata": {},
   "outputs": [
    {
     "data": {
      "text/plain": [
       "Text(0, 0.5, ' Model Name ')"
      ]
     },
     "execution_count": 210,
     "metadata": {},
     "output_type": "execute_result"
    },
    {
     "data": {
      "image/png": "[encoded data removed]",
      "text/plain": [
       "<Figure size 720x480 with 1 Axes>"
      ]
     },
     "metadata": {
      "needs_background": "light"
     },
     "output_type": "display_data"
    }
   ],
   "source": [
    "plt.figure(dpi=120)\n",
    "plt.barh(mse_matrix['Model Name'],mse_matrix['MSE Values'])\n",
    "plt.title(\" Comparing all models using MSE\")\n",
    "plt.xlabel(\" MSE Values  \")\n",
    "plt.ylabel(\" Model Name \")"
   ]
  },
  {
   "cell_type": "markdown",
   "id": "a99a3477",
   "metadata": {},
   "source": [
    "After comparing all the models you will find that KNN has the least values of MSE which is equal to 0.008 aand as the benchmark model is used to set the worst possible mse that our model can determine  and as the input variables and the target variables do not had a great relationship the MSE for lasso and benchmark model is high and decision tree regression,linear and ridge regression which are used for regularization to prevent overfitting  have the same values of mse. So we can conclude that KNN has performed better than other models as ot has the lowest value of mse"
   ]
  },
  {
   "cell_type": "markdown",
   "id": "913e2d8d",
   "metadata": {},
   "source": []
  },
  {
   "cell_type": "code",
   "execution_count": null,
   "id": "1ffd0b96",
   "metadata": {},
   "outputs": [],
   "source": []
  }
 ],
 "metadata": {
  "kernelspec": {
   "display_name": "Python 3",
   "language": "python",
   "name": "python3"
  },
  "language_info": {
   "codemirror_mode": {
    "name": "ipython",
    "version": 3
   },
   "file_extension": ".py",
   "mimetype": "text/x-python",
   "name": "python",
   "nbconvert_exporter": "python",
   "pygments_lexer": "ipython3",
   "version": "3.8.8"
  }
 },
 "nbformat": 4,
 "nbformat_minor": 5
}
